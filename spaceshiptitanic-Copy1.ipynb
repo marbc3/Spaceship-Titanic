{
 "cells": [
  {
   "cell_type": "code",
   "execution_count": 486,
   "id": "9d9d9f3f-f13b-4c79-a6c9-47092c1b9285",
   "metadata": {},
   "outputs": [],
   "source": [
    "import pandas as pd\n",
    "import numpy as np\n",
    "pd.pandas.set_option('display.max_columns', None)"
   ]
  },
  {
   "cell_type": "code",
   "execution_count": 487,
   "id": "b6ad5f2c-3a6f-4d2b-aa40-fbd5ad362080",
   "metadata": {},
   "outputs": [],
   "source": [
    "df=pd.read_csv(\"train.csv\")\n",
    "df_test=pd.read_csv(\"test.csv\")"
   ]
  },
  {
   "cell_type": "code",
   "execution_count": 488,
   "id": "71ca6034-9575-4155-acf6-0e272ae0b2a0",
   "metadata": {},
   "outputs": [
    {
     "data": {
      "text/html": [
       "<div>\n",
       "<style scoped>\n",
       "    .dataframe tbody tr th:only-of-type {\n",
       "        vertical-align: middle;\n",
       "    }\n",
       "\n",
       "    .dataframe tbody tr th {\n",
       "        vertical-align: top;\n",
       "    }\n",
       "\n",
       "    .dataframe thead th {\n",
       "        text-align: right;\n",
       "    }\n",
       "</style>\n",
       "<table border=\"1\" class=\"dataframe\">\n",
       "  <thead>\n",
       "    <tr style=\"text-align: right;\">\n",
       "      <th></th>\n",
       "      <th>PassengerId</th>\n",
       "      <th>HomePlanet</th>\n",
       "      <th>CryoSleep</th>\n",
       "      <th>Cabin</th>\n",
       "      <th>Destination</th>\n",
       "      <th>Age</th>\n",
       "      <th>VIP</th>\n",
       "      <th>RoomService</th>\n",
       "      <th>FoodCourt</th>\n",
       "      <th>ShoppingMall</th>\n",
       "      <th>Spa</th>\n",
       "      <th>VRDeck</th>\n",
       "      <th>Name</th>\n",
       "      <th>Transported</th>\n",
       "    </tr>\n",
       "  </thead>\n",
       "  <tbody>\n",
       "    <tr>\n",
       "      <th>0</th>\n",
       "      <td>0001_01</td>\n",
       "      <td>Europa</td>\n",
       "      <td>False</td>\n",
       "      <td>B/0/P</td>\n",
       "      <td>TRAPPIST-1e</td>\n",
       "      <td>39.0</td>\n",
       "      <td>False</td>\n",
       "      <td>0.0</td>\n",
       "      <td>0.0</td>\n",
       "      <td>0.0</td>\n",
       "      <td>0.0</td>\n",
       "      <td>0.0</td>\n",
       "      <td>Maham Ofracculy</td>\n",
       "      <td>False</td>\n",
       "    </tr>\n",
       "    <tr>\n",
       "      <th>1</th>\n",
       "      <td>0002_01</td>\n",
       "      <td>Earth</td>\n",
       "      <td>False</td>\n",
       "      <td>F/0/S</td>\n",
       "      <td>TRAPPIST-1e</td>\n",
       "      <td>24.0</td>\n",
       "      <td>False</td>\n",
       "      <td>109.0</td>\n",
       "      <td>9.0</td>\n",
       "      <td>25.0</td>\n",
       "      <td>549.0</td>\n",
       "      <td>44.0</td>\n",
       "      <td>Juanna Vines</td>\n",
       "      <td>True</td>\n",
       "    </tr>\n",
       "    <tr>\n",
       "      <th>2</th>\n",
       "      <td>0003_01</td>\n",
       "      <td>Europa</td>\n",
       "      <td>False</td>\n",
       "      <td>A/0/S</td>\n",
       "      <td>TRAPPIST-1e</td>\n",
       "      <td>58.0</td>\n",
       "      <td>True</td>\n",
       "      <td>43.0</td>\n",
       "      <td>3576.0</td>\n",
       "      <td>0.0</td>\n",
       "      <td>6715.0</td>\n",
       "      <td>49.0</td>\n",
       "      <td>Altark Susent</td>\n",
       "      <td>False</td>\n",
       "    </tr>\n",
       "    <tr>\n",
       "      <th>3</th>\n",
       "      <td>0003_02</td>\n",
       "      <td>Europa</td>\n",
       "      <td>False</td>\n",
       "      <td>A/0/S</td>\n",
       "      <td>TRAPPIST-1e</td>\n",
       "      <td>33.0</td>\n",
       "      <td>False</td>\n",
       "      <td>0.0</td>\n",
       "      <td>1283.0</td>\n",
       "      <td>371.0</td>\n",
       "      <td>3329.0</td>\n",
       "      <td>193.0</td>\n",
       "      <td>Solam Susent</td>\n",
       "      <td>False</td>\n",
       "    </tr>\n",
       "    <tr>\n",
       "      <th>4</th>\n",
       "      <td>0004_01</td>\n",
       "      <td>Earth</td>\n",
       "      <td>False</td>\n",
       "      <td>F/1/S</td>\n",
       "      <td>TRAPPIST-1e</td>\n",
       "      <td>16.0</td>\n",
       "      <td>False</td>\n",
       "      <td>303.0</td>\n",
       "      <td>70.0</td>\n",
       "      <td>151.0</td>\n",
       "      <td>565.0</td>\n",
       "      <td>2.0</td>\n",
       "      <td>Willy Santantines</td>\n",
       "      <td>True</td>\n",
       "    </tr>\n",
       "    <tr>\n",
       "      <th>...</th>\n",
       "      <td>...</td>\n",
       "      <td>...</td>\n",
       "      <td>...</td>\n",
       "      <td>...</td>\n",
       "      <td>...</td>\n",
       "      <td>...</td>\n",
       "      <td>...</td>\n",
       "      <td>...</td>\n",
       "      <td>...</td>\n",
       "      <td>...</td>\n",
       "      <td>...</td>\n",
       "      <td>...</td>\n",
       "      <td>...</td>\n",
       "      <td>...</td>\n",
       "    </tr>\n",
       "    <tr>\n",
       "      <th>8688</th>\n",
       "      <td>9276_01</td>\n",
       "      <td>Europa</td>\n",
       "      <td>False</td>\n",
       "      <td>A/98/P</td>\n",
       "      <td>55 Cancri e</td>\n",
       "      <td>41.0</td>\n",
       "      <td>True</td>\n",
       "      <td>0.0</td>\n",
       "      <td>6819.0</td>\n",
       "      <td>0.0</td>\n",
       "      <td>1643.0</td>\n",
       "      <td>74.0</td>\n",
       "      <td>Gravior Noxnuther</td>\n",
       "      <td>False</td>\n",
       "    </tr>\n",
       "    <tr>\n",
       "      <th>8689</th>\n",
       "      <td>9278_01</td>\n",
       "      <td>Earth</td>\n",
       "      <td>True</td>\n",
       "      <td>G/1499/S</td>\n",
       "      <td>PSO J318.5-22</td>\n",
       "      <td>18.0</td>\n",
       "      <td>False</td>\n",
       "      <td>0.0</td>\n",
       "      <td>0.0</td>\n",
       "      <td>0.0</td>\n",
       "      <td>0.0</td>\n",
       "      <td>0.0</td>\n",
       "      <td>Kurta Mondalley</td>\n",
       "      <td>False</td>\n",
       "    </tr>\n",
       "    <tr>\n",
       "      <th>8690</th>\n",
       "      <td>9279_01</td>\n",
       "      <td>Earth</td>\n",
       "      <td>False</td>\n",
       "      <td>G/1500/S</td>\n",
       "      <td>TRAPPIST-1e</td>\n",
       "      <td>26.0</td>\n",
       "      <td>False</td>\n",
       "      <td>0.0</td>\n",
       "      <td>0.0</td>\n",
       "      <td>1872.0</td>\n",
       "      <td>1.0</td>\n",
       "      <td>0.0</td>\n",
       "      <td>Fayey Connon</td>\n",
       "      <td>True</td>\n",
       "    </tr>\n",
       "    <tr>\n",
       "      <th>8691</th>\n",
       "      <td>9280_01</td>\n",
       "      <td>Europa</td>\n",
       "      <td>False</td>\n",
       "      <td>E/608/S</td>\n",
       "      <td>55 Cancri e</td>\n",
       "      <td>32.0</td>\n",
       "      <td>False</td>\n",
       "      <td>0.0</td>\n",
       "      <td>1049.0</td>\n",
       "      <td>0.0</td>\n",
       "      <td>353.0</td>\n",
       "      <td>3235.0</td>\n",
       "      <td>Celeon Hontichre</td>\n",
       "      <td>False</td>\n",
       "    </tr>\n",
       "    <tr>\n",
       "      <th>8692</th>\n",
       "      <td>9280_02</td>\n",
       "      <td>Europa</td>\n",
       "      <td>False</td>\n",
       "      <td>E/608/S</td>\n",
       "      <td>TRAPPIST-1e</td>\n",
       "      <td>44.0</td>\n",
       "      <td>False</td>\n",
       "      <td>126.0</td>\n",
       "      <td>4688.0</td>\n",
       "      <td>0.0</td>\n",
       "      <td>0.0</td>\n",
       "      <td>12.0</td>\n",
       "      <td>Propsh Hontichre</td>\n",
       "      <td>True</td>\n",
       "    </tr>\n",
       "  </tbody>\n",
       "</table>\n",
       "<p>8693 rows × 14 columns</p>\n",
       "</div>"
      ],
      "text/plain": [
       "     PassengerId HomePlanet CryoSleep     Cabin    Destination   Age    VIP  \\\n",
       "0        0001_01     Europa     False     B/0/P    TRAPPIST-1e  39.0  False   \n",
       "1        0002_01      Earth     False     F/0/S    TRAPPIST-1e  24.0  False   \n",
       "2        0003_01     Europa     False     A/0/S    TRAPPIST-1e  58.0   True   \n",
       "3        0003_02     Europa     False     A/0/S    TRAPPIST-1e  33.0  False   \n",
       "4        0004_01      Earth     False     F/1/S    TRAPPIST-1e  16.0  False   \n",
       "...          ...        ...       ...       ...            ...   ...    ...   \n",
       "8688     9276_01     Europa     False    A/98/P    55 Cancri e  41.0   True   \n",
       "8689     9278_01      Earth      True  G/1499/S  PSO J318.5-22  18.0  False   \n",
       "8690     9279_01      Earth     False  G/1500/S    TRAPPIST-1e  26.0  False   \n",
       "8691     9280_01     Europa     False   E/608/S    55 Cancri e  32.0  False   \n",
       "8692     9280_02     Europa     False   E/608/S    TRAPPIST-1e  44.0  False   \n",
       "\n",
       "      RoomService  FoodCourt  ShoppingMall     Spa  VRDeck               Name  \\\n",
       "0             0.0        0.0           0.0     0.0     0.0    Maham Ofracculy   \n",
       "1           109.0        9.0          25.0   549.0    44.0       Juanna Vines   \n",
       "2            43.0     3576.0           0.0  6715.0    49.0      Altark Susent   \n",
       "3             0.0     1283.0         371.0  3329.0   193.0       Solam Susent   \n",
       "4           303.0       70.0         151.0   565.0     2.0  Willy Santantines   \n",
       "...           ...        ...           ...     ...     ...                ...   \n",
       "8688          0.0     6819.0           0.0  1643.0    74.0  Gravior Noxnuther   \n",
       "8689          0.0        0.0           0.0     0.0     0.0    Kurta Mondalley   \n",
       "8690          0.0        0.0        1872.0     1.0     0.0       Fayey Connon   \n",
       "8691          0.0     1049.0           0.0   353.0  3235.0   Celeon Hontichre   \n",
       "8692        126.0     4688.0           0.0     0.0    12.0   Propsh Hontichre   \n",
       "\n",
       "      Transported  \n",
       "0           False  \n",
       "1            True  \n",
       "2           False  \n",
       "3           False  \n",
       "4            True  \n",
       "...           ...  \n",
       "8688        False  \n",
       "8689        False  \n",
       "8690         True  \n",
       "8691        False  \n",
       "8692         True  \n",
       "\n",
       "[8693 rows x 14 columns]"
      ]
     },
     "execution_count": 488,
     "metadata": {},
     "output_type": "execute_result"
    }
   ],
   "source": [
    "df"
   ]
  },
  {
   "cell_type": "code",
   "execution_count": 489,
   "id": "a47ca00b-4cf7-41d9-b02e-c69dad1be94c",
   "metadata": {},
   "outputs": [
    {
     "data": {
      "text/plain": [
       "Earth     4602\n",
       "Europa    2131\n",
       "Mars      1759\n",
       "Name: HomePlanet, dtype: int64"
      ]
     },
     "execution_count": 489,
     "metadata": {},
     "output_type": "execute_result"
    }
   ],
   "source": [
    "df.HomePlanet.value_counts()"
   ]
  },
  {
   "cell_type": "code",
   "execution_count": 490,
   "id": "77bf83e2-90da-4316-bb93-e02ee75fb044",
   "metadata": {},
   "outputs": [],
   "source": [
    "counts = df['HomePlanet'].value_counts()\n",
    "\n",
    "df['HomePlanet'].fillna(pd.Series(np.random.choice(counts.index, size=len(df.index), p=counts/sum(counts))), inplace=True)\n",
    "\n",
    "counts = df_test['HomePlanet'].value_counts()\n",
    "\n",
    "df_test['HomePlanet'].fillna(pd.Series(np.random.choice(counts.index, size=len(df_test.index), p=counts/sum(counts))), inplace=True)"
   ]
  },
  {
   "cell_type": "code",
   "execution_count": 491,
   "id": "1c19e4ef-d260-4dc4-9e18-c4d983dcdd5a",
   "metadata": {},
   "outputs": [
    {
     "data": {
      "text/plain": [
       "Earth     4710\n",
       "Europa    2186\n",
       "Mars      1797\n",
       "Name: HomePlanet, dtype: int64"
      ]
     },
     "execution_count": 491,
     "metadata": {},
     "output_type": "execute_result"
    }
   ],
   "source": [
    "df.HomePlanet.value_counts()"
   ]
  },
  {
   "cell_type": "code",
   "execution_count": 492,
   "id": "9e8e9fab-ef44-4bfb-94ed-b985c6cf64c2",
   "metadata": {},
   "outputs": [],
   "source": [
    "df = pd.get_dummies(df, columns = [\"HomePlanet\"])\n",
    "df_test = pd.get_dummies(df_test, columns = [\"HomePlanet\"])"
   ]
  },
  {
   "cell_type": "code",
   "execution_count": 493,
   "id": "a2e1fdce-7799-4547-95a2-7aa50954af3a",
   "metadata": {},
   "outputs": [
    {
     "data": {
      "text/plain": [
       "PassengerId            0\n",
       "CryoSleep            217\n",
       "Cabin                199\n",
       "Destination          182\n",
       "Age                  179\n",
       "VIP                  203\n",
       "RoomService          181\n",
       "FoodCourt            183\n",
       "ShoppingMall         208\n",
       "Spa                  183\n",
       "VRDeck               188\n",
       "Name                 200\n",
       "Transported            0\n",
       "HomePlanet_Earth       0\n",
       "HomePlanet_Europa      0\n",
       "HomePlanet_Mars        0\n",
       "dtype: int64"
      ]
     },
     "execution_count": 493,
     "metadata": {},
     "output_type": "execute_result"
    }
   ],
   "source": [
    "df.isnull().sum()"
   ]
  },
  {
   "cell_type": "code",
   "execution_count": 494,
   "id": "b33c5f39-d637-427b-814d-fa3d53aa25af",
   "metadata": {},
   "outputs": [],
   "source": [
    "# Null değerlere sahip satırlarda CryoSleep değeri True ise o null değerlerini 0 ile doldur\n",
    "df.loc[(df['RoomService'].isnull()) & (df['CryoSleep'] == True), 'RoomService'] = 0\n",
    "df.loc[(df['FoodCourt'].isnull()) & (df['CryoSleep'] == True), 'FoodCourt'] = 0\n",
    "df.loc[(df['ShoppingMall'].isnull()) & (df['CryoSleep'] == True), 'ShoppingMall'] = 0\n",
    "df.loc[(df['Spa'].isnull()) & (df['CryoSleep'] == True), 'Spa'] = 0\n",
    "df.loc[(df['VRDeck'].isnull()) & (df['CryoSleep'] == True), 'VRDeck'] = 0"
   ]
  },
  {
   "cell_type": "code",
   "execution_count": 495,
   "id": "afc6c8c7-af55-4fde-bc27-8c658ead546e",
   "metadata": {},
   "outputs": [],
   "source": [
    "df_test.loc[(df_test['RoomService'].isnull()) & (df_test['CryoSleep'] == True), 'RoomService'] = 0\n",
    "df_test.loc[(df_test['FoodCourt'].isnull()) & (df_test['CryoSleep'] == True), 'FoodCourt'] = 0\n",
    "df_test.loc[(df_test['ShoppingMall'].isnull()) & (df_test['CryoSleep'] == True), 'ShoppingMall'] = 0\n",
    "df_test.loc[(df_test['Spa'].isnull()) & (df_test['CryoSleep'] == True), 'Spa'] = 0\n",
    "df_test.loc[(df_test['VRDeck'].isnull()) & (df_test['CryoSleep'] == True), 'VRDeck'] = 0"
   ]
  },
  {
   "cell_type": "code",
   "execution_count": 496,
   "id": "f1cf4e98-1f8d-47b0-b41b-ed5044d54287",
   "metadata": {},
   "outputs": [],
   "source": [
    "null_mask = df['RoomService'].isnull()\n",
    "zero_mask = ((df['FoodCourt'] == 0) & (df['ShoppingMall'] == 0) & (df['Spa'] == 0) & (df['VRDeck'] == 0))\n",
    "df.loc[null_mask & zero_mask, 'RoomService'] = 0\n",
    "\n",
    "null_mask = df['FoodCourt'].isnull()\n",
    "zero_mask = ((df['RoomService'] == 0) & (df['ShoppingMall'] == 0) & (df['Spa'] == 0) & (df['VRDeck'] == 0))\n",
    "df.loc[null_mask & zero_mask, 'FoodCourt'] = 0\n",
    "\n",
    "null_mask = df['ShoppingMall'].isnull()\n",
    "zero_mask = ((df['FoodCourt'] == 0) & (df['RoomService'] == 0) & (df['Spa'] == 0) & (df['VRDeck'] == 0))\n",
    "df.loc[null_mask & zero_mask, 'ShoppingMall'] = 0\n",
    "\n",
    "null_mask = df['Spa'].isnull()\n",
    "zero_mask = ((df['FoodCourt'] == 0) & (df['ShoppingMall'] == 0) & (df['RoomService'] == 0) & (df['VRDeck'] == 0))\n",
    "df.loc[null_mask & zero_mask, 'Spa'] = 0"
   ]
  },
  {
   "cell_type": "code",
   "execution_count": 497,
   "id": "db7d5703-3f28-4bef-bdd8-d69ce5f0c273",
   "metadata": {},
   "outputs": [],
   "source": [
    "null_mask = df['VRDeck'].isnull()\n",
    "zero_mask = ((df['FoodCourt'] == 0) & (df['ShoppingMall'] == 0) & (df['Spa'] == 0) & (df['RoomService'] == 0))\n",
    "df.loc[null_mask & zero_mask, 'VRDeck'] = 0"
   ]
  },
  {
   "cell_type": "code",
   "execution_count": 498,
   "id": "b7b9fbf6-aeac-4e5e-8123-3f878b1f85c2",
   "metadata": {},
   "outputs": [],
   "source": [
    "#-----------------------------\n",
    "null_mask = df_test['RoomService'].isnull()\n",
    "zero_mask = ((df_test['FoodCourt'] == 0) & (df_test['ShoppingMall'] == 0) & (df_test['Spa'] == 0) & (df_test['VRDeck'] == 0))\n",
    "df_test.loc[null_mask & zero_mask, 'RoomService'] = 0"
   ]
  },
  {
   "cell_type": "code",
   "execution_count": 499,
   "id": "a9b29fcb-4171-497b-ae1a-83cba29e1757",
   "metadata": {},
   "outputs": [],
   "source": [
    "null_mask = df_test['FoodCourt'].isnull()\n",
    "zero_mask = ((df_test['RoomService'] == 0) & (df_test['ShoppingMall'] == 0) & (df_test['Spa'] == 0) & (df_test['VRDeck'] == 0))\n",
    "df_test.loc[null_mask & zero_mask, 'FoodCourt'] = 0"
   ]
  },
  {
   "cell_type": "code",
   "execution_count": 500,
   "id": "dc85decd-b586-4da2-9770-fec230fdb4ef",
   "metadata": {},
   "outputs": [],
   "source": [
    "null_mask = df_test['ShoppingMall'].isnull()\n",
    "zero_mask = ((df_test['FoodCourt'] == 0) & (df_test['RoomService'] == 0) & (df_test['Spa'] == 0) & (df_test['VRDeck'] == 0))\n",
    "df_test.loc[null_mask & zero_mask, 'ShoppingMall'] = 0"
   ]
  },
  {
   "cell_type": "code",
   "execution_count": 501,
   "id": "094e51f7-7503-40d8-955e-5d20706cd857",
   "metadata": {},
   "outputs": [],
   "source": [
    "null_mask = df_test['Spa'].isnull()\n",
    "zero_mask = ((df_test['FoodCourt'] == 0) & (df_test['ShoppingMall'] == 0) & (df_test['RoomService'] == 0) & (df_test['VRDeck'] == 0))\n",
    "df_test.loc[null_mask & zero_mask, 'Spa'] = 0\n",
    "\n",
    "null_mask = df_test['VRDeck'].isnull()\n",
    "zero_mask = ((df_test['FoodCourt'] == 0) & (df_test['ShoppingMall'] == 0) & (df_test['Spa'] == 0) & (df_test['RoomService'] == 0))\n",
    "df_test.loc[null_mask & zero_mask, 'VRDeck'] = 0"
   ]
  },
  {
   "cell_type": "code",
   "execution_count": 502,
   "id": "4d8f8cd5-9390-482b-925a-5ae4d2ce37b8",
   "metadata": {},
   "outputs": [
    {
     "data": {
      "text/plain": [
       "PassengerId            0\n",
       "CryoSleep            217\n",
       "Cabin                199\n",
       "Destination          182\n",
       "Age                  179\n",
       "VIP                  203\n",
       "RoomService          105\n",
       "FoodCourt            105\n",
       "ShoppingMall         101\n",
       "Spa                  113\n",
       "VRDeck               103\n",
       "Name                 200\n",
       "Transported            0\n",
       "HomePlanet_Earth       0\n",
       "HomePlanet_Europa      0\n",
       "HomePlanet_Mars        0\n",
       "dtype: int64"
      ]
     },
     "execution_count": 502,
     "metadata": {},
     "output_type": "execute_result"
    }
   ],
   "source": [
    "df.isnull().sum()"
   ]
  },
  {
   "cell_type": "code",
   "execution_count": 503,
   "id": "b8ee40de-c2f2-48dd-9575-8ea533725f26",
   "metadata": {},
   "outputs": [
    {
     "data": {
      "text/plain": [
       "1078.3798157654692"
      ]
     },
     "execution_count": 503,
     "metadata": {},
     "output_type": "execute_result"
    }
   ],
   "source": [
    "df[(df['RoomService'] == 0)].FoodCourt.mean()+df[(df['RoomService'] == 0)].ShoppingMall.mean()+df[(df['RoomService'] == 0)].Spa.mean()+df[(df['RoomService'] == 0)].VRDeck.mean()"
   ]
  },
  {
   "cell_type": "code",
   "execution_count": 504,
   "id": "c4e9b2fe-6314-4ce4-b070-24a184848c80",
   "metadata": {},
   "outputs": [
    {
     "data": {
      "text/plain": [
       "479.70026811276193"
      ]
     },
     "execution_count": 504,
     "metadata": {},
     "output_type": "execute_result"
    }
   ],
   "source": [
    "df[(df['FoodCourt'] == 0)].RoomService.mean()+df[(df['FoodCourt'] == 0)].ShoppingMall.mean()+df[(df['FoodCourt'] == 0)].Spa.mean()+df[(df['FoodCourt'] == 0)].VRDeck.mean()"
   ]
  },
  {
   "cell_type": "code",
   "execution_count": 505,
   "id": "18f6fb1e-9477-4df8-bcf0-d0915c179561",
   "metadata": {},
   "outputs": [
    {
     "data": {
      "text/plain": [
       "1095.189010747596"
      ]
     },
     "execution_count": 505,
     "metadata": {},
     "output_type": "execute_result"
    }
   ],
   "source": [
    "df[(df['ShoppingMall'] == 0)].FoodCourt.mean()+df[(df['ShoppingMall'] == 0)].RoomService.mean()+df[(df['ShoppingMall'] == 0)].Spa.mean()+df[(df['ShoppingMall'] == 0)].VRDeck.mean()"
   ]
  },
  {
   "cell_type": "code",
   "execution_count": 506,
   "id": "01abb628-475a-46e1-ba48-c5636cc24bf1",
   "metadata": {},
   "outputs": [
    {
     "data": {
      "text/plain": [
       "496.71668688919533"
      ]
     },
     "execution_count": 506,
     "metadata": {},
     "output_type": "execute_result"
    }
   ],
   "source": [
    "df[(df['Spa'] == 0)].FoodCourt.mean()+df[(df['Spa'] == 0)].ShoppingMall.mean()+df[(df['Spa'] == 0)].RoomService.mean()+df[(df['Spa'] == 0)].VRDeck.mean()"
   ]
  },
  {
   "cell_type": "code",
   "execution_count": 507,
   "id": "6677ea96-fa91-43dc-8940-05345c7c3c62",
   "metadata": {},
   "outputs": [
    {
     "data": {
      "text/plain": [
       "541.1716253931638"
      ]
     },
     "execution_count": 507,
     "metadata": {},
     "output_type": "execute_result"
    }
   ],
   "source": [
    "df[(df['VRDeck'] == 0)].FoodCourt.mean()+df[(df['VRDeck'] == 0)].ShoppingMall.mean()+df[(df['VRDeck'] == 0)].Spa.mean()+df[(df['VRDeck'] == 0)].RoomService.mean()"
   ]
  },
  {
   "cell_type": "code",
   "execution_count": 508,
   "id": "e4245e4c-44de-4b99-8dbd-ca61abcd7603",
   "metadata": {},
   "outputs": [],
   "source": [
    "null_rows_index = df[(df['FoodCourt'] + df['ShoppingMall'] + df['Spa'] + df['VRDeck'] < 1078) & (df['RoomService'].isnull())].index\n",
    "df.loc[null_rows_index, 'RoomService'] = 0"
   ]
  },
  {
   "cell_type": "code",
   "execution_count": 509,
   "id": "d6f83fa4-30ea-49d2-8a40-7942458b4d7b",
   "metadata": {},
   "outputs": [],
   "source": [
    "null_rows_index = df[(df['RoomService'] + df['ShoppingMall'] + df['Spa'] + df['VRDeck'] < 479) & (df['FoodCourt'].isnull())].index\n",
    "df.loc[null_rows_index, 'FoodCourt'] = 0"
   ]
  },
  {
   "cell_type": "code",
   "execution_count": 510,
   "id": "1c895887-a5ec-4d7b-a562-052b3b5a45f6",
   "metadata": {},
   "outputs": [],
   "source": [
    "null_rows_index = df[(df['RoomService'] + df['FoodCourt'] + df['Spa'] + df['VRDeck'] < 1095) & (df['ShoppingMall'].isnull())].index\n",
    "df.loc[null_rows_index, 'ShoppingMall'] = 0"
   ]
  },
  {
   "cell_type": "code",
   "execution_count": 511,
   "id": "46679795-583b-43c1-9213-563920eda68b",
   "metadata": {},
   "outputs": [],
   "source": [
    "null_rows_index = df[(df['FoodCourt'] + df['ShoppingMall'] + df['RoomService'] + df['VRDeck'] < 496) & (df['Spa'].isnull())].index\n",
    "df.loc[null_rows_index, 'Spa'] = 0"
   ]
  },
  {
   "cell_type": "code",
   "execution_count": 512,
   "id": "bb895c3f-3d16-4984-a109-3c363dca3e17",
   "metadata": {},
   "outputs": [],
   "source": [
    "null_rows_index = df[(df['FoodCourt'] + df['ShoppingMall'] + df['Spa'] + df['RoomService'] < 541) & (df['VRDeck'].isnull())].index\n",
    "df.loc[null_rows_index, 'VRDeck'] = 0"
   ]
  },
  {
   "cell_type": "code",
   "execution_count": 513,
   "id": "33171644-57b8-40af-8976-51b1d0706194",
   "metadata": {},
   "outputs": [
    {
     "data": {
      "text/plain": [
       "PassengerId            0\n",
       "CryoSleep            217\n",
       "Cabin                199\n",
       "Destination          182\n",
       "Age                  179\n",
       "VIP                  203\n",
       "RoomService           48\n",
       "FoodCourt             94\n",
       "ShoppingMall          54\n",
       "Spa                   96\n",
       "VRDeck                83\n",
       "Name                 200\n",
       "Transported            0\n",
       "HomePlanet_Earth       0\n",
       "HomePlanet_Europa      0\n",
       "HomePlanet_Mars        0\n",
       "dtype: int64"
      ]
     },
     "execution_count": 513,
     "metadata": {},
     "output_type": "execute_result"
    }
   ],
   "source": [
    "df.isnull().sum()"
   ]
  },
  {
   "cell_type": "code",
   "execution_count": 514,
   "id": "ea691b93-bb5f-4b94-b474-158616fabb9d",
   "metadata": {},
   "outputs": [
    {
     "name": "stdout",
     "output_type": "stream",
     "text": [
      "Vıp=False ; Spa mean 271.61964549483014\n",
      "\n",
      "Vıp=True ; Spa mean 1403.8333333333333\n"
     ]
    }
   ],
   "source": [
    "print(\"Vıp=False ; Spa mean\",df_test[df_test[\"VIP\"]==False].Spa.mean())\n",
    "print(\"\\nVıp=True ; Spa mean\",df_test[df_test[\"VIP\"]==True].Spa.mean())"
   ]
  },
  {
   "cell_type": "code",
   "execution_count": 515,
   "id": "7030ee9a-17ce-44a1-8e0c-8280086dac13",
   "metadata": {},
   "outputs": [],
   "source": [
    "df_test.loc[(df_test['Spa'].isnull()) & (df_test['VIP'] == False), 'Spa'] = 272\n",
    "df_test.loc[(df_test['Spa'].isnull()) & (df_test['VIP'] == True), 'Spa'] = 1404"
   ]
  },
  {
   "cell_type": "code",
   "execution_count": 516,
   "id": "c9144297-e444-4cf1-9870-96222b46c872",
   "metadata": {},
   "outputs": [
    {
     "name": "stdout",
     "output_type": "stream",
     "text": [
      "Vıp=False ; Spa mean 298.58240819812124\n",
      "\n",
      "Vıp=True ; Spa mean 756.8686868686868\n"
     ]
    }
   ],
   "source": [
    "print(\"Vıp=False ; Spa mean\",df[df[\"VIP\"]==False].Spa.mean())\n",
    "print(\"\\nVıp=True ; Spa mean\",df[df[\"VIP\"]==True].Spa.mean())"
   ]
  },
  {
   "cell_type": "code",
   "execution_count": 517,
   "id": "aafe28fd-5587-4e13-8d75-a30b13773bc7",
   "metadata": {},
   "outputs": [],
   "source": [
    "df.loc[(df['Spa'].isnull()) & (df['VIP'] == False), 'Spa'] = 299\n",
    "df.loc[(df['Spa'].isnull()) & (df['VIP'] == True), 'Spa'] = 757"
   ]
  },
  {
   "cell_type": "code",
   "execution_count": 518,
   "id": "95a5d219-d480-49a9-80d7-6765ad635e34",
   "metadata": {},
   "outputs": [
    {
     "name": "stdout",
     "output_type": "stream",
     "text": [
      "Vıp=False ; VRDeck mean 288.6087917485265\n",
      "\n",
      "Vıp=True ; VRDeck mean 1115.5277777777778\n"
     ]
    }
   ],
   "source": [
    "print(\"Vıp=False ; VRDeck mean\",df_test[df_test[\"VIP\"]==False].VRDeck.mean())\n",
    "print(\"\\nVıp=True ; VRDeck mean\",df_test[df_test[\"VIP\"]==True].VRDeck.mean())"
   ]
  },
  {
   "cell_type": "code",
   "execution_count": 519,
   "id": "e4e610f4-ed33-40ad-b83e-3ab7dcb5b8f5",
   "metadata": {},
   "outputs": [],
   "source": [
    "df_test.loc[(df_test['VRDeck'].isnull()) & (df_test['VIP'] == False), 'VRDeck'] = 289\n",
    "df_test.loc[(df_test['VRDeck'].isnull()) & (df_test['VIP'] == True), 'VRDeck'] = 1116"
   ]
  },
  {
   "cell_type": "code",
   "execution_count": 520,
   "id": "645852d5-6f5b-47c6-9bf0-76689daa1476",
   "metadata": {},
   "outputs": [
    {
     "name": "stdout",
     "output_type": "stream",
     "text": [
      "Vıp=False ; VRDeck mean 279.17159907441237\n",
      "\n",
      "Vıp=True ; VRDeck mean 1228.5561224489795\n"
     ]
    }
   ],
   "source": [
    "print(\"Vıp=False ; VRDeck mean\",df[df[\"VIP\"]==False].VRDeck.mean())\n",
    "print(\"\\nVıp=True ; VRDeck mean\",df[df[\"VIP\"]==True].VRDeck.mean())"
   ]
  },
  {
   "cell_type": "code",
   "execution_count": 521,
   "id": "cc18e014-f913-4dea-afbe-2f2e957486bf",
   "metadata": {},
   "outputs": [],
   "source": [
    "df.loc[(df['VRDeck'].isnull()) & (df['VIP'] == False), 'VRDeck'] = 279\n",
    "df.loc[(df['VRDeck'].isnull()) & (df['VIP'] == True), 'VRDeck'] = 1229"
   ]
  },
  {
   "cell_type": "code",
   "execution_count": 522,
   "id": "0909b86c-5409-478e-aa04-eeb0fe4d0c2a",
   "metadata": {},
   "outputs": [
    {
     "name": "stdout",
     "output_type": "stream",
     "text": [
      "Vıp=False ; ShoppingMall mean 172.67793682132282\n",
      "\n",
      "Vıp=True ; ShoppingMall mean 338.90410958904107\n"
     ]
    }
   ],
   "source": [
    "print(\"Vıp=False ; ShoppingMall mean\",df_test[df_test[\"VIP\"]==False].ShoppingMall.mean())\n",
    "print(\"\\nVıp=True ; ShoppingMall mean\",df_test[df_test[\"VIP\"]==True].ShoppingMall.mean())"
   ]
  },
  {
   "cell_type": "code",
   "execution_count": 523,
   "id": "3535dcf7-a125-44b7-921c-a4bbedeb3233",
   "metadata": {},
   "outputs": [],
   "source": [
    "df_test.loc[(df_test['ShoppingMall'].isnull()) & (df_test['VIP'] == False), 'ShoppingMall'] = 173\n",
    "df_test.loc[(df_test['ShoppingMall'].isnull()) & (df_test['VIP'] == True), 'ShoppingMall'] = 339"
   ]
  },
  {
   "cell_type": "code",
   "execution_count": 524,
   "id": "002f43f1-c372-47cb-839c-49aa3404b7f6",
   "metadata": {},
   "outputs": [
    {
     "name": "stdout",
     "output_type": "stream",
     "text": [
      "Vıp=False ; ShoppingMall mean 170.67042697719555\n",
      "\n",
      "Vıp=True ; ShoppingMall mean 247.72680412371133\n"
     ]
    }
   ],
   "source": [
    "print(\"Vıp=False ; ShoppingMall mean\",df[df[\"VIP\"]==False].ShoppingMall.mean())\n",
    "print(\"\\nVıp=True ; ShoppingMall mean\",df[df[\"VIP\"]==True].ShoppingMall.mean())"
   ]
  },
  {
   "cell_type": "code",
   "execution_count": 525,
   "id": "c34c7faa-a9d4-43b8-bba2-c14821c1a6f0",
   "metadata": {},
   "outputs": [],
   "source": [
    "df.loc[(df['ShoppingMall'].isnull()) & (df['VIP'] == False), 'ShoppingMall'] = 171\n",
    "df.loc[(df['ShoppingMall'].isnull()) & (df['VIP'] == True), 'ShoppingMall'] = 248"
   ]
  },
  {
   "cell_type": "code",
   "execution_count": 526,
   "id": "dc92841e-a489-4b51-bc38-c3406e60d26e",
   "metadata": {},
   "outputs": [
    {
     "name": "stdout",
     "output_type": "stream",
     "text": [
      "Vıp=False ; RoomService mean 214.3277476589453\n",
      "\n",
      "Vıp=True ; RoomService mean 519.9054054054054\n"
     ]
    }
   ],
   "source": [
    "print(\"Vıp=False ; RoomService mean\",df_test[df_test[\"VIP\"]==False].RoomService.mean())\n",
    "print(\"\\nVıp=True ; RoomService mean\",df_test[df_test[\"VIP\"]==True].RoomService.mean())"
   ]
  },
  {
   "cell_type": "code",
   "execution_count": 527,
   "id": "fd9a3667-6f0f-4f8f-a5ed-fa77fbaa23a8",
   "metadata": {},
   "outputs": [],
   "source": [
    "df_test.loc[(df_test['RoomService'].isnull()) & (df_test['VIP'] == False), 'RoomService'] = 214\n",
    "df_test.loc[(df_test['RoomService'].isnull()) & (df_test['VIP'] == True), 'RoomService'] = 520"
   ]
  },
  {
   "cell_type": "code",
   "execution_count": 528,
   "id": "e64ffb7e-3dc9-4a50-8fda-529577e7f0dd",
   "metadata": {},
   "outputs": [
    {
     "name": "stdout",
     "output_type": "stream",
     "text": [
      "Vıp=False ; RoomService mean 213.84671355808877\n",
      "\n",
      "Vıp=True ; RoomService mean 471.19897959183675\n"
     ]
    }
   ],
   "source": [
    "print(\"Vıp=False ; RoomService mean\",df[df[\"VIP\"]==False].RoomService.mean())\n",
    "print(\"\\nVıp=True ; RoomService mean\",df[df[\"VIP\"]==True].RoomService.mean())"
   ]
  },
  {
   "cell_type": "code",
   "execution_count": 529,
   "id": "6e0f4635-105b-43a1-9157-3153d60499e9",
   "metadata": {},
   "outputs": [],
   "source": [
    "df.loc[(df['RoomService'].isnull()) & (df['VIP'] == False), 'RoomService'] = 214\n",
    "df.loc[(df['RoomService'].isnull()) & (df['VIP'] == True), 'RoomService'] = 471"
   ]
  },
  {
   "cell_type": "code",
   "execution_count": 530,
   "id": "6983725e-bfd9-4bb2-8116-bcd9e2e92d1b",
   "metadata": {},
   "outputs": [
    {
     "name": "stdout",
     "output_type": "stream",
     "text": [
      "Vıp=False ; FoodCourt mean 401.60034602076126\n",
      "\n",
      "Vıp=True ; FoodCourt mean 1747.3783783783783\n"
     ]
    }
   ],
   "source": [
    "print(\"Vıp=False ; FoodCourt mean\",df_test[df_test[\"VIP\"]==False].FoodCourt.mean())\n",
    "print(\"\\nVıp=True ; FoodCourt mean\",df_test[df_test[\"VIP\"]==True].FoodCourt.mean())"
   ]
  },
  {
   "cell_type": "code",
   "execution_count": 531,
   "id": "a699c9bd-1da0-4715-95c1-1e646760a326",
   "metadata": {},
   "outputs": [],
   "source": [
    "df_test.loc[(df_test['FoodCourt'].isnull()) & (df_test['VIP'] == False), 'FoodCourt'] = 402\n",
    "df_test.loc[(df_test['FoodCourt'].isnull()) & (df_test['VIP'] == True), 'FoodCourt'] = 1747"
   ]
  },
  {
   "cell_type": "code",
   "execution_count": 532,
   "id": "5c9662b8-b3c3-43d7-b175-605b9a115ef7",
   "metadata": {},
   "outputs": [
    {
     "name": "stdout",
     "output_type": "stream",
     "text": [
      "Vıp=False ; FoodCourt mean 421.9188101913934\n",
      "\n",
      "Vıp=True ; FoodCourt mean 1792.8153846153846\n"
     ]
    }
   ],
   "source": [
    "print(\"Vıp=False ; FoodCourt mean\",df[df[\"VIP\"]==False].FoodCourt.mean())\n",
    "print(\"\\nVıp=True ; FoodCourt mean\",df[df[\"VIP\"]==True].FoodCourt.mean())"
   ]
  },
  {
   "cell_type": "code",
   "execution_count": 533,
   "id": "916b9a46-c615-4172-9cfc-cb94cfb5ff2e",
   "metadata": {},
   "outputs": [],
   "source": [
    "df.loc[(df['FoodCourt'].isnull()) & (df['VIP'] == False), 'FoodCourt'] = 422\n",
    "df.loc[(df['FoodCourt'].isnull()) & (df['VIP'] == True), 'FoodCourt'] = 1793"
   ]
  },
  {
   "cell_type": "code",
   "execution_count": 534,
   "id": "57fb2da2-b723-4337-b1a7-ac28936f411b",
   "metadata": {},
   "outputs": [
    {
     "data": {
      "text/plain": [
       "PassengerId            0\n",
       "CryoSleep            217\n",
       "Cabin                199\n",
       "Destination          182\n",
       "Age                  179\n",
       "VIP                  203\n",
       "RoomService            0\n",
       "FoodCourt              2\n",
       "ShoppingMall           2\n",
       "Spa                    1\n",
       "VRDeck                 0\n",
       "Name                 200\n",
       "Transported            0\n",
       "HomePlanet_Earth       0\n",
       "HomePlanet_Europa      0\n",
       "HomePlanet_Mars        0\n",
       "dtype: int64"
      ]
     },
     "execution_count": 534,
     "metadata": {},
     "output_type": "execute_result"
    }
   ],
   "source": [
    "df.isnull().sum()"
   ]
  },
  {
   "cell_type": "code",
   "execution_count": 535,
   "id": "09153289-b2e2-4989-a857-df03b2e69104",
   "metadata": {},
   "outputs": [],
   "source": [
    "df['ShoppingMall'].fillna(df['ShoppingMall'].mean(), inplace=True)\n",
    "df['Spa'].fillna(df['Spa'].mean(), inplace=True)\n",
    "df['FoodCourt'].fillna(df['FoodCourt'].mean(), inplace=True)"
   ]
  },
  {
   "cell_type": "code",
   "execution_count": 536,
   "id": "a0abd62d-5f8a-48a3-89f5-f0510cc807b2",
   "metadata": {},
   "outputs": [],
   "source": [
    "df_test['ShoppingMall'].fillna(df_test['ShoppingMall'].mean(), inplace=True)\n",
    "df_test['Spa'].fillna(df_test['Spa'].mean(), inplace=True)\n",
    "df_test['FoodCourt'].fillna(df_test['FoodCourt'].mean(), inplace=True)\n",
    "df_test['RoomService'].fillna(df_test['RoomService'].mean(), inplace=True)\n",
    "df_test['VRDeck'].fillna(df_test['VRDeck'].mean(), inplace=True)"
   ]
  },
  {
   "cell_type": "code",
   "execution_count": 537,
   "id": "ee25801d-9c73-49b3-b237-b5038ef39682",
   "metadata": {},
   "outputs": [
    {
     "data": {
      "text/plain": [
       "PassengerId            0\n",
       "CryoSleep            217\n",
       "Cabin                199\n",
       "Destination          182\n",
       "Age                  179\n",
       "VIP                  203\n",
       "RoomService            0\n",
       "FoodCourt              0\n",
       "ShoppingMall           0\n",
       "Spa                    0\n",
       "VRDeck                 0\n",
       "Name                 200\n",
       "Transported            0\n",
       "HomePlanet_Earth       0\n",
       "HomePlanet_Europa      0\n",
       "HomePlanet_Mars        0\n",
       "dtype: int64"
      ]
     },
     "execution_count": 537,
     "metadata": {},
     "output_type": "execute_result"
    }
   ],
   "source": [
    "df.isnull().sum()"
   ]
  },
  {
   "cell_type": "code",
   "execution_count": 538,
   "id": "5f435e16-7c63-4d65-8263-27a9e4686d0e",
   "metadata": {},
   "outputs": [
    {
     "data": {
      "text/plain": [
       "False    5439\n",
       "True     3037\n",
       "Name: CryoSleep, dtype: int64"
      ]
     },
     "execution_count": 538,
     "metadata": {},
     "output_type": "execute_result"
    }
   ],
   "source": [
    "df.CryoSleep.value_counts()"
   ]
  },
  {
   "cell_type": "code",
   "execution_count": 539,
   "id": "d6bd8b0a-9bf7-404f-b7e6-f15e0dd1e19d",
   "metadata": {},
   "outputs": [],
   "source": [
    "# CryoSleep sütunundaki null değerleri True ile doldurmak için bir koşul ifadesi oluşturun\n",
    "condition = (df['CryoSleep'].isnull()) & (df['RoomService'] == 0) & (df['FoodCourt'] == 0) & (df['ShoppingMall'] == 0) & (df['Spa'] == 0) & (df['VRDeck'] == 0)\n",
    "\n",
    "# CryoSleep sütunundaki null değerleri True ile doldurun\n",
    "df.loc[condition, 'CryoSleep'] = True\n",
    "\n",
    "\n",
    "# CryoSleep sütunundaki null değerleri True ile doldurmak için bir koşul ifadesi oluşturun\n",
    "condition = (df_test['CryoSleep'].isnull()) & (df_test['RoomService'] == 0) & (df_test['FoodCourt'] == 0) & (df_test['ShoppingMall'] == 0) & (df_test['Spa'] == 0) & (df_test['VRDeck'] == 0)\n",
    "\n",
    "# CryoSleep sütunundaki null değerleri True ile doldurun\n",
    "df_test.loc[condition, 'CryoSleep'] = True"
   ]
  },
  {
   "cell_type": "code",
   "execution_count": 540,
   "id": "533e2f3a-a5a7-4db1-8ce8-0ddc82d96888",
   "metadata": {},
   "outputs": [
    {
     "data": {
      "text/plain": [
       "PassengerId            0\n",
       "CryoSleep            119\n",
       "Cabin                199\n",
       "Destination          182\n",
       "Age                  179\n",
       "VIP                  203\n",
       "RoomService            0\n",
       "FoodCourt              0\n",
       "ShoppingMall           0\n",
       "Spa                    0\n",
       "VRDeck                 0\n",
       "Name                 200\n",
       "Transported            0\n",
       "HomePlanet_Earth       0\n",
       "HomePlanet_Europa      0\n",
       "HomePlanet_Mars        0\n",
       "dtype: int64"
      ]
     },
     "execution_count": 540,
     "metadata": {},
     "output_type": "execute_result"
    }
   ],
   "source": [
    "df.isnull().sum()"
   ]
  },
  {
   "cell_type": "code",
   "execution_count": 481,
   "id": "1999ee40-0e14-4d77-9d8a-1020a0797b31",
   "metadata": {},
   "outputs": [
    {
     "data": {
      "text/plain": [
       "False    8291\n",
       "True      199\n",
       "Name: VIP, dtype: int64"
      ]
     },
     "execution_count": 481,
     "metadata": {},
     "output_type": "execute_result"
    }
   ],
   "source": [
    "df.VIP.value_counts()"
   ]
  },
  {
   "cell_type": "code",
   "execution_count": 485,
   "id": "d2c10801-135e-4f85-b863-5f473cdfd191",
   "metadata": {},
   "outputs": [
    {
     "data": {
      "text/html": [
       "<div>\n",
       "<style scoped>\n",
       "    .dataframe tbody tr th:only-of-type {\n",
       "        vertical-align: middle;\n",
       "    }\n",
       "\n",
       "    .dataframe tbody tr th {\n",
       "        vertical-align: top;\n",
       "    }\n",
       "\n",
       "    .dataframe thead th {\n",
       "        text-align: right;\n",
       "    }\n",
       "</style>\n",
       "<table border=\"1\" class=\"dataframe\">\n",
       "  <thead>\n",
       "    <tr style=\"text-align: right;\">\n",
       "      <th></th>\n",
       "      <th>PassengerId</th>\n",
       "      <th>CryoSleep</th>\n",
       "      <th>Cabin</th>\n",
       "      <th>Destination</th>\n",
       "      <th>Age</th>\n",
       "      <th>VIP</th>\n",
       "      <th>RoomService</th>\n",
       "      <th>FoodCourt</th>\n",
       "      <th>ShoppingMall</th>\n",
       "      <th>Spa</th>\n",
       "      <th>VRDeck</th>\n",
       "      <th>Name</th>\n",
       "      <th>Transported</th>\n",
       "      <th>HomePlanet_Earth</th>\n",
       "      <th>HomePlanet_Europa</th>\n",
       "      <th>HomePlanet_Mars</th>\n",
       "    </tr>\n",
       "  </thead>\n",
       "  <tbody>\n",
       "    <tr>\n",
       "      <th>2</th>\n",
       "      <td>0003_01</td>\n",
       "      <td>False</td>\n",
       "      <td>A/0/S</td>\n",
       "      <td>TRAPPIST-1e</td>\n",
       "      <td>58.0</td>\n",
       "      <td>True</td>\n",
       "      <td>43.0</td>\n",
       "      <td>3576.0</td>\n",
       "      <td>0.0</td>\n",
       "      <td>6715.0</td>\n",
       "      <td>49.0</td>\n",
       "      <td>Altark Susent</td>\n",
       "      <td>False</td>\n",
       "      <td>0</td>\n",
       "      <td>1</td>\n",
       "      <td>0</td>\n",
       "    </tr>\n",
       "    <tr>\n",
       "      <th>108</th>\n",
       "      <td>0112_01</td>\n",
       "      <td>False</td>\n",
       "      <td>B/1/S</td>\n",
       "      <td>55 Cancri e</td>\n",
       "      <td>48.0</td>\n",
       "      <td>True</td>\n",
       "      <td>0.0</td>\n",
       "      <td>2537.0</td>\n",
       "      <td>87.0</td>\n",
       "      <td>17.0</td>\n",
       "      <td>13.0</td>\n",
       "      <td>Moth Cowtale</td>\n",
       "      <td>True</td>\n",
       "      <td>0</td>\n",
       "      <td>1</td>\n",
       "      <td>0</td>\n",
       "    </tr>\n",
       "    <tr>\n",
       "      <th>120</th>\n",
       "      <td>0128_01</td>\n",
       "      <td>False</td>\n",
       "      <td>D/3/S</td>\n",
       "      <td>TRAPPIST-1e</td>\n",
       "      <td>61.0</td>\n",
       "      <td>True</td>\n",
       "      <td>2353.0</td>\n",
       "      <td>334.0</td>\n",
       "      <td>9.0</td>\n",
       "      <td>316.0</td>\n",
       "      <td>2.0</td>\n",
       "      <td>Grohs Fles</td>\n",
       "      <td>False</td>\n",
       "      <td>0</td>\n",
       "      <td>0</td>\n",
       "      <td>1</td>\n",
       "    </tr>\n",
       "    <tr>\n",
       "      <th>214</th>\n",
       "      <td>0224_01</td>\n",
       "      <td>False</td>\n",
       "      <td>F/42/S</td>\n",
       "      <td>TRAPPIST-1e</td>\n",
       "      <td>32.0</td>\n",
       "      <td>True</td>\n",
       "      <td>181.0</td>\n",
       "      <td>0.0</td>\n",
       "      <td>5.0</td>\n",
       "      <td>1634.0</td>\n",
       "      <td>0.0</td>\n",
       "      <td>Blues Queen</td>\n",
       "      <td>False</td>\n",
       "      <td>0</td>\n",
       "      <td>0</td>\n",
       "      <td>1</td>\n",
       "    </tr>\n",
       "    <tr>\n",
       "      <th>291</th>\n",
       "      <td>0321_01</td>\n",
       "      <td>False</td>\n",
       "      <td>F/61/S</td>\n",
       "      <td>TRAPPIST-1e</td>\n",
       "      <td>59.0</td>\n",
       "      <td>True</td>\n",
       "      <td>1018.0</td>\n",
       "      <td>0.0</td>\n",
       "      <td>209.0</td>\n",
       "      <td>0.0</td>\n",
       "      <td>0.0</td>\n",
       "      <td>Quites Bache</td>\n",
       "      <td>False</td>\n",
       "      <td>0</td>\n",
       "      <td>0</td>\n",
       "      <td>1</td>\n",
       "    </tr>\n",
       "    <tr>\n",
       "      <th>...</th>\n",
       "      <td>...</td>\n",
       "      <td>...</td>\n",
       "      <td>...</td>\n",
       "      <td>...</td>\n",
       "      <td>...</td>\n",
       "      <td>...</td>\n",
       "      <td>...</td>\n",
       "      <td>...</td>\n",
       "      <td>...</td>\n",
       "      <td>...</td>\n",
       "      <td>...</td>\n",
       "      <td>...</td>\n",
       "      <td>...</td>\n",
       "      <td>...</td>\n",
       "      <td>...</td>\n",
       "      <td>...</td>\n",
       "    </tr>\n",
       "    <tr>\n",
       "      <th>8579</th>\n",
       "      <td>9158_01</td>\n",
       "      <td>True</td>\n",
       "      <td>B/298/P</td>\n",
       "      <td>55 Cancri e</td>\n",
       "      <td>30.0</td>\n",
       "      <td>True</td>\n",
       "      <td>0.0</td>\n",
       "      <td>0.0</td>\n",
       "      <td>0.0</td>\n",
       "      <td>0.0</td>\n",
       "      <td>0.0</td>\n",
       "      <td>Magnon Maglible</td>\n",
       "      <td>True</td>\n",
       "      <td>0</td>\n",
       "      <td>1</td>\n",
       "      <td>0</td>\n",
       "    </tr>\n",
       "    <tr>\n",
       "      <th>8614</th>\n",
       "      <td>9194_02</td>\n",
       "      <td>False</td>\n",
       "      <td>E/603/S</td>\n",
       "      <td>TRAPPIST-1e</td>\n",
       "      <td>32.0</td>\n",
       "      <td>True</td>\n",
       "      <td>1003.0</td>\n",
       "      <td>909.0</td>\n",
       "      <td>0.0</td>\n",
       "      <td>0.0</td>\n",
       "      <td>15.0</td>\n",
       "      <td>Tachba Subwor</td>\n",
       "      <td>False</td>\n",
       "      <td>0</td>\n",
       "      <td>1</td>\n",
       "      <td>0</td>\n",
       "    </tr>\n",
       "    <tr>\n",
       "      <th>8621</th>\n",
       "      <td>9197_02</td>\n",
       "      <td>False</td>\n",
       "      <td>C/308/P</td>\n",
       "      <td>NaN</td>\n",
       "      <td>41.0</td>\n",
       "      <td>True</td>\n",
       "      <td>0.0</td>\n",
       "      <td>7964.0</td>\n",
       "      <td>0.0</td>\n",
       "      <td>3238.0</td>\n",
       "      <td>5839.0</td>\n",
       "      <td>Aludram Platch</td>\n",
       "      <td>False</td>\n",
       "      <td>0</td>\n",
       "      <td>1</td>\n",
       "      <td>0</td>\n",
       "    </tr>\n",
       "    <tr>\n",
       "      <th>8652</th>\n",
       "      <td>9230_01</td>\n",
       "      <td>False</td>\n",
       "      <td>C/342/S</td>\n",
       "      <td>TRAPPIST-1e</td>\n",
       "      <td>36.0</td>\n",
       "      <td>True</td>\n",
       "      <td>0.0</td>\n",
       "      <td>5600.0</td>\n",
       "      <td>715.0</td>\n",
       "      <td>2868.0</td>\n",
       "      <td>971.0</td>\n",
       "      <td>NaN</td>\n",
       "      <td>True</td>\n",
       "      <td>0</td>\n",
       "      <td>1</td>\n",
       "      <td>0</td>\n",
       "    </tr>\n",
       "    <tr>\n",
       "      <th>8688</th>\n",
       "      <td>9276_01</td>\n",
       "      <td>False</td>\n",
       "      <td>A/98/P</td>\n",
       "      <td>55 Cancri e</td>\n",
       "      <td>41.0</td>\n",
       "      <td>True</td>\n",
       "      <td>0.0</td>\n",
       "      <td>6819.0</td>\n",
       "      <td>0.0</td>\n",
       "      <td>1643.0</td>\n",
       "      <td>74.0</td>\n",
       "      <td>Gravior Noxnuther</td>\n",
       "      <td>False</td>\n",
       "      <td>0</td>\n",
       "      <td>1</td>\n",
       "      <td>0</td>\n",
       "    </tr>\n",
       "  </tbody>\n",
       "</table>\n",
       "<p>199 rows × 16 columns</p>\n",
       "</div>"
      ],
      "text/plain": [
       "     PassengerId  CryoSleep    Cabin  Destination   Age   VIP  RoomService  \\\n",
       "2        0003_01      False    A/0/S  TRAPPIST-1e  58.0  True         43.0   \n",
       "108      0112_01      False    B/1/S  55 Cancri e  48.0  True          0.0   \n",
       "120      0128_01      False    D/3/S  TRAPPIST-1e  61.0  True       2353.0   \n",
       "214      0224_01      False   F/42/S  TRAPPIST-1e  32.0  True        181.0   \n",
       "291      0321_01      False   F/61/S  TRAPPIST-1e  59.0  True       1018.0   \n",
       "...          ...        ...      ...          ...   ...   ...          ...   \n",
       "8579     9158_01       True  B/298/P  55 Cancri e  30.0  True          0.0   \n",
       "8614     9194_02      False  E/603/S  TRAPPIST-1e  32.0  True       1003.0   \n",
       "8621     9197_02      False  C/308/P          NaN  41.0  True          0.0   \n",
       "8652     9230_01      False  C/342/S  TRAPPIST-1e  36.0  True          0.0   \n",
       "8688     9276_01      False   A/98/P  55 Cancri e  41.0  True          0.0   \n",
       "\n",
       "      FoodCourt  ShoppingMall     Spa  VRDeck               Name  Transported  \\\n",
       "2        3576.0           0.0  6715.0    49.0      Altark Susent        False   \n",
       "108      2537.0          87.0    17.0    13.0       Moth Cowtale         True   \n",
       "120       334.0           9.0   316.0     2.0         Grohs Fles        False   \n",
       "214         0.0           5.0  1634.0     0.0        Blues Queen        False   \n",
       "291         0.0         209.0     0.0     0.0       Quites Bache        False   \n",
       "...         ...           ...     ...     ...                ...          ...   \n",
       "8579        0.0           0.0     0.0     0.0    Magnon Maglible         True   \n",
       "8614      909.0           0.0     0.0    15.0      Tachba Subwor        False   \n",
       "8621     7964.0           0.0  3238.0  5839.0     Aludram Platch        False   \n",
       "8652     5600.0         715.0  2868.0   971.0                NaN         True   \n",
       "8688     6819.0           0.0  1643.0    74.0  Gravior Noxnuther        False   \n",
       "\n",
       "      HomePlanet_Earth  HomePlanet_Europa  HomePlanet_Mars  \n",
       "2                    0                  1                0  \n",
       "108                  0                  1                0  \n",
       "120                  0                  0                1  \n",
       "214                  0                  0                1  \n",
       "291                  0                  0                1  \n",
       "...                ...                ...              ...  \n",
       "8579                 0                  1                0  \n",
       "8614                 0                  1                0  \n",
       "8621                 0                  1                0  \n",
       "8652                 0                  1                0  \n",
       "8688                 0                  1                0  \n",
       "\n",
       "[199 rows x 16 columns]"
      ]
     },
     "execution_count": 485,
     "metadata": {},
     "output_type": "execute_result"
    }
   ],
   "source": [
    "df[(df['VIP']==True)]"
   ]
  },
  {
   "cell_type": "code",
   "execution_count": 482,
   "id": "64cc6dcd-6005-4054-a296-086c6db51809",
   "metadata": {},
   "outputs": [
    {
     "data": {
      "text/plain": [
       "False    3529\n",
       "True       27\n",
       "Name: VIP, dtype: int64"
      ]
     },
     "execution_count": 482,
     "metadata": {},
     "output_type": "execute_result"
    }
   ],
   "source": [
    "df[(df['RoomService'] == 0) & (df['FoodCourt'] == 0) & (df['ShoppingMall'] == 0) & (df['Spa'] == 0) & (df['VRDeck'] == 0)].VIP.value_counts()"
   ]
  },
  {
   "cell_type": "code",
   "execution_count": 484,
   "id": "17f30650-6b84-437c-8b04-36d0bededd8b",
   "metadata": {},
   "outputs": [
    {
     "data": {
      "text/plain": [
       "False    3035\n",
       "True       21\n",
       "Name: VIP, dtype: int64"
      ]
     },
     "execution_count": 484,
     "metadata": {},
     "output_type": "execute_result"
    }
   ],
   "source": [
    "df[(df['CryoSleep']==True)].VIP.value_counts()"
   ]
  },
  {
   "cell_type": "code",
   "execution_count": 60,
   "id": "522fefbd-2eb7-42c0-8939-a3bd8d019786",
   "metadata": {},
   "outputs": [
    {
     "data": {
      "text/plain": [
       "PassengerId            0\n",
       "CryoSleep              0\n",
       "Cabin                100\n",
       "Destination           92\n",
       "Age                   91\n",
       "VIP                   93\n",
       "RoomService           82\n",
       "FoodCourt            106\n",
       "ShoppingMall          98\n",
       "Spa                  101\n",
       "VRDeck                80\n",
       "Name                  94\n",
       "HomePlanet_Earth       0\n",
       "HomePlanet_Europa      0\n",
       "HomePlanet_Mars        0\n",
       "dtype: int64"
      ]
     },
     "execution_count": 60,
     "metadata": {},
     "output_type": "execute_result"
    }
   ],
   "source": [
    "df_test.isnull().sum()"
   ]
  },
  {
   "cell_type": "code",
   "execution_count": 61,
   "id": "1078c864-d2d3-42fe-8503-8c02a2baa328",
   "metadata": {},
   "outputs": [
    {
     "data": {
      "text/plain": [
       "False    5569\n",
       "True     3124\n",
       "Name: CryoSleep, dtype: int64"
      ]
     },
     "execution_count": 61,
     "metadata": {},
     "output_type": "execute_result"
    }
   ],
   "source": [
    "df.CryoSleep.value_counts()"
   ]
  },
  {
   "cell_type": "code",
   "execution_count": 63,
   "id": "6b26460b-37c6-4611-8ce9-3cfc0be50e07",
   "metadata": {},
   "outputs": [
    {
     "data": {
      "text/plain": [
       "6560"
      ]
     },
     "execution_count": 63,
     "metadata": {},
     "output_type": "execute_result"
    }
   ],
   "source": [
    "df.Cabin.nunique()"
   ]
  },
  {
   "cell_type": "code",
   "execution_count": 64,
   "id": "ba2a8e6c-1534-427b-a63e-e4da1584222f",
   "metadata": {},
   "outputs": [
    {
     "data": {
      "text/plain": [
       "3501    G/619/S\n",
       "3715    F/825/P\n",
       "2965    G/521/P\n",
       "3210    F/709/P\n",
       "3416    B/144/S\n",
       "Name: Cabin, dtype: object"
      ]
     },
     "execution_count": 64,
     "metadata": {},
     "output_type": "execute_result"
    }
   ],
   "source": [
    "df.Cabin.sample(5)"
   ]
  },
  {
   "cell_type": "code",
   "execution_count": 65,
   "id": "049dfcbd-63d7-45a2-b902-41853fa164a6",
   "metadata": {},
   "outputs": [],
   "source": [
    "for i, row in df.iterrows():\n",
    "    if type(row['Cabin']) == str:\n",
    "        # Cabin_num\n",
    "        cabin_num = row['Cabin'].split('/')[1]\n",
    "        df.at[i, 'Cabin_num'] = cabin_num\n",
    "        \n",
    "        # Cabin_deck\n",
    "        cabin_deck = row['Cabin'][0]\n",
    "        df.at[i, 'Cabin_deck'] = cabin_deck\n",
    "        \n",
    "        # Cabin_side\n",
    "        cabin_side = row['Cabin'][-1]\n",
    "        df.at[i, 'Cabin_side'] = cabin_side\n",
    "    else:\n",
    "        df.at[i, 'Cabin_num'] = None\n",
    "        df.at[i, 'Cabin_deck'] = None\n",
    "        df.at[i, 'Cabin_side'] = None\n",
    "        \n",
    "        \n",
    "for i, row in df_test.iterrows():\n",
    "    if type(row['Cabin']) == str:\n",
    "        # Cabin_num\n",
    "        cabin_num = row['Cabin'].split('/')[1]\n",
    "        df_test.at[i, 'Cabin_num'] = cabin_num\n",
    "        \n",
    "        # Cabin_deck\n",
    "        cabin_deck = row['Cabin'][0]\n",
    "        df_test.at[i, 'Cabin_deck'] = cabin_deck\n",
    "        \n",
    "        # Cabin_side\n",
    "        cabin_side = row['Cabin'][-1]\n",
    "        df_test.at[i, 'Cabin_side'] = cabin_side\n",
    "    else:\n",
    "        df_test.at[i, 'Cabin_num'] = None\n",
    "        df_test.at[i, 'Cabin_deck'] = None\n",
    "        df_test.at[i, 'Cabin_side'] = None"
   ]
  },
  {
   "cell_type": "code",
   "execution_count": 66,
   "id": "29b87314-22ac-411a-a8a2-370ab7dd5806",
   "metadata": {},
   "outputs": [],
   "source": [
    "df.drop(columns=[\"Cabin\"], inplace=True)\n",
    "df_test.drop(columns=[\"Cabin\"], inplace=True)"
   ]
  },
  {
   "cell_type": "code",
   "execution_count": 67,
   "id": "6bf49067-0e33-49e0-bea1-a0b5b2d40585",
   "metadata": {},
   "outputs": [],
   "source": [
    "import seaborn as sns"
   ]
  },
  {
   "cell_type": "code",
   "execution_count": 68,
   "id": "1906cf7e-9cb6-4ab6-a0d3-edc68866048a",
   "metadata": {},
   "outputs": [
    {
     "name": "stderr",
     "output_type": "stream",
     "text": [
      "C:\\Users\\Mehmet\\anaconda3\\lib\\site-packages\\seaborn\\distributions.py:2619: FutureWarning: `distplot` is a deprecated function and will be removed in a future version. Please adapt your code to use either `displot` (a figure-level function with similar flexibility) or `histplot` (an axes-level function for histograms).\n",
      "  warnings.warn(msg, FutureWarning)\n"
     ]
    },
    {
     "data": {
      "text/plain": [
       "<AxesSubplot:xlabel='Cabin_num', ylabel='Density'>"
      ]
     },
     "execution_count": 68,
     "metadata": {},
     "output_type": "execute_result"
    },
    {
     "data": {
      "image/png": "[encoded data removed]",
      "text/plain": [
       "<Figure size 432x288 with 1 Axes>"
      ]
     },
     "metadata": {
      "needs_background": "light"
     },
     "output_type": "display_data"
    }
   ],
   "source": [
    "sns.distplot(df.Cabin_num)"
   ]
  },
  {
   "cell_type": "code",
   "execution_count": 69,
   "id": "ec5be9c9-9548-4c03-8ae3-56fd7aab38bc",
   "metadata": {},
   "outputs": [
    {
     "data": {
      "text/plain": [
       "1817"
      ]
     },
     "execution_count": 69,
     "metadata": {},
     "output_type": "execute_result"
    }
   ],
   "source": [
    "df.Cabin_num.nunique()"
   ]
  },
  {
   "cell_type": "code",
   "execution_count": 70,
   "id": "6847e2ea-d104-430d-8c0e-00e3842c2cd5",
   "metadata": {},
   "outputs": [],
   "source": [
    "df.drop(columns='Cabin_num', inplace=True)\n",
    "df_test.drop(columns='Cabin_num', inplace=True)"
   ]
  },
  {
   "cell_type": "code",
   "execution_count": 71,
   "id": "559c4c19-6c8c-4191-a87d-fa5bbc2bc742",
   "metadata": {},
   "outputs": [],
   "source": [
    "import numpy as np\n",
    "# Sütundaki null değerleri say\n",
    "null_count = df['Cabin_deck'].isnull().sum()\n",
    "\n",
    "# En çok tekrar eden ilk ve ikinci değerleri belirle\n",
    "most_common_values = df['Cabin_deck'].value_counts().index[:2].tolist()\n",
    "\n",
    "# Null değerlerin yarısını en çok tekrar eden ilk değerle, diğer yarısını ise en çok tekrar eden ikinci değerle doldur\n",
    "df['Cabin_deck'].fillna({i: np.random.choice(most_common_values, p=[0.5, 0.5]) for i in df.index[df['Cabin_deck'].isnull()].tolist()[:null_count//2] + \n",
    "                        df.index[df['Cabin_deck'].isnull()].tolist()[null_count//2:]}, inplace=True)"
   ]
  },
  {
   "cell_type": "code",
   "execution_count": 72,
   "id": "1926b8d5-a7fc-4726-b89e-33ee08ffd4c2",
   "metadata": {},
   "outputs": [],
   "source": [
    "# Sütundaki null değerleri say\n",
    "null_count = df_test['Cabin_deck'].isnull().sum()\n",
    "\n",
    "# En çok tekrar eden ilk ve ikinci değerleri belirle\n",
    "most_common_values = df_test['Cabin_deck'].value_counts().index[:2].tolist()\n",
    "\n",
    "# Null değerlerin yarısını en çok tekrar eden ilk değerle, diğer yarısını ise en çok tekrar eden ikinci değerle doldur\n",
    "df_test['Cabin_deck'].fillna({i: np.random.choice(most_common_values, p=[0.5, 0.5]) for i in df_test.index[df_test['Cabin_deck'].isnull()].tolist()[\n",
    "    :null_count//2] + df_test.index[df_test['Cabin_deck'].isnull()].tolist()[null_count//2:]}, inplace=True)"
   ]
  },
  {
   "cell_type": "code",
   "execution_count": 73,
   "id": "4fa5da4c-f08c-4370-a2d7-1514e0f01571",
   "metadata": {},
   "outputs": [
    {
     "data": {
      "text/plain": [
       "F    2900\n",
       "G    2652\n",
       "E     876\n",
       "B     779\n",
       "C     747\n",
       "D     478\n",
       "A     256\n",
       "T       5\n",
       "Name: Cabin_deck, dtype: int64"
      ]
     },
     "execution_count": 73,
     "metadata": {},
     "output_type": "execute_result"
    }
   ],
   "source": [
    "df.Cabin_deck.value_counts()"
   ]
  },
  {
   "cell_type": "code",
   "execution_count": 149,
   "id": "6d697003-fbef-4f7f-a667-0de6e9b6ad62",
   "metadata": {},
   "outputs": [],
   "source": [
    "mapping_cabin_d = {'A': 1, 'B': 2, 'C': 2,'D': 2, 'E': 3, 'F': 4,'G':5,'T':6}\n",
    "\n",
    "# replace() metodunu kullanarak değişikliği uyguluyoruz\n",
    "df['Cabin_deck'] = df['Cabin_deck'].replace(mapping_cabin_d)\n",
    "df_test['Cabin_deck'] = df_test['Cabin_deck'].replace(mapping_cabin_d)\n",
    "\n",
    "df_test['Cabin_deck'] = df_test['Cabin_deck'].astype(int)\n",
    "df['Cabin_deck'] = df['Cabin_deck'].astype(int)"
   ]
  },
  {
   "cell_type": "code",
   "execution_count": 150,
   "id": "d8c9ddcd-3cc4-4241-af77-3dca0bf8012c",
   "metadata": {},
   "outputs": [
    {
     "data": {
      "text/plain": [
       "S    4288\n",
       "P    4206\n",
       "Name: Cabin_side, dtype: int64"
      ]
     },
     "execution_count": 150,
     "metadata": {},
     "output_type": "execute_result"
    }
   ],
   "source": [
    "df.Cabin_side.value_counts()"
   ]
  },
  {
   "cell_type": "code",
   "execution_count": 151,
   "id": "19b075d3-287c-494a-a73d-c4c3c49c7f24",
   "metadata": {},
   "outputs": [],
   "source": [
    "# Sütundaki null değerleri say\n",
    "null_count = df['Cabin_side'].isnull().sum()\n",
    "\n",
    "# En çok tekrar eden ilk ve ikinci değerleri belirle\n",
    "most_common_values = df['Cabin_side'].value_counts().index[:2].tolist()\n",
    "\n",
    "# Null değerlerin yarısını en çok tekrar eden ilk değerle, diğer yarısını ise en çok tekrar eden ikinci değerle doldur\n",
    "df['Cabin_side'].fillna({i: np.random.choice(most_common_values, p=[0.5, 0.5]) for i in df.index[df['Cabin_side'].isnull()].tolist()[:null_count//2] + \n",
    "                        df.index[df['Cabin_side'].isnull()].tolist()[null_count//2:]}, inplace=True)"
   ]
  },
  {
   "cell_type": "code",
   "execution_count": 152,
   "id": "ecc384ab-c1f2-4617-b813-88659558a5c2",
   "metadata": {},
   "outputs": [],
   "source": [
    "null_count = df_test['Cabin_side'].isnull().sum()\n",
    "\n",
    "# En çok tekrar eden ilk ve ikinci değerleri belirle\n",
    "most_common_values = df_test['Cabin_side'].value_counts().index[:2].tolist()\n",
    "\n",
    "# Null değerlerin yarısını en çok tekrar eden ilk değerle, diğer yarısını ise en çok tekrar eden ikinci değerle doldur\n",
    "df_test['Cabin_side'].fillna({i: np.random.choice(most_common_values, p=[0.5, 0.5]) for i in df_test.index[df_test['Cabin_side'].isnull()].tolist()[\n",
    "    :null_count//2] + df_test.index[df_test['Cabin_side'].isnull()].tolist()[null_count//2:]}, inplace=True)"
   ]
  },
  {
   "cell_type": "code",
   "execution_count": 153,
   "id": "cb006c81-2816-4f8d-ab0c-0b2e94ccf5a8",
   "metadata": {},
   "outputs": [
    {
     "data": {
      "text/plain": [
       "S    4383\n",
       "P    4310\n",
       "Name: Cabin_side, dtype: int64"
      ]
     },
     "execution_count": 153,
     "metadata": {},
     "output_type": "execute_result"
    }
   ],
   "source": [
    "df.Cabin_side.value_counts()"
   ]
  },
  {
   "cell_type": "code",
   "execution_count": 154,
   "id": "43ecd0d6-2013-46a9-bcda-5f885a85eefb",
   "metadata": {},
   "outputs": [],
   "source": [
    "'''\n",
    "S:1\n",
    "P:0\n",
    "'''\n",
    "\n",
    "df['Cabin_side'] = df['Cabin_side'].replace({'S': 1, 'P': 0})\n",
    "df_test['Cabin_side'] = df_test['Cabin_side'].replace({'S': 1, 'P': 0})\n",
    "df['Cabin_side'] = df['Cabin_side'].astype(int)\n",
    "df_test['Cabin_side'] = df_test['Cabin_side'].astype(int)"
   ]
  },
  {
   "cell_type": "code",
   "execution_count": 155,
   "id": "d75745a2-06f1-4416-aa73-2f81330eb972",
   "metadata": {},
   "outputs": [
    {
     "data": {
      "text/plain": [
       "TRAPPIST-1e      5915\n",
       "55 Cancri e      1800\n",
       "PSO J318.5-22     796\n",
       "Name: Destination, dtype: int64"
      ]
     },
     "execution_count": 155,
     "metadata": {},
     "output_type": "execute_result"
    }
   ],
   "source": [
    "df.Destination.value_counts()"
   ]
  },
  {
   "cell_type": "code",
   "execution_count": 156,
   "id": "62aeaf59-4abf-42f2-8ad0-a14b3134b1bd",
   "metadata": {},
   "outputs": [
    {
     "data": {
      "text/plain": [
       "TRAPPIST-1e      2956\n",
       "55 Cancri e       841\n",
       "PSO J318.5-22     388\n",
       "Name: Destination, dtype: int64"
      ]
     },
     "execution_count": 156,
     "metadata": {},
     "output_type": "execute_result"
    }
   ],
   "source": [
    "df_test.Destination.value_counts()"
   ]
  },
  {
   "cell_type": "code",
   "execution_count": 157,
   "id": "988af720-b1f8-4667-8718-66fd719cf24e",
   "metadata": {},
   "outputs": [],
   "source": [
    "df['Destination'].fillna(value='TRAPPIST-1e', limit=int(5915*182/8692), inplace=True)\n",
    "df['Destination'].fillna(value='55 Cancri e', limit=int(1800*182/8692), inplace=True)\n",
    "df['Destination'].fillna(value='PSO J318.5-22', limit=int(796*192/8692), inplace=True)\n",
    "\n",
    "# Kalan null değerleri veri setinin moduyla dolduralım\n",
    "df['Destination'].fillna(df['Destination'].mode()[0], inplace=True)"
   ]
  },
  {
   "cell_type": "code",
   "execution_count": 158,
   "id": "a5449093-3fa2-48a2-9fd4-d0275ccaef66",
   "metadata": {},
   "outputs": [],
   "source": [
    "df_test['Destination'].fillna(value='TRAPPIST-1e', limit=int(2956*92/4277), inplace=True)\n",
    "df_test['Destination'].fillna(value='55 Cancri e', limit=int(841*92/4277), inplace=True)\n",
    "df_test['Destination'].fillna(value='PSO J318.5-22', limit=int(388*92/4277), inplace=True)\n",
    "\n",
    "# Kalan null değerleri veri setinin moduyla dolduralım\n",
    "df_test['Destination'].fillna(df_test['Destination'].mode()[0], inplace=True)"
   ]
  },
  {
   "cell_type": "code",
   "execution_count": 159,
   "id": "221b6c27-98c7-4df9-8e9b-94e3b0391597",
   "metadata": {},
   "outputs": [],
   "source": [
    "df = pd.get_dummies(df, columns = [\"Destination\"])\n",
    "df_test = pd.get_dummies(df_test, columns = [\"Destination\"])"
   ]
  },
  {
   "cell_type": "code",
   "execution_count": 160,
   "id": "1232d66b-53d5-4f21-a821-7f24cb51f75c",
   "metadata": {},
   "outputs": [],
   "source": [
    "df[\"Age\"].fillna(df.Age.mean(), inplace=True)\n",
    "df_test[\"Age\"].fillna(df.Age.mean(), inplace=True)"
   ]
  },
  {
   "cell_type": "code",
   "execution_count": 161,
   "id": "4b4e8f89-09f3-46e1-a726-b41f7e8ac4df",
   "metadata": {},
   "outputs": [],
   "source": [
    "from sklearn import preprocessing"
   ]
  },
  {
   "cell_type": "code",
   "execution_count": 162,
   "id": "fe1f5d20-d6cc-44f9-8abf-b4ac61e75691",
   "metadata": {},
   "outputs": [
    {
     "data": {
      "text/plain": [
       "<AxesSubplot:ylabel='Density'>"
      ]
     },
     "execution_count": 162,
     "metadata": {},
     "output_type": "execute_result"
    },
    {
     "data": {
      "image/png": "[encoded data removed]",
      "text/plain": [
       "<Figure size 432x288 with 1 Axes>"
      ]
     },
     "metadata": {
      "needs_background": "light"
     },
     "output_type": "display_data"
    }
   ],
   "source": [
    "sns.distplot(preprocessing.minmax_scale(df.Age))"
   ]
  },
  {
   "cell_type": "code",
   "execution_count": 163,
   "id": "2a81ba04-97c6-46fa-b0d1-a55ecd99729b",
   "metadata": {},
   "outputs": [],
   "source": [
    "df[\"Age\"]=preprocessing.minmax_scale(df.Age)\n",
    "df_test[\"Age\"]=preprocessing.minmax_scale(df_test.Age)"
   ]
  },
  {
   "cell_type": "code",
   "execution_count": 164,
   "id": "83ca92d1-9d6e-49cb-89b3-ba9c44a419f3",
   "metadata": {},
   "outputs": [
    {
     "data": {
      "text/plain": [
       "False    4110\n",
       "True       74\n",
       "Name: VIP, dtype: int64"
      ]
     },
     "execution_count": 164,
     "metadata": {},
     "output_type": "execute_result"
    }
   ],
   "source": [
    "df_test.VIP.value_counts()"
   ]
  },
  {
   "cell_type": "code",
   "execution_count": 165,
   "id": "a0fd28c5-acf2-4a73-9c78-a2a4b22a6815",
   "metadata": {},
   "outputs": [],
   "source": [
    "df['VIP'].fillna(value='False', limit=int(8291*203/8692), inplace=True)\n",
    "df['VIP'].fillna(value='True', limit=int(199*203/8692), inplace=True)\n",
    "\n",
    "# Kalan null değerleri veri setinin moduyla dolduralım\n",
    "df['VIP'].fillna(df['VIP'].mode()[0], inplace=True)"
   ]
  },
  {
   "cell_type": "code",
   "execution_count": 166,
   "id": "2756912b-5d69-4bea-bc32-c17a73ca43d0",
   "metadata": {},
   "outputs": [],
   "source": [
    "df_test['VIP'].fillna(value='False', limit=int(4110*93/4277), inplace=True)\n",
    "df_test['VIP'].fillna(value='True', limit=int(74*93/4277), inplace=True)\n",
    "\n",
    "# Kalan null değerleri veri setinin moduyla dolduralım\n",
    "df_test['VIP'].fillna(df_test['VIP'].mode()[0], inplace=True)"
   ]
  },
  {
   "cell_type": "code",
   "execution_count": 168,
   "id": "c7be0695-2d30-4889-b880-0158b6fe13a3",
   "metadata": {},
   "outputs": [],
   "source": [
    "df[\"RoomService\"].fillna(df.RoomService.mean(), inplace=True)\n",
    "df_test[\"RoomService\"].fillna(df.RoomService.mean(), inplace=True)"
   ]
  },
  {
   "cell_type": "code",
   "execution_count": 169,
   "id": "d59a5745-1f9d-4a75-ade6-35dc2dfc92b5",
   "metadata": {},
   "outputs": [
    {
     "data": {
      "text/plain": [
       "<AxesSubplot:ylabel='Density'>"
      ]
     },
     "execution_count": 169,
     "metadata": {},
     "output_type": "execute_result"
    },
    {
     "data": {
      "image/png": "[encoded data removed]",
      "text/plain": [
       "<Figure size 432x288 with 1 Axes>"
      ]
     },
     "metadata": {
      "needs_background": "light"
     },
     "output_type": "display_data"
    }
   ],
   "source": [
    "sns.distplot(preprocessing.minmax_scale(df.RoomService))"
   ]
  },
  {
   "cell_type": "code",
   "execution_count": 170,
   "id": "f5c1285b-1222-42a7-a575-d58e5932f47a",
   "metadata": {},
   "outputs": [],
   "source": [
    "df[\"RoomService\"]=preprocessing.minmax_scale(df.RoomService)\n",
    "df_test[\"RoomService\"]=preprocessing.minmax_scale(df_test.RoomService)"
   ]
  },
  {
   "cell_type": "code",
   "execution_count": 171,
   "id": "d9a4cf27-42cb-43f7-a8e7-115288d1d1bc",
   "metadata": {},
   "outputs": [],
   "source": [
    "df[\"FoodCourt\"].fillna(df.FoodCourt.mean(), inplace=True)\n",
    "df_test[\"FoodCourt\"].fillna(df.FoodCourt.mean(), inplace=True)\n",
    "\n",
    "df[\"FoodCourt\"]=preprocessing.minmax_scale(df.FoodCourt)\n",
    "df_test[\"FoodCourt\"]=preprocessing.minmax_scale(df_test.FoodCourt)"
   ]
  },
  {
   "cell_type": "code",
   "execution_count": 172,
   "id": "d8e9b354-0e8f-4047-97f9-063ec1eb6a5e",
   "metadata": {},
   "outputs": [
    {
     "data": {
      "text/plain": [
       "<AxesSubplot:xlabel='FoodCourt', ylabel='Density'>"
      ]
     },
     "execution_count": 172,
     "metadata": {},
     "output_type": "execute_result"
    },
    {
     "data": {
      "image/png": "[encoded data removed]",
      "text/plain": [
       "<Figure size 432x288 with 1 Axes>"
      ]
     },
     "metadata": {
      "needs_background": "light"
     },
     "output_type": "display_data"
    }
   ],
   "source": [
    "sns.distplot(df.FoodCourt)"
   ]
  },
  {
   "cell_type": "code",
   "execution_count": 173,
   "id": "b356fd48-8a0e-48fb-9b08-2ff1602bcf06",
   "metadata": {},
   "outputs": [],
   "source": [
    "df[\"ShoppingMall\"].fillna(df.ShoppingMall.mean(), inplace=True)\n",
    "df_test[\"ShoppingMall\"].fillna(df.ShoppingMall.mean(), inplace=True)\n",
    "\n",
    "df[\"ShoppingMall\"]=preprocessing.minmax_scale(df.ShoppingMall)\n",
    "df_test[\"ShoppingMall\"]=preprocessing.minmax_scale(df_test.ShoppingMall)"
   ]
  },
  {
   "cell_type": "code",
   "execution_count": 174,
   "id": "c052ede1-de96-4147-8639-fc8a04c372d9",
   "metadata": {},
   "outputs": [
    {
     "data": {
      "text/plain": [
       "<AxesSubplot:xlabel='ShoppingMall', ylabel='Density'>"
      ]
     },
     "execution_count": 174,
     "metadata": {},
     "output_type": "execute_result"
    },
    {
     "data": {
      "image/png": "[encoded data removed]",
      "text/plain": [
       "<Figure size 432x288 with 1 Axes>"
      ]
     },
     "metadata": {
      "needs_background": "light"
     },
     "output_type": "display_data"
    }
   ],
   "source": [
    "sns.distplot(df.ShoppingMall)"
   ]
  },
  {
   "cell_type": "code",
   "execution_count": 175,
   "id": "883d951d-3e3c-4f7b-9463-4dc5df673ca5",
   "metadata": {},
   "outputs": [],
   "source": [
    "df[\"Spa\"].fillna(df.Spa.mean(), inplace=True)\n",
    "df_test[\"Spa\"].fillna(df.Spa.mean(), inplace=True)\n",
    "\n",
    "df[\"Spa\"]=preprocessing.minmax_scale(df.Spa)\n",
    "df_test[\"Spa\"]=preprocessing.minmax_scale(df_test.Spa)"
   ]
  },
  {
   "cell_type": "code",
   "execution_count": 176,
   "id": "1585aa1d-f041-4790-9c1f-1524a39dfc8b",
   "metadata": {},
   "outputs": [
    {
     "data": {
      "text/plain": [
       "<AxesSubplot:xlabel='Spa', ylabel='Density'>"
      ]
     },
     "execution_count": 176,
     "metadata": {},
     "output_type": "execute_result"
    },
    {
     "data": {
      "image/png": "[encoded data removed]",
      "text/plain": [
       "<Figure size 432x288 with 1 Axes>"
      ]
     },
     "metadata": {
      "needs_background": "light"
     },
     "output_type": "display_data"
    }
   ],
   "source": [
    "sns.distplot(df.Spa)"
   ]
  },
  {
   "cell_type": "code",
   "execution_count": 177,
   "id": "9fcf9b7a-bf3b-4f53-bc7b-e243ab419480",
   "metadata": {},
   "outputs": [],
   "source": [
    "df[\"VRDeck\"].fillna(df.VRDeck.mean(), inplace=True)\n",
    "df_test[\"VRDeck\"].fillna(df.VRDeck.mean(), inplace=True)\n",
    "\n",
    "df[\"VRDeck\"]=preprocessing.minmax_scale(df.VRDeck)\n",
    "df_test[\"VRDeck\"]=preprocessing.minmax_scale(df_test.VRDeck)"
   ]
  },
  {
   "cell_type": "code",
   "execution_count": 179,
   "id": "a98587c8-e1bb-4cfc-b48a-0e48e2a48cb9",
   "metadata": {},
   "outputs": [],
   "source": [
    "df['Transported'] = df['Transported'].replace({'True': 1, 'False': 0})\n",
    "\n",
    "df['Transported'] = df['Transported'].astype(int)\n"
   ]
  },
  {
   "cell_type": "code",
   "execution_count": 180,
   "id": "9c82329b-c311-4d09-93f6-cad979611a62",
   "metadata": {},
   "outputs": [],
   "source": [
    "from sklearn.preprocessing import Normalizer\n",
    "\n",
    "\n",
    "\n",
    "\n",
    "\n",
    "normalizer = Normalizer()\n",
    "df[['Age', 'RoomService','FoodCourt','ShoppingMall','Spa','VRDeck']] = normalizer.fit_transform(df[[\n",
    "    'Age', 'RoomService','FoodCourt','ShoppingMall','Spa','VRDeck']])"
   ]
  },
  {
   "cell_type": "code",
   "execution_count": 181,
   "id": "23921f00-ccb1-42f5-bbfa-5b31265b462e",
   "metadata": {},
   "outputs": [],
   "source": [
    "df_test[['Age', 'RoomService','FoodCourt','ShoppingMall','Spa','VRDeck']] = normalizer.fit_transform(df_test[[\n",
    "    'Age', 'RoomService','FoodCourt','ShoppingMall','Spa','VRDeck']])"
   ]
  },
  {
   "cell_type": "code",
   "execution_count": 184,
   "id": "db650ec1-6a6f-483c-bfb6-65ab2642a407",
   "metadata": {},
   "outputs": [
    {
     "data": {
      "text/html": [
       "<style type=\"text/css\">\n",
       "</style>\n",
       "<table id=\"T_a86c6\">\n",
       "  <thead>\n",
       "    <tr>\n",
       "      <th class=\"blank level0\" >&nbsp;</th>\n",
       "      <th id=\"T_a86c6_level0_col0\" class=\"col_heading level0 col0\" >Description</th>\n",
       "      <th id=\"T_a86c6_level0_col1\" class=\"col_heading level0 col1\" >Value</th>\n",
       "    </tr>\n",
       "  </thead>\n",
       "  <tbody>\n",
       "    <tr>\n",
       "      <th id=\"T_a86c6_level0_row0\" class=\"row_heading level0 row0\" >0</th>\n",
       "      <td id=\"T_a86c6_row0_col0\" class=\"data row0 col0\" >Session id</td>\n",
       "      <td id=\"T_a86c6_row0_col1\" class=\"data row0 col1\" >624</td>\n",
       "    </tr>\n",
       "    <tr>\n",
       "      <th id=\"T_a86c6_level0_row1\" class=\"row_heading level0 row1\" >1</th>\n",
       "      <td id=\"T_a86c6_row1_col0\" class=\"data row1 col0\" >Target</td>\n",
       "      <td id=\"T_a86c6_row1_col1\" class=\"data row1 col1\" >Transported</td>\n",
       "    </tr>\n",
       "    <tr>\n",
       "      <th id=\"T_a86c6_level0_row2\" class=\"row_heading level0 row2\" >2</th>\n",
       "      <td id=\"T_a86c6_row2_col0\" class=\"data row2 col0\" >Target type</td>\n",
       "      <td id=\"T_a86c6_row2_col1\" class=\"data row2 col1\" >Binary</td>\n",
       "    </tr>\n",
       "    <tr>\n",
       "      <th id=\"T_a86c6_level0_row3\" class=\"row_heading level0 row3\" >3</th>\n",
       "      <td id=\"T_a86c6_row3_col0\" class=\"data row3 col0\" >Original data shape</td>\n",
       "      <td id=\"T_a86c6_row3_col1\" class=\"data row3 col1\" >(8693, 17)</td>\n",
       "    </tr>\n",
       "    <tr>\n",
       "      <th id=\"T_a86c6_level0_row4\" class=\"row_heading level0 row4\" >4</th>\n",
       "      <td id=\"T_a86c6_row4_col0\" class=\"data row4 col0\" >Transformed data shape</td>\n",
       "      <td id=\"T_a86c6_row4_col1\" class=\"data row4 col1\" >(8693, 17)</td>\n",
       "    </tr>\n",
       "    <tr>\n",
       "      <th id=\"T_a86c6_level0_row5\" class=\"row_heading level0 row5\" >5</th>\n",
       "      <td id=\"T_a86c6_row5_col0\" class=\"data row5 col0\" >Transformed train set shape</td>\n",
       "      <td id=\"T_a86c6_row5_col1\" class=\"data row5 col1\" >(6085, 17)</td>\n",
       "    </tr>\n",
       "    <tr>\n",
       "      <th id=\"T_a86c6_level0_row6\" class=\"row_heading level0 row6\" >6</th>\n",
       "      <td id=\"T_a86c6_row6_col0\" class=\"data row6 col0\" >Transformed test set shape</td>\n",
       "      <td id=\"T_a86c6_row6_col1\" class=\"data row6 col1\" >(2608, 17)</td>\n",
       "    </tr>\n",
       "    <tr>\n",
       "      <th id=\"T_a86c6_level0_row7\" class=\"row_heading level0 row7\" >7</th>\n",
       "      <td id=\"T_a86c6_row7_col0\" class=\"data row7 col0\" >Numeric features</td>\n",
       "      <td id=\"T_a86c6_row7_col1\" class=\"data row7 col1\" >16</td>\n",
       "    </tr>\n",
       "  </tbody>\n",
       "</table>\n"
      ],
      "text/plain": [
       "<pandas.io.formats.style.Styler at 0x1c4a13deee0>"
      ]
     },
     "metadata": {},
     "output_type": "display_data"
    },
    {
     "data": {
      "text/html": [],
      "text/plain": [
       "<IPython.core.display.HTML object>"
      ]
     },
     "metadata": {},
     "output_type": "display_data"
    },
    {
     "data": {
      "text/html": [
       "<style type=\"text/css\">\n",
       "#T_ac908 th {\n",
       "  text-align: left;\n",
       "}\n",
       "#T_ac908_row0_col0, #T_ac908_row0_col3, #T_ac908_row0_col4, #T_ac908_row1_col0, #T_ac908_row1_col1, #T_ac908_row1_col2, #T_ac908_row1_col3, #T_ac908_row1_col4, #T_ac908_row1_col5, #T_ac908_row1_col6, #T_ac908_row1_col7, #T_ac908_row2_col0, #T_ac908_row2_col1, #T_ac908_row2_col2, #T_ac908_row2_col3, #T_ac908_row2_col4, #T_ac908_row2_col5, #T_ac908_row2_col6, #T_ac908_row2_col7, #T_ac908_row3_col0, #T_ac908_row3_col1, #T_ac908_row3_col2, #T_ac908_row3_col3, #T_ac908_row3_col4, #T_ac908_row3_col5, #T_ac908_row3_col6, #T_ac908_row3_col7, #T_ac908_row4_col0, #T_ac908_row4_col1, #T_ac908_row4_col2, #T_ac908_row4_col3, #T_ac908_row4_col4, #T_ac908_row4_col5, #T_ac908_row4_col6, #T_ac908_row4_col7, #T_ac908_row5_col0, #T_ac908_row5_col1, #T_ac908_row5_col2, #T_ac908_row5_col3, #T_ac908_row5_col4, #T_ac908_row5_col5, #T_ac908_row5_col6, #T_ac908_row5_col7, #T_ac908_row6_col0, #T_ac908_row6_col1, #T_ac908_row6_col2, #T_ac908_row6_col3, #T_ac908_row6_col4, #T_ac908_row6_col5, #T_ac908_row6_col6, #T_ac908_row6_col7, #T_ac908_row7_col0, #T_ac908_row7_col1, #T_ac908_row7_col2, #T_ac908_row7_col3, #T_ac908_row7_col4, #T_ac908_row7_col5, #T_ac908_row7_col6, #T_ac908_row7_col7, #T_ac908_row8_col0, #T_ac908_row8_col1, #T_ac908_row8_col2, #T_ac908_row8_col3, #T_ac908_row8_col4, #T_ac908_row8_col5, #T_ac908_row8_col6, #T_ac908_row8_col7, #T_ac908_row9_col0, #T_ac908_row9_col1, #T_ac908_row9_col2, #T_ac908_row9_col3, #T_ac908_row9_col4, #T_ac908_row9_col5, #T_ac908_row9_col6, #T_ac908_row9_col7, #T_ac908_row10_col0, #T_ac908_row10_col1, #T_ac908_row10_col2, #T_ac908_row10_col3, #T_ac908_row10_col5, #T_ac908_row10_col6, #T_ac908_row10_col7, #T_ac908_row11_col0, #T_ac908_row11_col1, #T_ac908_row11_col2, #T_ac908_row11_col3, #T_ac908_row11_col4, #T_ac908_row11_col5, #T_ac908_row11_col6, #T_ac908_row11_col7, #T_ac908_row12_col0, #T_ac908_row12_col1, #T_ac908_row12_col2, #T_ac908_row12_col3, #T_ac908_row12_col4, #T_ac908_row12_col5, #T_ac908_row12_col6, #T_ac908_row12_col7, #T_ac908_row13_col0, #T_ac908_row13_col1, #T_ac908_row13_col2, #T_ac908_row13_col3, #T_ac908_row13_col4, #T_ac908_row13_col5, #T_ac908_row13_col6, #T_ac908_row13_col7, #T_ac908_row14_col0, #T_ac908_row14_col1, #T_ac908_row14_col2, #T_ac908_row14_col3, #T_ac908_row14_col4, #T_ac908_row14_col5, #T_ac908_row14_col6, #T_ac908_row14_col7, #T_ac908_row15_col0, #T_ac908_row15_col1, #T_ac908_row15_col2, #T_ac908_row15_col4, #T_ac908_row15_col5, #T_ac908_row15_col6, #T_ac908_row15_col7 {\n",
       "  text-align: left;\n",
       "}\n",
       "#T_ac908_row0_col1, #T_ac908_row0_col2, #T_ac908_row0_col5, #T_ac908_row0_col6, #T_ac908_row0_col7, #T_ac908_row10_col4, #T_ac908_row15_col3 {\n",
       "  text-align: left;\n",
       "  background-color: yellow;\n",
       "}\n",
       "#T_ac908_row0_col8, #T_ac908_row1_col8, #T_ac908_row2_col8, #T_ac908_row3_col8, #T_ac908_row4_col8, #T_ac908_row5_col8, #T_ac908_row6_col8, #T_ac908_row7_col8, #T_ac908_row8_col8, #T_ac908_row9_col8, #T_ac908_row10_col8, #T_ac908_row11_col8, #T_ac908_row12_col8, #T_ac908_row14_col8, #T_ac908_row15_col8 {\n",
       "  text-align: left;\n",
       "  background-color: lightgrey;\n",
       "}\n",
       "#T_ac908_row13_col8 {\n",
       "  text-align: left;\n",
       "  background-color: yellow;\n",
       "  background-color: lightgrey;\n",
       "}\n",
       "</style>\n",
       "<table id=\"T_ac908\">\n",
       "  <thead>\n",
       "    <tr>\n",
       "      <th class=\"blank level0\" >&nbsp;</th>\n",
       "      <th id=\"T_ac908_level0_col0\" class=\"col_heading level0 col0\" >Model</th>\n",
       "      <th id=\"T_ac908_level0_col1\" class=\"col_heading level0 col1\" >Accuracy</th>\n",
       "      <th id=\"T_ac908_level0_col2\" class=\"col_heading level0 col2\" >AUC</th>\n",
       "      <th id=\"T_ac908_level0_col3\" class=\"col_heading level0 col3\" >Recall</th>\n",
       "      <th id=\"T_ac908_level0_col4\" class=\"col_heading level0 col4\" >Prec.</th>\n",
       "      <th id=\"T_ac908_level0_col5\" class=\"col_heading level0 col5\" >F1</th>\n",
       "      <th id=\"T_ac908_level0_col6\" class=\"col_heading level0 col6\" >Kappa</th>\n",
       "      <th id=\"T_ac908_level0_col7\" class=\"col_heading level0 col7\" >MCC</th>\n",
       "      <th id=\"T_ac908_level0_col8\" class=\"col_heading level0 col8\" >TT (Sec)</th>\n",
       "    </tr>\n",
       "  </thead>\n",
       "  <tbody>\n",
       "    <tr>\n",
       "      <th id=\"T_ac908_level0_row0\" class=\"row_heading level0 row0\" >catboost</th>\n",
       "      <td id=\"T_ac908_row0_col0\" class=\"data row0 col0\" >CatBoost Classifier</td>\n",
       "      <td id=\"T_ac908_row0_col1\" class=\"data row0 col1\" >0.8051</td>\n",
       "      <td id=\"T_ac908_row0_col2\" class=\"data row0 col2\" >0.8870</td>\n",
       "      <td id=\"T_ac908_row0_col3\" class=\"data row0 col3\" >0.8215</td>\n",
       "      <td id=\"T_ac908_row0_col4\" class=\"data row0 col4\" >0.7979</td>\n",
       "      <td id=\"T_ac908_row0_col5\" class=\"data row0 col5\" >0.8094</td>\n",
       "      <td id=\"T_ac908_row0_col6\" class=\"data row0 col6\" >0.6101</td>\n",
       "      <td id=\"T_ac908_row0_col7\" class=\"data row0 col7\" >0.6105</td>\n",
       "      <td id=\"T_ac908_row0_col8\" class=\"data row0 col8\" >1.2740</td>\n",
       "    </tr>\n",
       "    <tr>\n",
       "      <th id=\"T_ac908_level0_row1\" class=\"row_heading level0 row1\" >lightgbm</th>\n",
       "      <td id=\"T_ac908_row1_col0\" class=\"data row1 col0\" >Light Gradient Boosting Machine</td>\n",
       "      <td id=\"T_ac908_row1_col1\" class=\"data row1 col1\" >0.8031</td>\n",
       "      <td id=\"T_ac908_row1_col2\" class=\"data row1 col2\" >0.8818</td>\n",
       "      <td id=\"T_ac908_row1_col3\" class=\"data row1 col3\" >0.8245</td>\n",
       "      <td id=\"T_ac908_row1_col4\" class=\"data row1 col4\" >0.7930</td>\n",
       "      <td id=\"T_ac908_row1_col5\" class=\"data row1 col5\" >0.8083</td>\n",
       "      <td id=\"T_ac908_row1_col6\" class=\"data row1 col6\" >0.6061</td>\n",
       "      <td id=\"T_ac908_row1_col7\" class=\"data row1 col7\" >0.6067</td>\n",
       "      <td id=\"T_ac908_row1_col8\" class=\"data row1 col8\" >0.7000</td>\n",
       "    </tr>\n",
       "    <tr>\n",
       "      <th id=\"T_ac908_level0_row2\" class=\"row_heading level0 row2\" >gbc</th>\n",
       "      <td id=\"T_ac908_row2_col0\" class=\"data row2 col0\" >Gradient Boosting Classifier</td>\n",
       "      <td id=\"T_ac908_row2_col1\" class=\"data row2 col1\" >0.7990</td>\n",
       "      <td id=\"T_ac908_row2_col2\" class=\"data row2 col2\" >0.8789</td>\n",
       "      <td id=\"T_ac908_row2_col3\" class=\"data row2 col3\" >0.8235</td>\n",
       "      <td id=\"T_ac908_row2_col4\" class=\"data row2 col4\" >0.7873</td>\n",
       "      <td id=\"T_ac908_row2_col5\" class=\"data row2 col5\" >0.8049</td>\n",
       "      <td id=\"T_ac908_row2_col6\" class=\"data row2 col6\" >0.5979</td>\n",
       "      <td id=\"T_ac908_row2_col7\" class=\"data row2 col7\" >0.5986</td>\n",
       "      <td id=\"T_ac908_row2_col8\" class=\"data row2 col8\" >0.7520</td>\n",
       "    </tr>\n",
       "    <tr>\n",
       "      <th id=\"T_ac908_level0_row3\" class=\"row_heading level0 row3\" >rf</th>\n",
       "      <td id=\"T_ac908_row3_col0\" class=\"data row3 col0\" >Random Forest Classifier</td>\n",
       "      <td id=\"T_ac908_row3_col1\" class=\"data row3 col1\" >0.7964</td>\n",
       "      <td id=\"T_ac908_row3_col2\" class=\"data row3 col2\" >0.8782</td>\n",
       "      <td id=\"T_ac908_row3_col3\" class=\"data row3 col3\" >0.8081</td>\n",
       "      <td id=\"T_ac908_row3_col4\" class=\"data row3 col4\" >0.7922</td>\n",
       "      <td id=\"T_ac908_row3_col5\" class=\"data row3 col5\" >0.8000</td>\n",
       "      <td id=\"T_ac908_row3_col6\" class=\"data row3 col6\" >0.5927</td>\n",
       "      <td id=\"T_ac908_row3_col7\" class=\"data row3 col7\" >0.5930</td>\n",
       "      <td id=\"T_ac908_row3_col8\" class=\"data row3 col8\" >0.6720</td>\n",
       "    </tr>\n",
       "    <tr>\n",
       "      <th id=\"T_ac908_level0_row4\" class=\"row_heading level0 row4\" >xgboost</th>\n",
       "      <td id=\"T_ac908_row4_col0\" class=\"data row4 col0\" >Extreme Gradient Boosting</td>\n",
       "      <td id=\"T_ac908_row4_col1\" class=\"data row4 col1\" >0.7952</td>\n",
       "      <td id=\"T_ac908_row4_col2\" class=\"data row4 col2\" >0.8761</td>\n",
       "      <td id=\"T_ac908_row4_col3\" class=\"data row4 col3\" >0.8134</td>\n",
       "      <td id=\"T_ac908_row4_col4\" class=\"data row4 col4\" >0.7875</td>\n",
       "      <td id=\"T_ac908_row4_col5\" class=\"data row4 col5\" >0.8001</td>\n",
       "      <td id=\"T_ac908_row4_col6\" class=\"data row4 col6\" >0.5903</td>\n",
       "      <td id=\"T_ac908_row4_col7\" class=\"data row4 col7\" >0.5909</td>\n",
       "      <td id=\"T_ac908_row4_col8\" class=\"data row4 col8\" >0.6820</td>\n",
       "    </tr>\n",
       "    <tr>\n",
       "      <th id=\"T_ac908_level0_row5\" class=\"row_heading level0 row5\" >et</th>\n",
       "      <td id=\"T_ac908_row5_col0\" class=\"data row5 col0\" >Extra Trees Classifier</td>\n",
       "      <td id=\"T_ac908_row5_col1\" class=\"data row5 col1\" >0.7888</td>\n",
       "      <td id=\"T_ac908_row5_col2\" class=\"data row5 col2\" >0.8678</td>\n",
       "      <td id=\"T_ac908_row5_col3\" class=\"data row5 col3\" >0.8010</td>\n",
       "      <td id=\"T_ac908_row5_col4\" class=\"data row5 col4\" >0.7845</td>\n",
       "      <td id=\"T_ac908_row5_col5\" class=\"data row5 col5\" >0.7926</td>\n",
       "      <td id=\"T_ac908_row5_col6\" class=\"data row5 col6\" >0.5776</td>\n",
       "      <td id=\"T_ac908_row5_col7\" class=\"data row5 col7\" >0.5778</td>\n",
       "      <td id=\"T_ac908_row5_col8\" class=\"data row5 col8\" >0.6670</td>\n",
       "    </tr>\n",
       "    <tr>\n",
       "      <th id=\"T_ac908_level0_row6\" class=\"row_heading level0 row6\" >ada</th>\n",
       "      <td id=\"T_ac908_row6_col0\" class=\"data row6 col0\" >Ada Boost Classifier</td>\n",
       "      <td id=\"T_ac908_row6_col1\" class=\"data row6 col1\" >0.7869</td>\n",
       "      <td id=\"T_ac908_row6_col2\" class=\"data row6 col2\" >0.8657</td>\n",
       "      <td id=\"T_ac908_row6_col3\" class=\"data row6 col3\" >0.7984</td>\n",
       "      <td id=\"T_ac908_row6_col4\" class=\"data row6 col4\" >0.7831</td>\n",
       "      <td id=\"T_ac908_row6_col5\" class=\"data row6 col5\" >0.7905</td>\n",
       "      <td id=\"T_ac908_row6_col6\" class=\"data row6 col6\" >0.5736</td>\n",
       "      <td id=\"T_ac908_row6_col7\" class=\"data row6 col7\" >0.5740</td>\n",
       "      <td id=\"T_ac908_row6_col8\" class=\"data row6 col8\" >0.6810</td>\n",
       "    </tr>\n",
       "    <tr>\n",
       "      <th id=\"T_ac908_level0_row7\" class=\"row_heading level0 row7\" >svm</th>\n",
       "      <td id=\"T_ac908_row7_col0\" class=\"data row7 col0\" >SVM - Linear Kernel</td>\n",
       "      <td id=\"T_ac908_row7_col1\" class=\"data row7 col1\" >0.7845</td>\n",
       "      <td id=\"T_ac908_row7_col2\" class=\"data row7 col2\" >0.0000</td>\n",
       "      <td id=\"T_ac908_row7_col3\" class=\"data row7 col3\" >0.7566</td>\n",
       "      <td id=\"T_ac908_row7_col4\" class=\"data row7 col4\" >0.8072</td>\n",
       "      <td id=\"T_ac908_row7_col5\" class=\"data row7 col5\" >0.7788</td>\n",
       "      <td id=\"T_ac908_row7_col6\" class=\"data row7 col6\" >0.5693</td>\n",
       "      <td id=\"T_ac908_row7_col7\" class=\"data row7 col7\" >0.5734</td>\n",
       "      <td id=\"T_ac908_row7_col8\" class=\"data row7 col8\" >0.5980</td>\n",
       "    </tr>\n",
       "    <tr>\n",
       "      <th id=\"T_ac908_level0_row8\" class=\"row_heading level0 row8\" >lr</th>\n",
       "      <td id=\"T_ac908_row8_col0\" class=\"data row8 col0\" >Logistic Regression</td>\n",
       "      <td id=\"T_ac908_row8_col1\" class=\"data row8 col1\" >0.7781</td>\n",
       "      <td id=\"T_ac908_row8_col2\" class=\"data row8 col2\" >0.8639</td>\n",
       "      <td id=\"T_ac908_row8_col3\" class=\"data row8 col3\" >0.7403</td>\n",
       "      <td id=\"T_ac908_row8_col4\" class=\"data row8 col4\" >0.8040</td>\n",
       "      <td id=\"T_ac908_row8_col5\" class=\"data row8 col5\" >0.7706</td>\n",
       "      <td id=\"T_ac908_row8_col6\" class=\"data row8 col6\" >0.5565</td>\n",
       "      <td id=\"T_ac908_row8_col7\" class=\"data row8 col7\" >0.5586</td>\n",
       "      <td id=\"T_ac908_row8_col8\" class=\"data row8 col8\" >0.6050</td>\n",
       "    </tr>\n",
       "    <tr>\n",
       "      <th id=\"T_ac908_level0_row9\" class=\"row_heading level0 row9\" >lda</th>\n",
       "      <td id=\"T_ac908_row9_col0\" class=\"data row9 col0\" >Linear Discriminant Analysis</td>\n",
       "      <td id=\"T_ac908_row9_col1\" class=\"data row9 col1\" >0.7768</td>\n",
       "      <td id=\"T_ac908_row9_col2\" class=\"data row9 col2\" >0.8636</td>\n",
       "      <td id=\"T_ac908_row9_col3\" class=\"data row9 col3\" >0.7292</td>\n",
       "      <td id=\"T_ac908_row9_col4\" class=\"data row9 col4\" >0.8091</td>\n",
       "      <td id=\"T_ac908_row9_col5\" class=\"data row9 col5\" >0.7669</td>\n",
       "      <td id=\"T_ac908_row9_col6\" class=\"data row9 col6\" >0.5540</td>\n",
       "      <td id=\"T_ac908_row9_col7\" class=\"data row9 col7\" >0.5569</td>\n",
       "      <td id=\"T_ac908_row9_col8\" class=\"data row9 col8\" >0.5800</td>\n",
       "    </tr>\n",
       "    <tr>\n",
       "      <th id=\"T_ac908_level0_row10\" class=\"row_heading level0 row10\" >ridge</th>\n",
       "      <td id=\"T_ac908_row10_col0\" class=\"data row10 col0\" >Ridge Classifier</td>\n",
       "      <td id=\"T_ac908_row10_col1\" class=\"data row10 col1\" >0.7762</td>\n",
       "      <td id=\"T_ac908_row10_col2\" class=\"data row10 col2\" >0.0000</td>\n",
       "      <td id=\"T_ac908_row10_col3\" class=\"data row10 col3\" >0.7272</td>\n",
       "      <td id=\"T_ac908_row10_col4\" class=\"data row10 col4\" >0.8092</td>\n",
       "      <td id=\"T_ac908_row10_col5\" class=\"data row10 col5\" >0.7659</td>\n",
       "      <td id=\"T_ac908_row10_col6\" class=\"data row10 col6\" >0.5527</td>\n",
       "      <td id=\"T_ac908_row10_col7\" class=\"data row10 col7\" >0.5558</td>\n",
       "      <td id=\"T_ac908_row10_col8\" class=\"data row10 col8\" >0.5860</td>\n",
       "    </tr>\n",
       "    <tr>\n",
       "      <th id=\"T_ac908_level0_row11\" class=\"row_heading level0 row11\" >knn</th>\n",
       "      <td id=\"T_ac908_row11_col0\" class=\"data row11 col0\" >K Neighbors Classifier</td>\n",
       "      <td id=\"T_ac908_row11_col1\" class=\"data row11 col1\" >0.7688</td>\n",
       "      <td id=\"T_ac908_row11_col2\" class=\"data row11 col2\" >0.8474</td>\n",
       "      <td id=\"T_ac908_row11_col3\" class=\"data row11 col3\" >0.7869</td>\n",
       "      <td id=\"T_ac908_row11_col4\" class=\"data row11 col4\" >0.7628</td>\n",
       "      <td id=\"T_ac908_row11_col5\" class=\"data row11 col5\" >0.7744</td>\n",
       "      <td id=\"T_ac908_row11_col6\" class=\"data row11 col6\" >0.5374</td>\n",
       "      <td id=\"T_ac908_row11_col7\" class=\"data row11 col7\" >0.5380</td>\n",
       "      <td id=\"T_ac908_row11_col8\" class=\"data row11 col8\" >0.6850</td>\n",
       "    </tr>\n",
       "    <tr>\n",
       "      <th id=\"T_ac908_level0_row12\" class=\"row_heading level0 row12\" >nb</th>\n",
       "      <td id=\"T_ac908_row12_col0\" class=\"data row12 col0\" >Naive Bayes</td>\n",
       "      <td id=\"T_ac908_row12_col1\" class=\"data row12 col1\" >0.7675</td>\n",
       "      <td id=\"T_ac908_row12_col2\" class=\"data row12 col2\" >0.8505</td>\n",
       "      <td id=\"T_ac908_row12_col3\" class=\"data row12 col3\" >0.8630</td>\n",
       "      <td id=\"T_ac908_row12_col4\" class=\"data row12 col4\" >0.7269</td>\n",
       "      <td id=\"T_ac908_row12_col5\" class=\"data row12 col5\" >0.7890</td>\n",
       "      <td id=\"T_ac908_row12_col6\" class=\"data row12 col6\" >0.5342</td>\n",
       "      <td id=\"T_ac908_row12_col7\" class=\"data row12 col7\" >0.5443</td>\n",
       "      <td id=\"T_ac908_row12_col8\" class=\"data row12 col8\" >0.5960</td>\n",
       "    </tr>\n",
       "    <tr>\n",
       "      <th id=\"T_ac908_level0_row13\" class=\"row_heading level0 row13\" >dt</th>\n",
       "      <td id=\"T_ac908_row13_col0\" class=\"data row13 col0\" >Decision Tree Classifier</td>\n",
       "      <td id=\"T_ac908_row13_col1\" class=\"data row13 col1\" >0.7476</td>\n",
       "      <td id=\"T_ac908_row13_col2\" class=\"data row13 col2\" >0.7580</td>\n",
       "      <td id=\"T_ac908_row13_col3\" class=\"data row13 col3\" >0.8095</td>\n",
       "      <td id=\"T_ac908_row13_col4\" class=\"data row13 col4\" >0.7231</td>\n",
       "      <td id=\"T_ac908_row13_col5\" class=\"data row13 col5\" >0.7637</td>\n",
       "      <td id=\"T_ac908_row13_col6\" class=\"data row13 col6\" >0.4947</td>\n",
       "      <td id=\"T_ac908_row13_col7\" class=\"data row13 col7\" >0.4986</td>\n",
       "      <td id=\"T_ac908_row13_col8\" class=\"data row13 col8\" >0.4710</td>\n",
       "    </tr>\n",
       "    <tr>\n",
       "      <th id=\"T_ac908_level0_row14\" class=\"row_heading level0 row14\" >qda</th>\n",
       "      <td id=\"T_ac908_row14_col0\" class=\"data row14 col0\" >Quadratic Discriminant Analysis</td>\n",
       "      <td id=\"T_ac908_row14_col1\" class=\"data row14 col1\" >0.5561</td>\n",
       "      <td id=\"T_ac908_row14_col2\" class=\"data row14 col2\" >0.5632</td>\n",
       "      <td id=\"T_ac908_row14_col3\" class=\"data row14 col3\" >0.6287</td>\n",
       "      <td id=\"T_ac908_row14_col4\" class=\"data row14 col4\" >0.5303</td>\n",
       "      <td id=\"T_ac908_row14_col5\" class=\"data row14 col5\" >0.5244</td>\n",
       "      <td id=\"T_ac908_row14_col6\" class=\"data row14 col6\" >0.1117</td>\n",
       "      <td id=\"T_ac908_row14_col7\" class=\"data row14 col7\" >0.1410</td>\n",
       "      <td id=\"T_ac908_row14_col8\" class=\"data row14 col8\" >0.5670</td>\n",
       "    </tr>\n",
       "    <tr>\n",
       "      <th id=\"T_ac908_level0_row15\" class=\"row_heading level0 row15\" >dummy</th>\n",
       "      <td id=\"T_ac908_row15_col0\" class=\"data row15 col0\" >Dummy Classifier</td>\n",
       "      <td id=\"T_ac908_row15_col1\" class=\"data row15 col1\" >0.5037</td>\n",
       "      <td id=\"T_ac908_row15_col2\" class=\"data row15 col2\" >0.5000</td>\n",
       "      <td id=\"T_ac908_row15_col3\" class=\"data row15 col3\" >1.0000</td>\n",
       "      <td id=\"T_ac908_row15_col4\" class=\"data row15 col4\" >0.5037</td>\n",
       "      <td id=\"T_ac908_row15_col5\" class=\"data row15 col5\" >0.6699</td>\n",
       "      <td id=\"T_ac908_row15_col6\" class=\"data row15 col6\" >0.0000</td>\n",
       "      <td id=\"T_ac908_row15_col7\" class=\"data row15 col7\" >0.0000</td>\n",
       "      <td id=\"T_ac908_row15_col8\" class=\"data row15 col8\" >0.5990</td>\n",
       "    </tr>\n",
       "  </tbody>\n",
       "</table>\n"
      ],
      "text/plain": [
       "<pandas.io.formats.style.Styler at 0x1c4a13defa0>"
      ]
     },
     "metadata": {},
     "output_type": "display_data"
    },
    {
     "data": {
      "application/vnd.jupyter.widget-view+json": {
       "model_id": "",
       "version_major": 2,
       "version_minor": 0
      },
      "text/plain": [
       "Processing:   0%|          | 0/69 [00:00<?, ?it/s]"
      ]
     },
     "metadata": {},
     "output_type": "display_data"
    }
   ],
   "source": [
    "from pycaret.classification import setup\n",
    "clf = setup(df.drop(columns=['Name','PassengerId']), target='Transported', preprocess=False)\n",
    "from pycaret.classification import compare_models\n",
    "models = compare_models()"
   ]
  },
  {
   "cell_type": "code",
   "execution_count": 211,
   "id": "36e8ff7f-d525-4d56-912c-a28f52cba235",
   "metadata": {},
   "outputs": [
    {
     "data": {
      "text/html": [],
      "text/plain": [
       "<IPython.core.display.HTML object>"
      ]
     },
     "metadata": {},
     "output_type": "display_data"
    },
    {
     "data": {
      "text/html": [
       "<style type=\"text/css\">\n",
       "#T_0ff3d_row10_col0, #T_0ff3d_row10_col1, #T_0ff3d_row10_col2, #T_0ff3d_row10_col3, #T_0ff3d_row10_col4, #T_0ff3d_row10_col5, #T_0ff3d_row10_col6 {\n",
       "  background: yellow;\n",
       "}\n",
       "</style>\n",
       "<table id=\"T_0ff3d\">\n",
       "  <thead>\n",
       "    <tr>\n",
       "      <th class=\"blank level0\" >&nbsp;</th>\n",
       "      <th id=\"T_0ff3d_level0_col0\" class=\"col_heading level0 col0\" >Accuracy</th>\n",
       "      <th id=\"T_0ff3d_level0_col1\" class=\"col_heading level0 col1\" >AUC</th>\n",
       "      <th id=\"T_0ff3d_level0_col2\" class=\"col_heading level0 col2\" >Recall</th>\n",
       "      <th id=\"T_0ff3d_level0_col3\" class=\"col_heading level0 col3\" >Prec.</th>\n",
       "      <th id=\"T_0ff3d_level0_col4\" class=\"col_heading level0 col4\" >F1</th>\n",
       "      <th id=\"T_0ff3d_level0_col5\" class=\"col_heading level0 col5\" >Kappa</th>\n",
       "      <th id=\"T_0ff3d_level0_col6\" class=\"col_heading level0 col6\" >MCC</th>\n",
       "    </tr>\n",
       "    <tr>\n",
       "      <th class=\"index_name level0\" >Fold</th>\n",
       "      <th class=\"blank col0\" >&nbsp;</th>\n",
       "      <th class=\"blank col1\" >&nbsp;</th>\n",
       "      <th class=\"blank col2\" >&nbsp;</th>\n",
       "      <th class=\"blank col3\" >&nbsp;</th>\n",
       "      <th class=\"blank col4\" >&nbsp;</th>\n",
       "      <th class=\"blank col5\" >&nbsp;</th>\n",
       "      <th class=\"blank col6\" >&nbsp;</th>\n",
       "    </tr>\n",
       "  </thead>\n",
       "  <tbody>\n",
       "    <tr>\n",
       "      <th id=\"T_0ff3d_level0_row0\" class=\"row_heading level0 row0\" >0</th>\n",
       "      <td id=\"T_0ff3d_row0_col0\" class=\"data row0 col0\" >0.8079</td>\n",
       "      <td id=\"T_0ff3d_row0_col1\" class=\"data row0 col1\" >0.8737</td>\n",
       "      <td id=\"T_0ff3d_row0_col2\" class=\"data row0 col2\" >0.8339</td>\n",
       "      <td id=\"T_0ff3d_row0_col3\" class=\"data row0 col3\" >0.7950</td>\n",
       "      <td id=\"T_0ff3d_row0_col4\" class=\"data row0 col4\" >0.8140</td>\n",
       "      <td id=\"T_0ff3d_row0_col5\" class=\"data row0 col5\" >0.6156</td>\n",
       "      <td id=\"T_0ff3d_row0_col6\" class=\"data row0 col6\" >0.6163</td>\n",
       "    </tr>\n",
       "    <tr>\n",
       "      <th id=\"T_0ff3d_level0_row1\" class=\"row_heading level0 row1\" >1</th>\n",
       "      <td id=\"T_0ff3d_row1_col0\" class=\"data row1 col0\" >0.8144</td>\n",
       "      <td id=\"T_0ff3d_row1_col1\" class=\"data row1 col1\" >0.8894</td>\n",
       "      <td id=\"T_0ff3d_row1_col2\" class=\"data row1 col2\" >0.8534</td>\n",
       "      <td id=\"T_0ff3d_row1_col3\" class=\"data row1 col3\" >0.7939</td>\n",
       "      <td id=\"T_0ff3d_row1_col4\" class=\"data row1 col4\" >0.8226</td>\n",
       "      <td id=\"T_0ff3d_row1_col5\" class=\"data row1 col5\" >0.6286</td>\n",
       "      <td id=\"T_0ff3d_row1_col6\" class=\"data row1 col6\" >0.6304</td>\n",
       "    </tr>\n",
       "    <tr>\n",
       "      <th id=\"T_0ff3d_level0_row2\" class=\"row_heading level0 row2\" >2</th>\n",
       "      <td id=\"T_0ff3d_row2_col0\" class=\"data row2 col0\" >0.7882</td>\n",
       "      <td id=\"T_0ff3d_row2_col1\" class=\"data row2 col1\" >0.8778</td>\n",
       "      <td id=\"T_0ff3d_row2_col2\" class=\"data row2 col2\" >0.8274</td>\n",
       "      <td id=\"T_0ff3d_row2_col3\" class=\"data row2 col3\" >0.7697</td>\n",
       "      <td id=\"T_0ff3d_row2_col4\" class=\"data row2 col4\" >0.7975</td>\n",
       "      <td id=\"T_0ff3d_row2_col5\" class=\"data row2 col5\" >0.5761</td>\n",
       "      <td id=\"T_0ff3d_row2_col6\" class=\"data row2 col6\" >0.5777</td>\n",
       "    </tr>\n",
       "    <tr>\n",
       "      <th id=\"T_0ff3d_level0_row3\" class=\"row_heading level0 row3\" >3</th>\n",
       "      <td id=\"T_0ff3d_row3_col0\" class=\"data row3 col0\" >0.8309</td>\n",
       "      <td id=\"T_0ff3d_row3_col1\" class=\"data row3 col1\" >0.9019</td>\n",
       "      <td id=\"T_0ff3d_row3_col2\" class=\"data row3 col2\" >0.8567</td>\n",
       "      <td id=\"T_0ff3d_row3_col3\" class=\"data row3 col3\" >0.8168</td>\n",
       "      <td id=\"T_0ff3d_row3_col4\" class=\"data row3 col4\" >0.8362</td>\n",
       "      <td id=\"T_0ff3d_row3_col5\" class=\"data row3 col5\" >0.6616</td>\n",
       "      <td id=\"T_0ff3d_row3_col6\" class=\"data row3 col6\" >0.6624</td>\n",
       "    </tr>\n",
       "    <tr>\n",
       "      <th id=\"T_0ff3d_level0_row4\" class=\"row_heading level0 row4\" >4</th>\n",
       "      <td id=\"T_0ff3d_row4_col0\" class=\"data row4 col0\" >0.7898</td>\n",
       "      <td id=\"T_0ff3d_row4_col1\" class=\"data row4 col1\" >0.8781</td>\n",
       "      <td id=\"T_0ff3d_row4_col2\" class=\"data row4 col2\" >0.8111</td>\n",
       "      <td id=\"T_0ff3d_row4_col3\" class=\"data row4 col3\" >0.7806</td>\n",
       "      <td id=\"T_0ff3d_row4_col4\" class=\"data row4 col4\" >0.7955</td>\n",
       "      <td id=\"T_0ff3d_row4_col5\" class=\"data row4 col5\" >0.5795</td>\n",
       "      <td id=\"T_0ff3d_row4_col6\" class=\"data row4 col6\" >0.5799</td>\n",
       "    </tr>\n",
       "    <tr>\n",
       "      <th id=\"T_0ff3d_level0_row5\" class=\"row_heading level0 row5\" >5</th>\n",
       "      <td id=\"T_0ff3d_row5_col0\" class=\"data row5 col0\" >0.7697</td>\n",
       "      <td id=\"T_0ff3d_row5_col1\" class=\"data row5 col1\" >0.8620</td>\n",
       "      <td id=\"T_0ff3d_row5_col2\" class=\"data row5 col2\" >0.7876</td>\n",
       "      <td id=\"T_0ff3d_row5_col3\" class=\"data row5 col3\" >0.7627</td>\n",
       "      <td id=\"T_0ff3d_row5_col4\" class=\"data row5 col4\" >0.7749</td>\n",
       "      <td id=\"T_0ff3d_row5_col5\" class=\"data row5 col5\" >0.5394</td>\n",
       "      <td id=\"T_0ff3d_row5_col6\" class=\"data row5 col6\" >0.5396</td>\n",
       "    </tr>\n",
       "    <tr>\n",
       "      <th id=\"T_0ff3d_level0_row6\" class=\"row_heading level0 row6\" >6</th>\n",
       "      <td id=\"T_0ff3d_row6_col0\" class=\"data row6 col0\" >0.8010</td>\n",
       "      <td id=\"T_0ff3d_row6_col1\" class=\"data row6 col1\" >0.8771</td>\n",
       "      <td id=\"T_0ff3d_row6_col2\" class=\"data row6 col2\" >0.8039</td>\n",
       "      <td id=\"T_0ff3d_row6_col3\" class=\"data row6 col3\" >0.8013</td>\n",
       "      <td id=\"T_0ff3d_row6_col4\" class=\"data row6 col4\" >0.8026</td>\n",
       "      <td id=\"T_0ff3d_row6_col5\" class=\"data row6 col5\" >0.6019</td>\n",
       "      <td id=\"T_0ff3d_row6_col6\" class=\"data row6 col6\" >0.6020</td>\n",
       "    </tr>\n",
       "    <tr>\n",
       "      <th id=\"T_0ff3d_level0_row7\" class=\"row_heading level0 row7\" >7</th>\n",
       "      <td id=\"T_0ff3d_row7_col0\" class=\"data row7 col0\" >0.8372</td>\n",
       "      <td id=\"T_0ff3d_row7_col1\" class=\"data row7 col1\" >0.9038</td>\n",
       "      <td id=\"T_0ff3d_row7_col2\" class=\"data row7 col2\" >0.8497</td>\n",
       "      <td id=\"T_0ff3d_row7_col3\" class=\"data row7 col3\" >0.8307</td>\n",
       "      <td id=\"T_0ff3d_row7_col4\" class=\"data row7 col4\" >0.8401</td>\n",
       "      <td id=\"T_0ff3d_row7_col5\" class=\"data row7 col5\" >0.6743</td>\n",
       "      <td id=\"T_0ff3d_row7_col6\" class=\"data row7 col6\" >0.6745</td>\n",
       "    </tr>\n",
       "    <tr>\n",
       "      <th id=\"T_0ff3d_level0_row8\" class=\"row_heading level0 row8\" >8</th>\n",
       "      <td id=\"T_0ff3d_row8_col0\" class=\"data row8 col0\" >0.7993</td>\n",
       "      <td id=\"T_0ff3d_row8_col1\" class=\"data row8 col1\" >0.8723</td>\n",
       "      <td id=\"T_0ff3d_row8_col2\" class=\"data row8 col2\" >0.8137</td>\n",
       "      <td id=\"T_0ff3d_row8_col3\" class=\"data row8 col3\" >0.7930</td>\n",
       "      <td id=\"T_0ff3d_row8_col4\" class=\"data row8 col4\" >0.8032</td>\n",
       "      <td id=\"T_0ff3d_row8_col5\" class=\"data row8 col5\" >0.5986</td>\n",
       "      <td id=\"T_0ff3d_row8_col6\" class=\"data row8 col6\" >0.5988</td>\n",
       "    </tr>\n",
       "    <tr>\n",
       "      <th id=\"T_0ff3d_level0_row9\" class=\"row_heading level0 row9\" >9</th>\n",
       "      <td id=\"T_0ff3d_row9_col0\" class=\"data row9 col0\" >0.7928</td>\n",
       "      <td id=\"T_0ff3d_row9_col1\" class=\"data row9 col1\" >0.8824</td>\n",
       "      <td id=\"T_0ff3d_row9_col2\" class=\"data row9 col2\" >0.8072</td>\n",
       "      <td id=\"T_0ff3d_row9_col3\" class=\"data row9 col3\" >0.7866</td>\n",
       "      <td id=\"T_0ff3d_row9_col4\" class=\"data row9 col4\" >0.7968</td>\n",
       "      <td id=\"T_0ff3d_row9_col5\" class=\"data row9 col5\" >0.5854</td>\n",
       "      <td id=\"T_0ff3d_row9_col6\" class=\"data row9 col6\" >0.5856</td>\n",
       "    </tr>\n",
       "    <tr>\n",
       "      <th id=\"T_0ff3d_level0_row10\" class=\"row_heading level0 row10\" >Mean</th>\n",
       "      <td id=\"T_0ff3d_row10_col0\" class=\"data row10 col0\" >0.8031</td>\n",
       "      <td id=\"T_0ff3d_row10_col1\" class=\"data row10 col1\" >0.8818</td>\n",
       "      <td id=\"T_0ff3d_row10_col2\" class=\"data row10 col2\" >0.8245</td>\n",
       "      <td id=\"T_0ff3d_row10_col3\" class=\"data row10 col3\" >0.7930</td>\n",
       "      <td id=\"T_0ff3d_row10_col4\" class=\"data row10 col4\" >0.8083</td>\n",
       "      <td id=\"T_0ff3d_row10_col5\" class=\"data row10 col5\" >0.6061</td>\n",
       "      <td id=\"T_0ff3d_row10_col6\" class=\"data row10 col6\" >0.6067</td>\n",
       "    </tr>\n",
       "    <tr>\n",
       "      <th id=\"T_0ff3d_level0_row11\" class=\"row_heading level0 row11\" >Std</th>\n",
       "      <td id=\"T_0ff3d_row11_col0\" class=\"data row11 col0\" >0.0193</td>\n",
       "      <td id=\"T_0ff3d_row11_col1\" class=\"data row11 col1\" >0.0124</td>\n",
       "      <td id=\"T_0ff3d_row11_col2\" class=\"data row11 col2\" >0.0223</td>\n",
       "      <td id=\"T_0ff3d_row11_col3\" class=\"data row11 col3\" >0.0193</td>\n",
       "      <td id=\"T_0ff3d_row11_col4\" class=\"data row11 col4\" >0.0190</td>\n",
       "      <td id=\"T_0ff3d_row11_col5\" class=\"data row11 col5\" >0.0386</td>\n",
       "      <td id=\"T_0ff3d_row11_col6\" class=\"data row11 col6\" >0.0386</td>\n",
       "    </tr>\n",
       "  </tbody>\n",
       "</table>\n"
      ],
      "text/plain": [
       "<pandas.io.formats.style.Styler at 0x1c4a14c8bb0>"
      ]
     },
     "metadata": {},
     "output_type": "display_data"
    },
    {
     "data": {
      "application/vnd.jupyter.widget-view+json": {
       "model_id": "",
       "version_major": 2,
       "version_minor": 0
      },
      "text/plain": [
       "Processing:   0%|          | 0/4 [00:00<?, ?it/s]"
      ]
     },
     "metadata": {},
     "output_type": "display_data"
    }
   ],
   "source": [
    "from pycaret.classification import *\n",
    "lightgbm = create_model('lightgbm')"
   ]
  },
  {
   "cell_type": "code",
   "execution_count": 212,
   "id": "beec560c-fede-41ed-bc7f-357c589865fd",
   "metadata": {},
   "outputs": [
    {
     "data": {
      "text/html": [],
      "text/plain": [
       "<IPython.core.display.HTML object>"
      ]
     },
     "metadata": {},
     "output_type": "display_data"
    },
    {
     "data": {
      "text/html": [
       "<div>\n",
       "<style scoped>\n",
       "    .dataframe tbody tr th:only-of-type {\n",
       "        vertical-align: middle;\n",
       "    }\n",
       "\n",
       "    .dataframe tbody tr th {\n",
       "        vertical-align: top;\n",
       "    }\n",
       "\n",
       "    .dataframe thead th {\n",
       "        text-align: right;\n",
       "    }\n",
       "</style>\n",
       "<table border=\"1\" class=\"dataframe\">\n",
       "  <thead>\n",
       "    <tr style=\"text-align: right;\">\n",
       "      <th></th>\n",
       "      <th>CryoSleep</th>\n",
       "      <th>Age</th>\n",
       "      <th>VIP</th>\n",
       "      <th>RoomService</th>\n",
       "      <th>FoodCourt</th>\n",
       "      <th>ShoppingMall</th>\n",
       "      <th>Spa</th>\n",
       "      <th>VRDeck</th>\n",
       "      <th>HomePlanet_Earth</th>\n",
       "      <th>HomePlanet_Europa</th>\n",
       "      <th>HomePlanet_Mars</th>\n",
       "      <th>Cabin_deck</th>\n",
       "      <th>Cabin_side</th>\n",
       "      <th>Destination_55 Cancri e</th>\n",
       "      <th>Destination_PSO J318.5-22</th>\n",
       "      <th>Destination_TRAPPIST-1e</th>\n",
       "      <th>Transported</th>\n",
       "      <th>prediction_score</th>\n",
       "    </tr>\n",
       "  </thead>\n",
       "  <tbody>\n",
       "    <tr>\n",
       "      <th>0</th>\n",
       "      <td>1</td>\n",
       "      <td>1.000000</td>\n",
       "      <td>0</td>\n",
       "      <td>0.000000</td>\n",
       "      <td>0.000000</td>\n",
       "      <td>0.000000</td>\n",
       "      <td>0.000000</td>\n",
       "      <td>0.000000</td>\n",
       "      <td>1</td>\n",
       "      <td>0</td>\n",
       "      <td>0</td>\n",
       "      <td>5</td>\n",
       "      <td>1</td>\n",
       "      <td>0</td>\n",
       "      <td>0</td>\n",
       "      <td>1</td>\n",
       "      <td>1</td>\n",
       "      <td>0.6999</td>\n",
       "    </tr>\n",
       "    <tr>\n",
       "      <th>1</th>\n",
       "      <td>0</td>\n",
       "      <td>0.860703</td>\n",
       "      <td>0</td>\n",
       "      <td>0.000000</td>\n",
       "      <td>0.001274</td>\n",
       "      <td>0.000000</td>\n",
       "      <td>0.509106</td>\n",
       "      <td>0.000000</td>\n",
       "      <td>1</td>\n",
       "      <td>0</td>\n",
       "      <td>0</td>\n",
       "      <td>4</td>\n",
       "      <td>1</td>\n",
       "      <td>0</td>\n",
       "      <td>0</td>\n",
       "      <td>1</td>\n",
       "      <td>0</td>\n",
       "      <td>0.9871</td>\n",
       "    </tr>\n",
       "    <tr>\n",
       "      <th>2</th>\n",
       "      <td>0</td>\n",
       "      <td>1.000000</td>\n",
       "      <td>0</td>\n",
       "      <td>0.000000</td>\n",
       "      <td>0.000000</td>\n",
       "      <td>0.000000</td>\n",
       "      <td>0.000000</td>\n",
       "      <td>0.000000</td>\n",
       "      <td>0</td>\n",
       "      <td>1</td>\n",
       "      <td>0</td>\n",
       "      <td>2</td>\n",
       "      <td>1</td>\n",
       "      <td>1</td>\n",
       "      <td>0</td>\n",
       "      <td>0</td>\n",
       "      <td>1</td>\n",
       "      <td>0.9897</td>\n",
       "    </tr>\n",
       "    <tr>\n",
       "      <th>3</th>\n",
       "      <td>0</td>\n",
       "      <td>0.876129</td>\n",
       "      <td>0</td>\n",
       "      <td>0.000000</td>\n",
       "      <td>0.479410</td>\n",
       "      <td>0.000000</td>\n",
       "      <td>0.016613</td>\n",
       "      <td>0.047842</td>\n",
       "      <td>0</td>\n",
       "      <td>1</td>\n",
       "      <td>0</td>\n",
       "      <td>2</td>\n",
       "      <td>1</td>\n",
       "      <td>0</td>\n",
       "      <td>0</td>\n",
       "      <td>1</td>\n",
       "      <td>1</td>\n",
       "      <td>0.9586</td>\n",
       "    </tr>\n",
       "    <tr>\n",
       "      <th>4</th>\n",
       "      <td>0</td>\n",
       "      <td>0.957163</td>\n",
       "      <td>0</td>\n",
       "      <td>0.003269</td>\n",
       "      <td>0.000000</td>\n",
       "      <td>0.289532</td>\n",
       "      <td>0.000000</td>\n",
       "      <td>0.000000</td>\n",
       "      <td>1</td>\n",
       "      <td>0</td>\n",
       "      <td>0</td>\n",
       "      <td>4</td>\n",
       "      <td>1</td>\n",
       "      <td>0</td>\n",
       "      <td>0</td>\n",
       "      <td>1</td>\n",
       "      <td>1</td>\n",
       "      <td>0.9314</td>\n",
       "    </tr>\n",
       "    <tr>\n",
       "      <th>...</th>\n",
       "      <td>...</td>\n",
       "      <td>...</td>\n",
       "      <td>...</td>\n",
       "      <td>...</td>\n",
       "      <td>...</td>\n",
       "      <td>...</td>\n",
       "      <td>...</td>\n",
       "      <td>...</td>\n",
       "      <td>...</td>\n",
       "      <td>...</td>\n",
       "      <td>...</td>\n",
       "      <td>...</td>\n",
       "      <td>...</td>\n",
       "      <td>...</td>\n",
       "      <td>...</td>\n",
       "      <td>...</td>\n",
       "      <td>...</td>\n",
       "      <td>...</td>\n",
       "    </tr>\n",
       "    <tr>\n",
       "      <th>4272</th>\n",
       "      <td>1</td>\n",
       "      <td>1.000000</td>\n",
       "      <td>0</td>\n",
       "      <td>0.000000</td>\n",
       "      <td>0.000000</td>\n",
       "      <td>0.000000</td>\n",
       "      <td>0.000000</td>\n",
       "      <td>0.000000</td>\n",
       "      <td>1</td>\n",
       "      <td>0</td>\n",
       "      <td>0</td>\n",
       "      <td>5</td>\n",
       "      <td>1</td>\n",
       "      <td>0</td>\n",
       "      <td>0</td>\n",
       "      <td>1</td>\n",
       "      <td>1</td>\n",
       "      <td>0.6999</td>\n",
       "    </tr>\n",
       "    <tr>\n",
       "      <th>4273</th>\n",
       "      <td>0</td>\n",
       "      <td>0.997938</td>\n",
       "      <td>0</td>\n",
       "      <td>0.000000</td>\n",
       "      <td>0.062908</td>\n",
       "      <td>0.003848</td>\n",
       "      <td>0.000946</td>\n",
       "      <td>0.012136</td>\n",
       "      <td>1</td>\n",
       "      <td>0</td>\n",
       "      <td>0</td>\n",
       "      <td>4</td>\n",
       "      <td>0</td>\n",
       "      <td>0</td>\n",
       "      <td>0</td>\n",
       "      <td>1</td>\n",
       "      <td>0</td>\n",
       "      <td>0.6387</td>\n",
       "    </tr>\n",
       "    <tr>\n",
       "      <th>4274</th>\n",
       "      <td>0</td>\n",
       "      <td>1.000000</td>\n",
       "      <td>0</td>\n",
       "      <td>0.000000</td>\n",
       "      <td>0.000000</td>\n",
       "      <td>0.000000</td>\n",
       "      <td>0.000000</td>\n",
       "      <td>0.000000</td>\n",
       "      <td>0</td>\n",
       "      <td>0</td>\n",
       "      <td>1</td>\n",
       "      <td>2</td>\n",
       "      <td>0</td>\n",
       "      <td>1</td>\n",
       "      <td>0</td>\n",
       "      <td>0</td>\n",
       "      <td>1</td>\n",
       "      <td>0.6419</td>\n",
       "    </tr>\n",
       "    <tr>\n",
       "      <th>4275</th>\n",
       "      <td>0</td>\n",
       "      <td>0.958447</td>\n",
       "      <td>0</td>\n",
       "      <td>0.000000</td>\n",
       "      <td>0.278522</td>\n",
       "      <td>0.000000</td>\n",
       "      <td>0.000000</td>\n",
       "      <td>0.061677</td>\n",
       "      <td>0</td>\n",
       "      <td>1</td>\n",
       "      <td>0</td>\n",
       "      <td>2</td>\n",
       "      <td>0</td>\n",
       "      <td>0</td>\n",
       "      <td>0</td>\n",
       "      <td>1</td>\n",
       "      <td>1</td>\n",
       "      <td>0.7694</td>\n",
       "    </tr>\n",
       "    <tr>\n",
       "      <th>4276</th>\n",
       "      <td>0</td>\n",
       "      <td>1.000000</td>\n",
       "      <td>0</td>\n",
       "      <td>0.000000</td>\n",
       "      <td>0.000000</td>\n",
       "      <td>0.000000</td>\n",
       "      <td>0.000000</td>\n",
       "      <td>0.000000</td>\n",
       "      <td>1</td>\n",
       "      <td>0</td>\n",
       "      <td>0</td>\n",
       "      <td>5</td>\n",
       "      <td>1</td>\n",
       "      <td>0</td>\n",
       "      <td>1</td>\n",
       "      <td>0</td>\n",
       "      <td>1</td>\n",
       "      <td>0.5860</td>\n",
       "    </tr>\n",
       "  </tbody>\n",
       "</table>\n",
       "<p>4277 rows × 18 columns</p>\n",
       "</div>"
      ],
      "text/plain": [
       "      CryoSleep       Age  VIP  RoomService  FoodCourt  ShoppingMall  \\\n",
       "0             1  1.000000    0     0.000000   0.000000      0.000000   \n",
       "1             0  0.860703    0     0.000000   0.001274      0.000000   \n",
       "2             0  1.000000    0     0.000000   0.000000      0.000000   \n",
       "3             0  0.876129    0     0.000000   0.479410      0.000000   \n",
       "4             0  0.957163    0     0.003269   0.000000      0.289532   \n",
       "...         ...       ...  ...          ...        ...           ...   \n",
       "4272          1  1.000000    0     0.000000   0.000000      0.000000   \n",
       "4273          0  0.997938    0     0.000000   0.062908      0.003848   \n",
       "4274          0  1.000000    0     0.000000   0.000000      0.000000   \n",
       "4275          0  0.958447    0     0.000000   0.278522      0.000000   \n",
       "4276          0  1.000000    0     0.000000   0.000000      0.000000   \n",
       "\n",
       "           Spa    VRDeck  HomePlanet_Earth  HomePlanet_Europa  \\\n",
       "0     0.000000  0.000000                 1                  0   \n",
       "1     0.509106  0.000000                 1                  0   \n",
       "2     0.000000  0.000000                 0                  1   \n",
       "3     0.016613  0.047842                 0                  1   \n",
       "4     0.000000  0.000000                 1                  0   \n",
       "...        ...       ...               ...                ...   \n",
       "4272  0.000000  0.000000                 1                  0   \n",
       "4273  0.000946  0.012136                 1                  0   \n",
       "4274  0.000000  0.000000                 0                  0   \n",
       "4275  0.000000  0.061677                 0                  1   \n",
       "4276  0.000000  0.000000                 1                  0   \n",
       "\n",
       "      HomePlanet_Mars  Cabin_deck  Cabin_side  Destination_55 Cancri e  \\\n",
       "0                   0           5           1                        0   \n",
       "1                   0           4           1                        0   \n",
       "2                   0           2           1                        1   \n",
       "3                   0           2           1                        0   \n",
       "4                   0           4           1                        0   \n",
       "...               ...         ...         ...                      ...   \n",
       "4272                0           5           1                        0   \n",
       "4273                0           4           0                        0   \n",
       "4274                1           2           0                        1   \n",
       "4275                0           2           0                        0   \n",
       "4276                0           5           1                        0   \n",
       "\n",
       "      Destination_PSO J318.5-22  Destination_TRAPPIST-1e  Transported  \\\n",
       "0                             0                        1            1   \n",
       "1                             0                        1            0   \n",
       "2                             0                        0            1   \n",
       "3                             0                        1            1   \n",
       "4                             0                        1            1   \n",
       "...                         ...                      ...          ...   \n",
       "4272                          0                        1            1   \n",
       "4273                          0                        1            0   \n",
       "4274                          0                        0            1   \n",
       "4275                          0                        1            1   \n",
       "4276                          1                        0            1   \n",
       "\n",
       "      prediction_score  \n",
       "0               0.6999  \n",
       "1               0.9871  \n",
       "2               0.9897  \n",
       "3               0.9586  \n",
       "4               0.9314  \n",
       "...                ...  \n",
       "4272            0.6999  \n",
       "4273            0.6387  \n",
       "4274            0.6419  \n",
       "4275            0.7694  \n",
       "4276            0.5860  \n",
       "\n",
       "[4277 rows x 18 columns]"
      ]
     },
     "execution_count": 212,
     "metadata": {},
     "output_type": "execute_result"
    }
   ],
   "source": [
    "from pycaret.classification import predict_model\n",
    "predicts=predict_model(lightgbm, data=df_test.drop(columns=['PassengerId','Name']))\n",
    "predicts = predicts.rename(columns={'prediction_label': 'Transported'})\n",
    "predicts"
   ]
  },
  {
   "cell_type": "code",
   "execution_count": 213,
   "id": "c6c49298-ceac-4c4e-9844-52a35fd8c4ba",
   "metadata": {},
   "outputs": [],
   "source": [
    "predicts[\"PassengerId\"]=df_test[\"PassengerId\"]\n",
    "submission=predicts[[\"PassengerId\",\"Transported\"]]\n",
    "submission['Transported'] = submission['Transported'].replace({1: 'True', 0: 'False'})\n",
    "df['Transported'] = df['Transported'].astype(str)"
   ]
  },
  {
   "cell_type": "code",
   "execution_count": 214,
   "id": "74ca4408-f8d3-4231-9879-ba28b4396092",
   "metadata": {},
   "outputs": [],
   "source": [
    "submission.to_csv('submission_pycaretlgbm_norm.csv', index=False)"
   ]
  },
  {
   "cell_type": "code",
   "execution_count": 191,
   "id": "7c423112-df8b-460b-b64d-362a34efdabc",
   "metadata": {},
   "outputs": [
    {
     "data": {
      "text/html": [],
      "text/plain": [
       "<IPython.core.display.HTML object>"
      ]
     },
     "metadata": {},
     "output_type": "display_data"
    },
    {
     "data": {
      "image/png": "[encoded data removed]",
      "text/plain": [
       "<Figure size 432x288 with 1 Axes>"
      ]
     },
     "metadata": {
      "needs_background": "light"
     },
     "output_type": "display_data"
    }
   ],
   "source": [
    "plot_model(catboost, plot='learning')"
   ]
  },
  {
   "cell_type": "code",
   "execution_count": 192,
   "id": "7785e5c5-bb0f-4040-a3f7-9a44507e7fcf",
   "metadata": {},
   "outputs": [
    {
     "data": {
      "text/html": [],
      "text/plain": [
       "<IPython.core.display.HTML object>"
      ]
     },
     "metadata": {},
     "output_type": "display_data"
    },
    {
     "data": {
      "image/png": "[encoded data removed]",
      "text/plain": [
       "<Figure size 432x288 with 1 Axes>"
      ]
     },
     "metadata": {
      "needs_background": "light"
     },
     "output_type": "display_data"
    }
   ],
   "source": [
    "plot_model(catboost, plot='auc')"
   ]
  },
  {
   "cell_type": "code",
   "execution_count": 193,
   "id": "ef64133a-62fa-42f1-8ca4-cd028184f6e3",
   "metadata": {},
   "outputs": [
    {
     "data": {
      "text/html": [],
      "text/plain": [
       "<IPython.core.display.HTML object>"
      ]
     },
     "metadata": {},
     "output_type": "display_data"
    },
    {
     "data": {
      "image/png": "[encoded data removed]",
      "text/plain": [
       "<Figure size 432x288 with 1 Axes>"
      ]
     },
     "metadata": {
      "needs_background": "light"
     },
     "output_type": "display_data"
    }
   ],
   "source": [
    "plot_model(catboost, plot='confusion_matrix')"
   ]
  },
  {
   "cell_type": "code",
   "execution_count": 194,
   "id": "b56a9676-e67e-4ec1-9383-ce4539abf22f",
   "metadata": {},
   "outputs": [
    {
     "data": {
      "text/html": [],
      "text/plain": [
       "<IPython.core.display.HTML object>"
      ]
     },
     "metadata": {},
     "output_type": "display_data"
    },
    {
     "data": {
      "image/png": "[encoded data removed]",
      "text/plain": [
       "<Figure size 432x288 with 2 Axes>"
      ]
     },
     "metadata": {
      "needs_background": "light"
     },
     "output_type": "display_data"
    }
   ],
   "source": [
    "plot_model(catboost, plot='class_report')"
   ]
  },
  {
   "cell_type": "code",
   "execution_count": 195,
   "id": "1cd92939-5859-483d-a4d8-e5653303f521",
   "metadata": {},
   "outputs": [],
   "source": [
    "catboost_regular_norm = create_model('catboost', \n",
    "                        fold = 10,\n",
    "                        verbose = False,\n",
    "                        l2_leaf_reg = 3)"
   ]
  },
  {
   "cell_type": "code",
   "execution_count": 196,
   "id": "4870ff5e-5ef8-41e1-833c-b0734cd856ae",
   "metadata": {},
   "outputs": [
    {
     "data": {
      "text/html": [],
      "text/plain": [
       "<IPython.core.display.HTML object>"
      ]
     },
     "metadata": {},
     "output_type": "display_data"
    },
    {
     "data": {
      "image/png": "[encoded data removed]",
      "text/plain": [
       "<Figure size 432x288 with 1 Axes>"
      ]
     },
     "metadata": {
      "needs_background": "light"
     },
     "output_type": "display_data"
    }
   ],
   "source": [
    "plot_model(catboost_regular_norm, plot='learning')"
   ]
  },
  {
   "cell_type": "code",
   "execution_count": 197,
   "id": "2cb651b0-2c26-4651-ad77-418c96cf9f9c",
   "metadata": {},
   "outputs": [
    {
     "data": {
      "text/html": [],
      "text/plain": [
       "<IPython.core.display.HTML object>"
      ]
     },
     "metadata": {},
     "output_type": "display_data"
    },
    {
     "data": {
      "image/png": "[encoded data removed]",
      "text/plain": [
       "<Figure size 432x288 with 1 Axes>"
      ]
     },
     "metadata": {
      "needs_background": "light"
     },
     "output_type": "display_data"
    }
   ],
   "source": [
    "plot_model(catboost_regular_norm, plot='auc')"
   ]
  },
  {
   "cell_type": "code",
   "execution_count": 198,
   "id": "f323f4d8-2ff9-4f87-92e8-27c6057d8baf",
   "metadata": {},
   "outputs": [
    {
     "data": {
      "text/html": [],
      "text/plain": [
       "<IPython.core.display.HTML object>"
      ]
     },
     "metadata": {},
     "output_type": "display_data"
    },
    {
     "data": {
      "image/png": "[encoded data removed]",
      "text/plain": [
       "<Figure size 432x288 with 1 Axes>"
      ]
     },
     "metadata": {
      "needs_background": "light"
     },
     "output_type": "display_data"
    }
   ],
   "source": [
    "plot_model(catboost_regular_norm, plot='confusion_matrix')"
   ]
  },
  {
   "cell_type": "code",
   "execution_count": 199,
   "id": "6a3c12c2-1342-4503-adf7-26f3bc02f6ec",
   "metadata": {},
   "outputs": [
    {
     "data": {
      "text/html": [],
      "text/plain": [
       "<IPython.core.display.HTML object>"
      ]
     },
     "metadata": {},
     "output_type": "display_data"
    },
    {
     "data": {
      "image/png": "[encoded data removed]",
      "text/plain": [
       "<Figure size 432x288 with 2 Axes>"
      ]
     },
     "metadata": {
      "needs_background": "light"
     },
     "output_type": "display_data"
    }
   ],
   "source": [
    "plot_model(catboost_regular_norm, plot='class_report')"
   ]
  },
  {
   "cell_type": "code",
   "execution_count": 200,
   "id": "b564292b-25dc-4f60-98ef-bfc5021e8f45",
   "metadata": {},
   "outputs": [
    {
     "data": {
      "text/html": [],
      "text/plain": [
       "<IPython.core.display.HTML object>"
      ]
     },
     "metadata": {},
     "output_type": "display_data"
    },
    {
     "data": {
      "text/html": [
       "<div>\n",
       "<style scoped>\n",
       "    .dataframe tbody tr th:only-of-type {\n",
       "        vertical-align: middle;\n",
       "    }\n",
       "\n",
       "    .dataframe tbody tr th {\n",
       "        vertical-align: top;\n",
       "    }\n",
       "\n",
       "    .dataframe thead th {\n",
       "        text-align: right;\n",
       "    }\n",
       "</style>\n",
       "<table border=\"1\" class=\"dataframe\">\n",
       "  <thead>\n",
       "    <tr style=\"text-align: right;\">\n",
       "      <th></th>\n",
       "      <th>CryoSleep</th>\n",
       "      <th>Age</th>\n",
       "      <th>VIP</th>\n",
       "      <th>RoomService</th>\n",
       "      <th>FoodCourt</th>\n",
       "      <th>ShoppingMall</th>\n",
       "      <th>Spa</th>\n",
       "      <th>VRDeck</th>\n",
       "      <th>HomePlanet_Earth</th>\n",
       "      <th>HomePlanet_Europa</th>\n",
       "      <th>HomePlanet_Mars</th>\n",
       "      <th>Cabin_deck</th>\n",
       "      <th>Cabin_side</th>\n",
       "      <th>Destination_55 Cancri e</th>\n",
       "      <th>Destination_PSO J318.5-22</th>\n",
       "      <th>Destination_TRAPPIST-1e</th>\n",
       "      <th>Transported</th>\n",
       "      <th>prediction_score</th>\n",
       "    </tr>\n",
       "  </thead>\n",
       "  <tbody>\n",
       "    <tr>\n",
       "      <th>0</th>\n",
       "      <td>1</td>\n",
       "      <td>1.000000</td>\n",
       "      <td>0</td>\n",
       "      <td>0.000000</td>\n",
       "      <td>0.000000</td>\n",
       "      <td>0.000000</td>\n",
       "      <td>0.000000</td>\n",
       "      <td>0.000000</td>\n",
       "      <td>1</td>\n",
       "      <td>0</td>\n",
       "      <td>0</td>\n",
       "      <td>5</td>\n",
       "      <td>1</td>\n",
       "      <td>0</td>\n",
       "      <td>0</td>\n",
       "      <td>1</td>\n",
       "      <td>1</td>\n",
       "      <td>0.7008</td>\n",
       "    </tr>\n",
       "    <tr>\n",
       "      <th>1</th>\n",
       "      <td>0</td>\n",
       "      <td>0.860703</td>\n",
       "      <td>0</td>\n",
       "      <td>0.000000</td>\n",
       "      <td>0.001274</td>\n",
       "      <td>0.000000</td>\n",
       "      <td>0.509106</td>\n",
       "      <td>0.000000</td>\n",
       "      <td>1</td>\n",
       "      <td>0</td>\n",
       "      <td>0</td>\n",
       "      <td>4</td>\n",
       "      <td>1</td>\n",
       "      <td>0</td>\n",
       "      <td>0</td>\n",
       "      <td>1</td>\n",
       "      <td>0</td>\n",
       "      <td>0.9907</td>\n",
       "    </tr>\n",
       "    <tr>\n",
       "      <th>2</th>\n",
       "      <td>0</td>\n",
       "      <td>1.000000</td>\n",
       "      <td>0</td>\n",
       "      <td>0.000000</td>\n",
       "      <td>0.000000</td>\n",
       "      <td>0.000000</td>\n",
       "      <td>0.000000</td>\n",
       "      <td>0.000000</td>\n",
       "      <td>0</td>\n",
       "      <td>1</td>\n",
       "      <td>0</td>\n",
       "      <td>2</td>\n",
       "      <td>1</td>\n",
       "      <td>1</td>\n",
       "      <td>0</td>\n",
       "      <td>0</td>\n",
       "      <td>1</td>\n",
       "      <td>0.9719</td>\n",
       "    </tr>\n",
       "    <tr>\n",
       "      <th>3</th>\n",
       "      <td>0</td>\n",
       "      <td>0.876129</td>\n",
       "      <td>0</td>\n",
       "      <td>0.000000</td>\n",
       "      <td>0.479410</td>\n",
       "      <td>0.000000</td>\n",
       "      <td>0.016613</td>\n",
       "      <td>0.047842</td>\n",
       "      <td>0</td>\n",
       "      <td>1</td>\n",
       "      <td>0</td>\n",
       "      <td>2</td>\n",
       "      <td>1</td>\n",
       "      <td>0</td>\n",
       "      <td>0</td>\n",
       "      <td>1</td>\n",
       "      <td>1</td>\n",
       "      <td>0.9785</td>\n",
       "    </tr>\n",
       "    <tr>\n",
       "      <th>4</th>\n",
       "      <td>0</td>\n",
       "      <td>0.957163</td>\n",
       "      <td>0</td>\n",
       "      <td>0.003269</td>\n",
       "      <td>0.000000</td>\n",
       "      <td>0.289532</td>\n",
       "      <td>0.000000</td>\n",
       "      <td>0.000000</td>\n",
       "      <td>1</td>\n",
       "      <td>0</td>\n",
       "      <td>0</td>\n",
       "      <td>4</td>\n",
       "      <td>1</td>\n",
       "      <td>0</td>\n",
       "      <td>0</td>\n",
       "      <td>1</td>\n",
       "      <td>1</td>\n",
       "      <td>0.9508</td>\n",
       "    </tr>\n",
       "    <tr>\n",
       "      <th>...</th>\n",
       "      <td>...</td>\n",
       "      <td>...</td>\n",
       "      <td>...</td>\n",
       "      <td>...</td>\n",
       "      <td>...</td>\n",
       "      <td>...</td>\n",
       "      <td>...</td>\n",
       "      <td>...</td>\n",
       "      <td>...</td>\n",
       "      <td>...</td>\n",
       "      <td>...</td>\n",
       "      <td>...</td>\n",
       "      <td>...</td>\n",
       "      <td>...</td>\n",
       "      <td>...</td>\n",
       "      <td>...</td>\n",
       "      <td>...</td>\n",
       "      <td>...</td>\n",
       "    </tr>\n",
       "    <tr>\n",
       "      <th>4272</th>\n",
       "      <td>1</td>\n",
       "      <td>1.000000</td>\n",
       "      <td>0</td>\n",
       "      <td>0.000000</td>\n",
       "      <td>0.000000</td>\n",
       "      <td>0.000000</td>\n",
       "      <td>0.000000</td>\n",
       "      <td>0.000000</td>\n",
       "      <td>1</td>\n",
       "      <td>0</td>\n",
       "      <td>0</td>\n",
       "      <td>5</td>\n",
       "      <td>1</td>\n",
       "      <td>0</td>\n",
       "      <td>0</td>\n",
       "      <td>1</td>\n",
       "      <td>1</td>\n",
       "      <td>0.7008</td>\n",
       "    </tr>\n",
       "    <tr>\n",
       "      <th>4273</th>\n",
       "      <td>0</td>\n",
       "      <td>0.997938</td>\n",
       "      <td>0</td>\n",
       "      <td>0.000000</td>\n",
       "      <td>0.062908</td>\n",
       "      <td>0.003848</td>\n",
       "      <td>0.000946</td>\n",
       "      <td>0.012136</td>\n",
       "      <td>1</td>\n",
       "      <td>0</td>\n",
       "      <td>0</td>\n",
       "      <td>4</td>\n",
       "      <td>0</td>\n",
       "      <td>0</td>\n",
       "      <td>0</td>\n",
       "      <td>1</td>\n",
       "      <td>0</td>\n",
       "      <td>0.5409</td>\n",
       "    </tr>\n",
       "    <tr>\n",
       "      <th>4274</th>\n",
       "      <td>0</td>\n",
       "      <td>1.000000</td>\n",
       "      <td>0</td>\n",
       "      <td>0.000000</td>\n",
       "      <td>0.000000</td>\n",
       "      <td>0.000000</td>\n",
       "      <td>0.000000</td>\n",
       "      <td>0.000000</td>\n",
       "      <td>0</td>\n",
       "      <td>0</td>\n",
       "      <td>1</td>\n",
       "      <td>2</td>\n",
       "      <td>0</td>\n",
       "      <td>1</td>\n",
       "      <td>0</td>\n",
       "      <td>0</td>\n",
       "      <td>1</td>\n",
       "      <td>0.6134</td>\n",
       "    </tr>\n",
       "    <tr>\n",
       "      <th>4275</th>\n",
       "      <td>0</td>\n",
       "      <td>0.958447</td>\n",
       "      <td>0</td>\n",
       "      <td>0.000000</td>\n",
       "      <td>0.278522</td>\n",
       "      <td>0.000000</td>\n",
       "      <td>0.000000</td>\n",
       "      <td>0.061677</td>\n",
       "      <td>0</td>\n",
       "      <td>1</td>\n",
       "      <td>0</td>\n",
       "      <td>2</td>\n",
       "      <td>0</td>\n",
       "      <td>0</td>\n",
       "      <td>0</td>\n",
       "      <td>1</td>\n",
       "      <td>1</td>\n",
       "      <td>0.8343</td>\n",
       "    </tr>\n",
       "    <tr>\n",
       "      <th>4276</th>\n",
       "      <td>0</td>\n",
       "      <td>1.000000</td>\n",
       "      <td>0</td>\n",
       "      <td>0.000000</td>\n",
       "      <td>0.000000</td>\n",
       "      <td>0.000000</td>\n",
       "      <td>0.000000</td>\n",
       "      <td>0.000000</td>\n",
       "      <td>1</td>\n",
       "      <td>0</td>\n",
       "      <td>0</td>\n",
       "      <td>5</td>\n",
       "      <td>1</td>\n",
       "      <td>0</td>\n",
       "      <td>1</td>\n",
       "      <td>0</td>\n",
       "      <td>1</td>\n",
       "      <td>0.5516</td>\n",
       "    </tr>\n",
       "  </tbody>\n",
       "</table>\n",
       "<p>4277 rows × 18 columns</p>\n",
       "</div>"
      ],
      "text/plain": [
       "      CryoSleep       Age  VIP  RoomService  FoodCourt  ShoppingMall  \\\n",
       "0             1  1.000000    0     0.000000   0.000000      0.000000   \n",
       "1             0  0.860703    0     0.000000   0.001274      0.000000   \n",
       "2             0  1.000000    0     0.000000   0.000000      0.000000   \n",
       "3             0  0.876129    0     0.000000   0.479410      0.000000   \n",
       "4             0  0.957163    0     0.003269   0.000000      0.289532   \n",
       "...         ...       ...  ...          ...        ...           ...   \n",
       "4272          1  1.000000    0     0.000000   0.000000      0.000000   \n",
       "4273          0  0.997938    0     0.000000   0.062908      0.003848   \n",
       "4274          0  1.000000    0     0.000000   0.000000      0.000000   \n",
       "4275          0  0.958447    0     0.000000   0.278522      0.000000   \n",
       "4276          0  1.000000    0     0.000000   0.000000      0.000000   \n",
       "\n",
       "           Spa    VRDeck  HomePlanet_Earth  HomePlanet_Europa  \\\n",
       "0     0.000000  0.000000                 1                  0   \n",
       "1     0.509106  0.000000                 1                  0   \n",
       "2     0.000000  0.000000                 0                  1   \n",
       "3     0.016613  0.047842                 0                  1   \n",
       "4     0.000000  0.000000                 1                  0   \n",
       "...        ...       ...               ...                ...   \n",
       "4272  0.000000  0.000000                 1                  0   \n",
       "4273  0.000946  0.012136                 1                  0   \n",
       "4274  0.000000  0.000000                 0                  0   \n",
       "4275  0.000000  0.061677                 0                  1   \n",
       "4276  0.000000  0.000000                 1                  0   \n",
       "\n",
       "      HomePlanet_Mars  Cabin_deck  Cabin_side  Destination_55 Cancri e  \\\n",
       "0                   0           5           1                        0   \n",
       "1                   0           4           1                        0   \n",
       "2                   0           2           1                        1   \n",
       "3                   0           2           1                        0   \n",
       "4                   0           4           1                        0   \n",
       "...               ...         ...         ...                      ...   \n",
       "4272                0           5           1                        0   \n",
       "4273                0           4           0                        0   \n",
       "4274                1           2           0                        1   \n",
       "4275                0           2           0                        0   \n",
       "4276                0           5           1                        0   \n",
       "\n",
       "      Destination_PSO J318.5-22  Destination_TRAPPIST-1e  Transported  \\\n",
       "0                             0                        1            1   \n",
       "1                             0                        1            0   \n",
       "2                             0                        0            1   \n",
       "3                             0                        1            1   \n",
       "4                             0                        1            1   \n",
       "...                         ...                      ...          ...   \n",
       "4272                          0                        1            1   \n",
       "4273                          0                        1            0   \n",
       "4274                          0                        0            1   \n",
       "4275                          0                        1            1   \n",
       "4276                          1                        0            1   \n",
       "\n",
       "      prediction_score  \n",
       "0               0.7008  \n",
       "1               0.9907  \n",
       "2               0.9719  \n",
       "3               0.9785  \n",
       "4               0.9508  \n",
       "...                ...  \n",
       "4272            0.7008  \n",
       "4273            0.5409  \n",
       "4274            0.6134  \n",
       "4275            0.8343  \n",
       "4276            0.5516  \n",
       "\n",
       "[4277 rows x 18 columns]"
      ]
     },
     "execution_count": 200,
     "metadata": {},
     "output_type": "execute_result"
    }
   ],
   "source": [
    "predicts=predict_model(catboost_regular_norm, data=df_test.drop(columns=['PassengerId','Name']))\n",
    "predicts = predicts.rename(columns={'prediction_label': 'Transported'})\n",
    "predicts"
   ]
  },
  {
   "cell_type": "code",
   "execution_count": 201,
   "id": "add0fe99-fdc7-460e-b3dc-67e1a65327a9",
   "metadata": {},
   "outputs": [],
   "source": [
    "predicts[\"PassengerId\"]=df_test[\"PassengerId\"]\n",
    "submission=predicts[[\"PassengerId\",\"Transported\"]]\n",
    "submission['Transported'] = submission['Transported'].replace({1: 'True', 0: 'False'})\n",
    "df['Transported'] = df['Transported'].astype(str)"
   ]
  },
  {
   "cell_type": "code",
   "execution_count": 202,
   "id": "fe47fd71-0582-4132-82d6-fb05448f16e9",
   "metadata": {},
   "outputs": [],
   "source": [
    "submission.to_csv('submission_pycaretcat_regularnorm3.csv', index=False)"
   ]
  },
  {
   "cell_type": "code",
   "execution_count": 205,
   "id": "1ed24b28-6b2f-421b-8136-61314dfc4efa",
   "metadata": {},
   "outputs": [
    {
     "data": {
      "text/html": [],
      "text/plain": [
       "<IPython.core.display.HTML object>"
      ]
     },
     "metadata": {},
     "output_type": "display_data"
    },
    {
     "data": {
      "text/html": [
       "<style type=\"text/css\">\n",
       "#T_ebe3e_row10_col0, #T_ebe3e_row10_col1, #T_ebe3e_row10_col2, #T_ebe3e_row10_col3, #T_ebe3e_row10_col4, #T_ebe3e_row10_col5, #T_ebe3e_row10_col6 {\n",
       "  background: yellow;\n",
       "}\n",
       "</style>\n",
       "<table id=\"T_ebe3e\">\n",
       "  <thead>\n",
       "    <tr>\n",
       "      <th class=\"blank level0\" >&nbsp;</th>\n",
       "      <th id=\"T_ebe3e_level0_col0\" class=\"col_heading level0 col0\" >Accuracy</th>\n",
       "      <th id=\"T_ebe3e_level0_col1\" class=\"col_heading level0 col1\" >AUC</th>\n",
       "      <th id=\"T_ebe3e_level0_col2\" class=\"col_heading level0 col2\" >Recall</th>\n",
       "      <th id=\"T_ebe3e_level0_col3\" class=\"col_heading level0 col3\" >Prec.</th>\n",
       "      <th id=\"T_ebe3e_level0_col4\" class=\"col_heading level0 col4\" >F1</th>\n",
       "      <th id=\"T_ebe3e_level0_col5\" class=\"col_heading level0 col5\" >Kappa</th>\n",
       "      <th id=\"T_ebe3e_level0_col6\" class=\"col_heading level0 col6\" >MCC</th>\n",
       "    </tr>\n",
       "    <tr>\n",
       "      <th class=\"index_name level0\" >Fold</th>\n",
       "      <th class=\"blank col0\" >&nbsp;</th>\n",
       "      <th class=\"blank col1\" >&nbsp;</th>\n",
       "      <th class=\"blank col2\" >&nbsp;</th>\n",
       "      <th class=\"blank col3\" >&nbsp;</th>\n",
       "      <th class=\"blank col4\" >&nbsp;</th>\n",
       "      <th class=\"blank col5\" >&nbsp;</th>\n",
       "      <th class=\"blank col6\" >&nbsp;</th>\n",
       "    </tr>\n",
       "  </thead>\n",
       "  <tbody>\n",
       "    <tr>\n",
       "      <th id=\"T_ebe3e_level0_row0\" class=\"row_heading level0 row0\" >0</th>\n",
       "      <td id=\"T_ebe3e_row0_col0\" class=\"data row0 col0\" >0.8161</td>\n",
       "      <td id=\"T_ebe3e_row0_col1\" class=\"data row0 col1\" >0.8818</td>\n",
       "      <td id=\"T_ebe3e_row0_col2\" class=\"data row0 col2\" >0.8339</td>\n",
       "      <td id=\"T_ebe3e_row0_col3\" class=\"data row0 col3\" >0.8076</td>\n",
       "      <td id=\"T_ebe3e_row0_col4\" class=\"data row0 col4\" >0.8205</td>\n",
       "      <td id=\"T_ebe3e_row0_col5\" class=\"data row0 col5\" >0.6321</td>\n",
       "      <td id=\"T_ebe3e_row0_col6\" class=\"data row0 col6\" >0.6324</td>\n",
       "    </tr>\n",
       "    <tr>\n",
       "      <th id=\"T_ebe3e_level0_row1\" class=\"row_heading level0 row1\" >1</th>\n",
       "      <td id=\"T_ebe3e_row1_col0\" class=\"data row1 col0\" >0.8128</td>\n",
       "      <td id=\"T_ebe3e_row1_col1\" class=\"data row1 col1\" >0.8892</td>\n",
       "      <td id=\"T_ebe3e_row1_col2\" class=\"data row1 col2\" >0.8567</td>\n",
       "      <td id=\"T_ebe3e_row1_col3\" class=\"data row1 col3\" >0.7898</td>\n",
       "      <td id=\"T_ebe3e_row1_col4\" class=\"data row1 col4\" >0.8219</td>\n",
       "      <td id=\"T_ebe3e_row1_col5\" class=\"data row1 col5\" >0.6253</td>\n",
       "      <td id=\"T_ebe3e_row1_col6\" class=\"data row1 col6\" >0.6276</td>\n",
       "    </tr>\n",
       "    <tr>\n",
       "      <th id=\"T_ebe3e_level0_row2\" class=\"row_heading level0 row2\" >2</th>\n",
       "      <td id=\"T_ebe3e_row2_col0\" class=\"data row2 col0\" >0.7947</td>\n",
       "      <td id=\"T_ebe3e_row2_col1\" class=\"data row2 col1\" >0.8812</td>\n",
       "      <td id=\"T_ebe3e_row2_col2\" class=\"data row2 col2\" >0.8274</td>\n",
       "      <td id=\"T_ebe3e_row2_col3\" class=\"data row2 col3\" >0.7791</td>\n",
       "      <td id=\"T_ebe3e_row2_col4\" class=\"data row2 col4\" >0.8025</td>\n",
       "      <td id=\"T_ebe3e_row2_col5\" class=\"data row2 col5\" >0.5893</td>\n",
       "      <td id=\"T_ebe3e_row2_col6\" class=\"data row2 col6\" >0.5904</td>\n",
       "    </tr>\n",
       "    <tr>\n",
       "      <th id=\"T_ebe3e_level0_row3\" class=\"row_heading level0 row3\" >3</th>\n",
       "      <td id=\"T_ebe3e_row3_col0\" class=\"data row3 col0\" >0.8292</td>\n",
       "      <td id=\"T_ebe3e_row3_col1\" class=\"data row3 col1\" >0.9020</td>\n",
       "      <td id=\"T_ebe3e_row3_col2\" class=\"data row3 col2\" >0.8599</td>\n",
       "      <td id=\"T_ebe3e_row3_col3\" class=\"data row3 col3\" >0.8123</td>\n",
       "      <td id=\"T_ebe3e_row3_col4\" class=\"data row3 col4\" >0.8354</td>\n",
       "      <td id=\"T_ebe3e_row3_col5\" class=\"data row3 col5\" >0.6583</td>\n",
       "      <td id=\"T_ebe3e_row3_col6\" class=\"data row3 col6\" >0.6594</td>\n",
       "    </tr>\n",
       "    <tr>\n",
       "      <th id=\"T_ebe3e_level0_row4\" class=\"row_heading level0 row4\" >4</th>\n",
       "      <td id=\"T_ebe3e_row4_col0\" class=\"data row4 col0\" >0.7915</td>\n",
       "      <td id=\"T_ebe3e_row4_col1\" class=\"data row4 col1\" >0.8736</td>\n",
       "      <td id=\"T_ebe3e_row4_col2\" class=\"data row4 col2\" >0.8208</td>\n",
       "      <td id=\"T_ebe3e_row4_col3\" class=\"data row4 col3\" >0.7778</td>\n",
       "      <td id=\"T_ebe3e_row4_col4\" class=\"data row4 col4\" >0.7987</td>\n",
       "      <td id=\"T_ebe3e_row4_col5\" class=\"data row4 col5\" >0.5827</td>\n",
       "      <td id=\"T_ebe3e_row4_col6\" class=\"data row4 col6\" >0.5836</td>\n",
       "    </tr>\n",
       "    <tr>\n",
       "      <th id=\"T_ebe3e_level0_row5\" class=\"row_heading level0 row5\" >5</th>\n",
       "      <td id=\"T_ebe3e_row5_col0\" class=\"data row5 col0\" >0.7681</td>\n",
       "      <td id=\"T_ebe3e_row5_col1\" class=\"data row5 col1\" >0.8721</td>\n",
       "      <td id=\"T_ebe3e_row5_col2\" class=\"data row5 col2\" >0.8170</td>\n",
       "      <td id=\"T_ebe3e_row5_col3\" class=\"data row5 col3\" >0.7463</td>\n",
       "      <td id=\"T_ebe3e_row5_col4\" class=\"data row5 col4\" >0.7800</td>\n",
       "      <td id=\"T_ebe3e_row5_col5\" class=\"data row5 col5\" >0.5359</td>\n",
       "      <td id=\"T_ebe3e_row5_col6\" class=\"data row5 col6\" >0.5383</td>\n",
       "    </tr>\n",
       "    <tr>\n",
       "      <th id=\"T_ebe3e_level0_row6\" class=\"row_heading level0 row6\" >6</th>\n",
       "      <td id=\"T_ebe3e_row6_col0\" class=\"data row6 col0\" >0.7961</td>\n",
       "      <td id=\"T_ebe3e_row6_col1\" class=\"data row6 col1\" >0.8791</td>\n",
       "      <td id=\"T_ebe3e_row6_col2\" class=\"data row6 col2\" >0.8039</td>\n",
       "      <td id=\"T_ebe3e_row6_col3\" class=\"data row6 col3\" >0.7935</td>\n",
       "      <td id=\"T_ebe3e_row6_col4\" class=\"data row6 col4\" >0.7987</td>\n",
       "      <td id=\"T_ebe3e_row6_col5\" class=\"data row6 col5\" >0.5921</td>\n",
       "      <td id=\"T_ebe3e_row6_col6\" class=\"data row6 col6\" >0.5921</td>\n",
       "    </tr>\n",
       "    <tr>\n",
       "      <th id=\"T_ebe3e_level0_row7\" class=\"row_heading level0 row7\" >7</th>\n",
       "      <td id=\"T_ebe3e_row7_col0\" class=\"data row7 col0\" >0.8355</td>\n",
       "      <td id=\"T_ebe3e_row7_col1\" class=\"data row7 col1\" >0.9122</td>\n",
       "      <td id=\"T_ebe3e_row7_col2\" class=\"data row7 col2\" >0.8431</td>\n",
       "      <td id=\"T_ebe3e_row7_col3\" class=\"data row7 col3\" >0.8323</td>\n",
       "      <td id=\"T_ebe3e_row7_col4\" class=\"data row7 col4\" >0.8377</td>\n",
       "      <td id=\"T_ebe3e_row7_col5\" class=\"data row7 col5\" >0.6710</td>\n",
       "      <td id=\"T_ebe3e_row7_col6\" class=\"data row7 col6\" >0.6711</td>\n",
       "    </tr>\n",
       "    <tr>\n",
       "      <th id=\"T_ebe3e_level0_row8\" class=\"row_heading level0 row8\" >8</th>\n",
       "      <td id=\"T_ebe3e_row8_col0\" class=\"data row8 col0\" >0.7944</td>\n",
       "      <td id=\"T_ebe3e_row8_col1\" class=\"data row8 col1\" >0.8801</td>\n",
       "      <td id=\"T_ebe3e_row8_col2\" class=\"data row8 col2\" >0.8203</td>\n",
       "      <td id=\"T_ebe3e_row8_col3\" class=\"data row8 col3\" >0.7819</td>\n",
       "      <td id=\"T_ebe3e_row8_col4\" class=\"data row8 col4\" >0.8006</td>\n",
       "      <td id=\"T_ebe3e_row8_col5\" class=\"data row8 col5\" >0.5887</td>\n",
       "      <td id=\"T_ebe3e_row8_col6\" class=\"data row8 col6\" >0.5894</td>\n",
       "    </tr>\n",
       "    <tr>\n",
       "      <th id=\"T_ebe3e_level0_row9\" class=\"row_heading level0 row9\" >9</th>\n",
       "      <td id=\"T_ebe3e_row9_col0\" class=\"data row9 col0\" >0.7993</td>\n",
       "      <td id=\"T_ebe3e_row9_col1\" class=\"data row9 col1\" >0.8743</td>\n",
       "      <td id=\"T_ebe3e_row9_col2\" class=\"data row9 col2\" >0.8007</td>\n",
       "      <td id=\"T_ebe3e_row9_col3\" class=\"data row9 col3\" >0.8007</td>\n",
       "      <td id=\"T_ebe3e_row9_col4\" class=\"data row9 col4\" >0.8007</td>\n",
       "      <td id=\"T_ebe3e_row9_col5\" class=\"data row9 col5\" >0.5987</td>\n",
       "      <td id=\"T_ebe3e_row9_col6\" class=\"data row9 col6\" >0.5987</td>\n",
       "    </tr>\n",
       "    <tr>\n",
       "      <th id=\"T_ebe3e_level0_row10\" class=\"row_heading level0 row10\" >Mean</th>\n",
       "      <td id=\"T_ebe3e_row10_col0\" class=\"data row10 col0\" >0.8038</td>\n",
       "      <td id=\"T_ebe3e_row10_col1\" class=\"data row10 col1\" >0.8846</td>\n",
       "      <td id=\"T_ebe3e_row10_col2\" class=\"data row10 col2\" >0.8284</td>\n",
       "      <td id=\"T_ebe3e_row10_col3\" class=\"data row10 col3\" >0.7921</td>\n",
       "      <td id=\"T_ebe3e_row10_col4\" class=\"data row10 col4\" >0.8097</td>\n",
       "      <td id=\"T_ebe3e_row10_col5\" class=\"data row10 col5\" >0.6074</td>\n",
       "      <td id=\"T_ebe3e_row10_col6\" class=\"data row10 col6\" >0.6083</td>\n",
       "    </tr>\n",
       "    <tr>\n",
       "      <th id=\"T_ebe3e_level0_row11\" class=\"row_heading level0 row11\" >Std</th>\n",
       "      <td id=\"T_ebe3e_row11_col0\" class=\"data row11 col0\" >0.0189</td>\n",
       "      <td id=\"T_ebe3e_row11_col1\" class=\"data row11 col1\" >0.0124</td>\n",
       "      <td id=\"T_ebe3e_row11_col2\" class=\"data row11 col2\" >0.0191</td>\n",
       "      <td id=\"T_ebe3e_row11_col3\" class=\"data row11 col3\" >0.0222</td>\n",
       "      <td id=\"T_ebe3e_row11_col4\" class=\"data row11 col4\" >0.0175</td>\n",
       "      <td id=\"T_ebe3e_row11_col5\" class=\"data row11 col5\" >0.0378</td>\n",
       "      <td id=\"T_ebe3e_row11_col6\" class=\"data row11 col6\" >0.0375</td>\n",
       "    </tr>\n",
       "  </tbody>\n",
       "</table>\n"
      ],
      "text/plain": [
       "<pandas.io.formats.style.Styler at 0x1c49f91c670>"
      ]
     },
     "metadata": {},
     "output_type": "display_data"
    },
    {
     "data": {
      "application/vnd.jupyter.widget-view+json": {
       "model_id": "",
       "version_major": 2,
       "version_minor": 0
      },
      "text/plain": [
       "Processing:   0%|          | 0/7 [00:00<?, ?it/s]"
      ]
     },
     "metadata": {},
     "output_type": "display_data"
    },
    {
     "name": "stdout",
     "output_type": "stream",
     "text": [
      "Fitting 10 folds for each of 10 candidates, totalling 100 fits\n"
     ]
    }
   ],
   "source": [
    "catboost_regular_tuned = tune_model(catboost_regular_norm)"
   ]
  },
  {
   "cell_type": "code",
   "execution_count": 204,
   "id": "a7e7f9bc-1b33-4d7c-8241-52458a9e62fd",
   "metadata": {},
   "outputs": [
    {
     "ename": "NameError",
     "evalue": "name 'catboost_regular_tuned' is not defined",
     "output_type": "error",
     "traceback": [
      "\u001b[1;31m---------------------------------------------------------------------------\u001b[0m",
      "\u001b[1;31mNameError\u001b[0m                                 Traceback (most recent call last)",
      "\u001b[1;32m~\\AppData\\Local\\Temp\\ipykernel_8144\\3832375049.py\u001b[0m in \u001b[0;36m<cell line: 1>\u001b[1;34m()\u001b[0m\n\u001b[1;32m----> 1\u001b[1;33m \u001b[0mplot_model\u001b[0m\u001b[1;33m(\u001b[0m\u001b[0mcatboost_regular_tuned\u001b[0m\u001b[1;33m,\u001b[0m \u001b[0mplot\u001b[0m\u001b[1;33m=\u001b[0m\u001b[1;34m'learning'\u001b[0m\u001b[1;33m)\u001b[0m\u001b[1;33m\u001b[0m\u001b[1;33m\u001b[0m\u001b[0m\n\u001b[0m",
      "\u001b[1;31mNameError\u001b[0m: name 'catboost_regular_tuned' is not defined"
     ]
    }
   ],
   "source": [
    "plot_model(catboost_regular_tuned, plot='learning')"
   ]
  },
  {
   "cell_type": "code",
   "execution_count": 206,
   "id": "24263189-992c-4f27-95e5-0e552d4353e6",
   "metadata": {},
   "outputs": [
    {
     "data": {
      "text/html": [],
      "text/plain": [
       "<IPython.core.display.HTML object>"
      ]
     },
     "metadata": {},
     "output_type": "display_data"
    },
    {
     "data": {
      "image/png": "[encoded data removed]",
      "text/plain": [
       "<Figure size 432x288 with 1 Axes>"
      ]
     },
     "metadata": {
      "needs_background": "light"
     },
     "output_type": "display_data"
    }
   ],
   "source": [
    "plot_model(catboost_regular_tuned, plot='auc')"
   ]
  },
  {
   "cell_type": "code",
   "execution_count": 207,
   "id": "e06bba49-2469-4275-84c9-eed039cde8da",
   "metadata": {},
   "outputs": [
    {
     "data": {
      "text/html": [],
      "text/plain": [
       "<IPython.core.display.HTML object>"
      ]
     },
     "metadata": {},
     "output_type": "display_data"
    },
    {
     "data": {
      "image/png": "[encoded data removed]",
      "text/plain": [
       "<Figure size 432x288 with 1 Axes>"
      ]
     },
     "metadata": {
      "needs_background": "light"
     },
     "output_type": "display_data"
    }
   ],
   "source": [
    "plot_model(catboost_regular_tuned, plot='confusion_matrix')"
   ]
  },
  {
   "cell_type": "code",
   "execution_count": 208,
   "id": "6a51a17c-a30c-443f-b668-c8d4aceddc44",
   "metadata": {},
   "outputs": [
    {
     "data": {
      "text/html": [],
      "text/plain": [
       "<IPython.core.display.HTML object>"
      ]
     },
     "metadata": {},
     "output_type": "display_data"
    },
    {
     "data": {
      "image/png": "[encoded data removed]",
      "text/plain": [
       "<Figure size 432x288 with 2 Axes>"
      ]
     },
     "metadata": {
      "needs_background": "light"
     },
     "output_type": "display_data"
    }
   ],
   "source": [
    "plot_model(catboost_regular_tuned, plot='class_report')"
   ]
  },
  {
   "cell_type": "code",
   "execution_count": 209,
   "id": "f2c3eadd-c3b8-4f4f-ab45-0c874a3584d9",
   "metadata": {},
   "outputs": [
    {
     "data": {
      "text/html": [],
      "text/plain": [
       "<IPython.core.display.HTML object>"
      ]
     },
     "metadata": {},
     "output_type": "display_data"
    },
    {
     "data": {
      "text/html": [
       "<div>\n",
       "<style scoped>\n",
       "    .dataframe tbody tr th:only-of-type {\n",
       "        vertical-align: middle;\n",
       "    }\n",
       "\n",
       "    .dataframe tbody tr th {\n",
       "        vertical-align: top;\n",
       "    }\n",
       "\n",
       "    .dataframe thead th {\n",
       "        text-align: right;\n",
       "    }\n",
       "</style>\n",
       "<table border=\"1\" class=\"dataframe\">\n",
       "  <thead>\n",
       "    <tr style=\"text-align: right;\">\n",
       "      <th></th>\n",
       "      <th>CryoSleep</th>\n",
       "      <th>Age</th>\n",
       "      <th>VIP</th>\n",
       "      <th>RoomService</th>\n",
       "      <th>FoodCourt</th>\n",
       "      <th>ShoppingMall</th>\n",
       "      <th>Spa</th>\n",
       "      <th>VRDeck</th>\n",
       "      <th>HomePlanet_Earth</th>\n",
       "      <th>HomePlanet_Europa</th>\n",
       "      <th>HomePlanet_Mars</th>\n",
       "      <th>Cabin_deck</th>\n",
       "      <th>Cabin_side</th>\n",
       "      <th>Destination_55 Cancri e</th>\n",
       "      <th>Destination_PSO J318.5-22</th>\n",
       "      <th>Destination_TRAPPIST-1e</th>\n",
       "      <th>Transported</th>\n",
       "      <th>prediction_score</th>\n",
       "    </tr>\n",
       "  </thead>\n",
       "  <tbody>\n",
       "    <tr>\n",
       "      <th>0</th>\n",
       "      <td>1</td>\n",
       "      <td>1.000000</td>\n",
       "      <td>0</td>\n",
       "      <td>0.000000</td>\n",
       "      <td>0.000000</td>\n",
       "      <td>0.000000</td>\n",
       "      <td>0.000000</td>\n",
       "      <td>0.000000</td>\n",
       "      <td>1</td>\n",
       "      <td>0</td>\n",
       "      <td>0</td>\n",
       "      <td>5</td>\n",
       "      <td>1</td>\n",
       "      <td>0</td>\n",
       "      <td>0</td>\n",
       "      <td>1</td>\n",
       "      <td>1</td>\n",
       "      <td>0.7155</td>\n",
       "    </tr>\n",
       "    <tr>\n",
       "      <th>1</th>\n",
       "      <td>0</td>\n",
       "      <td>0.860703</td>\n",
       "      <td>0</td>\n",
       "      <td>0.000000</td>\n",
       "      <td>0.001274</td>\n",
       "      <td>0.000000</td>\n",
       "      <td>0.509106</td>\n",
       "      <td>0.000000</td>\n",
       "      <td>1</td>\n",
       "      <td>0</td>\n",
       "      <td>0</td>\n",
       "      <td>4</td>\n",
       "      <td>1</td>\n",
       "      <td>0</td>\n",
       "      <td>0</td>\n",
       "      <td>1</td>\n",
       "      <td>0</td>\n",
       "      <td>0.9862</td>\n",
       "    </tr>\n",
       "    <tr>\n",
       "      <th>2</th>\n",
       "      <td>0</td>\n",
       "      <td>1.000000</td>\n",
       "      <td>0</td>\n",
       "      <td>0.000000</td>\n",
       "      <td>0.000000</td>\n",
       "      <td>0.000000</td>\n",
       "      <td>0.000000</td>\n",
       "      <td>0.000000</td>\n",
       "      <td>0</td>\n",
       "      <td>1</td>\n",
       "      <td>0</td>\n",
       "      <td>2</td>\n",
       "      <td>1</td>\n",
       "      <td>1</td>\n",
       "      <td>0</td>\n",
       "      <td>0</td>\n",
       "      <td>1</td>\n",
       "      <td>0.9454</td>\n",
       "    </tr>\n",
       "    <tr>\n",
       "      <th>3</th>\n",
       "      <td>0</td>\n",
       "      <td>0.876129</td>\n",
       "      <td>0</td>\n",
       "      <td>0.000000</td>\n",
       "      <td>0.479410</td>\n",
       "      <td>0.000000</td>\n",
       "      <td>0.016613</td>\n",
       "      <td>0.047842</td>\n",
       "      <td>0</td>\n",
       "      <td>1</td>\n",
       "      <td>0</td>\n",
       "      <td>2</td>\n",
       "      <td>1</td>\n",
       "      <td>0</td>\n",
       "      <td>0</td>\n",
       "      <td>1</td>\n",
       "      <td>1</td>\n",
       "      <td>0.9687</td>\n",
       "    </tr>\n",
       "    <tr>\n",
       "      <th>4</th>\n",
       "      <td>0</td>\n",
       "      <td>0.957163</td>\n",
       "      <td>0</td>\n",
       "      <td>0.003269</td>\n",
       "      <td>0.000000</td>\n",
       "      <td>0.289532</td>\n",
       "      <td>0.000000</td>\n",
       "      <td>0.000000</td>\n",
       "      <td>1</td>\n",
       "      <td>0</td>\n",
       "      <td>0</td>\n",
       "      <td>4</td>\n",
       "      <td>1</td>\n",
       "      <td>0</td>\n",
       "      <td>0</td>\n",
       "      <td>1</td>\n",
       "      <td>1</td>\n",
       "      <td>0.8957</td>\n",
       "    </tr>\n",
       "    <tr>\n",
       "      <th>...</th>\n",
       "      <td>...</td>\n",
       "      <td>...</td>\n",
       "      <td>...</td>\n",
       "      <td>...</td>\n",
       "      <td>...</td>\n",
       "      <td>...</td>\n",
       "      <td>...</td>\n",
       "      <td>...</td>\n",
       "      <td>...</td>\n",
       "      <td>...</td>\n",
       "      <td>...</td>\n",
       "      <td>...</td>\n",
       "      <td>...</td>\n",
       "      <td>...</td>\n",
       "      <td>...</td>\n",
       "      <td>...</td>\n",
       "      <td>...</td>\n",
       "      <td>...</td>\n",
       "    </tr>\n",
       "    <tr>\n",
       "      <th>4272</th>\n",
       "      <td>1</td>\n",
       "      <td>1.000000</td>\n",
       "      <td>0</td>\n",
       "      <td>0.000000</td>\n",
       "      <td>0.000000</td>\n",
       "      <td>0.000000</td>\n",
       "      <td>0.000000</td>\n",
       "      <td>0.000000</td>\n",
       "      <td>1</td>\n",
       "      <td>0</td>\n",
       "      <td>0</td>\n",
       "      <td>5</td>\n",
       "      <td>1</td>\n",
       "      <td>0</td>\n",
       "      <td>0</td>\n",
       "      <td>1</td>\n",
       "      <td>1</td>\n",
       "      <td>0.7155</td>\n",
       "    </tr>\n",
       "    <tr>\n",
       "      <th>4273</th>\n",
       "      <td>0</td>\n",
       "      <td>0.997938</td>\n",
       "      <td>0</td>\n",
       "      <td>0.000000</td>\n",
       "      <td>0.062908</td>\n",
       "      <td>0.003848</td>\n",
       "      <td>0.000946</td>\n",
       "      <td>0.012136</td>\n",
       "      <td>1</td>\n",
       "      <td>0</td>\n",
       "      <td>0</td>\n",
       "      <td>4</td>\n",
       "      <td>0</td>\n",
       "      <td>0</td>\n",
       "      <td>0</td>\n",
       "      <td>1</td>\n",
       "      <td>0</td>\n",
       "      <td>0.6138</td>\n",
       "    </tr>\n",
       "    <tr>\n",
       "      <th>4274</th>\n",
       "      <td>0</td>\n",
       "      <td>1.000000</td>\n",
       "      <td>0</td>\n",
       "      <td>0.000000</td>\n",
       "      <td>0.000000</td>\n",
       "      <td>0.000000</td>\n",
       "      <td>0.000000</td>\n",
       "      <td>0.000000</td>\n",
       "      <td>0</td>\n",
       "      <td>0</td>\n",
       "      <td>1</td>\n",
       "      <td>2</td>\n",
       "      <td>0</td>\n",
       "      <td>1</td>\n",
       "      <td>0</td>\n",
       "      <td>0</td>\n",
       "      <td>1</td>\n",
       "      <td>0.5691</td>\n",
       "    </tr>\n",
       "    <tr>\n",
       "      <th>4275</th>\n",
       "      <td>0</td>\n",
       "      <td>0.958447</td>\n",
       "      <td>0</td>\n",
       "      <td>0.000000</td>\n",
       "      <td>0.278522</td>\n",
       "      <td>0.000000</td>\n",
       "      <td>0.000000</td>\n",
       "      <td>0.061677</td>\n",
       "      <td>0</td>\n",
       "      <td>1</td>\n",
       "      <td>0</td>\n",
       "      <td>2</td>\n",
       "      <td>0</td>\n",
       "      <td>0</td>\n",
       "      <td>0</td>\n",
       "      <td>1</td>\n",
       "      <td>1</td>\n",
       "      <td>0.7810</td>\n",
       "    </tr>\n",
       "    <tr>\n",
       "      <th>4276</th>\n",
       "      <td>0</td>\n",
       "      <td>1.000000</td>\n",
       "      <td>0</td>\n",
       "      <td>0.000000</td>\n",
       "      <td>0.000000</td>\n",
       "      <td>0.000000</td>\n",
       "      <td>0.000000</td>\n",
       "      <td>0.000000</td>\n",
       "      <td>1</td>\n",
       "      <td>0</td>\n",
       "      <td>0</td>\n",
       "      <td>5</td>\n",
       "      <td>1</td>\n",
       "      <td>0</td>\n",
       "      <td>1</td>\n",
       "      <td>0</td>\n",
       "      <td>1</td>\n",
       "      <td>0.5206</td>\n",
       "    </tr>\n",
       "  </tbody>\n",
       "</table>\n",
       "<p>4277 rows × 18 columns</p>\n",
       "</div>"
      ],
      "text/plain": [
       "      CryoSleep       Age  VIP  RoomService  FoodCourt  ShoppingMall  \\\n",
       "0             1  1.000000    0     0.000000   0.000000      0.000000   \n",
       "1             0  0.860703    0     0.000000   0.001274      0.000000   \n",
       "2             0  1.000000    0     0.000000   0.000000      0.000000   \n",
       "3             0  0.876129    0     0.000000   0.479410      0.000000   \n",
       "4             0  0.957163    0     0.003269   0.000000      0.289532   \n",
       "...         ...       ...  ...          ...        ...           ...   \n",
       "4272          1  1.000000    0     0.000000   0.000000      0.000000   \n",
       "4273          0  0.997938    0     0.000000   0.062908      0.003848   \n",
       "4274          0  1.000000    0     0.000000   0.000000      0.000000   \n",
       "4275          0  0.958447    0     0.000000   0.278522      0.000000   \n",
       "4276          0  1.000000    0     0.000000   0.000000      0.000000   \n",
       "\n",
       "           Spa    VRDeck  HomePlanet_Earth  HomePlanet_Europa  \\\n",
       "0     0.000000  0.000000                 1                  0   \n",
       "1     0.509106  0.000000                 1                  0   \n",
       "2     0.000000  0.000000                 0                  1   \n",
       "3     0.016613  0.047842                 0                  1   \n",
       "4     0.000000  0.000000                 1                  0   \n",
       "...        ...       ...               ...                ...   \n",
       "4272  0.000000  0.000000                 1                  0   \n",
       "4273  0.000946  0.012136                 1                  0   \n",
       "4274  0.000000  0.000000                 0                  0   \n",
       "4275  0.000000  0.061677                 0                  1   \n",
       "4276  0.000000  0.000000                 1                  0   \n",
       "\n",
       "      HomePlanet_Mars  Cabin_deck  Cabin_side  Destination_55 Cancri e  \\\n",
       "0                   0           5           1                        0   \n",
       "1                   0           4           1                        0   \n",
       "2                   0           2           1                        1   \n",
       "3                   0           2           1                        0   \n",
       "4                   0           4           1                        0   \n",
       "...               ...         ...         ...                      ...   \n",
       "4272                0           5           1                        0   \n",
       "4273                0           4           0                        0   \n",
       "4274                1           2           0                        1   \n",
       "4275                0           2           0                        0   \n",
       "4276                0           5           1                        0   \n",
       "\n",
       "      Destination_PSO J318.5-22  Destination_TRAPPIST-1e  Transported  \\\n",
       "0                             0                        1            1   \n",
       "1                             0                        1            0   \n",
       "2                             0                        0            1   \n",
       "3                             0                        1            1   \n",
       "4                             0                        1            1   \n",
       "...                         ...                      ...          ...   \n",
       "4272                          0                        1            1   \n",
       "4273                          0                        1            0   \n",
       "4274                          0                        0            1   \n",
       "4275                          0                        1            1   \n",
       "4276                          1                        0            1   \n",
       "\n",
       "      prediction_score  \n",
       "0               0.7155  \n",
       "1               0.9862  \n",
       "2               0.9454  \n",
       "3               0.9687  \n",
       "4               0.8957  \n",
       "...                ...  \n",
       "4272            0.7155  \n",
       "4273            0.6138  \n",
       "4274            0.5691  \n",
       "4275            0.7810  \n",
       "4276            0.5206  \n",
       "\n",
       "[4277 rows x 18 columns]"
      ]
     },
     "execution_count": 209,
     "metadata": {},
     "output_type": "execute_result"
    }
   ],
   "source": [
    "predicts=predict_model(catboost_regular_tuned, data=df_test.drop(columns=['PassengerId','Name']))\n",
    "predicts = predicts.rename(columns={'prediction_label': 'Transported'})\n",
    "predicts"
   ]
  },
  {
   "cell_type": "code",
   "execution_count": 210,
   "id": "3bd86af0-1931-45e5-876c-c3f53ffbf0da",
   "metadata": {},
   "outputs": [],
   "source": [
    "submission.to_csv('submission_pycaretcat_tuned_regular3.csv', index=False)"
   ]
  },
  {
   "cell_type": "code",
   "execution_count": null,
   "id": "25fde7c1-b317-47fe-886a-37631a601bb3",
   "metadata": {},
   "outputs": [],
   "source": []
  }
 ],
 "metadata": {
  "kernelspec": {
   "display_name": "Python 3 (ipykernel)",
   "language": "python",
   "name": "python3"
  },
  "language_info": {
   "codemirror_mode": {
    "name": "ipython",
    "version": 3
   },
   "file_extension": ".py",
   "mimetype": "text/x-python",
   "name": "python",
   "nbconvert_exporter": "python",
   "pygments_lexer": "ipython3",
   "version": "3.9.12"
  }
 },
 "nbformat": 4,
 "nbformat_minor": 5
}
