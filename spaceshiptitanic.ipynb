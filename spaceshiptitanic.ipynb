{
 "cells": [
  {
   "cell_type": "code",
   "execution_count": 141,
   "id": "9d9d9f3f-f13b-4c79-a6c9-47092c1b9285",
   "metadata": {},
   "outputs": [],
   "source": [
    "import pandas as pd\n",
    "pd.pandas.set_option('display.max_columns', None)"
   ]
  },
  {
   "cell_type": "code",
   "execution_count": 142,
   "id": "b6ad5f2c-3a6f-4d2b-aa40-fbd5ad362080",
   "metadata": {},
   "outputs": [],
   "source": [
    "df=pd.read_csv(\"train.csv\")\n",
    "df_test=pd.read_csv(\"test.csv\")"
   ]
  },
  {
   "cell_type": "code",
   "execution_count": 143,
   "id": "71ca6034-9575-4155-acf6-0e272ae0b2a0",
   "metadata": {},
   "outputs": [
    {
     "data": {
      "text/html": [
       "<div>\n",
       "<style scoped>\n",
       "    .dataframe tbody tr th:only-of-type {\n",
       "        vertical-align: middle;\n",
       "    }\n",
       "\n",
       "    .dataframe tbody tr th {\n",
       "        vertical-align: top;\n",
       "    }\n",
       "\n",
       "    .dataframe thead th {\n",
       "        text-align: right;\n",
       "    }\n",
       "</style>\n",
       "<table border=\"1\" class=\"dataframe\">\n",
       "  <thead>\n",
       "    <tr style=\"text-align: right;\">\n",
       "      <th></th>\n",
       "      <th>PassengerId</th>\n",
       "      <th>HomePlanet</th>\n",
       "      <th>CryoSleep</th>\n",
       "      <th>Cabin</th>\n",
       "      <th>Destination</th>\n",
       "      <th>Age</th>\n",
       "      <th>VIP</th>\n",
       "      <th>RoomService</th>\n",
       "      <th>FoodCourt</th>\n",
       "      <th>ShoppingMall</th>\n",
       "      <th>Spa</th>\n",
       "      <th>VRDeck</th>\n",
       "      <th>Name</th>\n",
       "      <th>Transported</th>\n",
       "    </tr>\n",
       "  </thead>\n",
       "  <tbody>\n",
       "    <tr>\n",
       "      <th>0</th>\n",
       "      <td>0001_01</td>\n",
       "      <td>Europa</td>\n",
       "      <td>False</td>\n",
       "      <td>B/0/P</td>\n",
       "      <td>TRAPPIST-1e</td>\n",
       "      <td>39.0</td>\n",
       "      <td>False</td>\n",
       "      <td>0.0</td>\n",
       "      <td>0.0</td>\n",
       "      <td>0.0</td>\n",
       "      <td>0.0</td>\n",
       "      <td>0.0</td>\n",
       "      <td>Maham Ofracculy</td>\n",
       "      <td>False</td>\n",
       "    </tr>\n",
       "    <tr>\n",
       "      <th>1</th>\n",
       "      <td>0002_01</td>\n",
       "      <td>Earth</td>\n",
       "      <td>False</td>\n",
       "      <td>F/0/S</td>\n",
       "      <td>TRAPPIST-1e</td>\n",
       "      <td>24.0</td>\n",
       "      <td>False</td>\n",
       "      <td>109.0</td>\n",
       "      <td>9.0</td>\n",
       "      <td>25.0</td>\n",
       "      <td>549.0</td>\n",
       "      <td>44.0</td>\n",
       "      <td>Juanna Vines</td>\n",
       "      <td>True</td>\n",
       "    </tr>\n",
       "    <tr>\n",
       "      <th>2</th>\n",
       "      <td>0003_01</td>\n",
       "      <td>Europa</td>\n",
       "      <td>False</td>\n",
       "      <td>A/0/S</td>\n",
       "      <td>TRAPPIST-1e</td>\n",
       "      <td>58.0</td>\n",
       "      <td>True</td>\n",
       "      <td>43.0</td>\n",
       "      <td>3576.0</td>\n",
       "      <td>0.0</td>\n",
       "      <td>6715.0</td>\n",
       "      <td>49.0</td>\n",
       "      <td>Altark Susent</td>\n",
       "      <td>False</td>\n",
       "    </tr>\n",
       "    <tr>\n",
       "      <th>3</th>\n",
       "      <td>0003_02</td>\n",
       "      <td>Europa</td>\n",
       "      <td>False</td>\n",
       "      <td>A/0/S</td>\n",
       "      <td>TRAPPIST-1e</td>\n",
       "      <td>33.0</td>\n",
       "      <td>False</td>\n",
       "      <td>0.0</td>\n",
       "      <td>1283.0</td>\n",
       "      <td>371.0</td>\n",
       "      <td>3329.0</td>\n",
       "      <td>193.0</td>\n",
       "      <td>Solam Susent</td>\n",
       "      <td>False</td>\n",
       "    </tr>\n",
       "    <tr>\n",
       "      <th>4</th>\n",
       "      <td>0004_01</td>\n",
       "      <td>Earth</td>\n",
       "      <td>False</td>\n",
       "      <td>F/1/S</td>\n",
       "      <td>TRAPPIST-1e</td>\n",
       "      <td>16.0</td>\n",
       "      <td>False</td>\n",
       "      <td>303.0</td>\n",
       "      <td>70.0</td>\n",
       "      <td>151.0</td>\n",
       "      <td>565.0</td>\n",
       "      <td>2.0</td>\n",
       "      <td>Willy Santantines</td>\n",
       "      <td>True</td>\n",
       "    </tr>\n",
       "    <tr>\n",
       "      <th>...</th>\n",
       "      <td>...</td>\n",
       "      <td>...</td>\n",
       "      <td>...</td>\n",
       "      <td>...</td>\n",
       "      <td>...</td>\n",
       "      <td>...</td>\n",
       "      <td>...</td>\n",
       "      <td>...</td>\n",
       "      <td>...</td>\n",
       "      <td>...</td>\n",
       "      <td>...</td>\n",
       "      <td>...</td>\n",
       "      <td>...</td>\n",
       "      <td>...</td>\n",
       "    </tr>\n",
       "    <tr>\n",
       "      <th>8688</th>\n",
       "      <td>9276_01</td>\n",
       "      <td>Europa</td>\n",
       "      <td>False</td>\n",
       "      <td>A/98/P</td>\n",
       "      <td>55 Cancri e</td>\n",
       "      <td>41.0</td>\n",
       "      <td>True</td>\n",
       "      <td>0.0</td>\n",
       "      <td>6819.0</td>\n",
       "      <td>0.0</td>\n",
       "      <td>1643.0</td>\n",
       "      <td>74.0</td>\n",
       "      <td>Gravior Noxnuther</td>\n",
       "      <td>False</td>\n",
       "    </tr>\n",
       "    <tr>\n",
       "      <th>8689</th>\n",
       "      <td>9278_01</td>\n",
       "      <td>Earth</td>\n",
       "      <td>True</td>\n",
       "      <td>G/1499/S</td>\n",
       "      <td>PSO J318.5-22</td>\n",
       "      <td>18.0</td>\n",
       "      <td>False</td>\n",
       "      <td>0.0</td>\n",
       "      <td>0.0</td>\n",
       "      <td>0.0</td>\n",
       "      <td>0.0</td>\n",
       "      <td>0.0</td>\n",
       "      <td>Kurta Mondalley</td>\n",
       "      <td>False</td>\n",
       "    </tr>\n",
       "    <tr>\n",
       "      <th>8690</th>\n",
       "      <td>9279_01</td>\n",
       "      <td>Earth</td>\n",
       "      <td>False</td>\n",
       "      <td>G/1500/S</td>\n",
       "      <td>TRAPPIST-1e</td>\n",
       "      <td>26.0</td>\n",
       "      <td>False</td>\n",
       "      <td>0.0</td>\n",
       "      <td>0.0</td>\n",
       "      <td>1872.0</td>\n",
       "      <td>1.0</td>\n",
       "      <td>0.0</td>\n",
       "      <td>Fayey Connon</td>\n",
       "      <td>True</td>\n",
       "    </tr>\n",
       "    <tr>\n",
       "      <th>8691</th>\n",
       "      <td>9280_01</td>\n",
       "      <td>Europa</td>\n",
       "      <td>False</td>\n",
       "      <td>E/608/S</td>\n",
       "      <td>55 Cancri e</td>\n",
       "      <td>32.0</td>\n",
       "      <td>False</td>\n",
       "      <td>0.0</td>\n",
       "      <td>1049.0</td>\n",
       "      <td>0.0</td>\n",
       "      <td>353.0</td>\n",
       "      <td>3235.0</td>\n",
       "      <td>Celeon Hontichre</td>\n",
       "      <td>False</td>\n",
       "    </tr>\n",
       "    <tr>\n",
       "      <th>8692</th>\n",
       "      <td>9280_02</td>\n",
       "      <td>Europa</td>\n",
       "      <td>False</td>\n",
       "      <td>E/608/S</td>\n",
       "      <td>TRAPPIST-1e</td>\n",
       "      <td>44.0</td>\n",
       "      <td>False</td>\n",
       "      <td>126.0</td>\n",
       "      <td>4688.0</td>\n",
       "      <td>0.0</td>\n",
       "      <td>0.0</td>\n",
       "      <td>12.0</td>\n",
       "      <td>Propsh Hontichre</td>\n",
       "      <td>True</td>\n",
       "    </tr>\n",
       "  </tbody>\n",
       "</table>\n",
       "<p>8693 rows × 14 columns</p>\n",
       "</div>"
      ],
      "text/plain": [
       "     PassengerId HomePlanet CryoSleep     Cabin    Destination   Age    VIP  \\\n",
       "0        0001_01     Europa     False     B/0/P    TRAPPIST-1e  39.0  False   \n",
       "1        0002_01      Earth     False     F/0/S    TRAPPIST-1e  24.0  False   \n",
       "2        0003_01     Europa     False     A/0/S    TRAPPIST-1e  58.0   True   \n",
       "3        0003_02     Europa     False     A/0/S    TRAPPIST-1e  33.0  False   \n",
       "4        0004_01      Earth     False     F/1/S    TRAPPIST-1e  16.0  False   \n",
       "...          ...        ...       ...       ...            ...   ...    ...   \n",
       "8688     9276_01     Europa     False    A/98/P    55 Cancri e  41.0   True   \n",
       "8689     9278_01      Earth      True  G/1499/S  PSO J318.5-22  18.0  False   \n",
       "8690     9279_01      Earth     False  G/1500/S    TRAPPIST-1e  26.0  False   \n",
       "8691     9280_01     Europa     False   E/608/S    55 Cancri e  32.0  False   \n",
       "8692     9280_02     Europa     False   E/608/S    TRAPPIST-1e  44.0  False   \n",
       "\n",
       "      RoomService  FoodCourt  ShoppingMall     Spa  VRDeck               Name  \\\n",
       "0             0.0        0.0           0.0     0.0     0.0    Maham Ofracculy   \n",
       "1           109.0        9.0          25.0   549.0    44.0       Juanna Vines   \n",
       "2            43.0     3576.0           0.0  6715.0    49.0      Altark Susent   \n",
       "3             0.0     1283.0         371.0  3329.0   193.0       Solam Susent   \n",
       "4           303.0       70.0         151.0   565.0     2.0  Willy Santantines   \n",
       "...           ...        ...           ...     ...     ...                ...   \n",
       "8688          0.0     6819.0           0.0  1643.0    74.0  Gravior Noxnuther   \n",
       "8689          0.0        0.0           0.0     0.0     0.0    Kurta Mondalley   \n",
       "8690          0.0        0.0        1872.0     1.0     0.0       Fayey Connon   \n",
       "8691          0.0     1049.0           0.0   353.0  3235.0   Celeon Hontichre   \n",
       "8692        126.0     4688.0           0.0     0.0    12.0   Propsh Hontichre   \n",
       "\n",
       "      Transported  \n",
       "0           False  \n",
       "1            True  \n",
       "2           False  \n",
       "3           False  \n",
       "4            True  \n",
       "...           ...  \n",
       "8688        False  \n",
       "8689        False  \n",
       "8690         True  \n",
       "8691        False  \n",
       "8692         True  \n",
       "\n",
       "[8693 rows x 14 columns]"
      ]
     },
     "execution_count": 143,
     "metadata": {},
     "output_type": "execute_result"
    }
   ],
   "source": [
    "df"
   ]
  },
  {
   "cell_type": "code",
   "execution_count": 144,
   "id": "a47ca00b-4cf7-41d9-b02e-c69dad1be94c",
   "metadata": {},
   "outputs": [
    {
     "data": {
      "text/plain": [
       "Earth     4602\n",
       "Europa    2131\n",
       "Mars      1759\n",
       "Name: HomePlanet, dtype: int64"
      ]
     },
     "execution_count": 144,
     "metadata": {},
     "output_type": "execute_result"
    }
   ],
   "source": [
    "df.HomePlanet.value_counts()"
   ]
  },
  {
   "cell_type": "code",
   "execution_count": 145,
   "id": "0b57dee8-003a-4ebc-86cb-741c1560456a",
   "metadata": {},
   "outputs": [],
   "source": [
    "df['HomePlanet'].fillna(df['HomePlanet'].mode()[0], inplace=True)\n",
    "df_test['HomePlanet'].fillna(df['HomePlanet'].mode()[0], inplace=True)"
   ]
  },
  {
   "cell_type": "code",
   "execution_count": 146,
   "id": "9e8e9fab-ef44-4bfb-94ed-b985c6cf64c2",
   "metadata": {},
   "outputs": [],
   "source": [
    "df = pd.get_dummies(df, columns = [\"HomePlanet\"])\n",
    "df_test = pd.get_dummies(df_test, columns = [\"HomePlanet\"])"
   ]
  },
  {
   "cell_type": "code",
   "execution_count": 147,
   "id": "1078c864-d2d3-42fe-8503-8c02a2baa328",
   "metadata": {},
   "outputs": [
    {
     "data": {
      "text/plain": [
       "False    5439\n",
       "True     3037\n",
       "Name: CryoSleep, dtype: int64"
      ]
     },
     "execution_count": 147,
     "metadata": {},
     "output_type": "execute_result"
    }
   ],
   "source": [
    "df.CryoSleep.value_counts()"
   ]
  },
  {
   "cell_type": "code",
   "execution_count": 148,
   "id": "429d954c-7dd2-48d9-98b2-845dc1fd7b68",
   "metadata": {},
   "outputs": [],
   "source": [
    "df['CryoSleep'].fillna(df['CryoSleep'].mode()[0], inplace=True)\n",
    "df_test['CryoSleep'].fillna(df['CryoSleep'].mode()[0], inplace=True)"
   ]
  },
  {
   "cell_type": "code",
   "execution_count": 149,
   "id": "69d48a63-ae4c-4bcb-8ac2-7f0864f99bcc",
   "metadata": {},
   "outputs": [],
   "source": [
    "df['CryoSleep'] = df['CryoSleep'].replace({False: 0, True: 1})\n",
    "df_test['CryoSleep'] = df_test['CryoSleep'].replace({False: 0, True: 1})\n",
    "df['CryoSleep'] = df['CryoSleep'].astype(int)\n",
    "df_test['CryoSleep'] = df_test['CryoSleep'].astype(int)"
   ]
  },
  {
   "cell_type": "code",
   "execution_count": 150,
   "id": "68b3223b-edb3-40c7-9c84-862397db50c5",
   "metadata": {},
   "outputs": [
    {
     "data": {
      "text/plain": [
       "PassengerId            0\n",
       "CryoSleep              0\n",
       "Cabin                199\n",
       "Destination          182\n",
       "Age                  179\n",
       "VIP                  203\n",
       "RoomService          181\n",
       "FoodCourt            183\n",
       "ShoppingMall         208\n",
       "Spa                  183\n",
       "VRDeck               188\n",
       "Name                 200\n",
       "Transported            0\n",
       "HomePlanet_Earth       0\n",
       "HomePlanet_Europa      0\n",
       "HomePlanet_Mars        0\n",
       "dtype: int64"
      ]
     },
     "execution_count": 150,
     "metadata": {},
     "output_type": "execute_result"
    }
   ],
   "source": [
    "df.isnull().sum()"
   ]
  },
  {
   "cell_type": "code",
   "execution_count": 151,
   "id": "6b26460b-37c6-4611-8ce9-3cfc0be50e07",
   "metadata": {},
   "outputs": [
    {
     "data": {
      "text/plain": [
       "6560"
      ]
     },
     "execution_count": 151,
     "metadata": {},
     "output_type": "execute_result"
    }
   ],
   "source": [
    "df.Cabin.nunique()"
   ]
  },
  {
   "cell_type": "code",
   "execution_count": 152,
   "id": "ba2a8e6c-1534-427b-a63e-e4da1584222f",
   "metadata": {},
   "outputs": [
    {
     "data": {
      "text/plain": [
       "3791     F/765/S\n",
       "8521    G/1465/S\n",
       "3836     G/675/S\n",
       "5104     E/343/P\n",
       "8614     E/603/S\n",
       "Name: Cabin, dtype: object"
      ]
     },
     "execution_count": 152,
     "metadata": {},
     "output_type": "execute_result"
    }
   ],
   "source": [
    "df.Cabin.sample(5)"
   ]
  },
  {
   "cell_type": "code",
   "execution_count": 153,
   "id": "049dfcbd-63d7-45a2-b902-41853fa164a6",
   "metadata": {},
   "outputs": [],
   "source": [
    "for i, row in df.iterrows():\n",
    "    if type(row['Cabin']) == str:\n",
    "        # Cabin_num\n",
    "        cabin_num = row['Cabin'].split('/')[1]\n",
    "        df.at[i, 'Cabin_num'] = cabin_num\n",
    "        \n",
    "        # Cabin_deck\n",
    "        cabin_deck = row['Cabin'][0]\n",
    "        df.at[i, 'Cabin_deck'] = cabin_deck\n",
    "        \n",
    "        # Cabin_side\n",
    "        cabin_side = row['Cabin'][-1]\n",
    "        df.at[i, 'Cabin_side'] = cabin_side\n",
    "    else:\n",
    "        df.at[i, 'Cabin_num'] = None\n",
    "        df.at[i, 'Cabin_deck'] = None\n",
    "        df.at[i, 'Cabin_side'] = None\n",
    "        \n",
    "        \n",
    "for i, row in df_test.iterrows():\n",
    "    if type(row['Cabin']) == str:\n",
    "        # Cabin_num\n",
    "        cabin_num = row['Cabin'].split('/')[1]\n",
    "        df_test.at[i, 'Cabin_num'] = cabin_num\n",
    "        \n",
    "        # Cabin_deck\n",
    "        cabin_deck = row['Cabin'][0]\n",
    "        df_test.at[i, 'Cabin_deck'] = cabin_deck\n",
    "        \n",
    "        # Cabin_side\n",
    "        cabin_side = row['Cabin'][-1]\n",
    "        df_test.at[i, 'Cabin_side'] = cabin_side\n",
    "    else:\n",
    "        df_test.at[i, 'Cabin_num'] = None\n",
    "        df_test.at[i, 'Cabin_deck'] = None\n",
    "        df_test.at[i, 'Cabin_side'] = None"
   ]
  },
  {
   "cell_type": "code",
   "execution_count": 154,
   "id": "29b87314-22ac-411a-a8a2-370ab7dd5806",
   "metadata": {},
   "outputs": [],
   "source": [
    "df.drop(columns=[\"Cabin\"], inplace=True)\n",
    "df_test.drop(columns=[\"Cabin\"], inplace=True)"
   ]
  },
  {
   "cell_type": "code",
   "execution_count": 155,
   "id": "6bf49067-0e33-49e0-bea1-a0b5b2d40585",
   "metadata": {},
   "outputs": [],
   "source": [
    "import seaborn as sns"
   ]
  },
  {
   "cell_type": "code",
   "execution_count": 156,
   "id": "1906cf7e-9cb6-4ab6-a0d3-edc68866048a",
   "metadata": {},
   "outputs": [
    {
     "data": {
      "text/plain": [
       "<AxesSubplot:xlabel='Cabin_num', ylabel='Density'>"
      ]
     },
     "execution_count": 156,
     "metadata": {},
     "output_type": "execute_result"
    },
    {
     "data": {
      "image/png": "[encoded data removed]",
      "text/plain": [
       "<Figure size 432x288 with 1 Axes>"
      ]
     },
     "metadata": {
      "needs_background": "light"
     },
     "output_type": "display_data"
    }
   ],
   "source": [
    "sns.distplot(df.Cabin_num)"
   ]
  },
  {
   "cell_type": "code",
   "execution_count": 157,
   "id": "ec5be9c9-9548-4c03-8ae3-56fd7aab38bc",
   "metadata": {},
   "outputs": [
    {
     "data": {
      "text/plain": [
       "1817"
      ]
     },
     "execution_count": 157,
     "metadata": {},
     "output_type": "execute_result"
    }
   ],
   "source": [
    "df.Cabin_num.nunique()"
   ]
  },
  {
   "cell_type": "code",
   "execution_count": 158,
   "id": "6847e2ea-d104-430d-8c0e-00e3842c2cd5",
   "metadata": {},
   "outputs": [],
   "source": [
    "df.drop(columns='Cabin_num', inplace=True)\n",
    "df_test.drop(columns='Cabin_num', inplace=True)"
   ]
  },
  {
   "cell_type": "code",
   "execution_count": 159,
   "id": "559c4c19-6c8c-4191-a87d-fa5bbc2bc742",
   "metadata": {},
   "outputs": [],
   "source": [
    "import numpy as np\n",
    "# Sütundaki null değerleri say\n",
    "null_count = df['Cabin_deck'].isnull().sum()\n",
    "\n",
    "# En çok tekrar eden ilk ve ikinci değerleri belirle\n",
    "most_common_values = df['Cabin_deck'].value_counts().index[:2].tolist()\n",
    "\n",
    "# Null değerlerin yarısını en çok tekrar eden ilk değerle, diğer yarısını ise en çok tekrar eden ikinci değerle doldur\n",
    "df['Cabin_deck'].fillna({i: np.random.choice(most_common_values, p=[0.5, 0.5]) for i in df.index[df['Cabin_deck'].isnull()].tolist()[:null_count//2] + \n",
    "                        df.index[df['Cabin_deck'].isnull()].tolist()[null_count//2:]}, inplace=True)"
   ]
  },
  {
   "cell_type": "code",
   "execution_count": 160,
   "id": "1926b8d5-a7fc-4726-b89e-33ee08ffd4c2",
   "metadata": {},
   "outputs": [],
   "source": [
    "# Sütundaki null değerleri say\n",
    "null_count = df_test['Cabin_deck'].isnull().sum()\n",
    "\n",
    "# En çok tekrar eden ilk ve ikinci değerleri belirle\n",
    "most_common_values = df_test['Cabin_deck'].value_counts().index[:2].tolist()\n",
    "\n",
    "# Null değerlerin yarısını en çok tekrar eden ilk değerle, diğer yarısını ise en çok tekrar eden ikinci değerle doldur\n",
    "df_test['Cabin_deck'].fillna({i: np.random.choice(most_common_values, p=[0.5, 0.5]) for i in df_test.index[df_test['Cabin_deck'].isnull()].tolist()[\n",
    "    :null_count//2] + df_test.index[df_test['Cabin_deck'].isnull()].tolist()[null_count//2:]}, inplace=True)"
   ]
  },
  {
   "cell_type": "code",
   "execution_count": 161,
   "id": "4fa5da4c-f08c-4370-a2d7-1514e0f01571",
   "metadata": {},
   "outputs": [
    {
     "data": {
      "text/plain": [
       "F    2899\n",
       "G    2653\n",
       "E     876\n",
       "B     779\n",
       "C     747\n",
       "D     478\n",
       "A     256\n",
       "T       5\n",
       "Name: Cabin_deck, dtype: int64"
      ]
     },
     "execution_count": 161,
     "metadata": {},
     "output_type": "execute_result"
    }
   ],
   "source": [
    "df.Cabin_deck.value_counts()"
   ]
  },
  {
   "cell_type": "code",
   "execution_count": 162,
   "id": "6d697003-fbef-4f7f-a667-0de6e9b6ad62",
   "metadata": {},
   "outputs": [],
   "source": [
    "mapping_cabin_d = {'A': 1, 'B': 2, 'C': 2,'D': 2, 'E': 3, 'F': 4,'G':5,'T':6}\n",
    "\n",
    "# replace() metodunu kullanarak değişikliği uyguluyoruz\n",
    "df['Cabin_deck'] = df['Cabin_deck'].replace(mapping_cabin_d)\n",
    "df_test['Cabin_deck'] = df_test['Cabin_deck'].replace(mapping_cabin_d)\n",
    "\n",
    "df_test['Cabin_deck'] = df_test['Cabin_deck'].astype(int)\n",
    "df['Cabin_deck'] = df['Cabin_deck'].astype(int)"
   ]
  },
  {
   "cell_type": "code",
   "execution_count": 163,
   "id": "d8c9ddcd-3cc4-4241-af77-3dca0bf8012c",
   "metadata": {},
   "outputs": [
    {
     "data": {
      "text/plain": [
       "S    4288\n",
       "P    4206\n",
       "Name: Cabin_side, dtype: int64"
      ]
     },
     "execution_count": 163,
     "metadata": {},
     "output_type": "execute_result"
    }
   ],
   "source": [
    "df.Cabin_side.value_counts()"
   ]
  },
  {
   "cell_type": "code",
   "execution_count": 164,
   "id": "19b075d3-287c-494a-a73d-c4c3c49c7f24",
   "metadata": {},
   "outputs": [],
   "source": [
    "# Sütundaki null değerleri say\n",
    "null_count = df['Cabin_side'].isnull().sum()\n",
    "\n",
    "# En çok tekrar eden ilk ve ikinci değerleri belirle\n",
    "most_common_values = df['Cabin_side'].value_counts().index[:2].tolist()\n",
    "\n",
    "# Null değerlerin yarısını en çok tekrar eden ilk değerle, diğer yarısını ise en çok tekrar eden ikinci değerle doldur\n",
    "df['Cabin_side'].fillna({i: np.random.choice(most_common_values, p=[0.5, 0.5]) for i in df.index[df['Cabin_side'].isnull()].tolist()[:null_count//2] + \n",
    "                        df.index[df['Cabin_side'].isnull()].tolist()[null_count//2:]}, inplace=True)"
   ]
  },
  {
   "cell_type": "code",
   "execution_count": 165,
   "id": "ecc384ab-c1f2-4617-b813-88659558a5c2",
   "metadata": {},
   "outputs": [],
   "source": [
    "null_count = df_test['Cabin_side'].isnull().sum()\n",
    "\n",
    "# En çok tekrar eden ilk ve ikinci değerleri belirle\n",
    "most_common_values = df_test['Cabin_side'].value_counts().index[:2].tolist()\n",
    "\n",
    "# Null değerlerin yarısını en çok tekrar eden ilk değerle, diğer yarısını ise en çok tekrar eden ikinci değerle doldur\n",
    "df_test['Cabin_side'].fillna({i: np.random.choice(most_common_values, p=[0.5, 0.5]) for i in df_test.index[df_test['Cabin_side'].isnull()].tolist()[\n",
    "    :null_count//2] + df_test.index[df_test['Cabin_side'].isnull()].tolist()[null_count//2:]}, inplace=True)"
   ]
  },
  {
   "cell_type": "code",
   "execution_count": 166,
   "id": "cb006c81-2816-4f8d-ab0c-0b2e94ccf5a8",
   "metadata": {},
   "outputs": [
    {
     "data": {
      "text/plain": [
       "S    4395\n",
       "P    4298\n",
       "Name: Cabin_side, dtype: int64"
      ]
     },
     "execution_count": 166,
     "metadata": {},
     "output_type": "execute_result"
    }
   ],
   "source": [
    "df.Cabin_side.value_counts()"
   ]
  },
  {
   "cell_type": "code",
   "execution_count": 167,
   "id": "43ecd0d6-2013-46a9-bcda-5f885a85eefb",
   "metadata": {},
   "outputs": [],
   "source": [
    "'''\n",
    "S:1\n",
    "P:0\n",
    "'''\n",
    "\n",
    "df['Cabin_side'] = df['Cabin_side'].replace({'S': 1, 'P': 0})\n",
    "df_test['Cabin_side'] = df_test['Cabin_side'].replace({'S': 1, 'P': 0})\n",
    "df['Cabin_side'] = df['Cabin_side'].astype(int)\n",
    "df_test['Cabin_side'] = df_test['Cabin_side'].astype(int)"
   ]
  },
  {
   "cell_type": "code",
   "execution_count": 168,
   "id": "d75745a2-06f1-4416-aa73-2f81330eb972",
   "metadata": {},
   "outputs": [
    {
     "data": {
      "text/plain": [
       "TRAPPIST-1e      5915\n",
       "55 Cancri e      1800\n",
       "PSO J318.5-22     796\n",
       "Name: Destination, dtype: int64"
      ]
     },
     "execution_count": 168,
     "metadata": {},
     "output_type": "execute_result"
    }
   ],
   "source": [
    "df.Destination.value_counts()"
   ]
  },
  {
   "cell_type": "code",
   "execution_count": 169,
   "id": "62aeaf59-4abf-42f2-8ad0-a14b3134b1bd",
   "metadata": {},
   "outputs": [
    {
     "data": {
      "text/plain": [
       "TRAPPIST-1e      2956\n",
       "55 Cancri e       841\n",
       "PSO J318.5-22     388\n",
       "Name: Destination, dtype: int64"
      ]
     },
     "execution_count": 169,
     "metadata": {},
     "output_type": "execute_result"
    }
   ],
   "source": [
    "df_test.Destination.value_counts()"
   ]
  },
  {
   "cell_type": "code",
   "execution_count": 170,
   "id": "988af720-b1f8-4667-8718-66fd719cf24e",
   "metadata": {},
   "outputs": [],
   "source": [
    "df['Destination'].fillna(value='TRAPPIST-1e', limit=int(5915*182/8692), inplace=True)\n",
    "df['Destination'].fillna(value='55 Cancri e', limit=int(1800*182/8692), inplace=True)\n",
    "df['Destination'].fillna(value='PSO J318.5-22', limit=int(796*192/8692), inplace=True)\n",
    "\n",
    "# Kalan null değerleri veri setinin moduyla dolduralım\n",
    "df['Destination'].fillna(df['Destination'].mode()[0], inplace=True)"
   ]
  },
  {
   "cell_type": "code",
   "execution_count": 171,
   "id": "a5449093-3fa2-48a2-9fd4-d0275ccaef66",
   "metadata": {},
   "outputs": [],
   "source": [
    "df_test['Destination'].fillna(value='TRAPPIST-1e', limit=int(2956*92/4277), inplace=True)\n",
    "df_test['Destination'].fillna(value='55 Cancri e', limit=int(841*92/4277), inplace=True)\n",
    "df_test['Destination'].fillna(value='PSO J318.5-22', limit=int(388*92/4277), inplace=True)\n",
    "\n",
    "# Kalan null değerleri veri setinin moduyla dolduralım\n",
    "df_test['Destination'].fillna(df_test['Destination'].mode()[0], inplace=True)"
   ]
  },
  {
   "cell_type": "code",
   "execution_count": 172,
   "id": "221b6c27-98c7-4df9-8e9b-94e3b0391597",
   "metadata": {},
   "outputs": [],
   "source": [
    "df = pd.get_dummies(df, columns = [\"Destination\"])\n",
    "df_test = pd.get_dummies(df_test, columns = [\"Destination\"])"
   ]
  },
  {
   "cell_type": "code",
   "execution_count": 173,
   "id": "1232d66b-53d5-4f21-a821-7f24cb51f75c",
   "metadata": {},
   "outputs": [],
   "source": [
    "df[\"Age\"].fillna(df.Age.mean(), inplace=True)\n",
    "df_test[\"Age\"].fillna(df.Age.mean(), inplace=True)"
   ]
  },
  {
   "cell_type": "code",
   "execution_count": 174,
   "id": "4b4e8f89-09f3-46e1-a726-b41f7e8ac4df",
   "metadata": {},
   "outputs": [],
   "source": [
    "from sklearn import preprocessing"
   ]
  },
  {
   "cell_type": "code",
   "execution_count": 175,
   "id": "fe1f5d20-d6cc-44f9-8abf-b4ac61e75691",
   "metadata": {},
   "outputs": [
    {
     "data": {
      "text/plain": [
       "<AxesSubplot:ylabel='Density'>"
      ]
     },
     "execution_count": 175,
     "metadata": {},
     "output_type": "execute_result"
    },
    {
     "data": {
      "image/png": "[encoded data removed]",
      "text/plain": [
       "<Figure size 432x288 with 1 Axes>"
      ]
     },
     "metadata": {
      "needs_background": "light"
     },
     "output_type": "display_data"
    }
   ],
   "source": [
    "sns.distplot(preprocessing.minmax_scale(df.Age))"
   ]
  },
  {
   "cell_type": "code",
   "execution_count": 176,
   "id": "2a81ba04-97c6-46fa-b0d1-a55ecd99729b",
   "metadata": {},
   "outputs": [],
   "source": [
    "df[\"Age\"]=preprocessing.minmax_scale(df.Age)\n",
    "df_test[\"Age\"]=preprocessing.minmax_scale(df_test.Age)"
   ]
  },
  {
   "cell_type": "code",
   "execution_count": 177,
   "id": "83ca92d1-9d6e-49cb-89b3-ba9c44a419f3",
   "metadata": {},
   "outputs": [
    {
     "data": {
      "text/plain": [
       "False    4110\n",
       "True       74\n",
       "Name: VIP, dtype: int64"
      ]
     },
     "execution_count": 177,
     "metadata": {},
     "output_type": "execute_result"
    }
   ],
   "source": [
    "df_test.VIP.value_counts()"
   ]
  },
  {
   "cell_type": "code",
   "execution_count": 178,
   "id": "a0fd28c5-acf2-4a73-9c78-a2a4b22a6815",
   "metadata": {},
   "outputs": [],
   "source": [
    "df['VIP'].fillna(value='False', limit=int(8291*203/8692), inplace=True)\n",
    "df['VIP'].fillna(value='True', limit=int(199*203/8692), inplace=True)\n",
    "\n",
    "# Kalan null değerleri veri setinin moduyla dolduralım\n",
    "df['VIP'].fillna(df['VIP'].mode()[0], inplace=True)"
   ]
  },
  {
   "cell_type": "code",
   "execution_count": 179,
   "id": "2756912b-5d69-4bea-bc32-c17a73ca43d0",
   "metadata": {},
   "outputs": [],
   "source": [
    "df_test['VIP'].fillna(value='False', limit=int(4110*93/4277), inplace=True)\n",
    "df_test['VIP'].fillna(value='True', limit=int(74*93/4277), inplace=True)\n",
    "\n",
    "# Kalan null değerleri veri setinin moduyla dolduralım\n",
    "df_test['VIP'].fillna(df_test['VIP'].mode()[0], inplace=True)"
   ]
  },
  {
   "cell_type": "code",
   "execution_count": 180,
   "id": "2755630b-34b7-410d-a091-b011c1d81add",
   "metadata": {},
   "outputs": [],
   "source": [
    "df['VIP'] = df['VIP'].replace({'True': 1, 'False': 0})\n",
    "df_test['VIP'] = df_test['VIP'].replace({'True': 1, 'False': 0})\n",
    "df['VIP'] = df['VIP'].astype(int)\n",
    "df_test['VIP'] = df_test['VIP'].astype(int)"
   ]
  },
  {
   "cell_type": "code",
   "execution_count": 181,
   "id": "c7be0695-2d30-4889-b880-0158b6fe13a3",
   "metadata": {},
   "outputs": [],
   "source": [
    "df[\"RoomService\"].fillna(df.RoomService.mean(), inplace=True)\n",
    "df_test[\"RoomService\"].fillna(df.RoomService.mean(), inplace=True)"
   ]
  },
  {
   "cell_type": "code",
   "execution_count": 182,
   "id": "d59a5745-1f9d-4a75-ade6-35dc2dfc92b5",
   "metadata": {},
   "outputs": [
    {
     "data": {
      "text/plain": [
       "<AxesSubplot:ylabel='Density'>"
      ]
     },
     "execution_count": 182,
     "metadata": {},
     "output_type": "execute_result"
    },
    {
     "data": {
      "image/png": "[encoded data removed]",
      "text/plain": [
       "<Figure size 432x288 with 1 Axes>"
      ]
     },
     "metadata": {
      "needs_background": "light"
     },
     "output_type": "display_data"
    }
   ],
   "source": [
    "sns.distplot(preprocessing.minmax_scale(df.RoomService))"
   ]
  },
  {
   "cell_type": "code",
   "execution_count": 183,
   "id": "f5c1285b-1222-42a7-a575-d58e5932f47a",
   "metadata": {},
   "outputs": [],
   "source": [
    "df[\"RoomService\"]=preprocessing.minmax_scale(df.RoomService)\n",
    "df_test[\"RoomService\"]=preprocessing.minmax_scale(df_test.RoomService)"
   ]
  },
  {
   "cell_type": "code",
   "execution_count": 184,
   "id": "d9a4cf27-42cb-43f7-a8e7-115288d1d1bc",
   "metadata": {},
   "outputs": [],
   "source": [
    "df[\"FoodCourt\"].fillna(df.FoodCourt.mean(), inplace=True)\n",
    "df_test[\"FoodCourt\"].fillna(df.FoodCourt.mean(), inplace=True)\n",
    "\n",
    "df[\"FoodCourt\"]=preprocessing.minmax_scale(df.FoodCourt)\n",
    "df_test[\"FoodCourt\"]=preprocessing.minmax_scale(df_test.FoodCourt)"
   ]
  },
  {
   "cell_type": "code",
   "execution_count": 185,
   "id": "d8e9b354-0e8f-4047-97f9-063ec1eb6a5e",
   "metadata": {},
   "outputs": [
    {
     "data": {
      "text/plain": [
       "<AxesSubplot:xlabel='FoodCourt', ylabel='Density'>"
      ]
     },
     "execution_count": 185,
     "metadata": {},
     "output_type": "execute_result"
    },
    {
     "data": {
      "image/png": "[encoded data removed]",
      "text/plain": [
       "<Figure size 432x288 with 1 Axes>"
      ]
     },
     "metadata": {
      "needs_background": "light"
     },
     "output_type": "display_data"
    }
   ],
   "source": [
    "sns.distplot(df.FoodCourt)"
   ]
  },
  {
   "cell_type": "code",
   "execution_count": 186,
   "id": "b356fd48-8a0e-48fb-9b08-2ff1602bcf06",
   "metadata": {},
   "outputs": [],
   "source": [
    "df[\"ShoppingMall\"].fillna(df.ShoppingMall.mean(), inplace=True)\n",
    "df_test[\"ShoppingMall\"].fillna(df.ShoppingMall.mean(), inplace=True)\n",
    "\n",
    "df[\"ShoppingMall\"]=preprocessing.minmax_scale(df.ShoppingMall)\n",
    "df_test[\"ShoppingMall\"]=preprocessing.minmax_scale(df_test.ShoppingMall)"
   ]
  },
  {
   "cell_type": "code",
   "execution_count": 187,
   "id": "c052ede1-de96-4147-8639-fc8a04c372d9",
   "metadata": {},
   "outputs": [
    {
     "data": {
      "text/plain": [
       "<AxesSubplot:xlabel='ShoppingMall', ylabel='Density'>"
      ]
     },
     "execution_count": 187,
     "metadata": {},
     "output_type": "execute_result"
    },
    {
     "data": {
      "image/png": "[encoded data removed]",
      "text/plain": [
       "<Figure size 432x288 with 1 Axes>"
      ]
     },
     "metadata": {
      "needs_background": "light"
     },
     "output_type": "display_data"
    }
   ],
   "source": [
    "sns.distplot(df.ShoppingMall)"
   ]
  },
  {
   "cell_type": "code",
   "execution_count": 188,
   "id": "883d951d-3e3c-4f7b-9463-4dc5df673ca5",
   "metadata": {},
   "outputs": [],
   "source": [
    "df[\"Spa\"].fillna(df.Spa.mean(), inplace=True)\n",
    "df_test[\"Spa\"].fillna(df.Spa.mean(), inplace=True)\n",
    "\n",
    "df[\"Spa\"]=preprocessing.minmax_scale(df.Spa)\n",
    "df_test[\"Spa\"]=preprocessing.minmax_scale(df_test.Spa)"
   ]
  },
  {
   "cell_type": "code",
   "execution_count": 189,
   "id": "1585aa1d-f041-4790-9c1f-1524a39dfc8b",
   "metadata": {},
   "outputs": [
    {
     "data": {
      "text/plain": [
       "<AxesSubplot:xlabel='Spa', ylabel='Density'>"
      ]
     },
     "execution_count": 189,
     "metadata": {},
     "output_type": "execute_result"
    },
    {
     "data": {
      "image/png": "[encoded data removed]",
      "text/plain": [
       "<Figure size 432x288 with 1 Axes>"
      ]
     },
     "metadata": {
      "needs_background": "light"
     },
     "output_type": "display_data"
    }
   ],
   "source": [
    "sns.distplot(df.Spa)"
   ]
  },
  {
   "cell_type": "code",
   "execution_count": 190,
   "id": "9fcf9b7a-bf3b-4f53-bc7b-e243ab419480",
   "metadata": {},
   "outputs": [],
   "source": [
    "df[\"VRDeck\"].fillna(df.VRDeck.mean(), inplace=True)\n",
    "df_test[\"VRDeck\"].fillna(df.VRDeck.mean(), inplace=True)\n",
    "\n",
    "df[\"VRDeck\"]=preprocessing.minmax_scale(df.VRDeck)\n",
    "df_test[\"VRDeck\"]=preprocessing.minmax_scale(df_test.VRDeck)"
   ]
  },
  {
   "cell_type": "code",
   "execution_count": 191,
   "id": "a98587c8-e1bb-4cfc-b48a-0e48e2a48cb9",
   "metadata": {},
   "outputs": [],
   "source": [
    "df['Transported'] = df['Transported'].replace({'True': 1, 'False': 0})\n",
    "\n",
    "df['Transported'] = df['Transported'].astype(int)\n"
   ]
  },
  {
   "cell_type": "code",
   "execution_count": 271,
   "id": "9c82329b-c311-4d09-93f6-cad979611a62",
   "metadata": {},
   "outputs": [],
   "source": [
    "from sklearn.preprocessing import Normalizer\n",
    "\n",
    "\n",
    "\n",
    "\n",
    "\n",
    "normalizer = Normalizer()\n",
    "df[['Age', 'RoomService','FoodCourt','ShoppingMall','Spa','VRDeck']] = normalizer.fit_transform(df[[\n",
    "    'Age', 'RoomService','FoodCourt','ShoppingMall','Spa','VRDeck']])"
   ]
  },
  {
   "cell_type": "code",
   "execution_count": 276,
   "id": "23921f00-ccb1-42f5-bbfa-5b31265b462e",
   "metadata": {},
   "outputs": [],
   "source": [
    "df_test[['Age', 'RoomService','FoodCourt','ShoppingMall','Spa','VRDeck']] = normalizer.fit_transform(df_test[[\n",
    "    'Age', 'RoomService','FoodCourt','ShoppingMall','Spa','VRDeck']])"
   ]
  },
  {
   "cell_type": "code",
   "execution_count": 273,
   "id": "db650ec1-6a6f-483c-bfb6-65ab2642a407",
   "metadata": {},
   "outputs": [
    {
     "data": {
      "text/html": [
       "<style type=\"text/css\">\n",
       "</style>\n",
       "<table id=\"T_bd63d\">\n",
       "  <thead>\n",
       "    <tr>\n",
       "      <th class=\"blank level0\" >&nbsp;</th>\n",
       "      <th id=\"T_bd63d_level0_col0\" class=\"col_heading level0 col0\" >Description</th>\n",
       "      <th id=\"T_bd63d_level0_col1\" class=\"col_heading level0 col1\" >Value</th>\n",
       "    </tr>\n",
       "  </thead>\n",
       "  <tbody>\n",
       "    <tr>\n",
       "      <th id=\"T_bd63d_level0_row0\" class=\"row_heading level0 row0\" >0</th>\n",
       "      <td id=\"T_bd63d_row0_col0\" class=\"data row0 col0\" >Session id</td>\n",
       "      <td id=\"T_bd63d_row0_col1\" class=\"data row0 col1\" >5228</td>\n",
       "    </tr>\n",
       "    <tr>\n",
       "      <th id=\"T_bd63d_level0_row1\" class=\"row_heading level0 row1\" >1</th>\n",
       "      <td id=\"T_bd63d_row1_col0\" class=\"data row1 col0\" >Target</td>\n",
       "      <td id=\"T_bd63d_row1_col1\" class=\"data row1 col1\" >Transported</td>\n",
       "    </tr>\n",
       "    <tr>\n",
       "      <th id=\"T_bd63d_level0_row2\" class=\"row_heading level0 row2\" >2</th>\n",
       "      <td id=\"T_bd63d_row2_col0\" class=\"data row2 col0\" >Target type</td>\n",
       "      <td id=\"T_bd63d_row2_col1\" class=\"data row2 col1\" >Binary</td>\n",
       "    </tr>\n",
       "    <tr>\n",
       "      <th id=\"T_bd63d_level0_row3\" class=\"row_heading level0 row3\" >3</th>\n",
       "      <td id=\"T_bd63d_row3_col0\" class=\"data row3 col0\" >Original data shape</td>\n",
       "      <td id=\"T_bd63d_row3_col1\" class=\"data row3 col1\" >(8693, 17)</td>\n",
       "    </tr>\n",
       "    <tr>\n",
       "      <th id=\"T_bd63d_level0_row4\" class=\"row_heading level0 row4\" >4</th>\n",
       "      <td id=\"T_bd63d_row4_col0\" class=\"data row4 col0\" >Transformed data shape</td>\n",
       "      <td id=\"T_bd63d_row4_col1\" class=\"data row4 col1\" >(8693, 17)</td>\n",
       "    </tr>\n",
       "    <tr>\n",
       "      <th id=\"T_bd63d_level0_row5\" class=\"row_heading level0 row5\" >5</th>\n",
       "      <td id=\"T_bd63d_row5_col0\" class=\"data row5 col0\" >Transformed train set shape</td>\n",
       "      <td id=\"T_bd63d_row5_col1\" class=\"data row5 col1\" >(6085, 17)</td>\n",
       "    </tr>\n",
       "    <tr>\n",
       "      <th id=\"T_bd63d_level0_row6\" class=\"row_heading level0 row6\" >6</th>\n",
       "      <td id=\"T_bd63d_row6_col0\" class=\"data row6 col0\" >Transformed test set shape</td>\n",
       "      <td id=\"T_bd63d_row6_col1\" class=\"data row6 col1\" >(2608, 17)</td>\n",
       "    </tr>\n",
       "    <tr>\n",
       "      <th id=\"T_bd63d_level0_row7\" class=\"row_heading level0 row7\" >7</th>\n",
       "      <td id=\"T_bd63d_row7_col0\" class=\"data row7 col0\" >Numeric features</td>\n",
       "      <td id=\"T_bd63d_row7_col1\" class=\"data row7 col1\" >16</td>\n",
       "    </tr>\n",
       "  </tbody>\n",
       "</table>\n"
      ],
      "text/plain": [
       "<pandas.io.formats.style.Styler at 0x1d9f7181d00>"
      ]
     },
     "metadata": {},
     "output_type": "display_data"
    },
    {
     "data": {
      "text/html": [],
      "text/plain": [
       "<IPython.core.display.HTML object>"
      ]
     },
     "metadata": {},
     "output_type": "display_data"
    },
    {
     "data": {
      "text/html": [
       "<style type=\"text/css\">\n",
       "#T_3e2eb th {\n",
       "  text-align: left;\n",
       "}\n",
       "#T_3e2eb_row0_col0, #T_3e2eb_row1_col0, #T_3e2eb_row1_col1, #T_3e2eb_row1_col2, #T_3e2eb_row1_col3, #T_3e2eb_row1_col4, #T_3e2eb_row1_col5, #T_3e2eb_row1_col6, #T_3e2eb_row1_col7, #T_3e2eb_row2_col0, #T_3e2eb_row2_col1, #T_3e2eb_row2_col2, #T_3e2eb_row2_col3, #T_3e2eb_row2_col4, #T_3e2eb_row2_col5, #T_3e2eb_row2_col6, #T_3e2eb_row2_col7, #T_3e2eb_row3_col0, #T_3e2eb_row3_col1, #T_3e2eb_row3_col2, #T_3e2eb_row3_col3, #T_3e2eb_row3_col4, #T_3e2eb_row3_col5, #T_3e2eb_row3_col6, #T_3e2eb_row3_col7, #T_3e2eb_row4_col0, #T_3e2eb_row4_col1, #T_3e2eb_row4_col2, #T_3e2eb_row4_col3, #T_3e2eb_row4_col4, #T_3e2eb_row4_col5, #T_3e2eb_row4_col6, #T_3e2eb_row4_col7, #T_3e2eb_row5_col0, #T_3e2eb_row5_col1, #T_3e2eb_row5_col2, #T_3e2eb_row5_col3, #T_3e2eb_row5_col4, #T_3e2eb_row5_col5, #T_3e2eb_row5_col6, #T_3e2eb_row5_col7, #T_3e2eb_row6_col0, #T_3e2eb_row6_col1, #T_3e2eb_row6_col2, #T_3e2eb_row6_col3, #T_3e2eb_row6_col4, #T_3e2eb_row6_col5, #T_3e2eb_row6_col6, #T_3e2eb_row6_col7, #T_3e2eb_row7_col0, #T_3e2eb_row7_col1, #T_3e2eb_row7_col2, #T_3e2eb_row7_col3, #T_3e2eb_row7_col4, #T_3e2eb_row7_col5, #T_3e2eb_row7_col6, #T_3e2eb_row7_col7, #T_3e2eb_row8_col0, #T_3e2eb_row8_col1, #T_3e2eb_row8_col2, #T_3e2eb_row8_col3, #T_3e2eb_row8_col4, #T_3e2eb_row8_col5, #T_3e2eb_row8_col6, #T_3e2eb_row8_col7, #T_3e2eb_row9_col0, #T_3e2eb_row9_col1, #T_3e2eb_row9_col2, #T_3e2eb_row9_col3, #T_3e2eb_row9_col4, #T_3e2eb_row9_col5, #T_3e2eb_row9_col6, #T_3e2eb_row9_col7, #T_3e2eb_row10_col0, #T_3e2eb_row10_col1, #T_3e2eb_row10_col2, #T_3e2eb_row10_col3, #T_3e2eb_row10_col4, #T_3e2eb_row10_col5, #T_3e2eb_row10_col6, #T_3e2eb_row10_col7, #T_3e2eb_row11_col0, #T_3e2eb_row11_col1, #T_3e2eb_row11_col2, #T_3e2eb_row11_col3, #T_3e2eb_row11_col4, #T_3e2eb_row11_col5, #T_3e2eb_row11_col6, #T_3e2eb_row11_col7, #T_3e2eb_row12_col0, #T_3e2eb_row12_col1, #T_3e2eb_row12_col2, #T_3e2eb_row12_col3, #T_3e2eb_row12_col4, #T_3e2eb_row12_col5, #T_3e2eb_row12_col6, #T_3e2eb_row12_col7, #T_3e2eb_row13_col0, #T_3e2eb_row13_col1, #T_3e2eb_row13_col2, #T_3e2eb_row13_col3, #T_3e2eb_row13_col4, #T_3e2eb_row13_col5, #T_3e2eb_row13_col6, #T_3e2eb_row13_col7, #T_3e2eb_row14_col0, #T_3e2eb_row14_col1, #T_3e2eb_row14_col2, #T_3e2eb_row14_col3, #T_3e2eb_row14_col4, #T_3e2eb_row14_col5, #T_3e2eb_row14_col6, #T_3e2eb_row14_col7 {\n",
       "  text-align: left;\n",
       "}\n",
       "#T_3e2eb_row0_col1, #T_3e2eb_row0_col2, #T_3e2eb_row0_col3, #T_3e2eb_row0_col4, #T_3e2eb_row0_col5, #T_3e2eb_row0_col6, #T_3e2eb_row0_col7 {\n",
       "  text-align: left;\n",
       "  background-color: yellow;\n",
       "}\n",
       "#T_3e2eb_row0_col8, #T_3e2eb_row1_col8, #T_3e2eb_row2_col8, #T_3e2eb_row3_col8, #T_3e2eb_row4_col8, #T_3e2eb_row5_col8, #T_3e2eb_row6_col8, #T_3e2eb_row7_col8, #T_3e2eb_row8_col8, #T_3e2eb_row9_col8, #T_3e2eb_row10_col8, #T_3e2eb_row11_col8, #T_3e2eb_row12_col8, #T_3e2eb_row14_col8 {\n",
       "  text-align: left;\n",
       "  background-color: lightgrey;\n",
       "}\n",
       "#T_3e2eb_row13_col8 {\n",
       "  text-align: left;\n",
       "  background-color: yellow;\n",
       "  background-color: lightgrey;\n",
       "}\n",
       "</style>\n",
       "<table id=\"T_3e2eb\">\n",
       "  <thead>\n",
       "    <tr>\n",
       "      <th class=\"blank level0\" >&nbsp;</th>\n",
       "      <th id=\"T_3e2eb_level0_col0\" class=\"col_heading level0 col0\" >Model</th>\n",
       "      <th id=\"T_3e2eb_level0_col1\" class=\"col_heading level0 col1\" >Accuracy</th>\n",
       "      <th id=\"T_3e2eb_level0_col2\" class=\"col_heading level0 col2\" >AUC</th>\n",
       "      <th id=\"T_3e2eb_level0_col3\" class=\"col_heading level0 col3\" >Recall</th>\n",
       "      <th id=\"T_3e2eb_level0_col4\" class=\"col_heading level0 col4\" >Prec.</th>\n",
       "      <th id=\"T_3e2eb_level0_col5\" class=\"col_heading level0 col5\" >F1</th>\n",
       "      <th id=\"T_3e2eb_level0_col6\" class=\"col_heading level0 col6\" >Kappa</th>\n",
       "      <th id=\"T_3e2eb_level0_col7\" class=\"col_heading level0 col7\" >MCC</th>\n",
       "      <th id=\"T_3e2eb_level0_col8\" class=\"col_heading level0 col8\" >TT (Sec)</th>\n",
       "    </tr>\n",
       "  </thead>\n",
       "  <tbody>\n",
       "    <tr>\n",
       "      <th id=\"T_3e2eb_level0_row0\" class=\"row_heading level0 row0\" >catboost</th>\n",
       "      <td id=\"T_3e2eb_row0_col0\" class=\"data row0 col0\" >CatBoost Classifier</td>\n",
       "      <td id=\"T_3e2eb_row0_col1\" class=\"data row0 col1\" >0.8018</td>\n",
       "      <td id=\"T_3e2eb_row0_col2\" class=\"data row0 col2\" >0.8853</td>\n",
       "      <td id=\"T_3e2eb_row0_col3\" class=\"data row0 col3\" >0.8018</td>\n",
       "      <td id=\"T_3e2eb_row0_col4\" class=\"data row0 col4\" >0.8029</td>\n",
       "      <td id=\"T_3e2eb_row0_col5\" class=\"data row0 col5\" >0.8016</td>\n",
       "      <td id=\"T_3e2eb_row0_col6\" class=\"data row0 col6\" >0.6034</td>\n",
       "      <td id=\"T_3e2eb_row0_col7\" class=\"data row0 col7\" >0.6046</td>\n",
       "      <td id=\"T_3e2eb_row0_col8\" class=\"data row0 col8\" >0.9830</td>\n",
       "    </tr>\n",
       "    <tr>\n",
       "      <th id=\"T_3e2eb_level0_row1\" class=\"row_heading level0 row1\" >lightgbm</th>\n",
       "      <td id=\"T_3e2eb_row1_col0\" class=\"data row1 col0\" >Light Gradient Boosting Machine</td>\n",
       "      <td id=\"T_3e2eb_row1_col1\" class=\"data row1 col1\" >0.7993</td>\n",
       "      <td id=\"T_3e2eb_row1_col2\" class=\"data row1 col2\" >0.8793</td>\n",
       "      <td id=\"T_3e2eb_row1_col3\" class=\"data row1 col3\" >0.7993</td>\n",
       "      <td id=\"T_3e2eb_row1_col4\" class=\"data row1 col4\" >0.8005</td>\n",
       "      <td id=\"T_3e2eb_row1_col5\" class=\"data row1 col5\" >0.7991</td>\n",
       "      <td id=\"T_3e2eb_row1_col6\" class=\"data row1 col6\" >0.5985</td>\n",
       "      <td id=\"T_3e2eb_row1_col7\" class=\"data row1 col7\" >0.5998</td>\n",
       "      <td id=\"T_3e2eb_row1_col8\" class=\"data row1 col8\" >0.4390</td>\n",
       "    </tr>\n",
       "    <tr>\n",
       "      <th id=\"T_3e2eb_level0_row2\" class=\"row_heading level0 row2\" >gbc</th>\n",
       "      <td id=\"T_3e2eb_row2_col0\" class=\"data row2 col0\" >Gradient Boosting Classifier</td>\n",
       "      <td id=\"T_3e2eb_row2_col1\" class=\"data row2 col1\" >0.7964</td>\n",
       "      <td id=\"T_3e2eb_row2_col2\" class=\"data row2 col2\" >0.8771</td>\n",
       "      <td id=\"T_3e2eb_row2_col3\" class=\"data row2 col3\" >0.7964</td>\n",
       "      <td id=\"T_3e2eb_row2_col4\" class=\"data row2 col4\" >0.7978</td>\n",
       "      <td id=\"T_3e2eb_row2_col5\" class=\"data row2 col5\" >0.7961</td>\n",
       "      <td id=\"T_3e2eb_row2_col6\" class=\"data row2 col6\" >0.5926</td>\n",
       "      <td id=\"T_3e2eb_row2_col7\" class=\"data row2 col7\" >0.5940</td>\n",
       "      <td id=\"T_3e2eb_row2_col8\" class=\"data row2 col8\" >0.4120</td>\n",
       "    </tr>\n",
       "    <tr>\n",
       "      <th id=\"T_3e2eb_level0_row3\" class=\"row_heading level0 row3\" >rf</th>\n",
       "      <td id=\"T_3e2eb_row3_col0\" class=\"data row3 col0\" >Random Forest Classifier</td>\n",
       "      <td id=\"T_3e2eb_row3_col1\" class=\"data row3 col1\" >0.7877</td>\n",
       "      <td id=\"T_3e2eb_row3_col2\" class=\"data row3 col2\" >0.8748</td>\n",
       "      <td id=\"T_3e2eb_row3_col3\" class=\"data row3 col3\" >0.7877</td>\n",
       "      <td id=\"T_3e2eb_row3_col4\" class=\"data row3 col4\" >0.7886</td>\n",
       "      <td id=\"T_3e2eb_row3_col5\" class=\"data row3 col5\" >0.7875</td>\n",
       "      <td id=\"T_3e2eb_row3_col6\" class=\"data row3 col6\" >0.5753</td>\n",
       "      <td id=\"T_3e2eb_row3_col7\" class=\"data row3 col7\" >0.5763</td>\n",
       "      <td id=\"T_3e2eb_row3_col8\" class=\"data row3 col8\" >0.3790</td>\n",
       "    </tr>\n",
       "    <tr>\n",
       "      <th id=\"T_3e2eb_level0_row4\" class=\"row_heading level0 row4\" >et</th>\n",
       "      <td id=\"T_3e2eb_row4_col0\" class=\"data row4 col0\" >Extra Trees Classifier</td>\n",
       "      <td id=\"T_3e2eb_row4_col1\" class=\"data row4 col1\" >0.7865</td>\n",
       "      <td id=\"T_3e2eb_row4_col2\" class=\"data row4 col2\" >0.8638</td>\n",
       "      <td id=\"T_3e2eb_row4_col3\" class=\"data row4 col3\" >0.7865</td>\n",
       "      <td id=\"T_3e2eb_row4_col4\" class=\"data row4 col4\" >0.7871</td>\n",
       "      <td id=\"T_3e2eb_row4_col5\" class=\"data row4 col5\" >0.7864</td>\n",
       "      <td id=\"T_3e2eb_row4_col6\" class=\"data row4 col6\" >0.5729</td>\n",
       "      <td id=\"T_3e2eb_row4_col7\" class=\"data row4 col7\" >0.5735</td>\n",
       "      <td id=\"T_3e2eb_row4_col8\" class=\"data row4 col8\" >0.3720</td>\n",
       "    </tr>\n",
       "    <tr>\n",
       "      <th id=\"T_3e2eb_level0_row5\" class=\"row_heading level0 row5\" >ada</th>\n",
       "      <td id=\"T_3e2eb_row5_col0\" class=\"data row5 col0\" >Ada Boost Classifier</td>\n",
       "      <td id=\"T_3e2eb_row5_col1\" class=\"data row5 col1\" >0.7847</td>\n",
       "      <td id=\"T_3e2eb_row5_col2\" class=\"data row5 col2\" >0.8689</td>\n",
       "      <td id=\"T_3e2eb_row5_col3\" class=\"data row5 col3\" >0.7847</td>\n",
       "      <td id=\"T_3e2eb_row5_col4\" class=\"data row5 col4\" >0.7854</td>\n",
       "      <td id=\"T_3e2eb_row5_col5\" class=\"data row5 col5\" >0.7846</td>\n",
       "      <td id=\"T_3e2eb_row5_col6\" class=\"data row5 col6\" >0.5693</td>\n",
       "      <td id=\"T_3e2eb_row5_col7\" class=\"data row5 col7\" >0.5700</td>\n",
       "      <td id=\"T_3e2eb_row5_col8\" class=\"data row5 col8\" >0.3740</td>\n",
       "    </tr>\n",
       "    <tr>\n",
       "      <th id=\"T_3e2eb_level0_row6\" class=\"row_heading level0 row6\" >svm</th>\n",
       "      <td id=\"T_3e2eb_row6_col0\" class=\"data row6 col0\" >SVM - Linear Kernel</td>\n",
       "      <td id=\"T_3e2eb_row6_col1\" class=\"data row6 col1\" >0.7752</td>\n",
       "      <td id=\"T_3e2eb_row6_col2\" class=\"data row6 col2\" >0.0000</td>\n",
       "      <td id=\"T_3e2eb_row6_col3\" class=\"data row6 col3\" >0.7752</td>\n",
       "      <td id=\"T_3e2eb_row6_col4\" class=\"data row6 col4\" >0.7851</td>\n",
       "      <td id=\"T_3e2eb_row6_col5\" class=\"data row6 col5\" >0.7730</td>\n",
       "      <td id=\"T_3e2eb_row6_col6\" class=\"data row6 col6\" >0.5503</td>\n",
       "      <td id=\"T_3e2eb_row6_col7\" class=\"data row6 col7\" >0.5601</td>\n",
       "      <td id=\"T_3e2eb_row6_col8\" class=\"data row6 col8\" >0.3690</td>\n",
       "    </tr>\n",
       "    <tr>\n",
       "      <th id=\"T_3e2eb_level0_row7\" class=\"row_heading level0 row7\" >lr</th>\n",
       "      <td id=\"T_3e2eb_row7_col0\" class=\"data row7 col0\" >Logistic Regression</td>\n",
       "      <td id=\"T_3e2eb_row7_col1\" class=\"data row7 col1\" >0.7747</td>\n",
       "      <td id=\"T_3e2eb_row7_col2\" class=\"data row7 col2\" >0.8631</td>\n",
       "      <td id=\"T_3e2eb_row7_col3\" class=\"data row7 col3\" >0.7747</td>\n",
       "      <td id=\"T_3e2eb_row7_col4\" class=\"data row7 col4\" >0.7762</td>\n",
       "      <td id=\"T_3e2eb_row7_col5\" class=\"data row7 col5\" >0.7745</td>\n",
       "      <td id=\"T_3e2eb_row7_col6\" class=\"data row7 col6\" >0.5496</td>\n",
       "      <td id=\"T_3e2eb_row7_col7\" class=\"data row7 col7\" >0.5509</td>\n",
       "      <td id=\"T_3e2eb_row7_col8\" class=\"data row7 col8\" >0.7600</td>\n",
       "    </tr>\n",
       "    <tr>\n",
       "      <th id=\"T_3e2eb_level0_row8\" class=\"row_heading level0 row8\" >lda</th>\n",
       "      <td id=\"T_3e2eb_row8_col0\" class=\"data row8 col0\" >Linear Discriminant Analysis</td>\n",
       "      <td id=\"T_3e2eb_row8_col1\" class=\"data row8 col1\" >0.7722</td>\n",
       "      <td id=\"T_3e2eb_row8_col2\" class=\"data row8 col2\" >0.8610</td>\n",
       "      <td id=\"T_3e2eb_row8_col3\" class=\"data row8 col3\" >0.7722</td>\n",
       "      <td id=\"T_3e2eb_row8_col4\" class=\"data row8 col4\" >0.7748</td>\n",
       "      <td id=\"T_3e2eb_row8_col5\" class=\"data row8 col5\" >0.7718</td>\n",
       "      <td id=\"T_3e2eb_row8_col6\" class=\"data row8 col6\" >0.5447</td>\n",
       "      <td id=\"T_3e2eb_row8_col7\" class=\"data row8 col7\" >0.5471</td>\n",
       "      <td id=\"T_3e2eb_row8_col8\" class=\"data row8 col8\" >0.3140</td>\n",
       "    </tr>\n",
       "    <tr>\n",
       "      <th id=\"T_3e2eb_level0_row9\" class=\"row_heading level0 row9\" >ridge</th>\n",
       "      <td id=\"T_3e2eb_row9_col0\" class=\"data row9 col0\" >Ridge Classifier</td>\n",
       "      <td id=\"T_3e2eb_row9_col1\" class=\"data row9 col1\" >0.7714</td>\n",
       "      <td id=\"T_3e2eb_row9_col2\" class=\"data row9 col2\" >0.0000</td>\n",
       "      <td id=\"T_3e2eb_row9_col3\" class=\"data row9 col3\" >0.7714</td>\n",
       "      <td id=\"T_3e2eb_row9_col4\" class=\"data row9 col4\" >0.7741</td>\n",
       "      <td id=\"T_3e2eb_row9_col5\" class=\"data row9 col5\" >0.7709</td>\n",
       "      <td id=\"T_3e2eb_row9_col6\" class=\"data row9 col6\" >0.5431</td>\n",
       "      <td id=\"T_3e2eb_row9_col7\" class=\"data row9 col7\" >0.5456</td>\n",
       "      <td id=\"T_3e2eb_row9_col8\" class=\"data row9 col8\" >0.3190</td>\n",
       "    </tr>\n",
       "    <tr>\n",
       "      <th id=\"T_3e2eb_level0_row10\" class=\"row_heading level0 row10\" >knn</th>\n",
       "      <td id=\"T_3e2eb_row10_col0\" class=\"data row10 col0\" >K Neighbors Classifier</td>\n",
       "      <td id=\"T_3e2eb_row10_col1\" class=\"data row10 col1\" >0.7711</td>\n",
       "      <td id=\"T_3e2eb_row10_col2\" class=\"data row10 col2\" >0.8408</td>\n",
       "      <td id=\"T_3e2eb_row10_col3\" class=\"data row10 col3\" >0.7711</td>\n",
       "      <td id=\"T_3e2eb_row10_col4\" class=\"data row10 col4\" >0.7721</td>\n",
       "      <td id=\"T_3e2eb_row10_col5\" class=\"data row10 col5\" >0.7708</td>\n",
       "      <td id=\"T_3e2eb_row10_col6\" class=\"data row10 col6\" >0.5419</td>\n",
       "      <td id=\"T_3e2eb_row10_col7\" class=\"data row10 col7\" >0.5430</td>\n",
       "      <td id=\"T_3e2eb_row10_col8\" class=\"data row10 col8\" >0.5910</td>\n",
       "    </tr>\n",
       "    <tr>\n",
       "      <th id=\"T_3e2eb_level0_row11\" class=\"row_heading level0 row11\" >nb</th>\n",
       "      <td id=\"T_3e2eb_row11_col0\" class=\"data row11 col0\" >Naive Bayes</td>\n",
       "      <td id=\"T_3e2eb_row11_col1\" class=\"data row11 col1\" >0.7673</td>\n",
       "      <td id=\"T_3e2eb_row11_col2\" class=\"data row11 col2\" >0.8514</td>\n",
       "      <td id=\"T_3e2eb_row11_col3\" class=\"data row11 col3\" >0.7673</td>\n",
       "      <td id=\"T_3e2eb_row11_col4\" class=\"data row11 col4\" >0.7776</td>\n",
       "      <td id=\"T_3e2eb_row11_col5\" class=\"data row11 col5\" >0.7648</td>\n",
       "      <td id=\"T_3e2eb_row11_col6\" class=\"data row11 col6\" >0.5339</td>\n",
       "      <td id=\"T_3e2eb_row11_col7\" class=\"data row11 col7\" >0.5444</td>\n",
       "      <td id=\"T_3e2eb_row11_col8\" class=\"data row11 col8\" >0.3170</td>\n",
       "    </tr>\n",
       "    <tr>\n",
       "      <th id=\"T_3e2eb_level0_row12\" class=\"row_heading level0 row12\" >dt</th>\n",
       "      <td id=\"T_3e2eb_row12_col0\" class=\"data row12 col0\" >Decision Tree Classifier</td>\n",
       "      <td id=\"T_3e2eb_row12_col1\" class=\"data row12 col1\" >0.7499</td>\n",
       "      <td id=\"T_3e2eb_row12_col2\" class=\"data row12 col2\" >0.7641</td>\n",
       "      <td id=\"T_3e2eb_row12_col3\" class=\"data row12 col3\" >0.7499</td>\n",
       "      <td id=\"T_3e2eb_row12_col4\" class=\"data row12 col4\" >0.7529</td>\n",
       "      <td id=\"T_3e2eb_row12_col5\" class=\"data row12 col5\" >0.7490</td>\n",
       "      <td id=\"T_3e2eb_row12_col6\" class=\"data row12 col6\" >0.4994</td>\n",
       "      <td id=\"T_3e2eb_row12_col7\" class=\"data row12 col7\" >0.5026</td>\n",
       "      <td id=\"T_3e2eb_row12_col8\" class=\"data row12 col8\" >0.3180</td>\n",
       "    </tr>\n",
       "    <tr>\n",
       "      <th id=\"T_3e2eb_level0_row13\" class=\"row_heading level0 row13\" >qda</th>\n",
       "      <td id=\"T_3e2eb_row13_col0\" class=\"data row13 col0\" >Quadratic Discriminant Analysis</td>\n",
       "      <td id=\"T_3e2eb_row13_col1\" class=\"data row13 col1\" >0.5821</td>\n",
       "      <td id=\"T_3e2eb_row13_col2\" class=\"data row13 col2\" >0.5743</td>\n",
       "      <td id=\"T_3e2eb_row13_col3\" class=\"data row13 col3\" >0.5821</td>\n",
       "      <td id=\"T_3e2eb_row13_col4\" class=\"data row13 col4\" >0.6114</td>\n",
       "      <td id=\"T_3e2eb_row13_col5\" class=\"data row13 col5\" >0.5588</td>\n",
       "      <td id=\"T_3e2eb_row13_col6\" class=\"data row13 col6\" >0.1641</td>\n",
       "      <td id=\"T_3e2eb_row13_col7\" class=\"data row13 col7\" >0.1898</td>\n",
       "      <td id=\"T_3e2eb_row13_col8\" class=\"data row13 col8\" >0.3100</td>\n",
       "    </tr>\n",
       "    <tr>\n",
       "      <th id=\"T_3e2eb_level0_row14\" class=\"row_heading level0 row14\" >dummy</th>\n",
       "      <td id=\"T_3e2eb_row14_col0\" class=\"data row14 col0\" >Dummy Classifier</td>\n",
       "      <td id=\"T_3e2eb_row14_col1\" class=\"data row14 col1\" >0.5037</td>\n",
       "      <td id=\"T_3e2eb_row14_col2\" class=\"data row14 col2\" >0.5000</td>\n",
       "      <td id=\"T_3e2eb_row14_col3\" class=\"data row14 col3\" >0.5037</td>\n",
       "      <td id=\"T_3e2eb_row14_col4\" class=\"data row14 col4\" >0.2537</td>\n",
       "      <td id=\"T_3e2eb_row14_col5\" class=\"data row14 col5\" >0.3374</td>\n",
       "      <td id=\"T_3e2eb_row14_col6\" class=\"data row14 col6\" >0.0000</td>\n",
       "      <td id=\"T_3e2eb_row14_col7\" class=\"data row14 col7\" >0.0000</td>\n",
       "      <td id=\"T_3e2eb_row14_col8\" class=\"data row14 col8\" >0.3460</td>\n",
       "    </tr>\n",
       "  </tbody>\n",
       "</table>\n"
      ],
      "text/plain": [
       "<pandas.io.formats.style.Styler at 0x1d9f7181160>"
      ]
     },
     "metadata": {},
     "output_type": "display_data"
    },
    {
     "data": {
      "application/vnd.jupyter.widget-view+json": {
       "model_id": "",
       "version_major": 2,
       "version_minor": 0
      },
      "text/plain": [
       "Processing:   0%|          | 0/69 [00:00<?, ?it/s]"
      ]
     },
     "metadata": {},
     "output_type": "display_data"
    }
   ],
   "source": [
    "from pycaret.classification import setup\n",
    "clf = setup(df.drop(columns=['Name','PassengerId']), target='Transported', preprocess=False)\n",
    "from pycaret.classification import compare_models\n",
    "models = compare_models()"
   ]
  },
  {
   "cell_type": "code",
   "execution_count": 274,
   "id": "36e8ff7f-d525-4d56-912c-a28f52cba235",
   "metadata": {},
   "outputs": [
    {
     "data": {
      "text/html": [],
      "text/plain": [
       "<IPython.core.display.HTML object>"
      ]
     },
     "metadata": {},
     "output_type": "display_data"
    },
    {
     "data": {
      "text/html": [
       "<style type=\"text/css\">\n",
       "#T_847b2_row10_col0, #T_847b2_row10_col1, #T_847b2_row10_col2, #T_847b2_row10_col3, #T_847b2_row10_col4, #T_847b2_row10_col5, #T_847b2_row10_col6 {\n",
       "  background: yellow;\n",
       "}\n",
       "</style>\n",
       "<table id=\"T_847b2\">\n",
       "  <thead>\n",
       "    <tr>\n",
       "      <th class=\"blank level0\" >&nbsp;</th>\n",
       "      <th id=\"T_847b2_level0_col0\" class=\"col_heading level0 col0\" >Accuracy</th>\n",
       "      <th id=\"T_847b2_level0_col1\" class=\"col_heading level0 col1\" >AUC</th>\n",
       "      <th id=\"T_847b2_level0_col2\" class=\"col_heading level0 col2\" >Recall</th>\n",
       "      <th id=\"T_847b2_level0_col3\" class=\"col_heading level0 col3\" >Prec.</th>\n",
       "      <th id=\"T_847b2_level0_col4\" class=\"col_heading level0 col4\" >F1</th>\n",
       "      <th id=\"T_847b2_level0_col5\" class=\"col_heading level0 col5\" >Kappa</th>\n",
       "      <th id=\"T_847b2_level0_col6\" class=\"col_heading level0 col6\" >MCC</th>\n",
       "    </tr>\n",
       "    <tr>\n",
       "      <th class=\"index_name level0\" >Fold</th>\n",
       "      <th class=\"blank col0\" >&nbsp;</th>\n",
       "      <th class=\"blank col1\" >&nbsp;</th>\n",
       "      <th class=\"blank col2\" >&nbsp;</th>\n",
       "      <th class=\"blank col3\" >&nbsp;</th>\n",
       "      <th class=\"blank col4\" >&nbsp;</th>\n",
       "      <th class=\"blank col5\" >&nbsp;</th>\n",
       "      <th class=\"blank col6\" >&nbsp;</th>\n",
       "    </tr>\n",
       "  </thead>\n",
       "  <tbody>\n",
       "    <tr>\n",
       "      <th id=\"T_847b2_level0_row0\" class=\"row_heading level0 row0\" >0</th>\n",
       "      <td id=\"T_847b2_row0_col0\" class=\"data row0 col0\" >0.7931</td>\n",
       "      <td id=\"T_847b2_row0_col1\" class=\"data row0 col1\" >0.8885</td>\n",
       "      <td id=\"T_847b2_row0_col2\" class=\"data row0 col2\" >0.7931</td>\n",
       "      <td id=\"T_847b2_row0_col3\" class=\"data row0 col3\" >0.7958</td>\n",
       "      <td id=\"T_847b2_row0_col4\" class=\"data row0 col4\" >0.7925</td>\n",
       "      <td id=\"T_847b2_row0_col5\" class=\"data row0 col5\" >0.5858</td>\n",
       "      <td id=\"T_847b2_row0_col6\" class=\"data row0 col6\" >0.5887</td>\n",
       "    </tr>\n",
       "    <tr>\n",
       "      <th id=\"T_847b2_level0_row1\" class=\"row_heading level0 row1\" >1</th>\n",
       "      <td id=\"T_847b2_row1_col0\" class=\"data row1 col0\" >0.7718</td>\n",
       "      <td id=\"T_847b2_row1_col1\" class=\"data row1 col1\" >0.8722</td>\n",
       "      <td id=\"T_847b2_row1_col2\" class=\"data row1 col2\" >0.7718</td>\n",
       "      <td id=\"T_847b2_row1_col3\" class=\"data row1 col3\" >0.7741</td>\n",
       "      <td id=\"T_847b2_row1_col4\" class=\"data row1 col4\" >0.7711</td>\n",
       "      <td id=\"T_847b2_row1_col5\" class=\"data row1 col5\" >0.5431</td>\n",
       "      <td id=\"T_847b2_row1_col6\" class=\"data row1 col6\" >0.5456</td>\n",
       "    </tr>\n",
       "    <tr>\n",
       "      <th id=\"T_847b2_level0_row2\" class=\"row_heading level0 row2\" >2</th>\n",
       "      <td id=\"T_847b2_row2_col0\" class=\"data row2 col0\" >0.7997</td>\n",
       "      <td id=\"T_847b2_row2_col1\" class=\"data row2 col1\" >0.8886</td>\n",
       "      <td id=\"T_847b2_row2_col2\" class=\"data row2 col2\" >0.7997</td>\n",
       "      <td id=\"T_847b2_row2_col3\" class=\"data row2 col3\" >0.7998</td>\n",
       "      <td id=\"T_847b2_row2_col4\" class=\"data row2 col4\" >0.7996</td>\n",
       "      <td id=\"T_847b2_row2_col5\" class=\"data row2 col5\" >0.5992</td>\n",
       "      <td id=\"T_847b2_row2_col6\" class=\"data row2 col6\" >0.5994</td>\n",
       "    </tr>\n",
       "    <tr>\n",
       "      <th id=\"T_847b2_level0_row3\" class=\"row_heading level0 row3\" >3</th>\n",
       "      <td id=\"T_847b2_row3_col0\" class=\"data row3 col0\" >0.8128</td>\n",
       "      <td id=\"T_847b2_row3_col1\" class=\"data row3 col1\" >0.8912</td>\n",
       "      <td id=\"T_847b2_row3_col2\" class=\"data row3 col2\" >0.8128</td>\n",
       "      <td id=\"T_847b2_row3_col3\" class=\"data row3 col3\" >0.8130</td>\n",
       "      <td id=\"T_847b2_row3_col4\" class=\"data row3 col4\" >0.8128</td>\n",
       "      <td id=\"T_847b2_row3_col5\" class=\"data row3 col5\" >0.6255</td>\n",
       "      <td id=\"T_847b2_row3_col6\" class=\"data row3 col6\" >0.6257</td>\n",
       "    </tr>\n",
       "    <tr>\n",
       "      <th id=\"T_847b2_level0_row4\" class=\"row_heading level0 row4\" >4</th>\n",
       "      <td id=\"T_847b2_row4_col0\" class=\"data row4 col0\" >0.8259</td>\n",
       "      <td id=\"T_847b2_row4_col1\" class=\"data row4 col1\" >0.8923</td>\n",
       "      <td id=\"T_847b2_row4_col2\" class=\"data row4 col2\" >0.8259</td>\n",
       "      <td id=\"T_847b2_row4_col3\" class=\"data row4 col3\" >0.8294</td>\n",
       "      <td id=\"T_847b2_row4_col4\" class=\"data row4 col4\" >0.8254</td>\n",
       "      <td id=\"T_847b2_row4_col5\" class=\"data row4 col5\" >0.6516</td>\n",
       "      <td id=\"T_847b2_row4_col6\" class=\"data row4 col6\" >0.6552</td>\n",
       "    </tr>\n",
       "    <tr>\n",
       "      <th id=\"T_847b2_level0_row5\" class=\"row_heading level0 row5\" >5</th>\n",
       "      <td id=\"T_847b2_row5_col0\" class=\"data row5 col0\" >0.7977</td>\n",
       "      <td id=\"T_847b2_row5_col1\" class=\"data row5 col1\" >0.8857</td>\n",
       "      <td id=\"T_847b2_row5_col2\" class=\"data row5 col2\" >0.7977</td>\n",
       "      <td id=\"T_847b2_row5_col3\" class=\"data row5 col3\" >0.7979</td>\n",
       "      <td id=\"T_847b2_row5_col4\" class=\"data row5 col4\" >0.7976</td>\n",
       "      <td id=\"T_847b2_row5_col5\" class=\"data row5 col5\" >0.5953</td>\n",
       "      <td id=\"T_847b2_row5_col6\" class=\"data row5 col6\" >0.5956</td>\n",
       "    </tr>\n",
       "    <tr>\n",
       "      <th id=\"T_847b2_level0_row6\" class=\"row_heading level0 row6\" >6</th>\n",
       "      <td id=\"T_847b2_row6_col0\" class=\"data row6 col0\" >0.7977</td>\n",
       "      <td id=\"T_847b2_row6_col1\" class=\"data row6 col1\" >0.8761</td>\n",
       "      <td id=\"T_847b2_row6_col2\" class=\"data row6 col2\" >0.7977</td>\n",
       "      <td id=\"T_847b2_row6_col3\" class=\"data row6 col3\" >0.7978</td>\n",
       "      <td id=\"T_847b2_row6_col4\" class=\"data row6 col4\" >0.7977</td>\n",
       "      <td id=\"T_847b2_row6_col5\" class=\"data row6 col5\" >0.5953</td>\n",
       "      <td id=\"T_847b2_row6_col6\" class=\"data row6 col6\" >0.5955</td>\n",
       "    </tr>\n",
       "    <tr>\n",
       "      <th id=\"T_847b2_level0_row7\" class=\"row_heading level0 row7\" >7</th>\n",
       "      <td id=\"T_847b2_row7_col0\" class=\"data row7 col0\" >0.8109</td>\n",
       "      <td id=\"T_847b2_row7_col1\" class=\"data row7 col1\" >0.8901</td>\n",
       "      <td id=\"T_847b2_row7_col2\" class=\"data row7 col2\" >0.8109</td>\n",
       "      <td id=\"T_847b2_row7_col3\" class=\"data row7 col3\" >0.8109</td>\n",
       "      <td id=\"T_847b2_row7_col4\" class=\"data row7 col4\" >0.8109</td>\n",
       "      <td id=\"T_847b2_row7_col5\" class=\"data row7 col5\" >0.6217</td>\n",
       "      <td id=\"T_847b2_row7_col6\" class=\"data row7 col6\" >0.6217</td>\n",
       "    </tr>\n",
       "    <tr>\n",
       "      <th id=\"T_847b2_level0_row8\" class=\"row_heading level0 row8\" >8</th>\n",
       "      <td id=\"T_847b2_row8_col0\" class=\"data row8 col0\" >0.8092</td>\n",
       "      <td id=\"T_847b2_row8_col1\" class=\"data row8 col1\" >0.8875</td>\n",
       "      <td id=\"T_847b2_row8_col2\" class=\"data row8 col2\" >0.8092</td>\n",
       "      <td id=\"T_847b2_row8_col3\" class=\"data row8 col3\" >0.8111</td>\n",
       "      <td id=\"T_847b2_row8_col4\" class=\"data row8 col4\" >0.8089</td>\n",
       "      <td id=\"T_847b2_row8_col5\" class=\"data row8 col5\" >0.6182</td>\n",
       "      <td id=\"T_847b2_row8_col6\" class=\"data row8 col6\" >0.6201</td>\n",
       "    </tr>\n",
       "    <tr>\n",
       "      <th id=\"T_847b2_level0_row9\" class=\"row_heading level0 row9\" >9</th>\n",
       "      <td id=\"T_847b2_row9_col0\" class=\"data row9 col0\" >0.7993</td>\n",
       "      <td id=\"T_847b2_row9_col1\" class=\"data row9 col1\" >0.8810</td>\n",
       "      <td id=\"T_847b2_row9_col2\" class=\"data row9 col2\" >0.7993</td>\n",
       "      <td id=\"T_847b2_row9_col3\" class=\"data row9 col3\" >0.7994</td>\n",
       "      <td id=\"T_847b2_row9_col4\" class=\"data row9 col4\" >0.7993</td>\n",
       "      <td id=\"T_847b2_row9_col5\" class=\"data row9 col5\" >0.5986</td>\n",
       "      <td id=\"T_847b2_row9_col6\" class=\"data row9 col6\" >0.5987</td>\n",
       "    </tr>\n",
       "    <tr>\n",
       "      <th id=\"T_847b2_level0_row10\" class=\"row_heading level0 row10\" >Mean</th>\n",
       "      <td id=\"T_847b2_row10_col0\" class=\"data row10 col0\" >0.8018</td>\n",
       "      <td id=\"T_847b2_row10_col1\" class=\"data row10 col1\" >0.8853</td>\n",
       "      <td id=\"T_847b2_row10_col2\" class=\"data row10 col2\" >0.8018</td>\n",
       "      <td id=\"T_847b2_row10_col3\" class=\"data row10 col3\" >0.8029</td>\n",
       "      <td id=\"T_847b2_row10_col4\" class=\"data row10 col4\" >0.8016</td>\n",
       "      <td id=\"T_847b2_row10_col5\" class=\"data row10 col5\" >0.6034</td>\n",
       "      <td id=\"T_847b2_row10_col6\" class=\"data row10 col6\" >0.6046</td>\n",
       "    </tr>\n",
       "    <tr>\n",
       "      <th id=\"T_847b2_level0_row11\" class=\"row_heading level0 row11\" >Std</th>\n",
       "      <td id=\"T_847b2_row11_col0\" class=\"data row11 col0\" >0.0137</td>\n",
       "      <td id=\"T_847b2_row11_col1\" class=\"data row11 col1\" >0.0064</td>\n",
       "      <td id=\"T_847b2_row11_col2\" class=\"data row11 col2\" >0.0137</td>\n",
       "      <td id=\"T_847b2_row11_col3\" class=\"data row11 col3\" >0.0137</td>\n",
       "      <td id=\"T_847b2_row11_col4\" class=\"data row11 col4\" >0.0137</td>\n",
       "      <td id=\"T_847b2_row11_col5\" class=\"data row11 col5\" >0.0273</td>\n",
       "      <td id=\"T_847b2_row11_col6\" class=\"data row11 col6\" >0.0274</td>\n",
       "    </tr>\n",
       "  </tbody>\n",
       "</table>\n"
      ],
      "text/plain": [
       "<pandas.io.formats.style.Styler at 0x1d9f1743070>"
      ]
     },
     "metadata": {},
     "output_type": "display_data"
    },
    {
     "data": {
      "application/vnd.jupyter.widget-view+json": {
       "model_id": "",
       "version_major": 2,
       "version_minor": 0
      },
      "text/plain": [
       "Processing:   0%|          | 0/4 [00:00<?, ?it/s]"
      ]
     },
     "metadata": {},
     "output_type": "display_data"
    }
   ],
   "source": [
    "from pycaret.classification import *\n",
    "catboost = create_model('catboost')"
   ]
  },
  {
   "cell_type": "code",
   "execution_count": 277,
   "id": "beec560c-fede-41ed-bc7f-357c589865fd",
   "metadata": {},
   "outputs": [
    {
     "data": {
      "text/html": [],
      "text/plain": [
       "<IPython.core.display.HTML object>"
      ]
     },
     "metadata": {},
     "output_type": "display_data"
    },
    {
     "data": {
      "text/html": [
       "<div>\n",
       "<style scoped>\n",
       "    .dataframe tbody tr th:only-of-type {\n",
       "        vertical-align: middle;\n",
       "    }\n",
       "\n",
       "    .dataframe tbody tr th {\n",
       "        vertical-align: top;\n",
       "    }\n",
       "\n",
       "    .dataframe thead th {\n",
       "        text-align: right;\n",
       "    }\n",
       "</style>\n",
       "<table border=\"1\" class=\"dataframe\">\n",
       "  <thead>\n",
       "    <tr style=\"text-align: right;\">\n",
       "      <th></th>\n",
       "      <th>CryoSleep</th>\n",
       "      <th>Age</th>\n",
       "      <th>VIP</th>\n",
       "      <th>RoomService</th>\n",
       "      <th>FoodCourt</th>\n",
       "      <th>ShoppingMall</th>\n",
       "      <th>Spa</th>\n",
       "      <th>VRDeck</th>\n",
       "      <th>HomePlanet_Earth</th>\n",
       "      <th>HomePlanet_Europa</th>\n",
       "      <th>HomePlanet_Mars</th>\n",
       "      <th>Cabin_deck</th>\n",
       "      <th>Cabin_side</th>\n",
       "      <th>Destination_55 Cancri e</th>\n",
       "      <th>Destination_PSO J318.5-22</th>\n",
       "      <th>Destination_TRAPPIST-1e</th>\n",
       "      <th>Transported</th>\n",
       "      <th>prediction_score</th>\n",
       "    </tr>\n",
       "  </thead>\n",
       "  <tbody>\n",
       "    <tr>\n",
       "      <th>0</th>\n",
       "      <td>1</td>\n",
       "      <td>1.000000</td>\n",
       "      <td>0</td>\n",
       "      <td>0.000000</td>\n",
       "      <td>0.000000</td>\n",
       "      <td>0.000000</td>\n",
       "      <td>0.000000</td>\n",
       "      <td>0.000000</td>\n",
       "      <td>1</td>\n",
       "      <td>0</td>\n",
       "      <td>0</td>\n",
       "      <td>5</td>\n",
       "      <td>1</td>\n",
       "      <td>0</td>\n",
       "      <td>0</td>\n",
       "      <td>1</td>\n",
       "      <td>1</td>\n",
       "      <td>0.6798</td>\n",
       "    </tr>\n",
       "    <tr>\n",
       "      <th>1</th>\n",
       "      <td>0</td>\n",
       "      <td>0.860703</td>\n",
       "      <td>0</td>\n",
       "      <td>0.000000</td>\n",
       "      <td>0.001274</td>\n",
       "      <td>0.000000</td>\n",
       "      <td>0.509106</td>\n",
       "      <td>0.000000</td>\n",
       "      <td>1</td>\n",
       "      <td>0</td>\n",
       "      <td>0</td>\n",
       "      <td>4</td>\n",
       "      <td>1</td>\n",
       "      <td>0</td>\n",
       "      <td>0</td>\n",
       "      <td>1</td>\n",
       "      <td>0</td>\n",
       "      <td>0.9750</td>\n",
       "    </tr>\n",
       "    <tr>\n",
       "      <th>2</th>\n",
       "      <td>1</td>\n",
       "      <td>1.000000</td>\n",
       "      <td>0</td>\n",
       "      <td>0.000000</td>\n",
       "      <td>0.000000</td>\n",
       "      <td>0.000000</td>\n",
       "      <td>0.000000</td>\n",
       "      <td>0.000000</td>\n",
       "      <td>0</td>\n",
       "      <td>1</td>\n",
       "      <td>0</td>\n",
       "      <td>2</td>\n",
       "      <td>1</td>\n",
       "      <td>1</td>\n",
       "      <td>0</td>\n",
       "      <td>0</td>\n",
       "      <td>1</td>\n",
       "      <td>0.9973</td>\n",
       "    </tr>\n",
       "    <tr>\n",
       "      <th>3</th>\n",
       "      <td>0</td>\n",
       "      <td>0.876129</td>\n",
       "      <td>0</td>\n",
       "      <td>0.000000</td>\n",
       "      <td>0.479410</td>\n",
       "      <td>0.000000</td>\n",
       "      <td>0.016613</td>\n",
       "      <td>0.047842</td>\n",
       "      <td>0</td>\n",
       "      <td>1</td>\n",
       "      <td>0</td>\n",
       "      <td>2</td>\n",
       "      <td>1</td>\n",
       "      <td>0</td>\n",
       "      <td>0</td>\n",
       "      <td>1</td>\n",
       "      <td>1</td>\n",
       "      <td>0.9783</td>\n",
       "    </tr>\n",
       "    <tr>\n",
       "      <th>4</th>\n",
       "      <td>0</td>\n",
       "      <td>0.957163</td>\n",
       "      <td>0</td>\n",
       "      <td>0.003269</td>\n",
       "      <td>0.000000</td>\n",
       "      <td>0.289532</td>\n",
       "      <td>0.000000</td>\n",
       "      <td>0.000000</td>\n",
       "      <td>1</td>\n",
       "      <td>0</td>\n",
       "      <td>0</td>\n",
       "      <td>4</td>\n",
       "      <td>1</td>\n",
       "      <td>0</td>\n",
       "      <td>0</td>\n",
       "      <td>1</td>\n",
       "      <td>1</td>\n",
       "      <td>0.9211</td>\n",
       "    </tr>\n",
       "    <tr>\n",
       "      <th>...</th>\n",
       "      <td>...</td>\n",
       "      <td>...</td>\n",
       "      <td>...</td>\n",
       "      <td>...</td>\n",
       "      <td>...</td>\n",
       "      <td>...</td>\n",
       "      <td>...</td>\n",
       "      <td>...</td>\n",
       "      <td>...</td>\n",
       "      <td>...</td>\n",
       "      <td>...</td>\n",
       "      <td>...</td>\n",
       "      <td>...</td>\n",
       "      <td>...</td>\n",
       "      <td>...</td>\n",
       "      <td>...</td>\n",
       "      <td>...</td>\n",
       "      <td>...</td>\n",
       "    </tr>\n",
       "    <tr>\n",
       "      <th>4272</th>\n",
       "      <td>1</td>\n",
       "      <td>1.000000</td>\n",
       "      <td>0</td>\n",
       "      <td>0.000000</td>\n",
       "      <td>0.000000</td>\n",
       "      <td>0.000000</td>\n",
       "      <td>0.000000</td>\n",
       "      <td>0.000000</td>\n",
       "      <td>1</td>\n",
       "      <td>0</td>\n",
       "      <td>0</td>\n",
       "      <td>5</td>\n",
       "      <td>1</td>\n",
       "      <td>0</td>\n",
       "      <td>0</td>\n",
       "      <td>1</td>\n",
       "      <td>1</td>\n",
       "      <td>0.6798</td>\n",
       "    </tr>\n",
       "    <tr>\n",
       "      <th>4273</th>\n",
       "      <td>0</td>\n",
       "      <td>0.997938</td>\n",
       "      <td>0</td>\n",
       "      <td>0.000000</td>\n",
       "      <td>0.062908</td>\n",
       "      <td>0.003848</td>\n",
       "      <td>0.000946</td>\n",
       "      <td>0.012136</td>\n",
       "      <td>1</td>\n",
       "      <td>0</td>\n",
       "      <td>0</td>\n",
       "      <td>4</td>\n",
       "      <td>0</td>\n",
       "      <td>0</td>\n",
       "      <td>0</td>\n",
       "      <td>1</td>\n",
       "      <td>0</td>\n",
       "      <td>0.5769</td>\n",
       "    </tr>\n",
       "    <tr>\n",
       "      <th>4274</th>\n",
       "      <td>1</td>\n",
       "      <td>1.000000</td>\n",
       "      <td>0</td>\n",
       "      <td>0.000000</td>\n",
       "      <td>0.000000</td>\n",
       "      <td>0.000000</td>\n",
       "      <td>0.000000</td>\n",
       "      <td>0.000000</td>\n",
       "      <td>0</td>\n",
       "      <td>0</td>\n",
       "      <td>1</td>\n",
       "      <td>2</td>\n",
       "      <td>0</td>\n",
       "      <td>1</td>\n",
       "      <td>0</td>\n",
       "      <td>0</td>\n",
       "      <td>1</td>\n",
       "      <td>0.9441</td>\n",
       "    </tr>\n",
       "    <tr>\n",
       "      <th>4275</th>\n",
       "      <td>0</td>\n",
       "      <td>0.958447</td>\n",
       "      <td>0</td>\n",
       "      <td>0.000000</td>\n",
       "      <td>0.278522</td>\n",
       "      <td>0.000000</td>\n",
       "      <td>0.000000</td>\n",
       "      <td>0.061677</td>\n",
       "      <td>0</td>\n",
       "      <td>1</td>\n",
       "      <td>0</td>\n",
       "      <td>2</td>\n",
       "      <td>0</td>\n",
       "      <td>0</td>\n",
       "      <td>0</td>\n",
       "      <td>1</td>\n",
       "      <td>1</td>\n",
       "      <td>0.8231</td>\n",
       "    </tr>\n",
       "    <tr>\n",
       "      <th>4276</th>\n",
       "      <td>1</td>\n",
       "      <td>1.000000</td>\n",
       "      <td>0</td>\n",
       "      <td>0.000000</td>\n",
       "      <td>0.000000</td>\n",
       "      <td>0.000000</td>\n",
       "      <td>0.000000</td>\n",
       "      <td>0.000000</td>\n",
       "      <td>1</td>\n",
       "      <td>0</td>\n",
       "      <td>0</td>\n",
       "      <td>5</td>\n",
       "      <td>1</td>\n",
       "      <td>0</td>\n",
       "      <td>1</td>\n",
       "      <td>0</td>\n",
       "      <td>1</td>\n",
       "      <td>0.7434</td>\n",
       "    </tr>\n",
       "  </tbody>\n",
       "</table>\n",
       "<p>4277 rows × 18 columns</p>\n",
       "</div>"
      ],
      "text/plain": [
       "      CryoSleep       Age  VIP  RoomService  FoodCourt  ShoppingMall  \\\n",
       "0             1  1.000000    0     0.000000   0.000000      0.000000   \n",
       "1             0  0.860703    0     0.000000   0.001274      0.000000   \n",
       "2             1  1.000000    0     0.000000   0.000000      0.000000   \n",
       "3             0  0.876129    0     0.000000   0.479410      0.000000   \n",
       "4             0  0.957163    0     0.003269   0.000000      0.289532   \n",
       "...         ...       ...  ...          ...        ...           ...   \n",
       "4272          1  1.000000    0     0.000000   0.000000      0.000000   \n",
       "4273          0  0.997938    0     0.000000   0.062908      0.003848   \n",
       "4274          1  1.000000    0     0.000000   0.000000      0.000000   \n",
       "4275          0  0.958447    0     0.000000   0.278522      0.000000   \n",
       "4276          1  1.000000    0     0.000000   0.000000      0.000000   \n",
       "\n",
       "           Spa    VRDeck  HomePlanet_Earth  HomePlanet_Europa  \\\n",
       "0     0.000000  0.000000                 1                  0   \n",
       "1     0.509106  0.000000                 1                  0   \n",
       "2     0.000000  0.000000                 0                  1   \n",
       "3     0.016613  0.047842                 0                  1   \n",
       "4     0.000000  0.000000                 1                  0   \n",
       "...        ...       ...               ...                ...   \n",
       "4272  0.000000  0.000000                 1                  0   \n",
       "4273  0.000946  0.012136                 1                  0   \n",
       "4274  0.000000  0.000000                 0                  0   \n",
       "4275  0.000000  0.061677                 0                  1   \n",
       "4276  0.000000  0.000000                 1                  0   \n",
       "\n",
       "      HomePlanet_Mars  Cabin_deck  Cabin_side  Destination_55 Cancri e  \\\n",
       "0                   0           5           1                        0   \n",
       "1                   0           4           1                        0   \n",
       "2                   0           2           1                        1   \n",
       "3                   0           2           1                        0   \n",
       "4                   0           4           1                        0   \n",
       "...               ...         ...         ...                      ...   \n",
       "4272                0           5           1                        0   \n",
       "4273                0           4           0                        0   \n",
       "4274                1           2           0                        1   \n",
       "4275                0           2           0                        0   \n",
       "4276                0           5           1                        0   \n",
       "\n",
       "      Destination_PSO J318.5-22  Destination_TRAPPIST-1e  Transported  \\\n",
       "0                             0                        1            1   \n",
       "1                             0                        1            0   \n",
       "2                             0                        0            1   \n",
       "3                             0                        1            1   \n",
       "4                             0                        1            1   \n",
       "...                         ...                      ...          ...   \n",
       "4272                          0                        1            1   \n",
       "4273                          0                        1            0   \n",
       "4274                          0                        0            1   \n",
       "4275                          0                        1            1   \n",
       "4276                          1                        0            1   \n",
       "\n",
       "      prediction_score  \n",
       "0               0.6798  \n",
       "1               0.9750  \n",
       "2               0.9973  \n",
       "3               0.9783  \n",
       "4               0.9211  \n",
       "...                ...  \n",
       "4272            0.6798  \n",
       "4273            0.5769  \n",
       "4274            0.9441  \n",
       "4275            0.8231  \n",
       "4276            0.7434  \n",
       "\n",
       "[4277 rows x 18 columns]"
      ]
     },
     "execution_count": 277,
     "metadata": {},
     "output_type": "execute_result"
    }
   ],
   "source": [
    "from pycaret.classification import predict_model\n",
    "predicts=predict_model(catboost, data=df_test.drop(columns=['PassengerId','Name']))\n",
    "predicts = predicts.rename(columns={'prediction_label': 'Transported'})\n",
    "predicts"
   ]
  },
  {
   "cell_type": "code",
   "execution_count": 278,
   "id": "c6c49298-ceac-4c4e-9844-52a35fd8c4ba",
   "metadata": {},
   "outputs": [],
   "source": [
    "predicts[\"PassengerId\"]=df_test[\"PassengerId\"]\n",
    "submission=predicts[[\"PassengerId\",\"Transported\"]]\n",
    "submission['Transported'] = submission['Transported'].replace({1: 'True', 0: 'False'})\n",
    "df['Transported'] = df['Transported'].astype(str)"
   ]
  },
  {
   "cell_type": "code",
   "execution_count": 279,
   "id": "74ca4408-f8d3-4231-9879-ba28b4396092",
   "metadata": {},
   "outputs": [],
   "source": [
    "submission.to_csv('submission_pycaretcat_norm.csv', index=False)"
   ]
  },
  {
   "cell_type": "code",
   "execution_count": 280,
   "id": "7c423112-df8b-460b-b64d-362a34efdabc",
   "metadata": {},
   "outputs": [
    {
     "data": {
      "text/html": [],
      "text/plain": [
       "<IPython.core.display.HTML object>"
      ]
     },
     "metadata": {},
     "output_type": "display_data"
    },
    {
     "data": {
      "image/png": "[encoded data removed]",
      "text/plain": [
       "<Figure size 432x288 with 1 Axes>"
      ]
     },
     "metadata": {
      "needs_background": "light"
     },
     "output_type": "display_data"
    }
   ],
   "source": [
    "plot_model(catboost, plot='learning')"
   ]
  },
  {
   "cell_type": "code",
   "execution_count": 282,
   "id": "7785e5c5-bb0f-4040-a3f7-9a44507e7fcf",
   "metadata": {},
   "outputs": [
    {
     "data": {
      "text/html": [],
      "text/plain": [
       "<IPython.core.display.HTML object>"
      ]
     },
     "metadata": {},
     "output_type": "display_data"
    },
    {
     "ename": "ValueError",
     "evalue": "y_true takes value in {'0', '1'} and pos_label is not specified: either make y_true take value in {0, 1} or {-1, 1} or pass pos_label explicitly.",
     "output_type": "error",
     "traceback": [
      "\u001b[1;31m---------------------------------------------------------------------------\u001b[0m",
      "\u001b[1;31mValueError\u001b[0m                                Traceback (most recent call last)",
      "\u001b[1;32m~\\AppData\\Local\\Temp\\ipykernel_13148\\2480667803.py\u001b[0m in \u001b[0;36m<cell line: 1>\u001b[1;34m()\u001b[0m\n\u001b[1;32m----> 1\u001b[1;33m \u001b[0mplot_model\u001b[0m\u001b[1;33m(\u001b[0m\u001b[0mcatboost\u001b[0m\u001b[1;33m,\u001b[0m \u001b[0mplot\u001b[0m\u001b[1;33m=\u001b[0m\u001b[1;34m'auc'\u001b[0m\u001b[1;33m)\u001b[0m\u001b[1;33m\u001b[0m\u001b[1;33m\u001b[0m\u001b[0m\n\u001b[0m",
      "\u001b[1;32m~\\anaconda3\\lib\\site-packages\\pycaret\\utils\\generic.py\u001b[0m in \u001b[0;36mwrapper\u001b[1;34m(*args, **kwargs)\u001b[0m\n\u001b[0;32m    963\u001b[0m                 \u001b[1;32mif\u001b[0m \u001b[0mglobals_d\u001b[0m\u001b[1;33m[\u001b[0m\u001b[0mname\u001b[0m\u001b[1;33m]\u001b[0m \u001b[1;32mis\u001b[0m \u001b[1;32mNone\u001b[0m\u001b[1;33m:\u001b[0m\u001b[1;33m\u001b[0m\u001b[1;33m\u001b[0m\u001b[0m\n\u001b[0;32m    964\u001b[0m                     \u001b[1;32mraise\u001b[0m \u001b[0mValueError\u001b[0m\u001b[1;33m(\u001b[0m\u001b[0mmessage\u001b[0m\u001b[1;33m)\u001b[0m\u001b[1;33m\u001b[0m\u001b[1;33m\u001b[0m\u001b[0m\n\u001b[1;32m--> 965\u001b[1;33m             \u001b[1;32mreturn\u001b[0m \u001b[0mfunc\u001b[0m\u001b[1;33m(\u001b[0m\u001b[1;33m*\u001b[0m\u001b[0margs\u001b[0m\u001b[1;33m,\u001b[0m \u001b[1;33m**\u001b[0m\u001b[0mkwargs\u001b[0m\u001b[1;33m)\u001b[0m\u001b[1;33m\u001b[0m\u001b[1;33m\u001b[0m\u001b[0m\n\u001b[0m\u001b[0;32m    966\u001b[0m \u001b[1;33m\u001b[0m\u001b[0m\n\u001b[0;32m    967\u001b[0m         \u001b[1;32mreturn\u001b[0m \u001b[0mwrapper\u001b[0m\u001b[1;33m\u001b[0m\u001b[1;33m\u001b[0m\u001b[0m\n",
      "\u001b[1;32m~\\anaconda3\\lib\\site-packages\\pycaret\\classification\\functional.py\u001b[0m in \u001b[0;36mplot_model\u001b[1;34m(estimator, plot, scale, save, fold, fit_kwargs, plot_kwargs, groups, use_train_data, verbose, display_format)\u001b[0m\n\u001b[0;32m   1745\u001b[0m     \"\"\"\n\u001b[0;32m   1746\u001b[0m \u001b[1;33m\u001b[0m\u001b[0m\n\u001b[1;32m-> 1747\u001b[1;33m     return _CURRENT_EXPERIMENT.plot_model(\n\u001b[0m\u001b[0;32m   1748\u001b[0m         \u001b[0mestimator\u001b[0m\u001b[1;33m=\u001b[0m\u001b[0mestimator\u001b[0m\u001b[1;33m,\u001b[0m\u001b[1;33m\u001b[0m\u001b[1;33m\u001b[0m\u001b[0m\n\u001b[0;32m   1749\u001b[0m         \u001b[0mplot\u001b[0m\u001b[1;33m=\u001b[0m\u001b[0mplot\u001b[0m\u001b[1;33m,\u001b[0m\u001b[1;33m\u001b[0m\u001b[1;33m\u001b[0m\u001b[0m\n",
      "\u001b[1;32m~\\anaconda3\\lib\\site-packages\\pycaret\\classification\\oop.py\u001b[0m in \u001b[0;36mplot_model\u001b[1;34m(self, estimator, plot, scale, save, fold, fit_kwargs, plot_kwargs, groups, use_train_data, verbose, display_format)\u001b[0m\n\u001b[0;32m   2093\u001b[0m         \"\"\"\n\u001b[0;32m   2094\u001b[0m \u001b[1;33m\u001b[0m\u001b[0m\n\u001b[1;32m-> 2095\u001b[1;33m         return super().plot_model(\n\u001b[0m\u001b[0;32m   2096\u001b[0m             \u001b[0mestimator\u001b[0m\u001b[1;33m=\u001b[0m\u001b[0mestimator\u001b[0m\u001b[1;33m,\u001b[0m\u001b[1;33m\u001b[0m\u001b[1;33m\u001b[0m\u001b[0m\n\u001b[0;32m   2097\u001b[0m             \u001b[0mplot\u001b[0m\u001b[1;33m=\u001b[0m\u001b[0mplot\u001b[0m\u001b[1;33m,\u001b[0m\u001b[1;33m\u001b[0m\u001b[1;33m\u001b[0m\u001b[0m\n",
      "\u001b[1;32m~\\anaconda3\\lib\\site-packages\\pycaret\\internal\\pycaret_experiment\\tabular_experiment.py\u001b[0m in \u001b[0;36mplot_model\u001b[1;34m(self, estimator, plot, scale, save, fold, fit_kwargs, plot_kwargs, groups, feature_name, label, use_train_data, verbose, display_format)\u001b[0m\n\u001b[0;32m   2076\u001b[0m \u001b[1;33m\u001b[0m\u001b[0m\n\u001b[0;32m   2077\u001b[0m         \"\"\"\n\u001b[1;32m-> 2078\u001b[1;33m         return self._plot_model(\n\u001b[0m\u001b[0;32m   2079\u001b[0m             \u001b[0mestimator\u001b[0m\u001b[1;33m=\u001b[0m\u001b[0mestimator\u001b[0m\u001b[1;33m,\u001b[0m\u001b[1;33m\u001b[0m\u001b[1;33m\u001b[0m\u001b[0m\n\u001b[0;32m   2080\u001b[0m             \u001b[0mplot\u001b[0m\u001b[1;33m=\u001b[0m\u001b[0mplot\u001b[0m\u001b[1;33m,\u001b[0m\u001b[1;33m\u001b[0m\u001b[1;33m\u001b[0m\u001b[0m\n",
      "\u001b[1;32m~\\anaconda3\\lib\\site-packages\\pycaret\\internal\\pycaret_experiment\\tabular_experiment.py\u001b[0m in \u001b[0;36m_plot_model\u001b[1;34m(self, estimator, plot, scale, save, fold, fit_kwargs, plot_kwargs, groups, feature_name, label, use_train_data, verbose, system, display, display_format)\u001b[0m\n\u001b[0;32m   1942\u001b[0m                 \u001b[1;31m# execute the plot method\u001b[0m\u001b[1;33m\u001b[0m\u001b[1;33m\u001b[0m\u001b[0m\n\u001b[0;32m   1943\u001b[0m                 \u001b[1;32mwith\u001b[0m \u001b[0mredirect_output\u001b[0m\u001b[1;33m(\u001b[0m\u001b[0mself\u001b[0m\u001b[1;33m.\u001b[0m\u001b[0mlogger\u001b[0m\u001b[1;33m)\u001b[0m\u001b[1;33m:\u001b[0m\u001b[1;33m\u001b[0m\u001b[1;33m\u001b[0m\u001b[0m\n\u001b[1;32m-> 1944\u001b[1;33m                     \u001b[0mret\u001b[0m \u001b[1;33m=\u001b[0m \u001b[0mlocals\u001b[0m\u001b[1;33m(\u001b[0m\u001b[1;33m)\u001b[0m\u001b[1;33m[\u001b[0m\u001b[0mplot\u001b[0m\u001b[1;33m]\u001b[0m\u001b[1;33m(\u001b[0m\u001b[1;33m)\u001b[0m\u001b[1;33m\u001b[0m\u001b[1;33m\u001b[0m\u001b[0m\n\u001b[0m\u001b[0;32m   1945\u001b[0m                 \u001b[1;32mif\u001b[0m \u001b[0mret\u001b[0m\u001b[1;33m:\u001b[0m\u001b[1;33m\u001b[0m\u001b[1;33m\u001b[0m\u001b[0m\n\u001b[0;32m   1946\u001b[0m                     \u001b[0mplot_filename\u001b[0m \u001b[1;33m=\u001b[0m \u001b[0mret\u001b[0m\u001b[1;33m\u001b[0m\u001b[1;33m\u001b[0m\u001b[0m\n",
      "\u001b[1;32m~\\anaconda3\\lib\\site-packages\\pycaret\\internal\\pycaret_experiment\\tabular_experiment.py\u001b[0m in \u001b[0;36mauc\u001b[1;34m()\u001b[0m\n\u001b[0;32m   1147\u001b[0m \u001b[1;33m\u001b[0m\u001b[0m\n\u001b[0;32m   1148\u001b[0m                     \u001b[0mvisualizer\u001b[0m \u001b[1;33m=\u001b[0m \u001b[0mROCAUC\u001b[0m\u001b[1;33m(\u001b[0m\u001b[0mestimator\u001b[0m\u001b[1;33m,\u001b[0m \u001b[1;33m**\u001b[0m\u001b[0mplot_kwargs\u001b[0m\u001b[1;33m)\u001b[0m\u001b[1;33m\u001b[0m\u001b[1;33m\u001b[0m\u001b[0m\n\u001b[1;32m-> 1149\u001b[1;33m                     return show_yellowbrick_plot(\n\u001b[0m\u001b[0;32m   1150\u001b[0m                         \u001b[0mvisualizer\u001b[0m\u001b[1;33m=\u001b[0m\u001b[0mvisualizer\u001b[0m\u001b[1;33m,\u001b[0m\u001b[1;33m\u001b[0m\u001b[1;33m\u001b[0m\u001b[0m\n\u001b[0;32m   1151\u001b[0m                         \u001b[0mX_train\u001b[0m\u001b[1;33m=\u001b[0m\u001b[0mself\u001b[0m\u001b[1;33m.\u001b[0m\u001b[0mX_train_transformed\u001b[0m\u001b[1;33m,\u001b[0m\u001b[1;33m\u001b[0m\u001b[1;33m\u001b[0m\u001b[0m\n",
      "\u001b[1;32m~\\anaconda3\\lib\\site-packages\\pycaret\\internal\\plots\\yellowbrick.py\u001b[0m in \u001b[0;36mshow_yellowbrick_plot\u001b[1;34m(visualizer, X_train, y_train, X_test, y_test, name, handle_train, handle_test, scale, save, fit_kwargs, display_format, **kwargs)\u001b[0m\n\u001b[0;32m    101\u001b[0m     \u001b[1;32melif\u001b[0m \u001b[0mhandle_test\u001b[0m \u001b[1;33m==\u001b[0m \u001b[1;34m\"score\"\u001b[0m\u001b[1;33m:\u001b[0m\u001b[1;33m\u001b[0m\u001b[1;33m\u001b[0m\u001b[0m\n\u001b[0;32m    102\u001b[0m         \u001b[0mlogger\u001b[0m\u001b[1;33m.\u001b[0m\u001b[0minfo\u001b[0m\u001b[1;33m(\u001b[0m\u001b[1;34m\"Scoring test/hold-out set\"\u001b[0m\u001b[1;33m)\u001b[0m\u001b[1;33m\u001b[0m\u001b[1;33m\u001b[0m\u001b[0m\n\u001b[1;32m--> 103\u001b[1;33m         \u001b[0mvisualizer\u001b[0m\u001b[1;33m.\u001b[0m\u001b[0mscore\u001b[0m\u001b[1;33m(\u001b[0m\u001b[0mX_test\u001b[0m\u001b[1;33m,\u001b[0m \u001b[0my_test\u001b[0m\u001b[1;33m)\u001b[0m\u001b[1;33m\u001b[0m\u001b[1;33m\u001b[0m\u001b[0m\n\u001b[0m\u001b[0;32m    104\u001b[0m \u001b[1;33m\u001b[0m\u001b[0m\n\u001b[0;32m    105\u001b[0m     \u001b[0mplot_filename\u001b[0m \u001b[1;33m=\u001b[0m \u001b[1;34mf\"{name}.png\"\u001b[0m\u001b[1;33m\u001b[0m\u001b[1;33m\u001b[0m\u001b[0m\n",
      "\u001b[1;32m~\\anaconda3\\lib\\site-packages\\yellowbrick\\classifier\\rocauc.py\u001b[0m in \u001b[0;36mscore\u001b[1;34m(self, X, y)\u001b[0m\n\u001b[0;32m    317\u001b[0m                 \u001b[1;31m# predict_proba returns array of shape (n, 2), so use\u001b[0m\u001b[1;33m\u001b[0m\u001b[1;33m\u001b[0m\u001b[0m\n\u001b[0;32m    318\u001b[0m                 \u001b[1;31m# probability of class 1 to compute ROC\u001b[0m\u001b[1;33m\u001b[0m\u001b[1;33m\u001b[0m\u001b[0m\n\u001b[1;32m--> 319\u001b[1;33m                 \u001b[0mself\u001b[0m\u001b[1;33m.\u001b[0m\u001b[0mfpr\u001b[0m\u001b[1;33m[\u001b[0m\u001b[1;36m1\u001b[0m\u001b[1;33m]\u001b[0m\u001b[1;33m,\u001b[0m \u001b[0mself\u001b[0m\u001b[1;33m.\u001b[0m\u001b[0mtpr\u001b[0m\u001b[1;33m[\u001b[0m\u001b[1;36m1\u001b[0m\u001b[1;33m]\u001b[0m\u001b[1;33m,\u001b[0m \u001b[0m_\u001b[0m \u001b[1;33m=\u001b[0m \u001b[0mroc_curve\u001b[0m\u001b[1;33m(\u001b[0m\u001b[0my\u001b[0m\u001b[1;33m,\u001b[0m \u001b[0my_pred\u001b[0m\u001b[1;33m[\u001b[0m\u001b[1;33m:\u001b[0m\u001b[1;33m,\u001b[0m \u001b[1;36m1\u001b[0m\u001b[1;33m]\u001b[0m\u001b[1;33m)\u001b[0m\u001b[1;33m\u001b[0m\u001b[1;33m\u001b[0m\u001b[0m\n\u001b[0m\u001b[0;32m    320\u001b[0m             \u001b[1;32melse\u001b[0m\u001b[1;33m:\u001b[0m\u001b[1;33m\u001b[0m\u001b[1;33m\u001b[0m\u001b[0m\n\u001b[0;32m    321\u001b[0m                 \u001b[1;31m# decision_function returns array of shape (n,)\u001b[0m\u001b[1;33m\u001b[0m\u001b[1;33m\u001b[0m\u001b[0m\n",
      "\u001b[1;32m~\\anaconda3\\lib\\site-packages\\sklearn\\metrics\\_ranking.py\u001b[0m in \u001b[0;36mroc_curve\u001b[1;34m(y_true, y_score, pos_label, sample_weight, drop_intermediate)\u001b[0m\n\u001b[0;32m    990\u001b[0m     \u001b[0marray\u001b[0m\u001b[1;33m(\u001b[0m\u001b[1;33m[\u001b[0m\u001b[1;36m1.8\u001b[0m \u001b[1;33m,\u001b[0m \u001b[1;36m0.8\u001b[0m \u001b[1;33m,\u001b[0m \u001b[1;36m0.4\u001b[0m \u001b[1;33m,\u001b[0m \u001b[1;36m0.35\u001b[0m\u001b[1;33m,\u001b[0m \u001b[1;36m0.1\u001b[0m \u001b[1;33m]\u001b[0m\u001b[1;33m)\u001b[0m\u001b[1;33m\u001b[0m\u001b[1;33m\u001b[0m\u001b[0m\n\u001b[0;32m    991\u001b[0m     \"\"\"\n\u001b[1;32m--> 992\u001b[1;33m     fps, tps, thresholds = _binary_clf_curve(\n\u001b[0m\u001b[0;32m    993\u001b[0m         \u001b[0my_true\u001b[0m\u001b[1;33m,\u001b[0m \u001b[0my_score\u001b[0m\u001b[1;33m,\u001b[0m \u001b[0mpos_label\u001b[0m\u001b[1;33m=\u001b[0m\u001b[0mpos_label\u001b[0m\u001b[1;33m,\u001b[0m \u001b[0msample_weight\u001b[0m\u001b[1;33m=\u001b[0m\u001b[0msample_weight\u001b[0m\u001b[1;33m\u001b[0m\u001b[1;33m\u001b[0m\u001b[0m\n\u001b[0;32m    994\u001b[0m     )\n",
      "\u001b[1;32m~\\anaconda3\\lib\\site-packages\\sklearn\\metrics\\_ranking.py\u001b[0m in \u001b[0;36m_binary_clf_curve\u001b[1;34m(y_true, y_score, pos_label, sample_weight)\u001b[0m\n\u001b[0;32m    764\u001b[0m         \u001b[0msample_weight\u001b[0m \u001b[1;33m=\u001b[0m \u001b[0msample_weight\u001b[0m\u001b[1;33m[\u001b[0m\u001b[0mnonzero_weight_mask\u001b[0m\u001b[1;33m]\u001b[0m\u001b[1;33m\u001b[0m\u001b[1;33m\u001b[0m\u001b[0m\n\u001b[0;32m    765\u001b[0m \u001b[1;33m\u001b[0m\u001b[0m\n\u001b[1;32m--> 766\u001b[1;33m     \u001b[0mpos_label\u001b[0m \u001b[1;33m=\u001b[0m \u001b[0m_check_pos_label_consistency\u001b[0m\u001b[1;33m(\u001b[0m\u001b[0mpos_label\u001b[0m\u001b[1;33m,\u001b[0m \u001b[0my_true\u001b[0m\u001b[1;33m)\u001b[0m\u001b[1;33m\u001b[0m\u001b[1;33m\u001b[0m\u001b[0m\n\u001b[0m\u001b[0;32m    767\u001b[0m \u001b[1;33m\u001b[0m\u001b[0m\n\u001b[0;32m    768\u001b[0m     \u001b[1;31m# make y_true a boolean vector\u001b[0m\u001b[1;33m\u001b[0m\u001b[1;33m\u001b[0m\u001b[0m\n",
      "\u001b[1;32m~\\anaconda3\\lib\\site-packages\\sklearn\\metrics\\_base.py\u001b[0m in \u001b[0;36m_check_pos_label_consistency\u001b[1;34m(pos_label, y_true)\u001b[0m\n\u001b[0;32m    241\u001b[0m     ):\n\u001b[0;32m    242\u001b[0m         \u001b[0mclasses_repr\u001b[0m \u001b[1;33m=\u001b[0m \u001b[1;34m\", \"\u001b[0m\u001b[1;33m.\u001b[0m\u001b[0mjoin\u001b[0m\u001b[1;33m(\u001b[0m\u001b[0mrepr\u001b[0m\u001b[1;33m(\u001b[0m\u001b[0mc\u001b[0m\u001b[1;33m)\u001b[0m \u001b[1;32mfor\u001b[0m \u001b[0mc\u001b[0m \u001b[1;32min\u001b[0m \u001b[0mclasses\u001b[0m\u001b[1;33m)\u001b[0m\u001b[1;33m\u001b[0m\u001b[1;33m\u001b[0m\u001b[0m\n\u001b[1;32m--> 243\u001b[1;33m         raise ValueError(\n\u001b[0m\u001b[0;32m    244\u001b[0m             \u001b[1;34mf\"y_true takes value in {{{classes_repr}}} and pos_label is not \"\u001b[0m\u001b[1;33m\u001b[0m\u001b[1;33m\u001b[0m\u001b[0m\n\u001b[0;32m    245\u001b[0m             \u001b[1;34m\"specified: either make y_true take value in {0, 1} or \"\u001b[0m\u001b[1;33m\u001b[0m\u001b[1;33m\u001b[0m\u001b[0m\n",
      "\u001b[1;31mValueError\u001b[0m: y_true takes value in {'0', '1'} and pos_label is not specified: either make y_true take value in {0, 1} or {-1, 1} or pass pos_label explicitly."
     ]
    },
    {
     "data": {
      "text/plain": [
       "<Figure size 432x288 with 0 Axes>"
      ]
     },
     "metadata": {},
     "output_type": "display_data"
    }
   ],
   "source": [
    "plot_model(catboost, plot='auc')"
   ]
  },
  {
   "cell_type": "code",
   "execution_count": 283,
   "id": "ef64133a-62fa-42f1-8ca4-cd028184f6e3",
   "metadata": {},
   "outputs": [
    {
     "data": {
      "text/html": [],
      "text/plain": [
       "<IPython.core.display.HTML object>"
      ]
     },
     "metadata": {},
     "output_type": "display_data"
    },
    {
     "data": {
      "image/png": "[encoded data removed]",
      "text/plain": [
       "<Figure size 432x288 with 1 Axes>"
      ]
     },
     "metadata": {
      "needs_background": "light"
     },
     "output_type": "display_data"
    }
   ],
   "source": [
    "plot_model(catboost, plot='confusion_matrix')"
   ]
  },
  {
   "cell_type": "code",
   "execution_count": 284,
   "id": "b56a9676-e67e-4ec1-9383-ce4539abf22f",
   "metadata": {},
   "outputs": [
    {
     "data": {
      "text/html": [],
      "text/plain": [
       "<IPython.core.display.HTML object>"
      ]
     },
     "metadata": {},
     "output_type": "display_data"
    },
    {
     "data": {
      "image/png": "[encoded data removed]",
      "text/plain": [
       "<Figure size 432x288 with 2 Axes>"
      ]
     },
     "metadata": {
      "needs_background": "light"
     },
     "output_type": "display_data"
    }
   ],
   "source": [
    "plot_model(catboost, plot='class_report')"
   ]
  },
  {
   "cell_type": "code",
   "execution_count": 285,
   "id": "1cd92939-5859-483d-a4d8-e5653303f521",
   "metadata": {},
   "outputs": [],
   "source": [
    "catboost_regular_norm = create_model('catboost', \n",
    "                        fold = 10,\n",
    "                        verbose = False,\n",
    "                        l2_leaf_reg = 3)"
   ]
  },
  {
   "cell_type": "code",
   "execution_count": 286,
   "id": "4870ff5e-5ef8-41e1-833c-b0734cd856ae",
   "metadata": {},
   "outputs": [
    {
     "data": {
      "text/html": [],
      "text/plain": [
       "<IPython.core.display.HTML object>"
      ]
     },
     "metadata": {},
     "output_type": "display_data"
    },
    {
     "data": {
      "image/png": "[encoded data removed]",
      "text/plain": [
       "<Figure size 432x288 with 1 Axes>"
      ]
     },
     "metadata": {
      "needs_background": "light"
     },
     "output_type": "display_data"
    }
   ],
   "source": [
    "plot_model(catboost_regular_norm, plot='learning')"
   ]
  },
  {
   "cell_type": "code",
   "execution_count": 287,
   "id": "2cb651b0-2c26-4651-ad77-418c96cf9f9c",
   "metadata": {},
   "outputs": [
    {
     "data": {
      "text/html": [],
      "text/plain": [
       "<IPython.core.display.HTML object>"
      ]
     },
     "metadata": {},
     "output_type": "display_data"
    },
    {
     "ename": "ValueError",
     "evalue": "y_true takes value in {'0', '1'} and pos_label is not specified: either make y_true take value in {0, 1} or {-1, 1} or pass pos_label explicitly.",
     "output_type": "error",
     "traceback": [
      "\u001b[1;31m---------------------------------------------------------------------------\u001b[0m",
      "\u001b[1;31mValueError\u001b[0m                                Traceback (most recent call last)",
      "\u001b[1;32m~\\AppData\\Local\\Temp\\ipykernel_13148\\4070703879.py\u001b[0m in \u001b[0;36m<cell line: 1>\u001b[1;34m()\u001b[0m\n\u001b[1;32m----> 1\u001b[1;33m \u001b[0mplot_model\u001b[0m\u001b[1;33m(\u001b[0m\u001b[0mcatboost_regular_norm\u001b[0m\u001b[1;33m,\u001b[0m \u001b[0mplot\u001b[0m\u001b[1;33m=\u001b[0m\u001b[1;34m'auc'\u001b[0m\u001b[1;33m)\u001b[0m\u001b[1;33m\u001b[0m\u001b[1;33m\u001b[0m\u001b[0m\n\u001b[0m",
      "\u001b[1;32m~\\anaconda3\\lib\\site-packages\\pycaret\\utils\\generic.py\u001b[0m in \u001b[0;36mwrapper\u001b[1;34m(*args, **kwargs)\u001b[0m\n\u001b[0;32m    963\u001b[0m                 \u001b[1;32mif\u001b[0m \u001b[0mglobals_d\u001b[0m\u001b[1;33m[\u001b[0m\u001b[0mname\u001b[0m\u001b[1;33m]\u001b[0m \u001b[1;32mis\u001b[0m \u001b[1;32mNone\u001b[0m\u001b[1;33m:\u001b[0m\u001b[1;33m\u001b[0m\u001b[1;33m\u001b[0m\u001b[0m\n\u001b[0;32m    964\u001b[0m                     \u001b[1;32mraise\u001b[0m \u001b[0mValueError\u001b[0m\u001b[1;33m(\u001b[0m\u001b[0mmessage\u001b[0m\u001b[1;33m)\u001b[0m\u001b[1;33m\u001b[0m\u001b[1;33m\u001b[0m\u001b[0m\n\u001b[1;32m--> 965\u001b[1;33m             \u001b[1;32mreturn\u001b[0m \u001b[0mfunc\u001b[0m\u001b[1;33m(\u001b[0m\u001b[1;33m*\u001b[0m\u001b[0margs\u001b[0m\u001b[1;33m,\u001b[0m \u001b[1;33m**\u001b[0m\u001b[0mkwargs\u001b[0m\u001b[1;33m)\u001b[0m\u001b[1;33m\u001b[0m\u001b[1;33m\u001b[0m\u001b[0m\n\u001b[0m\u001b[0;32m    966\u001b[0m \u001b[1;33m\u001b[0m\u001b[0m\n\u001b[0;32m    967\u001b[0m         \u001b[1;32mreturn\u001b[0m \u001b[0mwrapper\u001b[0m\u001b[1;33m\u001b[0m\u001b[1;33m\u001b[0m\u001b[0m\n",
      "\u001b[1;32m~\\anaconda3\\lib\\site-packages\\pycaret\\classification\\functional.py\u001b[0m in \u001b[0;36mplot_model\u001b[1;34m(estimator, plot, scale, save, fold, fit_kwargs, plot_kwargs, groups, use_train_data, verbose, display_format)\u001b[0m\n\u001b[0;32m   1745\u001b[0m     \"\"\"\n\u001b[0;32m   1746\u001b[0m \u001b[1;33m\u001b[0m\u001b[0m\n\u001b[1;32m-> 1747\u001b[1;33m     return _CURRENT_EXPERIMENT.plot_model(\n\u001b[0m\u001b[0;32m   1748\u001b[0m         \u001b[0mestimator\u001b[0m\u001b[1;33m=\u001b[0m\u001b[0mestimator\u001b[0m\u001b[1;33m,\u001b[0m\u001b[1;33m\u001b[0m\u001b[1;33m\u001b[0m\u001b[0m\n\u001b[0;32m   1749\u001b[0m         \u001b[0mplot\u001b[0m\u001b[1;33m=\u001b[0m\u001b[0mplot\u001b[0m\u001b[1;33m,\u001b[0m\u001b[1;33m\u001b[0m\u001b[1;33m\u001b[0m\u001b[0m\n",
      "\u001b[1;32m~\\anaconda3\\lib\\site-packages\\pycaret\\classification\\oop.py\u001b[0m in \u001b[0;36mplot_model\u001b[1;34m(self, estimator, plot, scale, save, fold, fit_kwargs, plot_kwargs, groups, use_train_data, verbose, display_format)\u001b[0m\n\u001b[0;32m   2093\u001b[0m         \"\"\"\n\u001b[0;32m   2094\u001b[0m \u001b[1;33m\u001b[0m\u001b[0m\n\u001b[1;32m-> 2095\u001b[1;33m         return super().plot_model(\n\u001b[0m\u001b[0;32m   2096\u001b[0m             \u001b[0mestimator\u001b[0m\u001b[1;33m=\u001b[0m\u001b[0mestimator\u001b[0m\u001b[1;33m,\u001b[0m\u001b[1;33m\u001b[0m\u001b[1;33m\u001b[0m\u001b[0m\n\u001b[0;32m   2097\u001b[0m             \u001b[0mplot\u001b[0m\u001b[1;33m=\u001b[0m\u001b[0mplot\u001b[0m\u001b[1;33m,\u001b[0m\u001b[1;33m\u001b[0m\u001b[1;33m\u001b[0m\u001b[0m\n",
      "\u001b[1;32m~\\anaconda3\\lib\\site-packages\\pycaret\\internal\\pycaret_experiment\\tabular_experiment.py\u001b[0m in \u001b[0;36mplot_model\u001b[1;34m(self, estimator, plot, scale, save, fold, fit_kwargs, plot_kwargs, groups, feature_name, label, use_train_data, verbose, display_format)\u001b[0m\n\u001b[0;32m   2076\u001b[0m \u001b[1;33m\u001b[0m\u001b[0m\n\u001b[0;32m   2077\u001b[0m         \"\"\"\n\u001b[1;32m-> 2078\u001b[1;33m         return self._plot_model(\n\u001b[0m\u001b[0;32m   2079\u001b[0m             \u001b[0mestimator\u001b[0m\u001b[1;33m=\u001b[0m\u001b[0mestimator\u001b[0m\u001b[1;33m,\u001b[0m\u001b[1;33m\u001b[0m\u001b[1;33m\u001b[0m\u001b[0m\n\u001b[0;32m   2080\u001b[0m             \u001b[0mplot\u001b[0m\u001b[1;33m=\u001b[0m\u001b[0mplot\u001b[0m\u001b[1;33m,\u001b[0m\u001b[1;33m\u001b[0m\u001b[1;33m\u001b[0m\u001b[0m\n",
      "\u001b[1;32m~\\anaconda3\\lib\\site-packages\\pycaret\\internal\\pycaret_experiment\\tabular_experiment.py\u001b[0m in \u001b[0;36m_plot_model\u001b[1;34m(self, estimator, plot, scale, save, fold, fit_kwargs, plot_kwargs, groups, feature_name, label, use_train_data, verbose, system, display, display_format)\u001b[0m\n\u001b[0;32m   1942\u001b[0m                 \u001b[1;31m# execute the plot method\u001b[0m\u001b[1;33m\u001b[0m\u001b[1;33m\u001b[0m\u001b[0m\n\u001b[0;32m   1943\u001b[0m                 \u001b[1;32mwith\u001b[0m \u001b[0mredirect_output\u001b[0m\u001b[1;33m(\u001b[0m\u001b[0mself\u001b[0m\u001b[1;33m.\u001b[0m\u001b[0mlogger\u001b[0m\u001b[1;33m)\u001b[0m\u001b[1;33m:\u001b[0m\u001b[1;33m\u001b[0m\u001b[1;33m\u001b[0m\u001b[0m\n\u001b[1;32m-> 1944\u001b[1;33m                     \u001b[0mret\u001b[0m \u001b[1;33m=\u001b[0m \u001b[0mlocals\u001b[0m\u001b[1;33m(\u001b[0m\u001b[1;33m)\u001b[0m\u001b[1;33m[\u001b[0m\u001b[0mplot\u001b[0m\u001b[1;33m]\u001b[0m\u001b[1;33m(\u001b[0m\u001b[1;33m)\u001b[0m\u001b[1;33m\u001b[0m\u001b[1;33m\u001b[0m\u001b[0m\n\u001b[0m\u001b[0;32m   1945\u001b[0m                 \u001b[1;32mif\u001b[0m \u001b[0mret\u001b[0m\u001b[1;33m:\u001b[0m\u001b[1;33m\u001b[0m\u001b[1;33m\u001b[0m\u001b[0m\n\u001b[0;32m   1946\u001b[0m                     \u001b[0mplot_filename\u001b[0m \u001b[1;33m=\u001b[0m \u001b[0mret\u001b[0m\u001b[1;33m\u001b[0m\u001b[1;33m\u001b[0m\u001b[0m\n",
      "\u001b[1;32m~\\anaconda3\\lib\\site-packages\\pycaret\\internal\\pycaret_experiment\\tabular_experiment.py\u001b[0m in \u001b[0;36mauc\u001b[1;34m()\u001b[0m\n\u001b[0;32m   1147\u001b[0m \u001b[1;33m\u001b[0m\u001b[0m\n\u001b[0;32m   1148\u001b[0m                     \u001b[0mvisualizer\u001b[0m \u001b[1;33m=\u001b[0m \u001b[0mROCAUC\u001b[0m\u001b[1;33m(\u001b[0m\u001b[0mestimator\u001b[0m\u001b[1;33m,\u001b[0m \u001b[1;33m**\u001b[0m\u001b[0mplot_kwargs\u001b[0m\u001b[1;33m)\u001b[0m\u001b[1;33m\u001b[0m\u001b[1;33m\u001b[0m\u001b[0m\n\u001b[1;32m-> 1149\u001b[1;33m                     return show_yellowbrick_plot(\n\u001b[0m\u001b[0;32m   1150\u001b[0m                         \u001b[0mvisualizer\u001b[0m\u001b[1;33m=\u001b[0m\u001b[0mvisualizer\u001b[0m\u001b[1;33m,\u001b[0m\u001b[1;33m\u001b[0m\u001b[1;33m\u001b[0m\u001b[0m\n\u001b[0;32m   1151\u001b[0m                         \u001b[0mX_train\u001b[0m\u001b[1;33m=\u001b[0m\u001b[0mself\u001b[0m\u001b[1;33m.\u001b[0m\u001b[0mX_train_transformed\u001b[0m\u001b[1;33m,\u001b[0m\u001b[1;33m\u001b[0m\u001b[1;33m\u001b[0m\u001b[0m\n",
      "\u001b[1;32m~\\anaconda3\\lib\\site-packages\\pycaret\\internal\\plots\\yellowbrick.py\u001b[0m in \u001b[0;36mshow_yellowbrick_plot\u001b[1;34m(visualizer, X_train, y_train, X_test, y_test, name, handle_train, handle_test, scale, save, fit_kwargs, display_format, **kwargs)\u001b[0m\n\u001b[0;32m    101\u001b[0m     \u001b[1;32melif\u001b[0m \u001b[0mhandle_test\u001b[0m \u001b[1;33m==\u001b[0m \u001b[1;34m\"score\"\u001b[0m\u001b[1;33m:\u001b[0m\u001b[1;33m\u001b[0m\u001b[1;33m\u001b[0m\u001b[0m\n\u001b[0;32m    102\u001b[0m         \u001b[0mlogger\u001b[0m\u001b[1;33m.\u001b[0m\u001b[0minfo\u001b[0m\u001b[1;33m(\u001b[0m\u001b[1;34m\"Scoring test/hold-out set\"\u001b[0m\u001b[1;33m)\u001b[0m\u001b[1;33m\u001b[0m\u001b[1;33m\u001b[0m\u001b[0m\n\u001b[1;32m--> 103\u001b[1;33m         \u001b[0mvisualizer\u001b[0m\u001b[1;33m.\u001b[0m\u001b[0mscore\u001b[0m\u001b[1;33m(\u001b[0m\u001b[0mX_test\u001b[0m\u001b[1;33m,\u001b[0m \u001b[0my_test\u001b[0m\u001b[1;33m)\u001b[0m\u001b[1;33m\u001b[0m\u001b[1;33m\u001b[0m\u001b[0m\n\u001b[0m\u001b[0;32m    104\u001b[0m \u001b[1;33m\u001b[0m\u001b[0m\n\u001b[0;32m    105\u001b[0m     \u001b[0mplot_filename\u001b[0m \u001b[1;33m=\u001b[0m \u001b[1;34mf\"{name}.png\"\u001b[0m\u001b[1;33m\u001b[0m\u001b[1;33m\u001b[0m\u001b[0m\n",
      "\u001b[1;32m~\\anaconda3\\lib\\site-packages\\yellowbrick\\classifier\\rocauc.py\u001b[0m in \u001b[0;36mscore\u001b[1;34m(self, X, y)\u001b[0m\n\u001b[0;32m    317\u001b[0m                 \u001b[1;31m# predict_proba returns array of shape (n, 2), so use\u001b[0m\u001b[1;33m\u001b[0m\u001b[1;33m\u001b[0m\u001b[0m\n\u001b[0;32m    318\u001b[0m                 \u001b[1;31m# probability of class 1 to compute ROC\u001b[0m\u001b[1;33m\u001b[0m\u001b[1;33m\u001b[0m\u001b[0m\n\u001b[1;32m--> 319\u001b[1;33m                 \u001b[0mself\u001b[0m\u001b[1;33m.\u001b[0m\u001b[0mfpr\u001b[0m\u001b[1;33m[\u001b[0m\u001b[1;36m1\u001b[0m\u001b[1;33m]\u001b[0m\u001b[1;33m,\u001b[0m \u001b[0mself\u001b[0m\u001b[1;33m.\u001b[0m\u001b[0mtpr\u001b[0m\u001b[1;33m[\u001b[0m\u001b[1;36m1\u001b[0m\u001b[1;33m]\u001b[0m\u001b[1;33m,\u001b[0m \u001b[0m_\u001b[0m \u001b[1;33m=\u001b[0m \u001b[0mroc_curve\u001b[0m\u001b[1;33m(\u001b[0m\u001b[0my\u001b[0m\u001b[1;33m,\u001b[0m \u001b[0my_pred\u001b[0m\u001b[1;33m[\u001b[0m\u001b[1;33m:\u001b[0m\u001b[1;33m,\u001b[0m \u001b[1;36m1\u001b[0m\u001b[1;33m]\u001b[0m\u001b[1;33m)\u001b[0m\u001b[1;33m\u001b[0m\u001b[1;33m\u001b[0m\u001b[0m\n\u001b[0m\u001b[0;32m    320\u001b[0m             \u001b[1;32melse\u001b[0m\u001b[1;33m:\u001b[0m\u001b[1;33m\u001b[0m\u001b[1;33m\u001b[0m\u001b[0m\n\u001b[0;32m    321\u001b[0m                 \u001b[1;31m# decision_function returns array of shape (n,)\u001b[0m\u001b[1;33m\u001b[0m\u001b[1;33m\u001b[0m\u001b[0m\n",
      "\u001b[1;32m~\\anaconda3\\lib\\site-packages\\sklearn\\metrics\\_ranking.py\u001b[0m in \u001b[0;36mroc_curve\u001b[1;34m(y_true, y_score, pos_label, sample_weight, drop_intermediate)\u001b[0m\n\u001b[0;32m    990\u001b[0m     \u001b[0marray\u001b[0m\u001b[1;33m(\u001b[0m\u001b[1;33m[\u001b[0m\u001b[1;36m1.8\u001b[0m \u001b[1;33m,\u001b[0m \u001b[1;36m0.8\u001b[0m \u001b[1;33m,\u001b[0m \u001b[1;36m0.4\u001b[0m \u001b[1;33m,\u001b[0m \u001b[1;36m0.35\u001b[0m\u001b[1;33m,\u001b[0m \u001b[1;36m0.1\u001b[0m \u001b[1;33m]\u001b[0m\u001b[1;33m)\u001b[0m\u001b[1;33m\u001b[0m\u001b[1;33m\u001b[0m\u001b[0m\n\u001b[0;32m    991\u001b[0m     \"\"\"\n\u001b[1;32m--> 992\u001b[1;33m     fps, tps, thresholds = _binary_clf_curve(\n\u001b[0m\u001b[0;32m    993\u001b[0m         \u001b[0my_true\u001b[0m\u001b[1;33m,\u001b[0m \u001b[0my_score\u001b[0m\u001b[1;33m,\u001b[0m \u001b[0mpos_label\u001b[0m\u001b[1;33m=\u001b[0m\u001b[0mpos_label\u001b[0m\u001b[1;33m,\u001b[0m \u001b[0msample_weight\u001b[0m\u001b[1;33m=\u001b[0m\u001b[0msample_weight\u001b[0m\u001b[1;33m\u001b[0m\u001b[1;33m\u001b[0m\u001b[0m\n\u001b[0;32m    994\u001b[0m     )\n",
      "\u001b[1;32m~\\anaconda3\\lib\\site-packages\\sklearn\\metrics\\_ranking.py\u001b[0m in \u001b[0;36m_binary_clf_curve\u001b[1;34m(y_true, y_score, pos_label, sample_weight)\u001b[0m\n\u001b[0;32m    764\u001b[0m         \u001b[0msample_weight\u001b[0m \u001b[1;33m=\u001b[0m \u001b[0msample_weight\u001b[0m\u001b[1;33m[\u001b[0m\u001b[0mnonzero_weight_mask\u001b[0m\u001b[1;33m]\u001b[0m\u001b[1;33m\u001b[0m\u001b[1;33m\u001b[0m\u001b[0m\n\u001b[0;32m    765\u001b[0m \u001b[1;33m\u001b[0m\u001b[0m\n\u001b[1;32m--> 766\u001b[1;33m     \u001b[0mpos_label\u001b[0m \u001b[1;33m=\u001b[0m \u001b[0m_check_pos_label_consistency\u001b[0m\u001b[1;33m(\u001b[0m\u001b[0mpos_label\u001b[0m\u001b[1;33m,\u001b[0m \u001b[0my_true\u001b[0m\u001b[1;33m)\u001b[0m\u001b[1;33m\u001b[0m\u001b[1;33m\u001b[0m\u001b[0m\n\u001b[0m\u001b[0;32m    767\u001b[0m \u001b[1;33m\u001b[0m\u001b[0m\n\u001b[0;32m    768\u001b[0m     \u001b[1;31m# make y_true a boolean vector\u001b[0m\u001b[1;33m\u001b[0m\u001b[1;33m\u001b[0m\u001b[0m\n",
      "\u001b[1;32m~\\anaconda3\\lib\\site-packages\\sklearn\\metrics\\_base.py\u001b[0m in \u001b[0;36m_check_pos_label_consistency\u001b[1;34m(pos_label, y_true)\u001b[0m\n\u001b[0;32m    241\u001b[0m     ):\n\u001b[0;32m    242\u001b[0m         \u001b[0mclasses_repr\u001b[0m \u001b[1;33m=\u001b[0m \u001b[1;34m\", \"\u001b[0m\u001b[1;33m.\u001b[0m\u001b[0mjoin\u001b[0m\u001b[1;33m(\u001b[0m\u001b[0mrepr\u001b[0m\u001b[1;33m(\u001b[0m\u001b[0mc\u001b[0m\u001b[1;33m)\u001b[0m \u001b[1;32mfor\u001b[0m \u001b[0mc\u001b[0m \u001b[1;32min\u001b[0m \u001b[0mclasses\u001b[0m\u001b[1;33m)\u001b[0m\u001b[1;33m\u001b[0m\u001b[1;33m\u001b[0m\u001b[0m\n\u001b[1;32m--> 243\u001b[1;33m         raise ValueError(\n\u001b[0m\u001b[0;32m    244\u001b[0m             \u001b[1;34mf\"y_true takes value in {{{classes_repr}}} and pos_label is not \"\u001b[0m\u001b[1;33m\u001b[0m\u001b[1;33m\u001b[0m\u001b[0m\n\u001b[0;32m    245\u001b[0m             \u001b[1;34m\"specified: either make y_true take value in {0, 1} or \"\u001b[0m\u001b[1;33m\u001b[0m\u001b[1;33m\u001b[0m\u001b[0m\n",
      "\u001b[1;31mValueError\u001b[0m: y_true takes value in {'0', '1'} and pos_label is not specified: either make y_true take value in {0, 1} or {-1, 1} or pass pos_label explicitly."
     ]
    },
    {
     "data": {
      "text/plain": [
       "<Figure size 432x288 with 0 Axes>"
      ]
     },
     "metadata": {},
     "output_type": "display_data"
    }
   ],
   "source": [
    "plot_model(catboost_regular_norm, plot='auc')"
   ]
  },
  {
   "cell_type": "code",
   "execution_count": 288,
   "id": "f323f4d8-2ff9-4f87-92e8-27c6057d8baf",
   "metadata": {},
   "outputs": [
    {
     "data": {
      "text/html": [],
      "text/plain": [
       "<IPython.core.display.HTML object>"
      ]
     },
     "metadata": {},
     "output_type": "display_data"
    },
    {
     "data": {
      "image/png": "[encoded data removed]",
      "text/plain": [
       "<Figure size 432x288 with 1 Axes>"
      ]
     },
     "metadata": {
      "needs_background": "light"
     },
     "output_type": "display_data"
    }
   ],
   "source": [
    "plot_model(catboost_regular_norm, plot='confusion_matrix')"
   ]
  },
  {
   "cell_type": "code",
   "execution_count": 289,
   "id": "6a3c12c2-1342-4503-adf7-26f3bc02f6ec",
   "metadata": {},
   "outputs": [
    {
     "data": {
      "text/html": [],
      "text/plain": [
       "<IPython.core.display.HTML object>"
      ]
     },
     "metadata": {},
     "output_type": "display_data"
    },
    {
     "data": {
      "image/png": "[encoded data removed]",
      "text/plain": [
       "<Figure size 432x288 with 2 Axes>"
      ]
     },
     "metadata": {
      "needs_background": "light"
     },
     "output_type": "display_data"
    }
   ],
   "source": [
    "plot_model(catboost_regular_norm, plot='class_report')"
   ]
  },
  {
   "cell_type": "code",
   "execution_count": 290,
   "id": "b564292b-25dc-4f60-98ef-bfc5021e8f45",
   "metadata": {},
   "outputs": [
    {
     "data": {
      "text/html": [],
      "text/plain": [
       "<IPython.core.display.HTML object>"
      ]
     },
     "metadata": {},
     "output_type": "display_data"
    },
    {
     "data": {
      "text/html": [
       "<div>\n",
       "<style scoped>\n",
       "    .dataframe tbody tr th:only-of-type {\n",
       "        vertical-align: middle;\n",
       "    }\n",
       "\n",
       "    .dataframe tbody tr th {\n",
       "        vertical-align: top;\n",
       "    }\n",
       "\n",
       "    .dataframe thead th {\n",
       "        text-align: right;\n",
       "    }\n",
       "</style>\n",
       "<table border=\"1\" class=\"dataframe\">\n",
       "  <thead>\n",
       "    <tr style=\"text-align: right;\">\n",
       "      <th></th>\n",
       "      <th>CryoSleep</th>\n",
       "      <th>Age</th>\n",
       "      <th>VIP</th>\n",
       "      <th>RoomService</th>\n",
       "      <th>FoodCourt</th>\n",
       "      <th>ShoppingMall</th>\n",
       "      <th>Spa</th>\n",
       "      <th>VRDeck</th>\n",
       "      <th>HomePlanet_Earth</th>\n",
       "      <th>HomePlanet_Europa</th>\n",
       "      <th>HomePlanet_Mars</th>\n",
       "      <th>Cabin_deck</th>\n",
       "      <th>Cabin_side</th>\n",
       "      <th>Destination_55 Cancri e</th>\n",
       "      <th>Destination_PSO J318.5-22</th>\n",
       "      <th>Destination_TRAPPIST-1e</th>\n",
       "      <th>Transported</th>\n",
       "      <th>prediction_score</th>\n",
       "    </tr>\n",
       "  </thead>\n",
       "  <tbody>\n",
       "    <tr>\n",
       "      <th>0</th>\n",
       "      <td>1</td>\n",
       "      <td>1.000000</td>\n",
       "      <td>0</td>\n",
       "      <td>0.000000</td>\n",
       "      <td>0.000000</td>\n",
       "      <td>0.000000</td>\n",
       "      <td>0.000000</td>\n",
       "      <td>0.000000</td>\n",
       "      <td>1</td>\n",
       "      <td>0</td>\n",
       "      <td>0</td>\n",
       "      <td>5</td>\n",
       "      <td>1</td>\n",
       "      <td>0</td>\n",
       "      <td>0</td>\n",
       "      <td>1</td>\n",
       "      <td>1</td>\n",
       "      <td>0.6777</td>\n",
       "    </tr>\n",
       "    <tr>\n",
       "      <th>1</th>\n",
       "      <td>0</td>\n",
       "      <td>0.860703</td>\n",
       "      <td>0</td>\n",
       "      <td>0.000000</td>\n",
       "      <td>0.001274</td>\n",
       "      <td>0.000000</td>\n",
       "      <td>0.509106</td>\n",
       "      <td>0.000000</td>\n",
       "      <td>1</td>\n",
       "      <td>0</td>\n",
       "      <td>0</td>\n",
       "      <td>4</td>\n",
       "      <td>1</td>\n",
       "      <td>0</td>\n",
       "      <td>0</td>\n",
       "      <td>1</td>\n",
       "      <td>0</td>\n",
       "      <td>0.9827</td>\n",
       "    </tr>\n",
       "    <tr>\n",
       "      <th>2</th>\n",
       "      <td>1</td>\n",
       "      <td>1.000000</td>\n",
       "      <td>0</td>\n",
       "      <td>0.000000</td>\n",
       "      <td>0.000000</td>\n",
       "      <td>0.000000</td>\n",
       "      <td>0.000000</td>\n",
       "      <td>0.000000</td>\n",
       "      <td>0</td>\n",
       "      <td>1</td>\n",
       "      <td>0</td>\n",
       "      <td>2</td>\n",
       "      <td>1</td>\n",
       "      <td>1</td>\n",
       "      <td>0</td>\n",
       "      <td>0</td>\n",
       "      <td>1</td>\n",
       "      <td>0.9979</td>\n",
       "    </tr>\n",
       "    <tr>\n",
       "      <th>3</th>\n",
       "      <td>0</td>\n",
       "      <td>0.876129</td>\n",
       "      <td>0</td>\n",
       "      <td>0.000000</td>\n",
       "      <td>0.479410</td>\n",
       "      <td>0.000000</td>\n",
       "      <td>0.016613</td>\n",
       "      <td>0.047842</td>\n",
       "      <td>0</td>\n",
       "      <td>1</td>\n",
       "      <td>0</td>\n",
       "      <td>2</td>\n",
       "      <td>1</td>\n",
       "      <td>0</td>\n",
       "      <td>0</td>\n",
       "      <td>1</td>\n",
       "      <td>1</td>\n",
       "      <td>0.9880</td>\n",
       "    </tr>\n",
       "    <tr>\n",
       "      <th>4</th>\n",
       "      <td>0</td>\n",
       "      <td>0.957163</td>\n",
       "      <td>0</td>\n",
       "      <td>0.003269</td>\n",
       "      <td>0.000000</td>\n",
       "      <td>0.289532</td>\n",
       "      <td>0.000000</td>\n",
       "      <td>0.000000</td>\n",
       "      <td>1</td>\n",
       "      <td>0</td>\n",
       "      <td>0</td>\n",
       "      <td>4</td>\n",
       "      <td>1</td>\n",
       "      <td>0</td>\n",
       "      <td>0</td>\n",
       "      <td>1</td>\n",
       "      <td>1</td>\n",
       "      <td>0.9241</td>\n",
       "    </tr>\n",
       "    <tr>\n",
       "      <th>...</th>\n",
       "      <td>...</td>\n",
       "      <td>...</td>\n",
       "      <td>...</td>\n",
       "      <td>...</td>\n",
       "      <td>...</td>\n",
       "      <td>...</td>\n",
       "      <td>...</td>\n",
       "      <td>...</td>\n",
       "      <td>...</td>\n",
       "      <td>...</td>\n",
       "      <td>...</td>\n",
       "      <td>...</td>\n",
       "      <td>...</td>\n",
       "      <td>...</td>\n",
       "      <td>...</td>\n",
       "      <td>...</td>\n",
       "      <td>...</td>\n",
       "      <td>...</td>\n",
       "    </tr>\n",
       "    <tr>\n",
       "      <th>4272</th>\n",
       "      <td>1</td>\n",
       "      <td>1.000000</td>\n",
       "      <td>0</td>\n",
       "      <td>0.000000</td>\n",
       "      <td>0.000000</td>\n",
       "      <td>0.000000</td>\n",
       "      <td>0.000000</td>\n",
       "      <td>0.000000</td>\n",
       "      <td>1</td>\n",
       "      <td>0</td>\n",
       "      <td>0</td>\n",
       "      <td>5</td>\n",
       "      <td>1</td>\n",
       "      <td>0</td>\n",
       "      <td>0</td>\n",
       "      <td>1</td>\n",
       "      <td>1</td>\n",
       "      <td>0.6777</td>\n",
       "    </tr>\n",
       "    <tr>\n",
       "      <th>4273</th>\n",
       "      <td>0</td>\n",
       "      <td>0.997938</td>\n",
       "      <td>0</td>\n",
       "      <td>0.000000</td>\n",
       "      <td>0.062908</td>\n",
       "      <td>0.003848</td>\n",
       "      <td>0.000946</td>\n",
       "      <td>0.012136</td>\n",
       "      <td>1</td>\n",
       "      <td>0</td>\n",
       "      <td>0</td>\n",
       "      <td>4</td>\n",
       "      <td>0</td>\n",
       "      <td>0</td>\n",
       "      <td>0</td>\n",
       "      <td>1</td>\n",
       "      <td>0</td>\n",
       "      <td>0.5125</td>\n",
       "    </tr>\n",
       "    <tr>\n",
       "      <th>4274</th>\n",
       "      <td>1</td>\n",
       "      <td>1.000000</td>\n",
       "      <td>0</td>\n",
       "      <td>0.000000</td>\n",
       "      <td>0.000000</td>\n",
       "      <td>0.000000</td>\n",
       "      <td>0.000000</td>\n",
       "      <td>0.000000</td>\n",
       "      <td>0</td>\n",
       "      <td>0</td>\n",
       "      <td>1</td>\n",
       "      <td>2</td>\n",
       "      <td>0</td>\n",
       "      <td>1</td>\n",
       "      <td>0</td>\n",
       "      <td>0</td>\n",
       "      <td>1</td>\n",
       "      <td>0.9487</td>\n",
       "    </tr>\n",
       "    <tr>\n",
       "      <th>4275</th>\n",
       "      <td>0</td>\n",
       "      <td>0.958447</td>\n",
       "      <td>0</td>\n",
       "      <td>0.000000</td>\n",
       "      <td>0.278522</td>\n",
       "      <td>0.000000</td>\n",
       "      <td>0.000000</td>\n",
       "      <td>0.061677</td>\n",
       "      <td>0</td>\n",
       "      <td>1</td>\n",
       "      <td>0</td>\n",
       "      <td>2</td>\n",
       "      <td>0</td>\n",
       "      <td>0</td>\n",
       "      <td>0</td>\n",
       "      <td>1</td>\n",
       "      <td>1</td>\n",
       "      <td>0.8545</td>\n",
       "    </tr>\n",
       "    <tr>\n",
       "      <th>4276</th>\n",
       "      <td>1</td>\n",
       "      <td>1.000000</td>\n",
       "      <td>0</td>\n",
       "      <td>0.000000</td>\n",
       "      <td>0.000000</td>\n",
       "      <td>0.000000</td>\n",
       "      <td>0.000000</td>\n",
       "      <td>0.000000</td>\n",
       "      <td>1</td>\n",
       "      <td>0</td>\n",
       "      <td>0</td>\n",
       "      <td>5</td>\n",
       "      <td>1</td>\n",
       "      <td>0</td>\n",
       "      <td>1</td>\n",
       "      <td>0</td>\n",
       "      <td>1</td>\n",
       "      <td>0.7431</td>\n",
       "    </tr>\n",
       "  </tbody>\n",
       "</table>\n",
       "<p>4277 rows × 18 columns</p>\n",
       "</div>"
      ],
      "text/plain": [
       "      CryoSleep       Age  VIP  RoomService  FoodCourt  ShoppingMall  \\\n",
       "0             1  1.000000    0     0.000000   0.000000      0.000000   \n",
       "1             0  0.860703    0     0.000000   0.001274      0.000000   \n",
       "2             1  1.000000    0     0.000000   0.000000      0.000000   \n",
       "3             0  0.876129    0     0.000000   0.479410      0.000000   \n",
       "4             0  0.957163    0     0.003269   0.000000      0.289532   \n",
       "...         ...       ...  ...          ...        ...           ...   \n",
       "4272          1  1.000000    0     0.000000   0.000000      0.000000   \n",
       "4273          0  0.997938    0     0.000000   0.062908      0.003848   \n",
       "4274          1  1.000000    0     0.000000   0.000000      0.000000   \n",
       "4275          0  0.958447    0     0.000000   0.278522      0.000000   \n",
       "4276          1  1.000000    0     0.000000   0.000000      0.000000   \n",
       "\n",
       "           Spa    VRDeck  HomePlanet_Earth  HomePlanet_Europa  \\\n",
       "0     0.000000  0.000000                 1                  0   \n",
       "1     0.509106  0.000000                 1                  0   \n",
       "2     0.000000  0.000000                 0                  1   \n",
       "3     0.016613  0.047842                 0                  1   \n",
       "4     0.000000  0.000000                 1                  0   \n",
       "...        ...       ...               ...                ...   \n",
       "4272  0.000000  0.000000                 1                  0   \n",
       "4273  0.000946  0.012136                 1                  0   \n",
       "4274  0.000000  0.000000                 0                  0   \n",
       "4275  0.000000  0.061677                 0                  1   \n",
       "4276  0.000000  0.000000                 1                  0   \n",
       "\n",
       "      HomePlanet_Mars  Cabin_deck  Cabin_side  Destination_55 Cancri e  \\\n",
       "0                   0           5           1                        0   \n",
       "1                   0           4           1                        0   \n",
       "2                   0           2           1                        1   \n",
       "3                   0           2           1                        0   \n",
       "4                   0           4           1                        0   \n",
       "...               ...         ...         ...                      ...   \n",
       "4272                0           5           1                        0   \n",
       "4273                0           4           0                        0   \n",
       "4274                1           2           0                        1   \n",
       "4275                0           2           0                        0   \n",
       "4276                0           5           1                        0   \n",
       "\n",
       "      Destination_PSO J318.5-22  Destination_TRAPPIST-1e  Transported  \\\n",
       "0                             0                        1            1   \n",
       "1                             0                        1            0   \n",
       "2                             0                        0            1   \n",
       "3                             0                        1            1   \n",
       "4                             0                        1            1   \n",
       "...                         ...                      ...          ...   \n",
       "4272                          0                        1            1   \n",
       "4273                          0                        1            0   \n",
       "4274                          0                        0            1   \n",
       "4275                          0                        1            1   \n",
       "4276                          1                        0            1   \n",
       "\n",
       "      prediction_score  \n",
       "0               0.6777  \n",
       "1               0.9827  \n",
       "2               0.9979  \n",
       "3               0.9880  \n",
       "4               0.9241  \n",
       "...                ...  \n",
       "4272            0.6777  \n",
       "4273            0.5125  \n",
       "4274            0.9487  \n",
       "4275            0.8545  \n",
       "4276            0.7431  \n",
       "\n",
       "[4277 rows x 18 columns]"
      ]
     },
     "execution_count": 290,
     "metadata": {},
     "output_type": "execute_result"
    }
   ],
   "source": [
    "predicts=predict_model(catboost_regular_norm, data=df_test.drop(columns=['PassengerId','Name']))\n",
    "predicts = predicts.rename(columns={'prediction_label': 'Transported'})\n",
    "predicts"
   ]
  },
  {
   "cell_type": "code",
   "execution_count": 291,
   "id": "add0fe99-fdc7-460e-b3dc-67e1a65327a9",
   "metadata": {},
   "outputs": [],
   "source": [
    "predicts[\"PassengerId\"]=df_test[\"PassengerId\"]\n",
    "submission=predicts[[\"PassengerId\",\"Transported\"]]\n",
    "submission['Transported'] = submission['Transported'].replace({1: 'True', 0: 'False'})\n",
    "df['Transported'] = df['Transported'].astype(str)"
   ]
  },
  {
   "cell_type": "code",
   "execution_count": 292,
   "id": "fe47fd71-0582-4132-82d6-fb05448f16e9",
   "metadata": {},
   "outputs": [],
   "source": [
    "submission.to_csv('submission_pycaretcat_regularnorm3.csv', index=False)"
   ]
  },
  {
   "cell_type": "code",
   "execution_count": 255,
   "id": "1ed24b28-6b2f-421b-8136-61314dfc4efa",
   "metadata": {},
   "outputs": [
    {
     "data": {
      "text/html": [],
      "text/plain": [
       "<IPython.core.display.HTML object>"
      ]
     },
     "metadata": {},
     "output_type": "display_data"
    },
    {
     "data": {
      "text/html": [
       "<style type=\"text/css\">\n",
       "#T_858ba_row10_col0, #T_858ba_row10_col1, #T_858ba_row10_col2, #T_858ba_row10_col3, #T_858ba_row10_col4, #T_858ba_row10_col5, #T_858ba_row10_col6 {\n",
       "  background: yellow;\n",
       "}\n",
       "</style>\n",
       "<table id=\"T_858ba\">\n",
       "  <thead>\n",
       "    <tr>\n",
       "      <th class=\"blank level0\" >&nbsp;</th>\n",
       "      <th id=\"T_858ba_level0_col0\" class=\"col_heading level0 col0\" >Accuracy</th>\n",
       "      <th id=\"T_858ba_level0_col1\" class=\"col_heading level0 col1\" >AUC</th>\n",
       "      <th id=\"T_858ba_level0_col2\" class=\"col_heading level0 col2\" >Recall</th>\n",
       "      <th id=\"T_858ba_level0_col3\" class=\"col_heading level0 col3\" >Prec.</th>\n",
       "      <th id=\"T_858ba_level0_col4\" class=\"col_heading level0 col4\" >F1</th>\n",
       "      <th id=\"T_858ba_level0_col5\" class=\"col_heading level0 col5\" >Kappa</th>\n",
       "      <th id=\"T_858ba_level0_col6\" class=\"col_heading level0 col6\" >MCC</th>\n",
       "    </tr>\n",
       "    <tr>\n",
       "      <th class=\"index_name level0\" >Fold</th>\n",
       "      <th class=\"blank col0\" >&nbsp;</th>\n",
       "      <th class=\"blank col1\" >&nbsp;</th>\n",
       "      <th class=\"blank col2\" >&nbsp;</th>\n",
       "      <th class=\"blank col3\" >&nbsp;</th>\n",
       "      <th class=\"blank col4\" >&nbsp;</th>\n",
       "      <th class=\"blank col5\" >&nbsp;</th>\n",
       "      <th class=\"blank col6\" >&nbsp;</th>\n",
       "    </tr>\n",
       "  </thead>\n",
       "  <tbody>\n",
       "    <tr>\n",
       "      <th id=\"T_858ba_level0_row0\" class=\"row_heading level0 row0\" >0</th>\n",
       "      <td id=\"T_858ba_row0_col0\" class=\"data row0 col0\" >0.8325</td>\n",
       "      <td id=\"T_858ba_row0_col1\" class=\"data row0 col1\" >0.9099</td>\n",
       "      <td id=\"T_858ba_row0_col2\" class=\"data row0 col2\" >0.8827</td>\n",
       "      <td id=\"T_858ba_row0_col3\" class=\"data row0 col3\" >0.8042</td>\n",
       "      <td id=\"T_858ba_row0_col4\" class=\"data row0 col4\" >0.8416</td>\n",
       "      <td id=\"T_858ba_row0_col5\" class=\"data row0 col5\" >0.6647</td>\n",
       "      <td id=\"T_858ba_row0_col6\" class=\"data row0 col6\" >0.6680</td>\n",
       "    </tr>\n",
       "    <tr>\n",
       "      <th id=\"T_858ba_level0_row1\" class=\"row_heading level0 row1\" >1</th>\n",
       "      <td id=\"T_858ba_row1_col0\" class=\"data row1 col0\" >0.7898</td>\n",
       "      <td id=\"T_858ba_row1_col1\" class=\"data row1 col1\" >0.8794</td>\n",
       "      <td id=\"T_858ba_row1_col2\" class=\"data row1 col2\" >0.7915</td>\n",
       "      <td id=\"T_858ba_row1_col3\" class=\"data row1 col3\" >0.7915</td>\n",
       "      <td id=\"T_858ba_row1_col4\" class=\"data row1 col4\" >0.7915</td>\n",
       "      <td id=\"T_858ba_row1_col5\" class=\"data row1 col5\" >0.5796</td>\n",
       "      <td id=\"T_858ba_row1_col6\" class=\"data row1 col6\" >0.5796</td>\n",
       "    </tr>\n",
       "    <tr>\n",
       "      <th id=\"T_858ba_level0_row2\" class=\"row_heading level0 row2\" >2</th>\n",
       "      <td id=\"T_858ba_row2_col0\" class=\"data row2 col0\" >0.7882</td>\n",
       "      <td id=\"T_858ba_row2_col1\" class=\"data row2 col1\" >0.8861</td>\n",
       "      <td id=\"T_858ba_row2_col2\" class=\"data row2 col2\" >0.8143</td>\n",
       "      <td id=\"T_858ba_row2_col3\" class=\"data row2 col3\" >0.7764</td>\n",
       "      <td id=\"T_858ba_row2_col4\" class=\"data row2 col4\" >0.7949</td>\n",
       "      <td id=\"T_858ba_row2_col5\" class=\"data row2 col5\" >0.5762</td>\n",
       "      <td id=\"T_858ba_row2_col6\" class=\"data row2 col6\" >0.5769</td>\n",
       "    </tr>\n",
       "    <tr>\n",
       "      <th id=\"T_858ba_level0_row3\" class=\"row_heading level0 row3\" >3</th>\n",
       "      <td id=\"T_858ba_row3_col0\" class=\"data row3 col0\" >0.8161</td>\n",
       "      <td id=\"T_858ba_row3_col1\" class=\"data row3 col1\" >0.8890</td>\n",
       "      <td id=\"T_858ba_row3_col2\" class=\"data row3 col2\" >0.8795</td>\n",
       "      <td id=\"T_858ba_row3_col3\" class=\"data row3 col3\" >0.7826</td>\n",
       "      <td id=\"T_858ba_row3_col4\" class=\"data row3 col4\" >0.8282</td>\n",
       "      <td id=\"T_858ba_row3_col5\" class=\"data row3 col5\" >0.6318</td>\n",
       "      <td id=\"T_858ba_row3_col6\" class=\"data row3 col6\" >0.6368</td>\n",
       "    </tr>\n",
       "    <tr>\n",
       "      <th id=\"T_858ba_level0_row4\" class=\"row_heading level0 row4\" >4</th>\n",
       "      <td id=\"T_858ba_row4_col0\" class=\"data row4 col0\" >0.7849</td>\n",
       "      <td id=\"T_858ba_row4_col1\" class=\"data row4 col1\" >0.8894</td>\n",
       "      <td id=\"T_858ba_row4_col2\" class=\"data row4 col2\" >0.8046</td>\n",
       "      <td id=\"T_858ba_row4_col3\" class=\"data row4 col3\" >0.7767</td>\n",
       "      <td id=\"T_858ba_row4_col4\" class=\"data row4 col4\" >0.7904</td>\n",
       "      <td id=\"T_858ba_row4_col5\" class=\"data row4 col5\" >0.5696</td>\n",
       "      <td id=\"T_858ba_row4_col6\" class=\"data row4 col6\" >0.5700</td>\n",
       "    </tr>\n",
       "    <tr>\n",
       "      <th id=\"T_858ba_level0_row5\" class=\"row_heading level0 row5\" >5</th>\n",
       "      <td id=\"T_858ba_row5_col0\" class=\"data row5 col0\" >0.8207</td>\n",
       "      <td id=\"T_858ba_row5_col1\" class=\"data row5 col1\" >0.8998</td>\n",
       "      <td id=\"T_858ba_row5_col2\" class=\"data row5 col2\" >0.8464</td>\n",
       "      <td id=\"T_858ba_row5_col3\" class=\"data row5 col3\" >0.8069</td>\n",
       "      <td id=\"T_858ba_row5_col4\" class=\"data row5 col4\" >0.8262</td>\n",
       "      <td id=\"T_858ba_row5_col5\" class=\"data row5 col5\" >0.6413</td>\n",
       "      <td id=\"T_858ba_row5_col6\" class=\"data row5 col6\" >0.6421</td>\n",
       "    </tr>\n",
       "    <tr>\n",
       "      <th id=\"T_858ba_level0_row6\" class=\"row_heading level0 row6\" >6</th>\n",
       "      <td id=\"T_858ba_row6_col0\" class=\"data row6 col0\" >0.8059</td>\n",
       "      <td id=\"T_858ba_row6_col1\" class=\"data row6 col1\" >0.8952</td>\n",
       "      <td id=\"T_858ba_row6_col2\" class=\"data row6 col2\" >0.8497</td>\n",
       "      <td id=\"T_858ba_row6_col3\" class=\"data row6 col3\" >0.7831</td>\n",
       "      <td id=\"T_858ba_row6_col4\" class=\"data row6 col4\" >0.8150</td>\n",
       "      <td id=\"T_858ba_row6_col5\" class=\"data row6 col5\" >0.6116</td>\n",
       "      <td id=\"T_858ba_row6_col6\" class=\"data row6 col6\" >0.6139</td>\n",
       "    </tr>\n",
       "    <tr>\n",
       "      <th id=\"T_858ba_level0_row7\" class=\"row_heading level0 row7\" >7</th>\n",
       "      <td id=\"T_858ba_row7_col0\" class=\"data row7 col0\" >0.7961</td>\n",
       "      <td id=\"T_858ba_row7_col1\" class=\"data row7 col1\" >0.8854</td>\n",
       "      <td id=\"T_858ba_row7_col2\" class=\"data row7 col2\" >0.8072</td>\n",
       "      <td id=\"T_858ba_row7_col3\" class=\"data row7 col3\" >0.7917</td>\n",
       "      <td id=\"T_858ba_row7_col4\" class=\"data row7 col4\" >0.7994</td>\n",
       "      <td id=\"T_858ba_row7_col5\" class=\"data row7 col5\" >0.5920</td>\n",
       "      <td id=\"T_858ba_row7_col6\" class=\"data row7 col6\" >0.5922</td>\n",
       "    </tr>\n",
       "    <tr>\n",
       "      <th id=\"T_858ba_level0_row8\" class=\"row_heading level0 row8\" >8</th>\n",
       "      <td id=\"T_858ba_row8_col0\" class=\"data row8 col0\" >0.7993</td>\n",
       "      <td id=\"T_858ba_row8_col1\" class=\"data row8 col1\" >0.8889</td>\n",
       "      <td id=\"T_858ba_row8_col2\" class=\"data row8 col2\" >0.8170</td>\n",
       "      <td id=\"T_858ba_row8_col3\" class=\"data row8 col3\" >0.7911</td>\n",
       "      <td id=\"T_858ba_row8_col4\" class=\"data row8 col4\" >0.8039</td>\n",
       "      <td id=\"T_858ba_row8_col5\" class=\"data row8 col5\" >0.5986</td>\n",
       "      <td id=\"T_858ba_row8_col6\" class=\"data row8 col6\" >0.5989</td>\n",
       "    </tr>\n",
       "    <tr>\n",
       "      <th id=\"T_858ba_level0_row9\" class=\"row_heading level0 row9\" >9</th>\n",
       "      <td id=\"T_858ba_row9_col0\" class=\"data row9 col0\" >0.8141</td>\n",
       "      <td id=\"T_858ba_row9_col1\" class=\"data row9 col1\" >0.8899</td>\n",
       "      <td id=\"T_858ba_row9_col2\" class=\"data row9 col2\" >0.8595</td>\n",
       "      <td id=\"T_858ba_row9_col3\" class=\"data row9 col3\" >0.7898</td>\n",
       "      <td id=\"T_858ba_row9_col4\" class=\"data row9 col4\" >0.8232</td>\n",
       "      <td id=\"T_858ba_row9_col5\" class=\"data row9 col5\" >0.6281</td>\n",
       "      <td id=\"T_858ba_row9_col6\" class=\"data row9 col6\" >0.6306</td>\n",
       "    </tr>\n",
       "    <tr>\n",
       "      <th id=\"T_858ba_level0_row10\" class=\"row_heading level0 row10\" >Mean</th>\n",
       "      <td id=\"T_858ba_row10_col0\" class=\"data row10 col0\" >0.8048</td>\n",
       "      <td id=\"T_858ba_row10_col1\" class=\"data row10 col1\" >0.8913</td>\n",
       "      <td id=\"T_858ba_row10_col2\" class=\"data row10 col2\" >0.8352</td>\n",
       "      <td id=\"T_858ba_row10_col3\" class=\"data row10 col3\" >0.7894</td>\n",
       "      <td id=\"T_858ba_row10_col4\" class=\"data row10 col4\" >0.8114</td>\n",
       "      <td id=\"T_858ba_row10_col5\" class=\"data row10 col5\" >0.6094</td>\n",
       "      <td id=\"T_858ba_row10_col6\" class=\"data row10 col6\" >0.6109</td>\n",
       "    </tr>\n",
       "    <tr>\n",
       "      <th id=\"T_858ba_level0_row11\" class=\"row_heading level0 row11\" >Std</th>\n",
       "      <td id=\"T_858ba_row11_col0\" class=\"data row11 col0\" >0.0150</td>\n",
       "      <td id=\"T_858ba_row11_col1\" class=\"data row11 col1\" >0.0081</td>\n",
       "      <td id=\"T_858ba_row11_col2\" class=\"data row11 col2\" >0.0309</td>\n",
       "      <td id=\"T_858ba_row11_col3\" class=\"data row11 col3\" >0.0097</td>\n",
       "      <td id=\"T_858ba_row11_col4\" class=\"data row11 col4\" >0.0170</td>\n",
       "      <td id=\"T_858ba_row11_col5\" class=\"data row11 col5\" >0.0299</td>\n",
       "      <td id=\"T_858ba_row11_col6\" class=\"data row11 col6\" >0.0310</td>\n",
       "    </tr>\n",
       "  </tbody>\n",
       "</table>\n"
      ],
      "text/plain": [
       "<pandas.io.formats.style.Styler at 0x1d9f3e96340>"
      ]
     },
     "metadata": {},
     "output_type": "display_data"
    },
    {
     "data": {
      "application/vnd.jupyter.widget-view+json": {
       "model_id": "",
       "version_major": 2,
       "version_minor": 0
      },
      "text/plain": [
       "Processing:   0%|          | 0/7 [00:00<?, ?it/s]"
      ]
     },
     "metadata": {},
     "output_type": "display_data"
    },
    {
     "name": "stdout",
     "output_type": "stream",
     "text": [
      "Fitting 10 folds for each of 10 candidates, totalling 100 fits\n",
      "Original model was better than the tuned model, hence it will be returned. NOTE: The display metrics are for the tuned model (not the original one).\n"
     ]
    }
   ],
   "source": [
    "catboost_regular_tuned = tune_model(catboost_regular)"
   ]
  },
  {
   "cell_type": "code",
   "execution_count": 256,
   "id": "a7e7f9bc-1b33-4d7c-8241-52458a9e62fd",
   "metadata": {},
   "outputs": [
    {
     "data": {
      "text/html": [],
      "text/plain": [
       "<IPython.core.display.HTML object>"
      ]
     },
     "metadata": {},
     "output_type": "display_data"
    },
    {
     "data": {
      "image/png": "[encoded data removed]",
      "text/plain": [
       "<Figure size 432x288 with 1 Axes>"
      ]
     },
     "metadata": {
      "needs_background": "light"
     },
     "output_type": "display_data"
    }
   ],
   "source": [
    "plot_model(catboost_regular_tuned, plot='learning')"
   ]
  },
  {
   "cell_type": "code",
   "execution_count": 257,
   "id": "24263189-992c-4f27-95e5-0e552d4353e6",
   "metadata": {},
   "outputs": [
    {
     "data": {
      "text/html": [],
      "text/plain": [
       "<IPython.core.display.HTML object>"
      ]
     },
     "metadata": {},
     "output_type": "display_data"
    },
    {
     "data": {
      "image/png": "[encoded data removed]",
      "text/plain": [
       "<Figure size 432x288 with 1 Axes>"
      ]
     },
     "metadata": {
      "needs_background": "light"
     },
     "output_type": "display_data"
    }
   ],
   "source": [
    "plot_model(catboost_regular_tuned, plot='auc')"
   ]
  },
  {
   "cell_type": "code",
   "execution_count": 258,
   "id": "e06bba49-2469-4275-84c9-eed039cde8da",
   "metadata": {},
   "outputs": [
    {
     "data": {
      "text/html": [],
      "text/plain": [
       "<IPython.core.display.HTML object>"
      ]
     },
     "metadata": {},
     "output_type": "display_data"
    },
    {
     "data": {
      "image/png": "[encoded data removed]",
      "text/plain": [
       "<Figure size 432x288 with 1 Axes>"
      ]
     },
     "metadata": {
      "needs_background": "light"
     },
     "output_type": "display_data"
    }
   ],
   "source": [
    "plot_model(catboost_regular_tuned, plot='confusion_matrix')"
   ]
  },
  {
   "cell_type": "code",
   "execution_count": 259,
   "id": "6a51a17c-a30c-443f-b668-c8d4aceddc44",
   "metadata": {},
   "outputs": [
    {
     "data": {
      "text/html": [],
      "text/plain": [
       "<IPython.core.display.HTML object>"
      ]
     },
     "metadata": {},
     "output_type": "display_data"
    },
    {
     "data": {
      "image/png": "[encoded data removed]",
      "text/plain": [
       "<Figure size 432x288 with 2 Axes>"
      ]
     },
     "metadata": {
      "needs_background": "light"
     },
     "output_type": "display_data"
    }
   ],
   "source": [
    "plot_model(catboost_regular_tuned, plot='class_report')"
   ]
  },
  {
   "cell_type": "code",
   "execution_count": 260,
   "id": "f2c3eadd-c3b8-4f4f-ab45-0c874a3584d9",
   "metadata": {},
   "outputs": [
    {
     "data": {
      "text/html": [],
      "text/plain": [
       "<IPython.core.display.HTML object>"
      ]
     },
     "metadata": {},
     "output_type": "display_data"
    },
    {
     "data": {
      "text/html": [
       "<div>\n",
       "<style scoped>\n",
       "    .dataframe tbody tr th:only-of-type {\n",
       "        vertical-align: middle;\n",
       "    }\n",
       "\n",
       "    .dataframe tbody tr th {\n",
       "        vertical-align: top;\n",
       "    }\n",
       "\n",
       "    .dataframe thead th {\n",
       "        text-align: right;\n",
       "    }\n",
       "</style>\n",
       "<table border=\"1\" class=\"dataframe\">\n",
       "  <thead>\n",
       "    <tr style=\"text-align: right;\">\n",
       "      <th></th>\n",
       "      <th>CryoSleep</th>\n",
       "      <th>Age</th>\n",
       "      <th>VIP</th>\n",
       "      <th>RoomService</th>\n",
       "      <th>FoodCourt</th>\n",
       "      <th>ShoppingMall</th>\n",
       "      <th>Spa</th>\n",
       "      <th>VRDeck</th>\n",
       "      <th>HomePlanet_Earth</th>\n",
       "      <th>HomePlanet_Europa</th>\n",
       "      <th>HomePlanet_Mars</th>\n",
       "      <th>Cabin_deck</th>\n",
       "      <th>Cabin_side</th>\n",
       "      <th>Destination_55 Cancri e</th>\n",
       "      <th>Destination_PSO J318.5-22</th>\n",
       "      <th>Destination_TRAPPIST-1e</th>\n",
       "      <th>Transported</th>\n",
       "      <th>prediction_score</th>\n",
       "    </tr>\n",
       "  </thead>\n",
       "  <tbody>\n",
       "    <tr>\n",
       "      <th>0</th>\n",
       "      <td>1</td>\n",
       "      <td>0.341772</td>\n",
       "      <td>0</td>\n",
       "      <td>0.000000</td>\n",
       "      <td>0.000000</td>\n",
       "      <td>0.00000</td>\n",
       "      <td>0.000000</td>\n",
       "      <td>0.000000</td>\n",
       "      <td>1</td>\n",
       "      <td>0</td>\n",
       "      <td>0</td>\n",
       "      <td>5</td>\n",
       "      <td>1</td>\n",
       "      <td>0</td>\n",
       "      <td>0</td>\n",
       "      <td>1</td>\n",
       "      <td>1</td>\n",
       "      <td>0.7259</td>\n",
       "    </tr>\n",
       "    <tr>\n",
       "      <th>1</th>\n",
       "      <td>0</td>\n",
       "      <td>0.240506</td>\n",
       "      <td>0</td>\n",
       "      <td>0.000000</td>\n",
       "      <td>0.000356</td>\n",
       "      <td>0.00000</td>\n",
       "      <td>0.142260</td>\n",
       "      <td>0.000000</td>\n",
       "      <td>1</td>\n",
       "      <td>0</td>\n",
       "      <td>0</td>\n",
       "      <td>4</td>\n",
       "      <td>1</td>\n",
       "      <td>0</td>\n",
       "      <td>0</td>\n",
       "      <td>1</td>\n",
       "      <td>0</td>\n",
       "      <td>0.9956</td>\n",
       "    </tr>\n",
       "    <tr>\n",
       "      <th>2</th>\n",
       "      <td>1</td>\n",
       "      <td>0.392405</td>\n",
       "      <td>0</td>\n",
       "      <td>0.000000</td>\n",
       "      <td>0.000000</td>\n",
       "      <td>0.00000</td>\n",
       "      <td>0.000000</td>\n",
       "      <td>0.000000</td>\n",
       "      <td>0</td>\n",
       "      <td>1</td>\n",
       "      <td>0</td>\n",
       "      <td>2</td>\n",
       "      <td>1</td>\n",
       "      <td>1</td>\n",
       "      <td>0</td>\n",
       "      <td>0</td>\n",
       "      <td>1</td>\n",
       "      <td>0.9950</td>\n",
       "    </tr>\n",
       "    <tr>\n",
       "      <th>3</th>\n",
       "      <td>0</td>\n",
       "      <td>0.481013</td>\n",
       "      <td>0</td>\n",
       "      <td>0.000000</td>\n",
       "      <td>0.263206</td>\n",
       "      <td>0.00000</td>\n",
       "      <td>0.009121</td>\n",
       "      <td>0.026266</td>\n",
       "      <td>0</td>\n",
       "      <td>1</td>\n",
       "      <td>0</td>\n",
       "      <td>2</td>\n",
       "      <td>1</td>\n",
       "      <td>0</td>\n",
       "      <td>0</td>\n",
       "      <td>1</td>\n",
       "      <td>1</td>\n",
       "      <td>0.9768</td>\n",
       "    </tr>\n",
       "    <tr>\n",
       "      <th>4</th>\n",
       "      <td>0</td>\n",
       "      <td>0.253165</td>\n",
       "      <td>0</td>\n",
       "      <td>0.000865</td>\n",
       "      <td>0.000000</td>\n",
       "      <td>0.07658</td>\n",
       "      <td>0.000000</td>\n",
       "      <td>0.000000</td>\n",
       "      <td>1</td>\n",
       "      <td>0</td>\n",
       "      <td>0</td>\n",
       "      <td>4</td>\n",
       "      <td>1</td>\n",
       "      <td>0</td>\n",
       "      <td>0</td>\n",
       "      <td>1</td>\n",
       "      <td>1</td>\n",
       "      <td>0.8513</td>\n",
       "    </tr>\n",
       "    <tr>\n",
       "      <th>...</th>\n",
       "      <td>...</td>\n",
       "      <td>...</td>\n",
       "      <td>...</td>\n",
       "      <td>...</td>\n",
       "      <td>...</td>\n",
       "      <td>...</td>\n",
       "      <td>...</td>\n",
       "      <td>...</td>\n",
       "      <td>...</td>\n",
       "      <td>...</td>\n",
       "      <td>...</td>\n",
       "      <td>...</td>\n",
       "      <td>...</td>\n",
       "      <td>...</td>\n",
       "      <td>...</td>\n",
       "      <td>...</td>\n",
       "      <td>...</td>\n",
       "      <td>...</td>\n",
       "    </tr>\n",
       "    <tr>\n",
       "      <th>4272</th>\n",
       "      <td>1</td>\n",
       "      <td>0.430380</td>\n",
       "      <td>0</td>\n",
       "      <td>0.000000</td>\n",
       "      <td>0.000000</td>\n",
       "      <td>0.00000</td>\n",
       "      <td>0.000000</td>\n",
       "      <td>0.000000</td>\n",
       "      <td>1</td>\n",
       "      <td>0</td>\n",
       "      <td>0</td>\n",
       "      <td>5</td>\n",
       "      <td>1</td>\n",
       "      <td>0</td>\n",
       "      <td>0</td>\n",
       "      <td>1</td>\n",
       "      <td>1</td>\n",
       "      <td>0.7160</td>\n",
       "    </tr>\n",
       "    <tr>\n",
       "      <th>4273</th>\n",
       "      <td>0</td>\n",
       "      <td>0.531646</td>\n",
       "      <td>0</td>\n",
       "      <td>0.000000</td>\n",
       "      <td>0.033514</td>\n",
       "      <td>0.00205</td>\n",
       "      <td>0.000504</td>\n",
       "      <td>0.006466</td>\n",
       "      <td>1</td>\n",
       "      <td>0</td>\n",
       "      <td>0</td>\n",
       "      <td>4</td>\n",
       "      <td>0</td>\n",
       "      <td>0</td>\n",
       "      <td>0</td>\n",
       "      <td>1</td>\n",
       "      <td>0</td>\n",
       "      <td>0.7956</td>\n",
       "    </tr>\n",
       "    <tr>\n",
       "      <th>4274</th>\n",
       "      <td>1</td>\n",
       "      <td>0.364911</td>\n",
       "      <td>0</td>\n",
       "      <td>0.000000</td>\n",
       "      <td>0.000000</td>\n",
       "      <td>0.00000</td>\n",
       "      <td>0.000000</td>\n",
       "      <td>0.000000</td>\n",
       "      <td>0</td>\n",
       "      <td>0</td>\n",
       "      <td>1</td>\n",
       "      <td>2</td>\n",
       "      <td>0</td>\n",
       "      <td>1</td>\n",
       "      <td>0</td>\n",
       "      <td>0</td>\n",
       "      <td>1</td>\n",
       "      <td>0.9307</td>\n",
       "    </tr>\n",
       "    <tr>\n",
       "      <th>4275</th>\n",
       "      <td>0</td>\n",
       "      <td>0.364911</td>\n",
       "      <td>0</td>\n",
       "      <td>0.000000</td>\n",
       "      <td>0.106042</td>\n",
       "      <td>0.00000</td>\n",
       "      <td>0.000000</td>\n",
       "      <td>0.023482</td>\n",
       "      <td>0</td>\n",
       "      <td>1</td>\n",
       "      <td>0</td>\n",
       "      <td>2</td>\n",
       "      <td>0</td>\n",
       "      <td>0</td>\n",
       "      <td>0</td>\n",
       "      <td>1</td>\n",
       "      <td>1</td>\n",
       "      <td>0.8435</td>\n",
       "    </tr>\n",
       "    <tr>\n",
       "      <th>4276</th>\n",
       "      <td>1</td>\n",
       "      <td>0.544304</td>\n",
       "      <td>0</td>\n",
       "      <td>0.000000</td>\n",
       "      <td>0.000000</td>\n",
       "      <td>0.00000</td>\n",
       "      <td>0.000000</td>\n",
       "      <td>0.000000</td>\n",
       "      <td>1</td>\n",
       "      <td>0</td>\n",
       "      <td>0</td>\n",
       "      <td>5</td>\n",
       "      <td>1</td>\n",
       "      <td>0</td>\n",
       "      <td>1</td>\n",
       "      <td>0</td>\n",
       "      <td>1</td>\n",
       "      <td>0.6971</td>\n",
       "    </tr>\n",
       "  </tbody>\n",
       "</table>\n",
       "<p>4277 rows × 18 columns</p>\n",
       "</div>"
      ],
      "text/plain": [
       "      CryoSleep       Age  VIP  RoomService  FoodCourt  ShoppingMall  \\\n",
       "0             1  0.341772    0     0.000000   0.000000       0.00000   \n",
       "1             0  0.240506    0     0.000000   0.000356       0.00000   \n",
       "2             1  0.392405    0     0.000000   0.000000       0.00000   \n",
       "3             0  0.481013    0     0.000000   0.263206       0.00000   \n",
       "4             0  0.253165    0     0.000865   0.000000       0.07658   \n",
       "...         ...       ...  ...          ...        ...           ...   \n",
       "4272          1  0.430380    0     0.000000   0.000000       0.00000   \n",
       "4273          0  0.531646    0     0.000000   0.033514       0.00205   \n",
       "4274          1  0.364911    0     0.000000   0.000000       0.00000   \n",
       "4275          0  0.364911    0     0.000000   0.106042       0.00000   \n",
       "4276          1  0.544304    0     0.000000   0.000000       0.00000   \n",
       "\n",
       "           Spa    VRDeck  HomePlanet_Earth  HomePlanet_Europa  \\\n",
       "0     0.000000  0.000000                 1                  0   \n",
       "1     0.142260  0.000000                 1                  0   \n",
       "2     0.000000  0.000000                 0                  1   \n",
       "3     0.009121  0.026266                 0                  1   \n",
       "4     0.000000  0.000000                 1                  0   \n",
       "...        ...       ...               ...                ...   \n",
       "4272  0.000000  0.000000                 1                  0   \n",
       "4273  0.000504  0.006466                 1                  0   \n",
       "4274  0.000000  0.000000                 0                  0   \n",
       "4275  0.000000  0.023482                 0                  1   \n",
       "4276  0.000000  0.000000                 1                  0   \n",
       "\n",
       "      HomePlanet_Mars  Cabin_deck  Cabin_side  Destination_55 Cancri e  \\\n",
       "0                   0           5           1                        0   \n",
       "1                   0           4           1                        0   \n",
       "2                   0           2           1                        1   \n",
       "3                   0           2           1                        0   \n",
       "4                   0           4           1                        0   \n",
       "...               ...         ...         ...                      ...   \n",
       "4272                0           5           1                        0   \n",
       "4273                0           4           0                        0   \n",
       "4274                1           2           0                        1   \n",
       "4275                0           2           0                        0   \n",
       "4276                0           5           1                        0   \n",
       "\n",
       "      Destination_PSO J318.5-22  Destination_TRAPPIST-1e  Transported  \\\n",
       "0                             0                        1            1   \n",
       "1                             0                        1            0   \n",
       "2                             0                        0            1   \n",
       "3                             0                        1            1   \n",
       "4                             0                        1            1   \n",
       "...                         ...                      ...          ...   \n",
       "4272                          0                        1            1   \n",
       "4273                          0                        1            0   \n",
       "4274                          0                        0            1   \n",
       "4275                          0                        1            1   \n",
       "4276                          1                        0            1   \n",
       "\n",
       "      prediction_score  \n",
       "0               0.7259  \n",
       "1               0.9956  \n",
       "2               0.9950  \n",
       "3               0.9768  \n",
       "4               0.8513  \n",
       "...                ...  \n",
       "4272            0.7160  \n",
       "4273            0.7956  \n",
       "4274            0.9307  \n",
       "4275            0.8435  \n",
       "4276            0.6971  \n",
       "\n",
       "[4277 rows x 18 columns]"
      ]
     },
     "execution_count": 260,
     "metadata": {},
     "output_type": "execute_result"
    }
   ],
   "source": [
    "predicts=predict_model(catboost_tuned, data=df_test.drop(columns=['PassengerId','Name']))\n",
    "predicts = predicts.rename(columns={'prediction_label': 'Transported'})\n",
    "predicts"
   ]
  },
  {
   "cell_type": "code",
   "execution_count": 261,
   "id": "3bd86af0-1931-45e5-876c-c3f53ffbf0da",
   "metadata": {},
   "outputs": [],
   "source": [
    "submission.to_csv('submission_pycaretcat_tuned_regular.csv', index=False)"
   ]
  },
  {
   "cell_type": "code",
   "execution_count": null,
   "id": "25fde7c1-b317-47fe-886a-37631a601bb3",
   "metadata": {},
   "outputs": [],
   "source": []
  }
 ],
 "metadata": {
  "kernelspec": {
   "display_name": "Python 3 (ipykernel)",
   "language": "python",
   "name": "python3"
  },
  "language_info": {
   "codemirror_mode": {
    "name": "ipython",
    "version": 3
   },
   "file_extension": ".py",
   "mimetype": "text/x-python",
   "name": "python",
   "nbconvert_exporter": "python",
   "pygments_lexer": "ipython3",
   "version": "3.9.12"
  }
 },
 "nbformat": 4,
 "nbformat_minor": 5
}
