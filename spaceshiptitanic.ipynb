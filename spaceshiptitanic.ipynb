{
 "cells": [
  {
   "cell_type": "code",
   "execution_count": 1,
   "id": "9d9d9f3f-f13b-4c79-a6c9-47092c1b9285",
   "metadata": {},
   "outputs": [],
   "source": [
    "import pandas as pd\n",
    "pd.pandas.set_option('display.max_columns', None)"
   ]
  },
  {
   "cell_type": "code",
   "execution_count": 2,
   "id": "b6ad5f2c-3a6f-4d2b-aa40-fbd5ad362080",
   "metadata": {},
   "outputs": [],
   "source": [
    "df=pd.read_csv(\"train.csv\")\n",
    "df_test=pd.read_csv(\"test.csv\")"
   ]
  },
  {
   "cell_type": "code",
   "execution_count": 3,
   "id": "71ca6034-9575-4155-acf6-0e272ae0b2a0",
   "metadata": {},
   "outputs": [
    {
     "data": {
      "text/html": [
       "<div>\n",
       "<style scoped>\n",
       "    .dataframe tbody tr th:only-of-type {\n",
       "        vertical-align: middle;\n",
       "    }\n",
       "\n",
       "    .dataframe tbody tr th {\n",
       "        vertical-align: top;\n",
       "    }\n",
       "\n",
       "    .dataframe thead th {\n",
       "        text-align: right;\n",
       "    }\n",
       "</style>\n",
       "<table border=\"1\" class=\"dataframe\">\n",
       "  <thead>\n",
       "    <tr style=\"text-align: right;\">\n",
       "      <th></th>\n",
       "      <th>PassengerId</th>\n",
       "      <th>HomePlanet</th>\n",
       "      <th>CryoSleep</th>\n",
       "      <th>Cabin</th>\n",
       "      <th>Destination</th>\n",
       "      <th>Age</th>\n",
       "      <th>VIP</th>\n",
       "      <th>RoomService</th>\n",
       "      <th>FoodCourt</th>\n",
       "      <th>ShoppingMall</th>\n",
       "      <th>Spa</th>\n",
       "      <th>VRDeck</th>\n",
       "      <th>Name</th>\n",
       "      <th>Transported</th>\n",
       "    </tr>\n",
       "  </thead>\n",
       "  <tbody>\n",
       "    <tr>\n",
       "      <th>0</th>\n",
       "      <td>0001_01</td>\n",
       "      <td>Europa</td>\n",
       "      <td>False</td>\n",
       "      <td>B/0/P</td>\n",
       "      <td>TRAPPIST-1e</td>\n",
       "      <td>39.0</td>\n",
       "      <td>False</td>\n",
       "      <td>0.0</td>\n",
       "      <td>0.0</td>\n",
       "      <td>0.0</td>\n",
       "      <td>0.0</td>\n",
       "      <td>0.0</td>\n",
       "      <td>Maham Ofracculy</td>\n",
       "      <td>False</td>\n",
       "    </tr>\n",
       "    <tr>\n",
       "      <th>1</th>\n",
       "      <td>0002_01</td>\n",
       "      <td>Earth</td>\n",
       "      <td>False</td>\n",
       "      <td>F/0/S</td>\n",
       "      <td>TRAPPIST-1e</td>\n",
       "      <td>24.0</td>\n",
       "      <td>False</td>\n",
       "      <td>109.0</td>\n",
       "      <td>9.0</td>\n",
       "      <td>25.0</td>\n",
       "      <td>549.0</td>\n",
       "      <td>44.0</td>\n",
       "      <td>Juanna Vines</td>\n",
       "      <td>True</td>\n",
       "    </tr>\n",
       "    <tr>\n",
       "      <th>2</th>\n",
       "      <td>0003_01</td>\n",
       "      <td>Europa</td>\n",
       "      <td>False</td>\n",
       "      <td>A/0/S</td>\n",
       "      <td>TRAPPIST-1e</td>\n",
       "      <td>58.0</td>\n",
       "      <td>True</td>\n",
       "      <td>43.0</td>\n",
       "      <td>3576.0</td>\n",
       "      <td>0.0</td>\n",
       "      <td>6715.0</td>\n",
       "      <td>49.0</td>\n",
       "      <td>Altark Susent</td>\n",
       "      <td>False</td>\n",
       "    </tr>\n",
       "    <tr>\n",
       "      <th>3</th>\n",
       "      <td>0003_02</td>\n",
       "      <td>Europa</td>\n",
       "      <td>False</td>\n",
       "      <td>A/0/S</td>\n",
       "      <td>TRAPPIST-1e</td>\n",
       "      <td>33.0</td>\n",
       "      <td>False</td>\n",
       "      <td>0.0</td>\n",
       "      <td>1283.0</td>\n",
       "      <td>371.0</td>\n",
       "      <td>3329.0</td>\n",
       "      <td>193.0</td>\n",
       "      <td>Solam Susent</td>\n",
       "      <td>False</td>\n",
       "    </tr>\n",
       "    <tr>\n",
       "      <th>4</th>\n",
       "      <td>0004_01</td>\n",
       "      <td>Earth</td>\n",
       "      <td>False</td>\n",
       "      <td>F/1/S</td>\n",
       "      <td>TRAPPIST-1e</td>\n",
       "      <td>16.0</td>\n",
       "      <td>False</td>\n",
       "      <td>303.0</td>\n",
       "      <td>70.0</td>\n",
       "      <td>151.0</td>\n",
       "      <td>565.0</td>\n",
       "      <td>2.0</td>\n",
       "      <td>Willy Santantines</td>\n",
       "      <td>True</td>\n",
       "    </tr>\n",
       "    <tr>\n",
       "      <th>...</th>\n",
       "      <td>...</td>\n",
       "      <td>...</td>\n",
       "      <td>...</td>\n",
       "      <td>...</td>\n",
       "      <td>...</td>\n",
       "      <td>...</td>\n",
       "      <td>...</td>\n",
       "      <td>...</td>\n",
       "      <td>...</td>\n",
       "      <td>...</td>\n",
       "      <td>...</td>\n",
       "      <td>...</td>\n",
       "      <td>...</td>\n",
       "      <td>...</td>\n",
       "    </tr>\n",
       "    <tr>\n",
       "      <th>8688</th>\n",
       "      <td>9276_01</td>\n",
       "      <td>Europa</td>\n",
       "      <td>False</td>\n",
       "      <td>A/98/P</td>\n",
       "      <td>55 Cancri e</td>\n",
       "      <td>41.0</td>\n",
       "      <td>True</td>\n",
       "      <td>0.0</td>\n",
       "      <td>6819.0</td>\n",
       "      <td>0.0</td>\n",
       "      <td>1643.0</td>\n",
       "      <td>74.0</td>\n",
       "      <td>Gravior Noxnuther</td>\n",
       "      <td>False</td>\n",
       "    </tr>\n",
       "    <tr>\n",
       "      <th>8689</th>\n",
       "      <td>9278_01</td>\n",
       "      <td>Earth</td>\n",
       "      <td>True</td>\n",
       "      <td>G/1499/S</td>\n",
       "      <td>PSO J318.5-22</td>\n",
       "      <td>18.0</td>\n",
       "      <td>False</td>\n",
       "      <td>0.0</td>\n",
       "      <td>0.0</td>\n",
       "      <td>0.0</td>\n",
       "      <td>0.0</td>\n",
       "      <td>0.0</td>\n",
       "      <td>Kurta Mondalley</td>\n",
       "      <td>False</td>\n",
       "    </tr>\n",
       "    <tr>\n",
       "      <th>8690</th>\n",
       "      <td>9279_01</td>\n",
       "      <td>Earth</td>\n",
       "      <td>False</td>\n",
       "      <td>G/1500/S</td>\n",
       "      <td>TRAPPIST-1e</td>\n",
       "      <td>26.0</td>\n",
       "      <td>False</td>\n",
       "      <td>0.0</td>\n",
       "      <td>0.0</td>\n",
       "      <td>1872.0</td>\n",
       "      <td>1.0</td>\n",
       "      <td>0.0</td>\n",
       "      <td>Fayey Connon</td>\n",
       "      <td>True</td>\n",
       "    </tr>\n",
       "    <tr>\n",
       "      <th>8691</th>\n",
       "      <td>9280_01</td>\n",
       "      <td>Europa</td>\n",
       "      <td>False</td>\n",
       "      <td>E/608/S</td>\n",
       "      <td>55 Cancri e</td>\n",
       "      <td>32.0</td>\n",
       "      <td>False</td>\n",
       "      <td>0.0</td>\n",
       "      <td>1049.0</td>\n",
       "      <td>0.0</td>\n",
       "      <td>353.0</td>\n",
       "      <td>3235.0</td>\n",
       "      <td>Celeon Hontichre</td>\n",
       "      <td>False</td>\n",
       "    </tr>\n",
       "    <tr>\n",
       "      <th>8692</th>\n",
       "      <td>9280_02</td>\n",
       "      <td>Europa</td>\n",
       "      <td>False</td>\n",
       "      <td>E/608/S</td>\n",
       "      <td>TRAPPIST-1e</td>\n",
       "      <td>44.0</td>\n",
       "      <td>False</td>\n",
       "      <td>126.0</td>\n",
       "      <td>4688.0</td>\n",
       "      <td>0.0</td>\n",
       "      <td>0.0</td>\n",
       "      <td>12.0</td>\n",
       "      <td>Propsh Hontichre</td>\n",
       "      <td>True</td>\n",
       "    </tr>\n",
       "  </tbody>\n",
       "</table>\n",
       "<p>8693 rows × 14 columns</p>\n",
       "</div>"
      ],
      "text/plain": [
       "     PassengerId HomePlanet CryoSleep     Cabin    Destination   Age    VIP  \\\n",
       "0        0001_01     Europa     False     B/0/P    TRAPPIST-1e  39.0  False   \n",
       "1        0002_01      Earth     False     F/0/S    TRAPPIST-1e  24.0  False   \n",
       "2        0003_01     Europa     False     A/0/S    TRAPPIST-1e  58.0   True   \n",
       "3        0003_02     Europa     False     A/0/S    TRAPPIST-1e  33.0  False   \n",
       "4        0004_01      Earth     False     F/1/S    TRAPPIST-1e  16.0  False   \n",
       "...          ...        ...       ...       ...            ...   ...    ...   \n",
       "8688     9276_01     Europa     False    A/98/P    55 Cancri e  41.0   True   \n",
       "8689     9278_01      Earth      True  G/1499/S  PSO J318.5-22  18.0  False   \n",
       "8690     9279_01      Earth     False  G/1500/S    TRAPPIST-1e  26.0  False   \n",
       "8691     9280_01     Europa     False   E/608/S    55 Cancri e  32.0  False   \n",
       "8692     9280_02     Europa     False   E/608/S    TRAPPIST-1e  44.0  False   \n",
       "\n",
       "      RoomService  FoodCourt  ShoppingMall     Spa  VRDeck               Name  \\\n",
       "0             0.0        0.0           0.0     0.0     0.0    Maham Ofracculy   \n",
       "1           109.0        9.0          25.0   549.0    44.0       Juanna Vines   \n",
       "2            43.0     3576.0           0.0  6715.0    49.0      Altark Susent   \n",
       "3             0.0     1283.0         371.0  3329.0   193.0       Solam Susent   \n",
       "4           303.0       70.0         151.0   565.0     2.0  Willy Santantines   \n",
       "...           ...        ...           ...     ...     ...                ...   \n",
       "8688          0.0     6819.0           0.0  1643.0    74.0  Gravior Noxnuther   \n",
       "8689          0.0        0.0           0.0     0.0     0.0    Kurta Mondalley   \n",
       "8690          0.0        0.0        1872.0     1.0     0.0       Fayey Connon   \n",
       "8691          0.0     1049.0           0.0   353.0  3235.0   Celeon Hontichre   \n",
       "8692        126.0     4688.0           0.0     0.0    12.0   Propsh Hontichre   \n",
       "\n",
       "      Transported  \n",
       "0           False  \n",
       "1            True  \n",
       "2           False  \n",
       "3           False  \n",
       "4            True  \n",
       "...           ...  \n",
       "8688        False  \n",
       "8689        False  \n",
       "8690         True  \n",
       "8691        False  \n",
       "8692         True  \n",
       "\n",
       "[8693 rows x 14 columns]"
      ]
     },
     "execution_count": 3,
     "metadata": {},
     "output_type": "execute_result"
    }
   ],
   "source": [
    "df"
   ]
  },
  {
   "cell_type": "code",
   "execution_count": 4,
   "id": "a47ca00b-4cf7-41d9-b02e-c69dad1be94c",
   "metadata": {},
   "outputs": [
    {
     "data": {
      "text/plain": [
       "Earth     4602\n",
       "Europa    2131\n",
       "Mars      1759\n",
       "Name: HomePlanet, dtype: int64"
      ]
     },
     "execution_count": 4,
     "metadata": {},
     "output_type": "execute_result"
    }
   ],
   "source": [
    "df.HomePlanet.value_counts()"
   ]
  },
  {
   "cell_type": "code",
   "execution_count": 5,
   "id": "0b57dee8-003a-4ebc-86cb-741c1560456a",
   "metadata": {},
   "outputs": [],
   "source": [
    "df['HomePlanet'].fillna(df['HomePlanet'].mode()[0], inplace=True)\n",
    "df_test['HomePlanet'].fillna(df['HomePlanet'].mode()[0], inplace=True)"
   ]
  },
  {
   "cell_type": "code",
   "execution_count": 6,
   "id": "9e8e9fab-ef44-4bfb-94ed-b985c6cf64c2",
   "metadata": {},
   "outputs": [],
   "source": [
    "df = pd.get_dummies(df, columns = [\"HomePlanet\"])\n",
    "df_test = pd.get_dummies(df_test, columns = [\"HomePlanet\"])"
   ]
  },
  {
   "cell_type": "code",
   "execution_count": 7,
   "id": "1078c864-d2d3-42fe-8503-8c02a2baa328",
   "metadata": {},
   "outputs": [
    {
     "data": {
      "text/plain": [
       "False    5439\n",
       "True     3037\n",
       "Name: CryoSleep, dtype: int64"
      ]
     },
     "execution_count": 7,
     "metadata": {},
     "output_type": "execute_result"
    }
   ],
   "source": [
    "df.CryoSleep.value_counts()"
   ]
  },
  {
   "cell_type": "code",
   "execution_count": 8,
   "id": "429d954c-7dd2-48d9-98b2-845dc1fd7b68",
   "metadata": {},
   "outputs": [],
   "source": [
    "df['CryoSleep'].fillna(df['CryoSleep'].mode()[0], inplace=True)\n",
    "df_test['CryoSleep'].fillna(df['CryoSleep'].mode()[0], inplace=True)"
   ]
  },
  {
   "cell_type": "code",
   "execution_count": 9,
   "id": "69d48a63-ae4c-4bcb-8ac2-7f0864f99bcc",
   "metadata": {},
   "outputs": [],
   "source": [
    "df['CryoSleep'] = df['CryoSleep'].replace({False: 0, True: 1})\n",
    "df_test['CryoSleep'] = df_test['CryoSleep'].replace({False: 0, True: 1})\n",
    "df['CryoSleep'] = df['CryoSleep'].astype(int)\n",
    "df_test['CryoSleep'] = df_test['CryoSleep'].astype(int)"
   ]
  },
  {
   "cell_type": "code",
   "execution_count": 10,
   "id": "68b3223b-edb3-40c7-9c84-862397db50c5",
   "metadata": {},
   "outputs": [
    {
     "data": {
      "text/plain": [
       "PassengerId            0\n",
       "CryoSleep              0\n",
       "Cabin                199\n",
       "Destination          182\n",
       "Age                  179\n",
       "VIP                  203\n",
       "RoomService          181\n",
       "FoodCourt            183\n",
       "ShoppingMall         208\n",
       "Spa                  183\n",
       "VRDeck               188\n",
       "Name                 200\n",
       "Transported            0\n",
       "HomePlanet_Earth       0\n",
       "HomePlanet_Europa      0\n",
       "HomePlanet_Mars        0\n",
       "dtype: int64"
      ]
     },
     "execution_count": 10,
     "metadata": {},
     "output_type": "execute_result"
    }
   ],
   "source": [
    "df.isnull().sum()"
   ]
  },
  {
   "cell_type": "code",
   "execution_count": 11,
   "id": "6b26460b-37c6-4611-8ce9-3cfc0be50e07",
   "metadata": {},
   "outputs": [
    {
     "data": {
      "text/plain": [
       "6560"
      ]
     },
     "execution_count": 11,
     "metadata": {},
     "output_type": "execute_result"
    }
   ],
   "source": [
    "df.Cabin.nunique()"
   ]
  },
  {
   "cell_type": "code",
   "execution_count": 12,
   "id": "ba2a8e6c-1534-427b-a63e-e4da1584222f",
   "metadata": {},
   "outputs": [
    {
     "data": {
      "text/plain": [
       "1002    F/220/P\n",
       "3819    G/668/P\n",
       "5742    G/988/P\n",
       "1452    G/244/P\n",
       "1676    G/278/S\n",
       "Name: Cabin, dtype: object"
      ]
     },
     "execution_count": 12,
     "metadata": {},
     "output_type": "execute_result"
    }
   ],
   "source": [
    "df.Cabin.sample(5)"
   ]
  },
  {
   "cell_type": "code",
   "execution_count": 13,
   "id": "049dfcbd-63d7-45a2-b902-41853fa164a6",
   "metadata": {},
   "outputs": [],
   "source": [
    "for i, row in df.iterrows():\n",
    "    if type(row['Cabin']) == str:\n",
    "        # Cabin_num\n",
    "        cabin_num = row['Cabin'].split('/')[1]\n",
    "        df.at[i, 'Cabin_num'] = cabin_num\n",
    "        \n",
    "        # Cabin_deck\n",
    "        cabin_deck = row['Cabin'][0]\n",
    "        df.at[i, 'Cabin_deck'] = cabin_deck\n",
    "        \n",
    "        # Cabin_side\n",
    "        cabin_side = row['Cabin'][-1]\n",
    "        df.at[i, 'Cabin_side'] = cabin_side\n",
    "    else:\n",
    "        df.at[i, 'Cabin_num'] = None\n",
    "        df.at[i, 'Cabin_deck'] = None\n",
    "        df.at[i, 'Cabin_side'] = None\n",
    "        \n",
    "        \n",
    "for i, row in df_test.iterrows():\n",
    "    if type(row['Cabin']) == str:\n",
    "        # Cabin_num\n",
    "        cabin_num = row['Cabin'].split('/')[1]\n",
    "        df_test.at[i, 'Cabin_num'] = cabin_num\n",
    "        \n",
    "        # Cabin_deck\n",
    "        cabin_deck = row['Cabin'][0]\n",
    "        df_test.at[i, 'Cabin_deck'] = cabin_deck\n",
    "        \n",
    "        # Cabin_side\n",
    "        cabin_side = row['Cabin'][-1]\n",
    "        df_test.at[i, 'Cabin_side'] = cabin_side\n",
    "    else:\n",
    "        df_test.at[i, 'Cabin_num'] = None\n",
    "        df_test.at[i, 'Cabin_deck'] = None\n",
    "        df_test.at[i, 'Cabin_side'] = None"
   ]
  },
  {
   "cell_type": "code",
   "execution_count": 14,
   "id": "29b87314-22ac-411a-a8a2-370ab7dd5806",
   "metadata": {},
   "outputs": [],
   "source": [
    "df.drop(columns=[\"Cabin\"], inplace=True)\n",
    "df_test.drop(columns=[\"Cabin\"], inplace=True)"
   ]
  },
  {
   "cell_type": "code",
   "execution_count": 15,
   "id": "6bf49067-0e33-49e0-bea1-a0b5b2d40585",
   "metadata": {},
   "outputs": [],
   "source": [
    "import seaborn as sns"
   ]
  },
  {
   "cell_type": "code",
   "execution_count": 16,
   "id": "1906cf7e-9cb6-4ab6-a0d3-edc68866048a",
   "metadata": {},
   "outputs": [
    {
     "name": "stderr",
     "output_type": "stream",
     "text": [
      "C:\\Users\\Mehmet\\anaconda3\\lib\\site-packages\\seaborn\\distributions.py:2619: FutureWarning: `distplot` is a deprecated function and will be removed in a future version. Please adapt your code to use either `displot` (a figure-level function with similar flexibility) or `histplot` (an axes-level function for histograms).\n",
      "  warnings.warn(msg, FutureWarning)\n"
     ]
    },
    {
     "data": {
      "text/plain": [
       "<AxesSubplot:xlabel='Cabin_num', ylabel='Density'>"
      ]
     },
     "execution_count": 16,
     "metadata": {},
     "output_type": "execute_result"
    },
    {
     "data": {
      "image/png": "[encoded data removed]",
      "text/plain": [
       "<Figure size 432x288 with 1 Axes>"
      ]
     },
     "metadata": {
      "needs_background": "light"
     },
     "output_type": "display_data"
    }
   ],
   "source": [
    "sns.distplot(df.Cabin_num)"
   ]
  },
  {
   "cell_type": "code",
   "execution_count": 17,
   "id": "ec5be9c9-9548-4c03-8ae3-56fd7aab38bc",
   "metadata": {},
   "outputs": [
    {
     "data": {
      "text/plain": [
       "1817"
      ]
     },
     "execution_count": 17,
     "metadata": {},
     "output_type": "execute_result"
    }
   ],
   "source": [
    "df.Cabin_num.nunique()"
   ]
  },
  {
   "cell_type": "code",
   "execution_count": 18,
   "id": "6847e2ea-d104-430d-8c0e-00e3842c2cd5",
   "metadata": {},
   "outputs": [],
   "source": [
    "df.drop(columns='Cabin_num', inplace=True)\n",
    "df_test.drop(columns='Cabin_num', inplace=True)"
   ]
  },
  {
   "cell_type": "code",
   "execution_count": 19,
   "id": "559c4c19-6c8c-4191-a87d-fa5bbc2bc742",
   "metadata": {},
   "outputs": [],
   "source": [
    "import numpy as np\n",
    "# Sütundaki null değerleri say\n",
    "null_count = df['Cabin_deck'].isnull().sum()\n",
    "\n",
    "# En çok tekrar eden ilk ve ikinci değerleri belirle\n",
    "most_common_values = df['Cabin_deck'].value_counts().index[:2].tolist()\n",
    "\n",
    "# Null değerlerin yarısını en çok tekrar eden ilk değerle, diğer yarısını ise en çok tekrar eden ikinci değerle doldur\n",
    "df['Cabin_deck'].fillna({i: np.random.choice(most_common_values, p=[0.5, 0.5]) for i in df.index[df['Cabin_deck'].isnull()].tolist()[:null_count//2] + \n",
    "                        df.index[df['Cabin_deck'].isnull()].tolist()[null_count//2:]}, inplace=True)"
   ]
  },
  {
   "cell_type": "code",
   "execution_count": 20,
   "id": "1926b8d5-a7fc-4726-b89e-33ee08ffd4c2",
   "metadata": {},
   "outputs": [],
   "source": [
    "# Sütundaki null değerleri say\n",
    "null_count = df_test['Cabin_deck'].isnull().sum()\n",
    "\n",
    "# En çok tekrar eden ilk ve ikinci değerleri belirle\n",
    "most_common_values = df_test['Cabin_deck'].value_counts().index[:2].tolist()\n",
    "\n",
    "# Null değerlerin yarısını en çok tekrar eden ilk değerle, diğer yarısını ise en çok tekrar eden ikinci değerle doldur\n",
    "df_test['Cabin_deck'].fillna({i: np.random.choice(most_common_values, p=[0.5, 0.5]) for i in df_test.index[df_test['Cabin_deck'].isnull()].tolist()[\n",
    "    :null_count//2] + df_test.index[df_test['Cabin_deck'].isnull()].tolist()[null_count//2:]}, inplace=True)"
   ]
  },
  {
   "cell_type": "code",
   "execution_count": 21,
   "id": "4fa5da4c-f08c-4370-a2d7-1514e0f01571",
   "metadata": {},
   "outputs": [
    {
     "data": {
      "text/plain": [
       "F    2894\n",
       "G    2658\n",
       "E     876\n",
       "B     779\n",
       "C     747\n",
       "D     478\n",
       "A     256\n",
       "T       5\n",
       "Name: Cabin_deck, dtype: int64"
      ]
     },
     "execution_count": 21,
     "metadata": {},
     "output_type": "execute_result"
    }
   ],
   "source": [
    "df.Cabin_deck.value_counts()"
   ]
  },
  {
   "cell_type": "code",
   "execution_count": 22,
   "id": "6d697003-fbef-4f7f-a667-0de6e9b6ad62",
   "metadata": {},
   "outputs": [],
   "source": [
    "mapping_cabin_d = {'A': 1, 'B': 2, 'C': 2,'D': 2, 'E': 3, 'F': 4,'G':5,'T':6}\n",
    "\n",
    "# replace() metodunu kullanarak değişikliği uyguluyoruz\n",
    "df['Cabin_deck'] = df['Cabin_deck'].replace(mapping_cabin_d)\n",
    "df_test['Cabin_deck'] = df_test['Cabin_deck'].replace(mapping_cabin_d)\n",
    "\n",
    "df_test['Cabin_deck'] = df_test['Cabin_deck'].astype(int)\n",
    "df['Cabin_deck'] = df['Cabin_deck'].astype(int)"
   ]
  },
  {
   "cell_type": "code",
   "execution_count": 23,
   "id": "d8c9ddcd-3cc4-4241-af77-3dca0bf8012c",
   "metadata": {},
   "outputs": [
    {
     "data": {
      "text/plain": [
       "S    4288\n",
       "P    4206\n",
       "Name: Cabin_side, dtype: int64"
      ]
     },
     "execution_count": 23,
     "metadata": {},
     "output_type": "execute_result"
    }
   ],
   "source": [
    "df.Cabin_side.value_counts()"
   ]
  },
  {
   "cell_type": "code",
   "execution_count": 24,
   "id": "19b075d3-287c-494a-a73d-c4c3c49c7f24",
   "metadata": {},
   "outputs": [],
   "source": [
    "# Sütundaki null değerleri say\n",
    "null_count = df['Cabin_side'].isnull().sum()\n",
    "\n",
    "# En çok tekrar eden ilk ve ikinci değerleri belirle\n",
    "most_common_values = df['Cabin_side'].value_counts().index[:2].tolist()\n",
    "\n",
    "# Null değerlerin yarısını en çok tekrar eden ilk değerle, diğer yarısını ise en çok tekrar eden ikinci değerle doldur\n",
    "df['Cabin_side'].fillna({i: np.random.choice(most_common_values, p=[0.5, 0.5]) for i in df.index[df['Cabin_side'].isnull()].tolist()[:null_count//2] + \n",
    "                        df.index[df['Cabin_side'].isnull()].tolist()[null_count//2:]}, inplace=True)"
   ]
  },
  {
   "cell_type": "code",
   "execution_count": 25,
   "id": "ecc384ab-c1f2-4617-b813-88659558a5c2",
   "metadata": {},
   "outputs": [],
   "source": [
    "null_count = df_test['Cabin_side'].isnull().sum()\n",
    "\n",
    "# En çok tekrar eden ilk ve ikinci değerleri belirle\n",
    "most_common_values = df_test['Cabin_side'].value_counts().index[:2].tolist()\n",
    "\n",
    "# Null değerlerin yarısını en çok tekrar eden ilk değerle, diğer yarısını ise en çok tekrar eden ikinci değerle doldur\n",
    "df_test['Cabin_side'].fillna({i: np.random.choice(most_common_values, p=[0.5, 0.5]) for i in df_test.index[df_test['Cabin_side'].isnull()].tolist()[\n",
    "    :null_count//2] + df_test.index[df_test['Cabin_side'].isnull()].tolist()[null_count//2:]}, inplace=True)"
   ]
  },
  {
   "cell_type": "code",
   "execution_count": 26,
   "id": "cb006c81-2816-4f8d-ab0c-0b2e94ccf5a8",
   "metadata": {},
   "outputs": [
    {
     "data": {
      "text/plain": [
       "S    4378\n",
       "P    4315\n",
       "Name: Cabin_side, dtype: int64"
      ]
     },
     "execution_count": 26,
     "metadata": {},
     "output_type": "execute_result"
    }
   ],
   "source": [
    "df.Cabin_side.value_counts()"
   ]
  },
  {
   "cell_type": "code",
   "execution_count": 27,
   "id": "43ecd0d6-2013-46a9-bcda-5f885a85eefb",
   "metadata": {},
   "outputs": [],
   "source": [
    "'''\n",
    "S:1\n",
    "P:0\n",
    "'''\n",
    "\n",
    "df['Cabin_side'] = df['Cabin_side'].replace({'S': 1, 'P': 0})\n",
    "df_test['Cabin_side'] = df_test['Cabin_side'].replace({'S': 1, 'P': 0})\n",
    "df['Cabin_side'] = df['Cabin_side'].astype(int)\n",
    "df_test['Cabin_side'] = df_test['Cabin_side'].astype(int)"
   ]
  },
  {
   "cell_type": "code",
   "execution_count": 28,
   "id": "d75745a2-06f1-4416-aa73-2f81330eb972",
   "metadata": {},
   "outputs": [
    {
     "data": {
      "text/plain": [
       "TRAPPIST-1e      5915\n",
       "55 Cancri e      1800\n",
       "PSO J318.5-22     796\n",
       "Name: Destination, dtype: int64"
      ]
     },
     "execution_count": 28,
     "metadata": {},
     "output_type": "execute_result"
    }
   ],
   "source": [
    "df.Destination.value_counts()"
   ]
  },
  {
   "cell_type": "code",
   "execution_count": 29,
   "id": "62aeaf59-4abf-42f2-8ad0-a14b3134b1bd",
   "metadata": {},
   "outputs": [
    {
     "data": {
      "text/plain": [
       "TRAPPIST-1e      2956\n",
       "55 Cancri e       841\n",
       "PSO J318.5-22     388\n",
       "Name: Destination, dtype: int64"
      ]
     },
     "execution_count": 29,
     "metadata": {},
     "output_type": "execute_result"
    }
   ],
   "source": [
    "df_test.Destination.value_counts()"
   ]
  },
  {
   "cell_type": "code",
   "execution_count": 30,
   "id": "988af720-b1f8-4667-8718-66fd719cf24e",
   "metadata": {},
   "outputs": [],
   "source": [
    "df['Destination'].fillna(value='TRAPPIST-1e', limit=int(5915*182/8692), inplace=True)\n",
    "df['Destination'].fillna(value='55 Cancri e', limit=int(1800*182/8692), inplace=True)\n",
    "df['Destination'].fillna(value='PSO J318.5-22', limit=int(796*192/8692), inplace=True)\n",
    "\n",
    "# Kalan null değerleri veri setinin moduyla dolduralım\n",
    "df['Destination'].fillna(df['Destination'].mode()[0], inplace=True)"
   ]
  },
  {
   "cell_type": "code",
   "execution_count": 31,
   "id": "a5449093-3fa2-48a2-9fd4-d0275ccaef66",
   "metadata": {},
   "outputs": [],
   "source": [
    "df_test['Destination'].fillna(value='TRAPPIST-1e', limit=int(2956*92/4277), inplace=True)\n",
    "df_test['Destination'].fillna(value='55 Cancri e', limit=int(841*92/4277), inplace=True)\n",
    "df_test['Destination'].fillna(value='PSO J318.5-22', limit=int(388*92/4277), inplace=True)\n",
    "\n",
    "# Kalan null değerleri veri setinin moduyla dolduralım\n",
    "df_test['Destination'].fillna(df_test['Destination'].mode()[0], inplace=True)"
   ]
  },
  {
   "cell_type": "code",
   "execution_count": 32,
   "id": "221b6c27-98c7-4df9-8e9b-94e3b0391597",
   "metadata": {},
   "outputs": [],
   "source": [
    "df = pd.get_dummies(df, columns = [\"Destination\"])\n",
    "df_test = pd.get_dummies(df_test, columns = [\"Destination\"])"
   ]
  },
  {
   "cell_type": "code",
   "execution_count": 33,
   "id": "1232d66b-53d5-4f21-a821-7f24cb51f75c",
   "metadata": {},
   "outputs": [],
   "source": [
    "df[\"Age\"].fillna(df.Age.mean(), inplace=True)\n",
    "df_test[\"Age\"].fillna(df.Age.mean(), inplace=True)"
   ]
  },
  {
   "cell_type": "code",
   "execution_count": 34,
   "id": "4b4e8f89-09f3-46e1-a726-b41f7e8ac4df",
   "metadata": {},
   "outputs": [],
   "source": [
    "from sklearn import preprocessing"
   ]
  },
  {
   "cell_type": "code",
   "execution_count": 35,
   "id": "fe1f5d20-d6cc-44f9-8abf-b4ac61e75691",
   "metadata": {},
   "outputs": [
    {
     "name": "stderr",
     "output_type": "stream",
     "text": [
      "C:\\Users\\Mehmet\\anaconda3\\lib\\site-packages\\seaborn\\distributions.py:2619: FutureWarning: `distplot` is a deprecated function and will be removed in a future version. Please adapt your code to use either `displot` (a figure-level function with similar flexibility) or `histplot` (an axes-level function for histograms).\n",
      "  warnings.warn(msg, FutureWarning)\n"
     ]
    },
    {
     "data": {
      "text/plain": [
       "<AxesSubplot:ylabel='Density'>"
      ]
     },
     "execution_count": 35,
     "metadata": {},
     "output_type": "execute_result"
    },
    {
     "data": {
      "image/png": "[encoded data removed]",
      "text/plain": [
       "<Figure size 432x288 with 1 Axes>"
      ]
     },
     "metadata": {
      "needs_background": "light"
     },
     "output_type": "display_data"
    }
   ],
   "source": [
    "sns.distplot(preprocessing.minmax_scale(df.Age))"
   ]
  },
  {
   "cell_type": "code",
   "execution_count": 36,
   "id": "2a81ba04-97c6-46fa-b0d1-a55ecd99729b",
   "metadata": {},
   "outputs": [],
   "source": [
    "df[\"Age\"]=preprocessing.minmax_scale(df.Age)\n",
    "df_test[\"Age\"]=preprocessing.minmax_scale(df_test.Age)"
   ]
  },
  {
   "cell_type": "code",
   "execution_count": 37,
   "id": "83ca92d1-9d6e-49cb-89b3-ba9c44a419f3",
   "metadata": {},
   "outputs": [
    {
     "data": {
      "text/plain": [
       "False    4110\n",
       "True       74\n",
       "Name: VIP, dtype: int64"
      ]
     },
     "execution_count": 37,
     "metadata": {},
     "output_type": "execute_result"
    }
   ],
   "source": [
    "df_test.VIP.value_counts()"
   ]
  },
  {
   "cell_type": "code",
   "execution_count": 38,
   "id": "a0fd28c5-acf2-4a73-9c78-a2a4b22a6815",
   "metadata": {},
   "outputs": [],
   "source": [
    "df['VIP'].fillna(value='False', limit=int(8291*203/8692), inplace=True)\n",
    "df['VIP'].fillna(value='True', limit=int(199*203/8692), inplace=True)\n",
    "\n",
    "# Kalan null değerleri veri setinin moduyla dolduralım\n",
    "df['VIP'].fillna(df['VIP'].mode()[0], inplace=True)"
   ]
  },
  {
   "cell_type": "code",
   "execution_count": 39,
   "id": "2756912b-5d69-4bea-bc32-c17a73ca43d0",
   "metadata": {},
   "outputs": [],
   "source": [
    "df_test['VIP'].fillna(value='False', limit=int(4110*93/4277), inplace=True)\n",
    "df_test['VIP'].fillna(value='True', limit=int(74*93/4277), inplace=True)\n",
    "\n",
    "# Kalan null değerleri veri setinin moduyla dolduralım\n",
    "df_test['VIP'].fillna(df_test['VIP'].mode()[0], inplace=True)"
   ]
  },
  {
   "cell_type": "code",
   "execution_count": 40,
   "id": "2755630b-34b7-410d-a091-b011c1d81add",
   "metadata": {},
   "outputs": [],
   "source": [
    "df['VIP'] = df['VIP'].replace({'True': 1, 'False': 0})\n",
    "df_test['VIP'] = df_test['VIP'].replace({'True': 1, 'False': 0})\n",
    "df['VIP'] = df['VIP'].astype(int)\n",
    "df_test['VIP'] = df_test['VIP'].astype(int)"
   ]
  },
  {
   "cell_type": "code",
   "execution_count": 41,
   "id": "c7be0695-2d30-4889-b880-0158b6fe13a3",
   "metadata": {},
   "outputs": [],
   "source": [
    "df[\"RoomService\"].fillna(df.RoomService.mean(), inplace=True)\n",
    "df_test[\"RoomService\"].fillna(df.RoomService.mean(), inplace=True)"
   ]
  },
  {
   "cell_type": "code",
   "execution_count": 42,
   "id": "d59a5745-1f9d-4a75-ade6-35dc2dfc92b5",
   "metadata": {},
   "outputs": [
    {
     "name": "stderr",
     "output_type": "stream",
     "text": [
      "C:\\Users\\Mehmet\\anaconda3\\lib\\site-packages\\seaborn\\distributions.py:2619: FutureWarning: `distplot` is a deprecated function and will be removed in a future version. Please adapt your code to use either `displot` (a figure-level function with similar flexibility) or `histplot` (an axes-level function for histograms).\n",
      "  warnings.warn(msg, FutureWarning)\n"
     ]
    },
    {
     "data": {
      "text/plain": [
       "<AxesSubplot:ylabel='Density'>"
      ]
     },
     "execution_count": 42,
     "metadata": {},
     "output_type": "execute_result"
    },
    {
     "data": {
      "image/png": "[encoded data removed]",
      "text/plain": [
       "<Figure size 432x288 with 1 Axes>"
      ]
     },
     "metadata": {
      "needs_background": "light"
     },
     "output_type": "display_data"
    }
   ],
   "source": [
    "sns.distplot(preprocessing.minmax_scale(df.RoomService))"
   ]
  },
  {
   "cell_type": "code",
   "execution_count": 43,
   "id": "f5c1285b-1222-42a7-a575-d58e5932f47a",
   "metadata": {},
   "outputs": [],
   "source": [
    "df[\"RoomService\"]=preprocessing.minmax_scale(df.RoomService)\n",
    "df_test[\"RoomService\"]=preprocessing.minmax_scale(df_test.RoomService)"
   ]
  },
  {
   "cell_type": "code",
   "execution_count": 44,
   "id": "d9a4cf27-42cb-43f7-a8e7-115288d1d1bc",
   "metadata": {},
   "outputs": [],
   "source": [
    "df[\"FoodCourt\"].fillna(df.FoodCourt.mean(), inplace=True)\n",
    "df_test[\"FoodCourt\"].fillna(df.FoodCourt.mean(), inplace=True)\n",
    "\n",
    "df[\"FoodCourt\"]=preprocessing.minmax_scale(df.FoodCourt)\n",
    "df_test[\"FoodCourt\"]=preprocessing.minmax_scale(df_test.FoodCourt)"
   ]
  },
  {
   "cell_type": "code",
   "execution_count": 45,
   "id": "d8e9b354-0e8f-4047-97f9-063ec1eb6a5e",
   "metadata": {},
   "outputs": [
    {
     "name": "stderr",
     "output_type": "stream",
     "text": [
      "C:\\Users\\Mehmet\\anaconda3\\lib\\site-packages\\seaborn\\distributions.py:2619: FutureWarning: `distplot` is a deprecated function and will be removed in a future version. Please adapt your code to use either `displot` (a figure-level function with similar flexibility) or `histplot` (an axes-level function for histograms).\n",
      "  warnings.warn(msg, FutureWarning)\n"
     ]
    },
    {
     "data": {
      "text/plain": [
       "<AxesSubplot:xlabel='FoodCourt', ylabel='Density'>"
      ]
     },
     "execution_count": 45,
     "metadata": {},
     "output_type": "execute_result"
    },
    {
     "data": {
      "image/png": "[encoded data removed]",
      "text/plain": [
       "<Figure size 432x288 with 1 Axes>"
      ]
     },
     "metadata": {
      "needs_background": "light"
     },
     "output_type": "display_data"
    }
   ],
   "source": [
    "sns.distplot(df.FoodCourt)"
   ]
  },
  {
   "cell_type": "code",
   "execution_count": 46,
   "id": "b356fd48-8a0e-48fb-9b08-2ff1602bcf06",
   "metadata": {},
   "outputs": [],
   "source": [
    "df[\"ShoppingMall\"].fillna(df.ShoppingMall.mean(), inplace=True)\n",
    "df_test[\"ShoppingMall\"].fillna(df.ShoppingMall.mean(), inplace=True)\n",
    "\n",
    "df[\"ShoppingMall\"]=preprocessing.minmax_scale(df.ShoppingMall)\n",
    "df_test[\"ShoppingMall\"]=preprocessing.minmax_scale(df_test.ShoppingMall)"
   ]
  },
  {
   "cell_type": "code",
   "execution_count": 47,
   "id": "c052ede1-de96-4147-8639-fc8a04c372d9",
   "metadata": {},
   "outputs": [
    {
     "name": "stderr",
     "output_type": "stream",
     "text": [
      "C:\\Users\\Mehmet\\anaconda3\\lib\\site-packages\\seaborn\\distributions.py:2619: FutureWarning: `distplot` is a deprecated function and will be removed in a future version. Please adapt your code to use either `displot` (a figure-level function with similar flexibility) or `histplot` (an axes-level function for histograms).\n",
      "  warnings.warn(msg, FutureWarning)\n"
     ]
    },
    {
     "data": {
      "text/plain": [
       "<AxesSubplot:xlabel='ShoppingMall', ylabel='Density'>"
      ]
     },
     "execution_count": 47,
     "metadata": {},
     "output_type": "execute_result"
    },
    {
     "data": {
      "image/png": "[encoded data removed]",
      "text/plain": [
       "<Figure size 432x288 with 1 Axes>"
      ]
     },
     "metadata": {
      "needs_background": "light"
     },
     "output_type": "display_data"
    }
   ],
   "source": [
    "sns.distplot(df.ShoppingMall)"
   ]
  },
  {
   "cell_type": "code",
   "execution_count": 48,
   "id": "883d951d-3e3c-4f7b-9463-4dc5df673ca5",
   "metadata": {},
   "outputs": [],
   "source": [
    "df[\"Spa\"].fillna(df.Spa.mean(), inplace=True)\n",
    "df_test[\"Spa\"].fillna(df.Spa.mean(), inplace=True)\n",
    "\n",
    "df[\"Spa\"]=preprocessing.minmax_scale(df.Spa)\n",
    "df_test[\"Spa\"]=preprocessing.minmax_scale(df_test.Spa)"
   ]
  },
  {
   "cell_type": "code",
   "execution_count": 49,
   "id": "1585aa1d-f041-4790-9c1f-1524a39dfc8b",
   "metadata": {},
   "outputs": [
    {
     "name": "stderr",
     "output_type": "stream",
     "text": [
      "C:\\Users\\Mehmet\\anaconda3\\lib\\site-packages\\seaborn\\distributions.py:2619: FutureWarning: `distplot` is a deprecated function and will be removed in a future version. Please adapt your code to use either `displot` (a figure-level function with similar flexibility) or `histplot` (an axes-level function for histograms).\n",
      "  warnings.warn(msg, FutureWarning)\n"
     ]
    },
    {
     "data": {
      "text/plain": [
       "<AxesSubplot:xlabel='Spa', ylabel='Density'>"
      ]
     },
     "execution_count": 49,
     "metadata": {},
     "output_type": "execute_result"
    },
    {
     "data": {
      "image/png": "[encoded data removed]",
      "text/plain": [
       "<Figure size 432x288 with 1 Axes>"
      ]
     },
     "metadata": {
      "needs_background": "light"
     },
     "output_type": "display_data"
    }
   ],
   "source": [
    "sns.distplot(df.Spa)"
   ]
  },
  {
   "cell_type": "code",
   "execution_count": 50,
   "id": "9fcf9b7a-bf3b-4f53-bc7b-e243ab419480",
   "metadata": {},
   "outputs": [],
   "source": [
    "df[\"VRDeck\"].fillna(df.VRDeck.mean(), inplace=True)\n",
    "df_test[\"VRDeck\"].fillna(df.VRDeck.mean(), inplace=True)\n",
    "\n",
    "df[\"VRDeck\"]=preprocessing.minmax_scale(df.VRDeck)\n",
    "df_test[\"VRDeck\"]=preprocessing.minmax_scale(df_test.VRDeck)"
   ]
  },
  {
   "cell_type": "code",
   "execution_count": 51,
   "id": "a98587c8-e1bb-4cfc-b48a-0e48e2a48cb9",
   "metadata": {},
   "outputs": [],
   "source": [
    "df['Transported'] = df['Transported'].replace({'True': 1, 'False': 0})\n",
    "\n",
    "df['Transported'] = df['Transported'].astype(int)\n"
   ]
  },
  {
   "cell_type": "code",
   "execution_count": 52,
   "id": "9c82329b-c311-4d09-93f6-cad979611a62",
   "metadata": {},
   "outputs": [],
   "source": [
    "from sklearn.preprocessing import Normalizer\n",
    "\n",
    "\n",
    "\n",
    "\n",
    "\n",
    "normalizer = Normalizer()\n",
    "df[['Age', 'RoomService','FoodCourt','ShoppingMall','Spa','VRDeck']] = normalizer.fit_transform(df[[\n",
    "    'Age', 'RoomService','FoodCourt','ShoppingMall','Spa','VRDeck']])"
   ]
  },
  {
   "cell_type": "code",
   "execution_count": 53,
   "id": "23921f00-ccb1-42f5-bbfa-5b31265b462e",
   "metadata": {},
   "outputs": [],
   "source": [
    "df_test[['Age', 'RoomService','FoodCourt','ShoppingMall','Spa','VRDeck']] = normalizer.fit_transform(df_test[[\n",
    "    'Age', 'RoomService','FoodCourt','ShoppingMall','Spa','VRDeck']])"
   ]
  },
  {
   "cell_type": "code",
   "execution_count": 54,
   "id": "db650ec1-6a6f-483c-bfb6-65ab2642a407",
   "metadata": {},
   "outputs": [
    {
     "data": {
      "text/html": [
       "<style type=\"text/css\">\n",
       "</style>\n",
       "<table id=\"T_afc99\">\n",
       "  <thead>\n",
       "    <tr>\n",
       "      <th class=\"blank level0\" >&nbsp;</th>\n",
       "      <th id=\"T_afc99_level0_col0\" class=\"col_heading level0 col0\" >Description</th>\n",
       "      <th id=\"T_afc99_level0_col1\" class=\"col_heading level0 col1\" >Value</th>\n",
       "    </tr>\n",
       "  </thead>\n",
       "  <tbody>\n",
       "    <tr>\n",
       "      <th id=\"T_afc99_level0_row0\" class=\"row_heading level0 row0\" >0</th>\n",
       "      <td id=\"T_afc99_row0_col0\" class=\"data row0 col0\" >Session id</td>\n",
       "      <td id=\"T_afc99_row0_col1\" class=\"data row0 col1\" >2482</td>\n",
       "    </tr>\n",
       "    <tr>\n",
       "      <th id=\"T_afc99_level0_row1\" class=\"row_heading level0 row1\" >1</th>\n",
       "      <td id=\"T_afc99_row1_col0\" class=\"data row1 col0\" >Target</td>\n",
       "      <td id=\"T_afc99_row1_col1\" class=\"data row1 col1\" >Transported</td>\n",
       "    </tr>\n",
       "    <tr>\n",
       "      <th id=\"T_afc99_level0_row2\" class=\"row_heading level0 row2\" >2</th>\n",
       "      <td id=\"T_afc99_row2_col0\" class=\"data row2 col0\" >Target type</td>\n",
       "      <td id=\"T_afc99_row2_col1\" class=\"data row2 col1\" >Binary</td>\n",
       "    </tr>\n",
       "    <tr>\n",
       "      <th id=\"T_afc99_level0_row3\" class=\"row_heading level0 row3\" >3</th>\n",
       "      <td id=\"T_afc99_row3_col0\" class=\"data row3 col0\" >Original data shape</td>\n",
       "      <td id=\"T_afc99_row3_col1\" class=\"data row3 col1\" >(8693, 17)</td>\n",
       "    </tr>\n",
       "    <tr>\n",
       "      <th id=\"T_afc99_level0_row4\" class=\"row_heading level0 row4\" >4</th>\n",
       "      <td id=\"T_afc99_row4_col0\" class=\"data row4 col0\" >Transformed data shape</td>\n",
       "      <td id=\"T_afc99_row4_col1\" class=\"data row4 col1\" >(8693, 17)</td>\n",
       "    </tr>\n",
       "    <tr>\n",
       "      <th id=\"T_afc99_level0_row5\" class=\"row_heading level0 row5\" >5</th>\n",
       "      <td id=\"T_afc99_row5_col0\" class=\"data row5 col0\" >Transformed train set shape</td>\n",
       "      <td id=\"T_afc99_row5_col1\" class=\"data row5 col1\" >(6085, 17)</td>\n",
       "    </tr>\n",
       "    <tr>\n",
       "      <th id=\"T_afc99_level0_row6\" class=\"row_heading level0 row6\" >6</th>\n",
       "      <td id=\"T_afc99_row6_col0\" class=\"data row6 col0\" >Transformed test set shape</td>\n",
       "      <td id=\"T_afc99_row6_col1\" class=\"data row6 col1\" >(2608, 17)</td>\n",
       "    </tr>\n",
       "    <tr>\n",
       "      <th id=\"T_afc99_level0_row7\" class=\"row_heading level0 row7\" >7</th>\n",
       "      <td id=\"T_afc99_row7_col0\" class=\"data row7 col0\" >Numeric features</td>\n",
       "      <td id=\"T_afc99_row7_col1\" class=\"data row7 col1\" >16</td>\n",
       "    </tr>\n",
       "  </tbody>\n",
       "</table>\n"
      ],
      "text/plain": [
       "<pandas.io.formats.style.Styler at 0x21e9b5053a0>"
      ]
     },
     "metadata": {},
     "output_type": "display_data"
    },
    {
     "data": {
      "text/html": [],
      "text/plain": [
       "<IPython.core.display.HTML object>"
      ]
     },
     "metadata": {},
     "output_type": "display_data"
    },
    {
     "data": {
      "text/html": [
       "<style type=\"text/css\">\n",
       "#T_f9b07 th {\n",
       "  text-align: left;\n",
       "}\n",
       "#T_f9b07_row0_col0, #T_f9b07_row0_col3, #T_f9b07_row0_col4, #T_f9b07_row1_col0, #T_f9b07_row1_col1, #T_f9b07_row1_col2, #T_f9b07_row1_col3, #T_f9b07_row1_col4, #T_f9b07_row1_col5, #T_f9b07_row1_col6, #T_f9b07_row1_col7, #T_f9b07_row2_col0, #T_f9b07_row2_col1, #T_f9b07_row2_col2, #T_f9b07_row2_col3, #T_f9b07_row2_col4, #T_f9b07_row2_col5, #T_f9b07_row2_col6, #T_f9b07_row2_col7, #T_f9b07_row3_col0, #T_f9b07_row3_col1, #T_f9b07_row3_col2, #T_f9b07_row3_col3, #T_f9b07_row3_col4, #T_f9b07_row3_col5, #T_f9b07_row3_col6, #T_f9b07_row3_col7, #T_f9b07_row4_col0, #T_f9b07_row4_col1, #T_f9b07_row4_col2, #T_f9b07_row4_col3, #T_f9b07_row4_col4, #T_f9b07_row4_col5, #T_f9b07_row4_col6, #T_f9b07_row4_col7, #T_f9b07_row5_col0, #T_f9b07_row5_col1, #T_f9b07_row5_col2, #T_f9b07_row5_col3, #T_f9b07_row5_col4, #T_f9b07_row5_col5, #T_f9b07_row5_col6, #T_f9b07_row5_col7, #T_f9b07_row6_col0, #T_f9b07_row6_col1, #T_f9b07_row6_col2, #T_f9b07_row6_col3, #T_f9b07_row6_col4, #T_f9b07_row6_col5, #T_f9b07_row6_col6, #T_f9b07_row6_col7, #T_f9b07_row7_col0, #T_f9b07_row7_col1, #T_f9b07_row7_col2, #T_f9b07_row7_col3, #T_f9b07_row7_col4, #T_f9b07_row7_col5, #T_f9b07_row7_col6, #T_f9b07_row7_col7, #T_f9b07_row8_col0, #T_f9b07_row8_col1, #T_f9b07_row8_col2, #T_f9b07_row8_col3, #T_f9b07_row8_col5, #T_f9b07_row8_col6, #T_f9b07_row8_col7, #T_f9b07_row9_col0, #T_f9b07_row9_col1, #T_f9b07_row9_col2, #T_f9b07_row9_col3, #T_f9b07_row9_col4, #T_f9b07_row9_col5, #T_f9b07_row9_col6, #T_f9b07_row9_col7, #T_f9b07_row10_col0, #T_f9b07_row10_col1, #T_f9b07_row10_col2, #T_f9b07_row10_col3, #T_f9b07_row10_col4, #T_f9b07_row10_col5, #T_f9b07_row10_col6, #T_f9b07_row10_col7, #T_f9b07_row11_col0, #T_f9b07_row11_col1, #T_f9b07_row11_col2, #T_f9b07_row11_col3, #T_f9b07_row11_col4, #T_f9b07_row11_col5, #T_f9b07_row11_col6, #T_f9b07_row11_col7, #T_f9b07_row12_col0, #T_f9b07_row12_col1, #T_f9b07_row12_col2, #T_f9b07_row12_col3, #T_f9b07_row12_col4, #T_f9b07_row12_col5, #T_f9b07_row12_col6, #T_f9b07_row12_col7, #T_f9b07_row13_col0, #T_f9b07_row13_col1, #T_f9b07_row13_col2, #T_f9b07_row13_col3, #T_f9b07_row13_col4, #T_f9b07_row13_col5, #T_f9b07_row13_col6, #T_f9b07_row13_col7, #T_f9b07_row14_col0, #T_f9b07_row14_col1, #T_f9b07_row14_col2, #T_f9b07_row14_col3, #T_f9b07_row14_col4, #T_f9b07_row14_col5, #T_f9b07_row14_col6, #T_f9b07_row14_col7, #T_f9b07_row15_col0, #T_f9b07_row15_col1, #T_f9b07_row15_col2, #T_f9b07_row15_col4, #T_f9b07_row15_col5, #T_f9b07_row15_col6, #T_f9b07_row15_col7 {\n",
       "  text-align: left;\n",
       "}\n",
       "#T_f9b07_row0_col1, #T_f9b07_row0_col2, #T_f9b07_row0_col5, #T_f9b07_row0_col6, #T_f9b07_row0_col7, #T_f9b07_row8_col4, #T_f9b07_row15_col3 {\n",
       "  text-align: left;\n",
       "  background-color: yellow;\n",
       "}\n",
       "#T_f9b07_row0_col8, #T_f9b07_row1_col8, #T_f9b07_row2_col8, #T_f9b07_row3_col8, #T_f9b07_row4_col8, #T_f9b07_row5_col8, #T_f9b07_row6_col8, #T_f9b07_row7_col8, #T_f9b07_row9_col8, #T_f9b07_row10_col8, #T_f9b07_row11_col8, #T_f9b07_row12_col8, #T_f9b07_row13_col8, #T_f9b07_row14_col8, #T_f9b07_row15_col8 {\n",
       "  text-align: left;\n",
       "  background-color: lightgrey;\n",
       "}\n",
       "#T_f9b07_row8_col8 {\n",
       "  text-align: left;\n",
       "  background-color: yellow;\n",
       "  background-color: lightgrey;\n",
       "}\n",
       "</style>\n",
       "<table id=\"T_f9b07\">\n",
       "  <thead>\n",
       "    <tr>\n",
       "      <th class=\"blank level0\" >&nbsp;</th>\n",
       "      <th id=\"T_f9b07_level0_col0\" class=\"col_heading level0 col0\" >Model</th>\n",
       "      <th id=\"T_f9b07_level0_col1\" class=\"col_heading level0 col1\" >Accuracy</th>\n",
       "      <th id=\"T_f9b07_level0_col2\" class=\"col_heading level0 col2\" >AUC</th>\n",
       "      <th id=\"T_f9b07_level0_col3\" class=\"col_heading level0 col3\" >Recall</th>\n",
       "      <th id=\"T_f9b07_level0_col4\" class=\"col_heading level0 col4\" >Prec.</th>\n",
       "      <th id=\"T_f9b07_level0_col5\" class=\"col_heading level0 col5\" >F1</th>\n",
       "      <th id=\"T_f9b07_level0_col6\" class=\"col_heading level0 col6\" >Kappa</th>\n",
       "      <th id=\"T_f9b07_level0_col7\" class=\"col_heading level0 col7\" >MCC</th>\n",
       "      <th id=\"T_f9b07_level0_col8\" class=\"col_heading level0 col8\" >TT (Sec)</th>\n",
       "    </tr>\n",
       "  </thead>\n",
       "  <tbody>\n",
       "    <tr>\n",
       "      <th id=\"T_f9b07_level0_row0\" class=\"row_heading level0 row0\" >catboost</th>\n",
       "      <td id=\"T_f9b07_row0_col0\" class=\"data row0 col0\" >CatBoost Classifier</td>\n",
       "      <td id=\"T_f9b07_row0_col1\" class=\"data row0 col1\" >0.8051</td>\n",
       "      <td id=\"T_f9b07_row0_col2\" class=\"data row0 col2\" >0.8829</td>\n",
       "      <td id=\"T_f9b07_row0_col3\" class=\"data row0 col3\" >0.8251</td>\n",
       "      <td id=\"T_f9b07_row0_col4\" class=\"data row0 col4\" >0.7961</td>\n",
       "      <td id=\"T_f9b07_row0_col5\" class=\"data row0 col5\" >0.8100</td>\n",
       "      <td id=\"T_f9b07_row0_col6\" class=\"data row0 col6\" >0.6101</td>\n",
       "      <td id=\"T_f9b07_row0_col7\" class=\"data row0 col7\" >0.6112</td>\n",
       "      <td id=\"T_f9b07_row0_col8\" class=\"data row0 col8\" >0.9880</td>\n",
       "    </tr>\n",
       "    <tr>\n",
       "      <th id=\"T_f9b07_level0_row1\" class=\"row_heading level0 row1\" >lightgbm</th>\n",
       "      <td id=\"T_f9b07_row1_col0\" class=\"data row1 col0\" >Light Gradient Boosting Machine</td>\n",
       "      <td id=\"T_f9b07_row1_col1\" class=\"data row1 col1\" >0.7984</td>\n",
       "      <td id=\"T_f9b07_row1_col2\" class=\"data row1 col2\" >0.8774</td>\n",
       "      <td id=\"T_f9b07_row1_col3\" class=\"data row1 col3\" >0.8196</td>\n",
       "      <td id=\"T_f9b07_row1_col4\" class=\"data row1 col4\" >0.7888</td>\n",
       "      <td id=\"T_f9b07_row1_col5\" class=\"data row1 col5\" >0.8036</td>\n",
       "      <td id=\"T_f9b07_row1_col6\" class=\"data row1 col6\" >0.5966</td>\n",
       "      <td id=\"T_f9b07_row1_col7\" class=\"data row1 col7\" >0.5975</td>\n",
       "      <td id=\"T_f9b07_row1_col8\" class=\"data row1 col8\" >0.4720</td>\n",
       "    </tr>\n",
       "    <tr>\n",
       "      <th id=\"T_f9b07_level0_row2\" class=\"row_heading level0 row2\" >gbc</th>\n",
       "      <td id=\"T_f9b07_row2_col0\" class=\"data row2 col0\" >Gradient Boosting Classifier</td>\n",
       "      <td id=\"T_f9b07_row2_col1\" class=\"data row2 col1\" >0.7941</td>\n",
       "      <td id=\"T_f9b07_row2_col2\" class=\"data row2 col2\" >0.8746</td>\n",
       "      <td id=\"T_f9b07_row2_col3\" class=\"data row2 col3\" >0.8193</td>\n",
       "      <td id=\"T_f9b07_row2_col4\" class=\"data row2 col4\" >0.7827</td>\n",
       "      <td id=\"T_f9b07_row2_col5\" class=\"data row2 col5\" >0.8003</td>\n",
       "      <td id=\"T_f9b07_row2_col6\" class=\"data row2 col6\" >0.5880</td>\n",
       "      <td id=\"T_f9b07_row2_col7\" class=\"data row2 col7\" >0.5891</td>\n",
       "      <td id=\"T_f9b07_row2_col8\" class=\"data row2 col8\" >0.4990</td>\n",
       "    </tr>\n",
       "    <tr>\n",
       "      <th id=\"T_f9b07_level0_row3\" class=\"row_heading level0 row3\" >rf</th>\n",
       "      <td id=\"T_f9b07_row3_col0\" class=\"data row3 col0\" >Random Forest Classifier</td>\n",
       "      <td id=\"T_f9b07_row3_col1\" class=\"data row3 col1\" >0.7916</td>\n",
       "      <td id=\"T_f9b07_row3_col2\" class=\"data row3 col2\" >0.8726</td>\n",
       "      <td id=\"T_f9b07_row3_col3\" class=\"data row3 col3\" >0.7971</td>\n",
       "      <td id=\"T_f9b07_row3_col4\" class=\"data row3 col4\" >0.7914</td>\n",
       "      <td id=\"T_f9b07_row3_col5\" class=\"data row3 col5\" >0.7940</td>\n",
       "      <td id=\"T_f9b07_row3_col6\" class=\"data row3 col6\" >0.5832</td>\n",
       "      <td id=\"T_f9b07_row3_col7\" class=\"data row3 col7\" >0.5836</td>\n",
       "      <td id=\"T_f9b07_row3_col8\" class=\"data row3 col8\" >0.4810</td>\n",
       "    </tr>\n",
       "    <tr>\n",
       "      <th id=\"T_f9b07_level0_row4\" class=\"row_heading level0 row4\" >xgboost</th>\n",
       "      <td id=\"T_f9b07_row4_col0\" class=\"data row4 col0\" >Extreme Gradient Boosting</td>\n",
       "      <td id=\"T_f9b07_row4_col1\" class=\"data row4 col1\" >0.7865</td>\n",
       "      <td id=\"T_f9b07_row4_col2\" class=\"data row4 col2\" >0.8684</td>\n",
       "      <td id=\"T_f9b07_row4_col3\" class=\"data row4 col3\" >0.8059</td>\n",
       "      <td id=\"T_f9b07_row4_col4\" class=\"data row4 col4\" >0.7787</td>\n",
       "      <td id=\"T_f9b07_row4_col5\" class=\"data row4 col5\" >0.7918</td>\n",
       "      <td id=\"T_f9b07_row4_col6\" class=\"data row4 col6\" >0.5729</td>\n",
       "      <td id=\"T_f9b07_row4_col7\" class=\"data row4 col7\" >0.5737</td>\n",
       "      <td id=\"T_f9b07_row4_col8\" class=\"data row4 col8\" >0.4730</td>\n",
       "    </tr>\n",
       "    <tr>\n",
       "      <th id=\"T_f9b07_level0_row5\" class=\"row_heading level0 row5\" >ada</th>\n",
       "      <td id=\"T_f9b07_row5_col0\" class=\"data row5 col0\" >Ada Boost Classifier</td>\n",
       "      <td id=\"T_f9b07_row5_col1\" class=\"data row5 col1\" >0.7839</td>\n",
       "      <td id=\"T_f9b07_row5_col2\" class=\"data row5 col2\" >0.8647</td>\n",
       "      <td id=\"T_f9b07_row5_col3\" class=\"data row5 col3\" >0.7990</td>\n",
       "      <td id=\"T_f9b07_row5_col4\" class=\"data row5 col4\" >0.7788</td>\n",
       "      <td id=\"T_f9b07_row5_col5\" class=\"data row5 col5\" >0.7884</td>\n",
       "      <td id=\"T_f9b07_row5_col6\" class=\"data row5 col6\" >0.5677</td>\n",
       "      <td id=\"T_f9b07_row5_col7\" class=\"data row5 col7\" >0.5685</td>\n",
       "      <td id=\"T_f9b07_row5_col8\" class=\"data row5 col8\" >0.4300</td>\n",
       "    </tr>\n",
       "    <tr>\n",
       "      <th id=\"T_f9b07_level0_row6\" class=\"row_heading level0 row6\" >et</th>\n",
       "      <td id=\"T_f9b07_row6_col0\" class=\"data row6 col0\" >Extra Trees Classifier</td>\n",
       "      <td id=\"T_f9b07_row6_col1\" class=\"data row6 col1\" >0.7836</td>\n",
       "      <td id=\"T_f9b07_row6_col2\" class=\"data row6 col2\" >0.8619</td>\n",
       "      <td id=\"T_f9b07_row6_col3\" class=\"data row6 col3\" >0.7938</td>\n",
       "      <td id=\"T_f9b07_row6_col4\" class=\"data row6 col4\" >0.7808</td>\n",
       "      <td id=\"T_f9b07_row6_col5\" class=\"data row6 col5\" >0.7869</td>\n",
       "      <td id=\"T_f9b07_row6_col6\" class=\"data row6 col6\" >0.5671</td>\n",
       "      <td id=\"T_f9b07_row6_col7\" class=\"data row6 col7\" >0.5677</td>\n",
       "      <td id=\"T_f9b07_row6_col8\" class=\"data row6 col8\" >0.4740</td>\n",
       "    </tr>\n",
       "    <tr>\n",
       "      <th id=\"T_f9b07_level0_row7\" class=\"row_heading level0 row7\" >lda</th>\n",
       "      <td id=\"T_f9b07_row7_col0\" class=\"data row7 col0\" >Linear Discriminant Analysis</td>\n",
       "      <td id=\"T_f9b07_row7_col1\" class=\"data row7 col1\" >0.7747</td>\n",
       "      <td id=\"T_f9b07_row7_col2\" class=\"data row7 col2\" >0.8611</td>\n",
       "      <td id=\"T_f9b07_row7_col3\" class=\"data row7 col3\" >0.7289</td>\n",
       "      <td id=\"T_f9b07_row7_col4\" class=\"data row7 col4\" >0.8060</td>\n",
       "      <td id=\"T_f9b07_row7_col5\" class=\"data row7 col5\" >0.7651</td>\n",
       "      <td id=\"T_f9b07_row7_col6\" class=\"data row7 col6\" >0.5497</td>\n",
       "      <td id=\"T_f9b07_row7_col7\" class=\"data row7 col7\" >0.5528</td>\n",
       "      <td id=\"T_f9b07_row7_col8\" class=\"data row7 col8\" >0.3960</td>\n",
       "    </tr>\n",
       "    <tr>\n",
       "      <th id=\"T_f9b07_level0_row8\" class=\"row_heading level0 row8\" >ridge</th>\n",
       "      <td id=\"T_f9b07_row8_col0\" class=\"data row8 col0\" >Ridge Classifier</td>\n",
       "      <td id=\"T_f9b07_row8_col1\" class=\"data row8 col1\" >0.7745</td>\n",
       "      <td id=\"T_f9b07_row8_col2\" class=\"data row8 col2\" >0.0000</td>\n",
       "      <td id=\"T_f9b07_row8_col3\" class=\"data row8 col3\" >0.7276</td>\n",
       "      <td id=\"T_f9b07_row8_col4\" class=\"data row8 col4\" >0.8067</td>\n",
       "      <td id=\"T_f9b07_row8_col5\" class=\"data row8 col5\" >0.7646</td>\n",
       "      <td id=\"T_f9b07_row8_col6\" class=\"data row8 col6\" >0.5494</td>\n",
       "      <td id=\"T_f9b07_row8_col7\" class=\"data row8 col7\" >0.5526</td>\n",
       "      <td id=\"T_f9b07_row8_col8\" class=\"data row8 col8\" >0.3790</td>\n",
       "    </tr>\n",
       "    <tr>\n",
       "      <th id=\"T_f9b07_level0_row9\" class=\"row_heading level0 row9\" >lr</th>\n",
       "      <td id=\"T_f9b07_row9_col0\" class=\"data row9 col0\" >Logistic Regression</td>\n",
       "      <td id=\"T_f9b07_row9_col1\" class=\"data row9 col1\" >0.7744</td>\n",
       "      <td id=\"T_f9b07_row9_col2\" class=\"data row9 col2\" >0.8628</td>\n",
       "      <td id=\"T_f9b07_row9_col3\" class=\"data row9 col3\" >0.7387</td>\n",
       "      <td id=\"T_f9b07_row9_col4\" class=\"data row9 col4\" >0.7990</td>\n",
       "      <td id=\"T_f9b07_row9_col5\" class=\"data row9 col5\" >0.7672</td>\n",
       "      <td id=\"T_f9b07_row9_col6\" class=\"data row9 col6\" >0.5490</td>\n",
       "      <td id=\"T_f9b07_row9_col7\" class=\"data row9 col7\" >0.5511</td>\n",
       "      <td id=\"T_f9b07_row9_col8\" class=\"data row9 col8\" >0.9830</td>\n",
       "    </tr>\n",
       "    <tr>\n",
       "      <th id=\"T_f9b07_level0_row10\" class=\"row_heading level0 row10\" >nb</th>\n",
       "      <td id=\"T_f9b07_row10_col0\" class=\"data row10 col0\" >Naive Bayes</td>\n",
       "      <td id=\"T_f9b07_row10_col1\" class=\"data row10 col1\" >0.7691</td>\n",
       "      <td id=\"T_f9b07_row10_col2\" class=\"data row10 col2\" >0.8511</td>\n",
       "      <td id=\"T_f9b07_row10_col3\" class=\"data row10 col3\" >0.8388</td>\n",
       "      <td id=\"T_f9b07_row10_col4\" class=\"data row10 col4\" >0.7387</td>\n",
       "      <td id=\"T_f9b07_row10_col5\" class=\"data row10 col5\" >0.7854</td>\n",
       "      <td id=\"T_f9b07_row10_col6\" class=\"data row10 col6\" >0.5377</td>\n",
       "      <td id=\"T_f9b07_row10_col7\" class=\"data row10 col7\" >0.5433</td>\n",
       "      <td id=\"T_f9b07_row10_col8\" class=\"data row10 col8\" >0.3840</td>\n",
       "    </tr>\n",
       "    <tr>\n",
       "      <th id=\"T_f9b07_level0_row11\" class=\"row_heading level0 row11\" >svm</th>\n",
       "      <td id=\"T_f9b07_row11_col0\" class=\"data row11 col0\" >SVM - Linear Kernel</td>\n",
       "      <td id=\"T_f9b07_row11_col1\" class=\"data row11 col1\" >0.7686</td>\n",
       "      <td id=\"T_f9b07_row11_col2\" class=\"data row11 col2\" >0.0000</td>\n",
       "      <td id=\"T_f9b07_row11_col3\" class=\"data row11 col3\" >0.7566</td>\n",
       "      <td id=\"T_f9b07_row11_col4\" class=\"data row11 col4\" >0.7907</td>\n",
       "      <td id=\"T_f9b07_row11_col5\" class=\"data row11 col5\" >0.7658</td>\n",
       "      <td id=\"T_f9b07_row11_col6\" class=\"data row11 col6\" >0.5373</td>\n",
       "      <td id=\"T_f9b07_row11_col7\" class=\"data row11 col7\" >0.5480</td>\n",
       "      <td id=\"T_f9b07_row11_col8\" class=\"data row11 col8\" >0.3970</td>\n",
       "    </tr>\n",
       "    <tr>\n",
       "      <th id=\"T_f9b07_level0_row12\" class=\"row_heading level0 row12\" >knn</th>\n",
       "      <td id=\"T_f9b07_row12_col0\" class=\"data row12 col0\" >K Neighbors Classifier</td>\n",
       "      <td id=\"T_f9b07_row12_col1\" class=\"data row12 col1\" >0.7615</td>\n",
       "      <td id=\"T_f9b07_row12_col2\" class=\"data row12 col2\" >0.8318</td>\n",
       "      <td id=\"T_f9b07_row12_col3\" class=\"data row12 col3\" >0.7625</td>\n",
       "      <td id=\"T_f9b07_row12_col4\" class=\"data row12 col4\" >0.7646</td>\n",
       "      <td id=\"T_f9b07_row12_col5\" class=\"data row12 col5\" >0.7631</td>\n",
       "      <td id=\"T_f9b07_row12_col6\" class=\"data row12 col6\" >0.5231</td>\n",
       "      <td id=\"T_f9b07_row12_col7\" class=\"data row12 col7\" >0.5238</td>\n",
       "      <td id=\"T_f9b07_row12_col8\" class=\"data row12 col8\" >0.7140</td>\n",
       "    </tr>\n",
       "    <tr>\n",
       "      <th id=\"T_f9b07_level0_row13\" class=\"row_heading level0 row13\" >dt</th>\n",
       "      <td id=\"T_f9b07_row13_col0\" class=\"data row13 col0\" >Decision Tree Classifier</td>\n",
       "      <td id=\"T_f9b07_row13_col1\" class=\"data row13 col1\" >0.7428</td>\n",
       "      <td id=\"T_f9b07_row13_col2\" class=\"data row13 col2\" >0.7626</td>\n",
       "      <td id=\"T_f9b07_row13_col3\" class=\"data row13 col3\" >0.8003</td>\n",
       "      <td id=\"T_f9b07_row13_col4\" class=\"data row13 col4\" >0.7204</td>\n",
       "      <td id=\"T_f9b07_row13_col5\" class=\"data row13 col5\" >0.7581</td>\n",
       "      <td id=\"T_f9b07_row13_col6\" class=\"data row13 col6\" >0.4852</td>\n",
       "      <td id=\"T_f9b07_row13_col7\" class=\"data row13 col7\" >0.4885</td>\n",
       "      <td id=\"T_f9b07_row13_col8\" class=\"data row13 col8\" >0.3940</td>\n",
       "    </tr>\n",
       "    <tr>\n",
       "      <th id=\"T_f9b07_level0_row14\" class=\"row_heading level0 row14\" >qda</th>\n",
       "      <td id=\"T_f9b07_row14_col0\" class=\"data row14 col0\" >Quadratic Discriminant Analysis</td>\n",
       "      <td id=\"T_f9b07_row14_col1\" class=\"data row14 col1\" >0.5448</td>\n",
       "      <td id=\"T_f9b07_row14_col2\" class=\"data row14 col2\" >0.5255</td>\n",
       "      <td id=\"T_f9b07_row14_col3\" class=\"data row14 col3\" >0.5333</td>\n",
       "      <td id=\"T_f9b07_row14_col4\" class=\"data row14 col4\" >0.5654</td>\n",
       "      <td id=\"T_f9b07_row14_col5\" class=\"data row14 col5\" >0.5009</td>\n",
       "      <td id=\"T_f9b07_row14_col6\" class=\"data row14 col6\" >0.0898</td>\n",
       "      <td id=\"T_f9b07_row14_col7\" class=\"data row14 col7\" >0.1015</td>\n",
       "      <td id=\"T_f9b07_row14_col8\" class=\"data row14 col8\" >0.3820</td>\n",
       "    </tr>\n",
       "    <tr>\n",
       "      <th id=\"T_f9b07_level0_row15\" class=\"row_heading level0 row15\" >dummy</th>\n",
       "      <td id=\"T_f9b07_row15_col0\" class=\"data row15 col0\" >Dummy Classifier</td>\n",
       "      <td id=\"T_f9b07_row15_col1\" class=\"data row15 col1\" >0.5037</td>\n",
       "      <td id=\"T_f9b07_row15_col2\" class=\"data row15 col2\" >0.5000</td>\n",
       "      <td id=\"T_f9b07_row15_col3\" class=\"data row15 col3\" >1.0000</td>\n",
       "      <td id=\"T_f9b07_row15_col4\" class=\"data row15 col4\" >0.5037</td>\n",
       "      <td id=\"T_f9b07_row15_col5\" class=\"data row15 col5\" >0.6699</td>\n",
       "      <td id=\"T_f9b07_row15_col6\" class=\"data row15 col6\" >0.0000</td>\n",
       "      <td id=\"T_f9b07_row15_col7\" class=\"data row15 col7\" >0.0000</td>\n",
       "      <td id=\"T_f9b07_row15_col8\" class=\"data row15 col8\" >0.3920</td>\n",
       "    </tr>\n",
       "  </tbody>\n",
       "</table>\n"
      ],
      "text/plain": [
       "<pandas.io.formats.style.Styler at 0x21e9b3b9d60>"
      ]
     },
     "metadata": {},
     "output_type": "display_data"
    },
    {
     "data": {
      "application/vnd.jupyter.widget-view+json": {
       "model_id": "",
       "version_major": 2,
       "version_minor": 0
      },
      "text/plain": [
       "Processing:   0%|          | 0/69 [00:00<?, ?it/s]"
      ]
     },
     "metadata": {},
     "output_type": "display_data"
    }
   ],
   "source": [
    "from pycaret.classification import setup\n",
    "clf = setup(df.drop(columns=['Name','PassengerId']), target='Transported', preprocess=False)\n",
    "from pycaret.classification import compare_models\n",
    "models = compare_models()"
   ]
  },
  {
   "cell_type": "code",
   "execution_count": 55,
   "id": "36e8ff7f-d525-4d56-912c-a28f52cba235",
   "metadata": {},
   "outputs": [
    {
     "data": {
      "text/html": [],
      "text/plain": [
       "<IPython.core.display.HTML object>"
      ]
     },
     "metadata": {},
     "output_type": "display_data"
    },
    {
     "data": {
      "text/html": [
       "<style type=\"text/css\">\n",
       "#T_10c1a_row10_col0, #T_10c1a_row10_col1, #T_10c1a_row10_col2, #T_10c1a_row10_col3, #T_10c1a_row10_col4, #T_10c1a_row10_col5, #T_10c1a_row10_col6 {\n",
       "  background: yellow;\n",
       "}\n",
       "</style>\n",
       "<table id=\"T_10c1a\">\n",
       "  <thead>\n",
       "    <tr>\n",
       "      <th class=\"blank level0\" >&nbsp;</th>\n",
       "      <th id=\"T_10c1a_level0_col0\" class=\"col_heading level0 col0\" >Accuracy</th>\n",
       "      <th id=\"T_10c1a_level0_col1\" class=\"col_heading level0 col1\" >AUC</th>\n",
       "      <th id=\"T_10c1a_level0_col2\" class=\"col_heading level0 col2\" >Recall</th>\n",
       "      <th id=\"T_10c1a_level0_col3\" class=\"col_heading level0 col3\" >Prec.</th>\n",
       "      <th id=\"T_10c1a_level0_col4\" class=\"col_heading level0 col4\" >F1</th>\n",
       "      <th id=\"T_10c1a_level0_col5\" class=\"col_heading level0 col5\" >Kappa</th>\n",
       "      <th id=\"T_10c1a_level0_col6\" class=\"col_heading level0 col6\" >MCC</th>\n",
       "    </tr>\n",
       "    <tr>\n",
       "      <th class=\"index_name level0\" >Fold</th>\n",
       "      <th class=\"blank col0\" >&nbsp;</th>\n",
       "      <th class=\"blank col1\" >&nbsp;</th>\n",
       "      <th class=\"blank col2\" >&nbsp;</th>\n",
       "      <th class=\"blank col3\" >&nbsp;</th>\n",
       "      <th class=\"blank col4\" >&nbsp;</th>\n",
       "      <th class=\"blank col5\" >&nbsp;</th>\n",
       "      <th class=\"blank col6\" >&nbsp;</th>\n",
       "    </tr>\n",
       "  </thead>\n",
       "  <tbody>\n",
       "    <tr>\n",
       "      <th id=\"T_10c1a_level0_row0\" class=\"row_heading level0 row0\" >0</th>\n",
       "      <td id=\"T_10c1a_row0_col0\" class=\"data row0 col0\" >0.7915</td>\n",
       "      <td id=\"T_10c1a_row0_col1\" class=\"data row0 col1\" >0.8620</td>\n",
       "      <td id=\"T_10c1a_row0_col2\" class=\"data row0 col2\" >0.8111</td>\n",
       "      <td id=\"T_10c1a_row0_col3\" class=\"data row0 col3\" >0.7830</td>\n",
       "      <td id=\"T_10c1a_row0_col4\" class=\"data row0 col4\" >0.7968</td>\n",
       "      <td id=\"T_10c1a_row0_col5\" class=\"data row0 col5\" >0.5828</td>\n",
       "      <td id=\"T_10c1a_row0_col6\" class=\"data row0 col6\" >0.5832</td>\n",
       "    </tr>\n",
       "    <tr>\n",
       "      <th id=\"T_10c1a_level0_row1\" class=\"row_heading level0 row1\" >1</th>\n",
       "      <td id=\"T_10c1a_row1_col0\" class=\"data row1 col0\" >0.7931</td>\n",
       "      <td id=\"T_10c1a_row1_col1\" class=\"data row1 col1\" >0.8787</td>\n",
       "      <td id=\"T_10c1a_row1_col2\" class=\"data row1 col2\" >0.8111</td>\n",
       "      <td id=\"T_10c1a_row1_col3\" class=\"data row1 col3\" >0.7855</td>\n",
       "      <td id=\"T_10c1a_row1_col4\" class=\"data row1 col4\" >0.7981</td>\n",
       "      <td id=\"T_10c1a_row1_col5\" class=\"data row1 col5\" >0.5861</td>\n",
       "      <td id=\"T_10c1a_row1_col6\" class=\"data row1 col6\" >0.5864</td>\n",
       "    </tr>\n",
       "    <tr>\n",
       "      <th id=\"T_10c1a_level0_row2\" class=\"row_heading level0 row2\" >2</th>\n",
       "      <td id=\"T_10c1a_row2_col0\" class=\"data row2 col0\" >0.8144</td>\n",
       "      <td id=\"T_10c1a_row2_col1\" class=\"data row2 col1\" >0.8923</td>\n",
       "      <td id=\"T_10c1a_row2_col2\" class=\"data row2 col2\" >0.7818</td>\n",
       "      <td id=\"T_10c1a_row2_col3\" class=\"data row2 col3\" >0.8392</td>\n",
       "      <td id=\"T_10c1a_row2_col4\" class=\"data row2 col4\" >0.8094</td>\n",
       "      <td id=\"T_10c1a_row2_col5\" class=\"data row2 col5\" >0.6291</td>\n",
       "      <td id=\"T_10c1a_row2_col6\" class=\"data row2 col6\" >0.6306</td>\n",
       "    </tr>\n",
       "    <tr>\n",
       "      <th id=\"T_10c1a_level0_row3\" class=\"row_heading level0 row3\" >3</th>\n",
       "      <td id=\"T_10c1a_row3_col0\" class=\"data row3 col0\" >0.8013</td>\n",
       "      <td id=\"T_10c1a_row3_col1\" class=\"data row3 col1\" >0.8868</td>\n",
       "      <td id=\"T_10c1a_row3_col2\" class=\"data row3 col2\" >0.8274</td>\n",
       "      <td id=\"T_10c1a_row3_col3\" class=\"data row3 col3\" >0.7888</td>\n",
       "      <td id=\"T_10c1a_row3_col4\" class=\"data row3 col4\" >0.8076</td>\n",
       "      <td id=\"T_10c1a_row3_col5\" class=\"data row3 col5\" >0.6024</td>\n",
       "      <td id=\"T_10c1a_row3_col6\" class=\"data row3 col6\" >0.6032</td>\n",
       "    </tr>\n",
       "    <tr>\n",
       "      <th id=\"T_10c1a_level0_row4\" class=\"row_heading level0 row4\" >4</th>\n",
       "      <td id=\"T_10c1a_row4_col0\" class=\"data row4 col0\" >0.7849</td>\n",
       "      <td id=\"T_10c1a_row4_col1\" class=\"data row4 col1\" >0.8578</td>\n",
       "      <td id=\"T_10c1a_row4_col2\" class=\"data row4 col2\" >0.8176</td>\n",
       "      <td id=\"T_10c1a_row4_col3\" class=\"data row4 col3\" >0.7699</td>\n",
       "      <td id=\"T_10c1a_row4_col4\" class=\"data row4 col4\" >0.7930</td>\n",
       "      <td id=\"T_10c1a_row4_col5\" class=\"data row4 col5\" >0.5695</td>\n",
       "      <td id=\"T_10c1a_row4_col6\" class=\"data row4 col6\" >0.5707</td>\n",
       "    </tr>\n",
       "    <tr>\n",
       "      <th id=\"T_10c1a_level0_row5\" class=\"row_heading level0 row5\" >5</th>\n",
       "      <td id=\"T_10c1a_row5_col0\" class=\"data row5 col0\" >0.7977</td>\n",
       "      <td id=\"T_10c1a_row5_col1\" class=\"data row5 col1\" >0.8827</td>\n",
       "      <td id=\"T_10c1a_row5_col2\" class=\"data row5 col2\" >0.7908</td>\n",
       "      <td id=\"T_10c1a_row5_col3\" class=\"data row5 col3\" >0.8040</td>\n",
       "      <td id=\"T_10c1a_row5_col4\" class=\"data row5 col4\" >0.7974</td>\n",
       "      <td id=\"T_10c1a_row5_col5\" class=\"data row5 col5\" >0.5954</td>\n",
       "      <td id=\"T_10c1a_row5_col6\" class=\"data row5 col6\" >0.5955</td>\n",
       "    </tr>\n",
       "    <tr>\n",
       "      <th id=\"T_10c1a_level0_row6\" class=\"row_heading level0 row6\" >6</th>\n",
       "      <td id=\"T_10c1a_row6_col0\" class=\"data row6 col0\" >0.8339</td>\n",
       "      <td id=\"T_10c1a_row6_col1\" class=\"data row6 col1\" >0.9054</td>\n",
       "      <td id=\"T_10c1a_row6_col2\" class=\"data row6 col2\" >0.8758</td>\n",
       "      <td id=\"T_10c1a_row6_col3\" class=\"data row6 col3\" >0.8097</td>\n",
       "      <td id=\"T_10c1a_row6_col4\" class=\"data row6 col4\" >0.8414</td>\n",
       "      <td id=\"T_10c1a_row6_col5\" class=\"data row6 col5\" >0.6676</td>\n",
       "      <td id=\"T_10c1a_row6_col6\" class=\"data row6 col6\" >0.6698</td>\n",
       "    </tr>\n",
       "    <tr>\n",
       "      <th id=\"T_10c1a_level0_row7\" class=\"row_heading level0 row7\" >7</th>\n",
       "      <td id=\"T_10c1a_row7_col0\" class=\"data row7 col0\" >0.8141</td>\n",
       "      <td id=\"T_10c1a_row7_col1\" class=\"data row7 col1\" >0.8957</td>\n",
       "      <td id=\"T_10c1a_row7_col2\" class=\"data row7 col2\" >0.8627</td>\n",
       "      <td id=\"T_10c1a_row7_col3\" class=\"data row7 col3\" >0.7881</td>\n",
       "      <td id=\"T_10c1a_row7_col4\" class=\"data row7 col4\" >0.8237</td>\n",
       "      <td id=\"T_10c1a_row7_col5\" class=\"data row7 col5\" >0.6280</td>\n",
       "      <td id=\"T_10c1a_row7_col6\" class=\"data row7 col6\" >0.6309</td>\n",
       "    </tr>\n",
       "    <tr>\n",
       "      <th id=\"T_10c1a_level0_row8\" class=\"row_heading level0 row8\" >8</th>\n",
       "      <td id=\"T_10c1a_row8_col0\" class=\"data row8 col0\" >0.7961</td>\n",
       "      <td id=\"T_10c1a_row8_col1\" class=\"data row8 col1\" >0.8740</td>\n",
       "      <td id=\"T_10c1a_row8_col2\" class=\"data row8 col2\" >0.8333</td>\n",
       "      <td id=\"T_10c1a_row8_col3\" class=\"data row8 col3\" >0.7774</td>\n",
       "      <td id=\"T_10c1a_row8_col4\" class=\"data row8 col4\" >0.8044</td>\n",
       "      <td id=\"T_10c1a_row8_col5\" class=\"data row8 col5\" >0.5919</td>\n",
       "      <td id=\"T_10c1a_row8_col6\" class=\"data row8 col6\" >0.5935</td>\n",
       "    </tr>\n",
       "    <tr>\n",
       "      <th id=\"T_10c1a_level0_row9\" class=\"row_heading level0 row9\" >9</th>\n",
       "      <td id=\"T_10c1a_row9_col0\" class=\"data row9 col0\" >0.8240</td>\n",
       "      <td id=\"T_10c1a_row9_col1\" class=\"data row9 col1\" >0.8933</td>\n",
       "      <td id=\"T_10c1a_row9_col2\" class=\"data row9 col2\" >0.8399</td>\n",
       "      <td id=\"T_10c1a_row9_col3\" class=\"data row9 col3\" >0.8159</td>\n",
       "      <td id=\"T_10c1a_row9_col4\" class=\"data row9 col4\" >0.8277</td>\n",
       "      <td id=\"T_10c1a_row9_col5\" class=\"data row9 col5\" >0.6479</td>\n",
       "      <td id=\"T_10c1a_row9_col6\" class=\"data row9 col6\" >0.6482</td>\n",
       "    </tr>\n",
       "    <tr>\n",
       "      <th id=\"T_10c1a_level0_row10\" class=\"row_heading level0 row10\" >Mean</th>\n",
       "      <td id=\"T_10c1a_row10_col0\" class=\"data row10 col0\" >0.8051</td>\n",
       "      <td id=\"T_10c1a_row10_col1\" class=\"data row10 col1\" >0.8829</td>\n",
       "      <td id=\"T_10c1a_row10_col2\" class=\"data row10 col2\" >0.8251</td>\n",
       "      <td id=\"T_10c1a_row10_col3\" class=\"data row10 col3\" >0.7961</td>\n",
       "      <td id=\"T_10c1a_row10_col4\" class=\"data row10 col4\" >0.8100</td>\n",
       "      <td id=\"T_10c1a_row10_col5\" class=\"data row10 col5\" >0.6101</td>\n",
       "      <td id=\"T_10c1a_row10_col6\" class=\"data row10 col6\" >0.6112</td>\n",
       "    </tr>\n",
       "    <tr>\n",
       "      <th id=\"T_10c1a_level0_row11\" class=\"row_heading level0 row11\" >Std</th>\n",
       "      <td id=\"T_10c1a_row11_col0\" class=\"data row11 col0\" >0.0150</td>\n",
       "      <td id=\"T_10c1a_row11_col1\" class=\"data row11 col1\" >0.0143</td>\n",
       "      <td id=\"T_10c1a_row11_col2\" class=\"data row11 col2\" >0.0279</td>\n",
       "      <td id=\"T_10c1a_row11_col3\" class=\"data row11 col3\" >0.0198</td>\n",
       "      <td id=\"T_10c1a_row11_col4\" class=\"data row11 col4\" >0.0151</td>\n",
       "      <td id=\"T_10c1a_row11_col5\" class=\"data row11 col5\" >0.0300</td>\n",
       "      <td id=\"T_10c1a_row11_col6\" class=\"data row11 col6\" >0.0304</td>\n",
       "    </tr>\n",
       "  </tbody>\n",
       "</table>\n"
      ],
      "text/plain": [
       "<pandas.io.formats.style.Styler at 0x21e9b4688e0>"
      ]
     },
     "metadata": {},
     "output_type": "display_data"
    },
    {
     "data": {
      "application/vnd.jupyter.widget-view+json": {
       "model_id": "",
       "version_major": 2,
       "version_minor": 0
      },
      "text/plain": [
       "Processing:   0%|          | 0/4 [00:00<?, ?it/s]"
      ]
     },
     "metadata": {},
     "output_type": "display_data"
    }
   ],
   "source": [
    "from pycaret.classification import *\n",
    "catboost = create_model('catboost')"
   ]
  },
  {
   "cell_type": "code",
   "execution_count": 56,
   "id": "beec560c-fede-41ed-bc7f-357c589865fd",
   "metadata": {},
   "outputs": [
    {
     "data": {
      "text/html": [],
      "text/plain": [
       "<IPython.core.display.HTML object>"
      ]
     },
     "metadata": {},
     "output_type": "display_data"
    },
    {
     "data": {
      "text/html": [
       "<div>\n",
       "<style scoped>\n",
       "    .dataframe tbody tr th:only-of-type {\n",
       "        vertical-align: middle;\n",
       "    }\n",
       "\n",
       "    .dataframe tbody tr th {\n",
       "        vertical-align: top;\n",
       "    }\n",
       "\n",
       "    .dataframe thead th {\n",
       "        text-align: right;\n",
       "    }\n",
       "</style>\n",
       "<table border=\"1\" class=\"dataframe\">\n",
       "  <thead>\n",
       "    <tr style=\"text-align: right;\">\n",
       "      <th></th>\n",
       "      <th>CryoSleep</th>\n",
       "      <th>Age</th>\n",
       "      <th>VIP</th>\n",
       "      <th>RoomService</th>\n",
       "      <th>FoodCourt</th>\n",
       "      <th>ShoppingMall</th>\n",
       "      <th>Spa</th>\n",
       "      <th>VRDeck</th>\n",
       "      <th>HomePlanet_Earth</th>\n",
       "      <th>HomePlanet_Europa</th>\n",
       "      <th>HomePlanet_Mars</th>\n",
       "      <th>Cabin_deck</th>\n",
       "      <th>Cabin_side</th>\n",
       "      <th>Destination_55 Cancri e</th>\n",
       "      <th>Destination_PSO J318.5-22</th>\n",
       "      <th>Destination_TRAPPIST-1e</th>\n",
       "      <th>Transported</th>\n",
       "      <th>prediction_score</th>\n",
       "    </tr>\n",
       "  </thead>\n",
       "  <tbody>\n",
       "    <tr>\n",
       "      <th>0</th>\n",
       "      <td>1</td>\n",
       "      <td>1.000000</td>\n",
       "      <td>0</td>\n",
       "      <td>0.000000</td>\n",
       "      <td>0.000000</td>\n",
       "      <td>0.000000</td>\n",
       "      <td>0.000000</td>\n",
       "      <td>0.000000</td>\n",
       "      <td>1</td>\n",
       "      <td>0</td>\n",
       "      <td>0</td>\n",
       "      <td>5</td>\n",
       "      <td>1</td>\n",
       "      <td>0</td>\n",
       "      <td>0</td>\n",
       "      <td>1</td>\n",
       "      <td>1</td>\n",
       "      <td>0.6776</td>\n",
       "    </tr>\n",
       "    <tr>\n",
       "      <th>1</th>\n",
       "      <td>0</td>\n",
       "      <td>0.860703</td>\n",
       "      <td>0</td>\n",
       "      <td>0.000000</td>\n",
       "      <td>0.001274</td>\n",
       "      <td>0.000000</td>\n",
       "      <td>0.509106</td>\n",
       "      <td>0.000000</td>\n",
       "      <td>1</td>\n",
       "      <td>0</td>\n",
       "      <td>0</td>\n",
       "      <td>4</td>\n",
       "      <td>1</td>\n",
       "      <td>0</td>\n",
       "      <td>0</td>\n",
       "      <td>1</td>\n",
       "      <td>0</td>\n",
       "      <td>0.9695</td>\n",
       "    </tr>\n",
       "    <tr>\n",
       "      <th>2</th>\n",
       "      <td>1</td>\n",
       "      <td>1.000000</td>\n",
       "      <td>0</td>\n",
       "      <td>0.000000</td>\n",
       "      <td>0.000000</td>\n",
       "      <td>0.000000</td>\n",
       "      <td>0.000000</td>\n",
       "      <td>0.000000</td>\n",
       "      <td>0</td>\n",
       "      <td>1</td>\n",
       "      <td>0</td>\n",
       "      <td>2</td>\n",
       "      <td>1</td>\n",
       "      <td>1</td>\n",
       "      <td>0</td>\n",
       "      <td>0</td>\n",
       "      <td>1</td>\n",
       "      <td>0.9976</td>\n",
       "    </tr>\n",
       "    <tr>\n",
       "      <th>3</th>\n",
       "      <td>0</td>\n",
       "      <td>0.876129</td>\n",
       "      <td>0</td>\n",
       "      <td>0.000000</td>\n",
       "      <td>0.479410</td>\n",
       "      <td>0.000000</td>\n",
       "      <td>0.016613</td>\n",
       "      <td>0.047842</td>\n",
       "      <td>0</td>\n",
       "      <td>1</td>\n",
       "      <td>0</td>\n",
       "      <td>2</td>\n",
       "      <td>1</td>\n",
       "      <td>0</td>\n",
       "      <td>0</td>\n",
       "      <td>1</td>\n",
       "      <td>1</td>\n",
       "      <td>0.9754</td>\n",
       "    </tr>\n",
       "    <tr>\n",
       "      <th>4</th>\n",
       "      <td>0</td>\n",
       "      <td>0.957163</td>\n",
       "      <td>0</td>\n",
       "      <td>0.003269</td>\n",
       "      <td>0.000000</td>\n",
       "      <td>0.289532</td>\n",
       "      <td>0.000000</td>\n",
       "      <td>0.000000</td>\n",
       "      <td>1</td>\n",
       "      <td>0</td>\n",
       "      <td>0</td>\n",
       "      <td>4</td>\n",
       "      <td>1</td>\n",
       "      <td>0</td>\n",
       "      <td>0</td>\n",
       "      <td>1</td>\n",
       "      <td>1</td>\n",
       "      <td>0.8772</td>\n",
       "    </tr>\n",
       "    <tr>\n",
       "      <th>...</th>\n",
       "      <td>...</td>\n",
       "      <td>...</td>\n",
       "      <td>...</td>\n",
       "      <td>...</td>\n",
       "      <td>...</td>\n",
       "      <td>...</td>\n",
       "      <td>...</td>\n",
       "      <td>...</td>\n",
       "      <td>...</td>\n",
       "      <td>...</td>\n",
       "      <td>...</td>\n",
       "      <td>...</td>\n",
       "      <td>...</td>\n",
       "      <td>...</td>\n",
       "      <td>...</td>\n",
       "      <td>...</td>\n",
       "      <td>...</td>\n",
       "      <td>...</td>\n",
       "    </tr>\n",
       "    <tr>\n",
       "      <th>4272</th>\n",
       "      <td>1</td>\n",
       "      <td>1.000000</td>\n",
       "      <td>0</td>\n",
       "      <td>0.000000</td>\n",
       "      <td>0.000000</td>\n",
       "      <td>0.000000</td>\n",
       "      <td>0.000000</td>\n",
       "      <td>0.000000</td>\n",
       "      <td>1</td>\n",
       "      <td>0</td>\n",
       "      <td>0</td>\n",
       "      <td>5</td>\n",
       "      <td>1</td>\n",
       "      <td>0</td>\n",
       "      <td>0</td>\n",
       "      <td>1</td>\n",
       "      <td>1</td>\n",
       "      <td>0.6776</td>\n",
       "    </tr>\n",
       "    <tr>\n",
       "      <th>4273</th>\n",
       "      <td>0</td>\n",
       "      <td>0.997938</td>\n",
       "      <td>0</td>\n",
       "      <td>0.000000</td>\n",
       "      <td>0.062908</td>\n",
       "      <td>0.003848</td>\n",
       "      <td>0.000946</td>\n",
       "      <td>0.012136</td>\n",
       "      <td>1</td>\n",
       "      <td>0</td>\n",
       "      <td>0</td>\n",
       "      <td>5</td>\n",
       "      <td>0</td>\n",
       "      <td>0</td>\n",
       "      <td>0</td>\n",
       "      <td>1</td>\n",
       "      <td>0</td>\n",
       "      <td>0.6471</td>\n",
       "    </tr>\n",
       "    <tr>\n",
       "      <th>4274</th>\n",
       "      <td>1</td>\n",
       "      <td>1.000000</td>\n",
       "      <td>0</td>\n",
       "      <td>0.000000</td>\n",
       "      <td>0.000000</td>\n",
       "      <td>0.000000</td>\n",
       "      <td>0.000000</td>\n",
       "      <td>0.000000</td>\n",
       "      <td>0</td>\n",
       "      <td>0</td>\n",
       "      <td>1</td>\n",
       "      <td>2</td>\n",
       "      <td>0</td>\n",
       "      <td>1</td>\n",
       "      <td>0</td>\n",
       "      <td>0</td>\n",
       "      <td>1</td>\n",
       "      <td>0.9560</td>\n",
       "    </tr>\n",
       "    <tr>\n",
       "      <th>4275</th>\n",
       "      <td>0</td>\n",
       "      <td>0.958447</td>\n",
       "      <td>0</td>\n",
       "      <td>0.000000</td>\n",
       "      <td>0.278522</td>\n",
       "      <td>0.000000</td>\n",
       "      <td>0.000000</td>\n",
       "      <td>0.061677</td>\n",
       "      <td>0</td>\n",
       "      <td>1</td>\n",
       "      <td>0</td>\n",
       "      <td>2</td>\n",
       "      <td>0</td>\n",
       "      <td>0</td>\n",
       "      <td>0</td>\n",
       "      <td>1</td>\n",
       "      <td>1</td>\n",
       "      <td>0.8608</td>\n",
       "    </tr>\n",
       "    <tr>\n",
       "      <th>4276</th>\n",
       "      <td>1</td>\n",
       "      <td>1.000000</td>\n",
       "      <td>0</td>\n",
       "      <td>0.000000</td>\n",
       "      <td>0.000000</td>\n",
       "      <td>0.000000</td>\n",
       "      <td>0.000000</td>\n",
       "      <td>0.000000</td>\n",
       "      <td>1</td>\n",
       "      <td>0</td>\n",
       "      <td>0</td>\n",
       "      <td>5</td>\n",
       "      <td>1</td>\n",
       "      <td>0</td>\n",
       "      <td>1</td>\n",
       "      <td>0</td>\n",
       "      <td>1</td>\n",
       "      <td>0.7037</td>\n",
       "    </tr>\n",
       "  </tbody>\n",
       "</table>\n",
       "<p>4277 rows × 18 columns</p>\n",
       "</div>"
      ],
      "text/plain": [
       "      CryoSleep       Age  VIP  RoomService  FoodCourt  ShoppingMall  \\\n",
       "0             1  1.000000    0     0.000000   0.000000      0.000000   \n",
       "1             0  0.860703    0     0.000000   0.001274      0.000000   \n",
       "2             1  1.000000    0     0.000000   0.000000      0.000000   \n",
       "3             0  0.876129    0     0.000000   0.479410      0.000000   \n",
       "4             0  0.957163    0     0.003269   0.000000      0.289532   \n",
       "...         ...       ...  ...          ...        ...           ...   \n",
       "4272          1  1.000000    0     0.000000   0.000000      0.000000   \n",
       "4273          0  0.997938    0     0.000000   0.062908      0.003848   \n",
       "4274          1  1.000000    0     0.000000   0.000000      0.000000   \n",
       "4275          0  0.958447    0     0.000000   0.278522      0.000000   \n",
       "4276          1  1.000000    0     0.000000   0.000000      0.000000   \n",
       "\n",
       "           Spa    VRDeck  HomePlanet_Earth  HomePlanet_Europa  \\\n",
       "0     0.000000  0.000000                 1                  0   \n",
       "1     0.509106  0.000000                 1                  0   \n",
       "2     0.000000  0.000000                 0                  1   \n",
       "3     0.016613  0.047842                 0                  1   \n",
       "4     0.000000  0.000000                 1                  0   \n",
       "...        ...       ...               ...                ...   \n",
       "4272  0.000000  0.000000                 1                  0   \n",
       "4273  0.000946  0.012136                 1                  0   \n",
       "4274  0.000000  0.000000                 0                  0   \n",
       "4275  0.000000  0.061677                 0                  1   \n",
       "4276  0.000000  0.000000                 1                  0   \n",
       "\n",
       "      HomePlanet_Mars  Cabin_deck  Cabin_side  Destination_55 Cancri e  \\\n",
       "0                   0           5           1                        0   \n",
       "1                   0           4           1                        0   \n",
       "2                   0           2           1                        1   \n",
       "3                   0           2           1                        0   \n",
       "4                   0           4           1                        0   \n",
       "...               ...         ...         ...                      ...   \n",
       "4272                0           5           1                        0   \n",
       "4273                0           5           0                        0   \n",
       "4274                1           2           0                        1   \n",
       "4275                0           2           0                        0   \n",
       "4276                0           5           1                        0   \n",
       "\n",
       "      Destination_PSO J318.5-22  Destination_TRAPPIST-1e  Transported  \\\n",
       "0                             0                        1            1   \n",
       "1                             0                        1            0   \n",
       "2                             0                        0            1   \n",
       "3                             0                        1            1   \n",
       "4                             0                        1            1   \n",
       "...                         ...                      ...          ...   \n",
       "4272                          0                        1            1   \n",
       "4273                          0                        1            0   \n",
       "4274                          0                        0            1   \n",
       "4275                          0                        1            1   \n",
       "4276                          1                        0            1   \n",
       "\n",
       "      prediction_score  \n",
       "0               0.6776  \n",
       "1               0.9695  \n",
       "2               0.9976  \n",
       "3               0.9754  \n",
       "4               0.8772  \n",
       "...                ...  \n",
       "4272            0.6776  \n",
       "4273            0.6471  \n",
       "4274            0.9560  \n",
       "4275            0.8608  \n",
       "4276            0.7037  \n",
       "\n",
       "[4277 rows x 18 columns]"
      ]
     },
     "execution_count": 56,
     "metadata": {},
     "output_type": "execute_result"
    }
   ],
   "source": [
    "from pycaret.classification import predict_model\n",
    "predicts=predict_model(catboost, data=df_test.drop(columns=['PassengerId','Name']))\n",
    "predicts = predicts.rename(columns={'prediction_label': 'Transported'})\n",
    "predicts"
   ]
  },
  {
   "cell_type": "code",
   "execution_count": 57,
   "id": "c6c49298-ceac-4c4e-9844-52a35fd8c4ba",
   "metadata": {},
   "outputs": [],
   "source": [
    "predicts[\"PassengerId\"]=df_test[\"PassengerId\"]\n",
    "submission=predicts[[\"PassengerId\",\"Transported\"]]\n",
    "submission['Transported'] = submission['Transported'].replace({1: 'True', 0: 'False'})\n",
    "df['Transported'] = df['Transported'].astype(str)"
   ]
  },
  {
   "cell_type": "code",
   "execution_count": 58,
   "id": "74ca4408-f8d3-4231-9879-ba28b4396092",
   "metadata": {},
   "outputs": [],
   "source": [
    "submission.to_csv('submission_pycaretcat_norm.csv', index=False)"
   ]
  },
  {
   "cell_type": "code",
   "execution_count": 59,
   "id": "7c423112-df8b-460b-b64d-362a34efdabc",
   "metadata": {},
   "outputs": [
    {
     "data": {
      "text/html": [],
      "text/plain": [
       "<IPython.core.display.HTML object>"
      ]
     },
     "metadata": {},
     "output_type": "display_data"
    },
    {
     "data": {
      "image/png": "[encoded data removed]",
      "text/plain": [
       "<Figure size 432x288 with 1 Axes>"
      ]
     },
     "metadata": {
      "needs_background": "light"
     },
     "output_type": "display_data"
    }
   ],
   "source": [
    "plot_model(catboost, plot='learning')"
   ]
  },
  {
   "cell_type": "code",
   "execution_count": 60,
   "id": "7785e5c5-bb0f-4040-a3f7-9a44507e7fcf",
   "metadata": {},
   "outputs": [
    {
     "data": {
      "text/html": [],
      "text/plain": [
       "<IPython.core.display.HTML object>"
      ]
     },
     "metadata": {},
     "output_type": "display_data"
    },
    {
     "data": {
      "image/png": "[encoded data removed]",
      "text/plain": [
       "<Figure size 432x288 with 1 Axes>"
      ]
     },
     "metadata": {
      "needs_background": "light"
     },
     "output_type": "display_data"
    }
   ],
   "source": [
    "plot_model(catboost, plot='auc')"
   ]
  },
  {
   "cell_type": "code",
   "execution_count": 61,
   "id": "ef64133a-62fa-42f1-8ca4-cd028184f6e3",
   "metadata": {},
   "outputs": [
    {
     "data": {
      "text/html": [],
      "text/plain": [
       "<IPython.core.display.HTML object>"
      ]
     },
     "metadata": {},
     "output_type": "display_data"
    },
    {
     "data": {
      "image/png": "[encoded data removed]",
      "text/plain": [
       "<Figure size 432x288 with 1 Axes>"
      ]
     },
     "metadata": {
      "needs_background": "light"
     },
     "output_type": "display_data"
    }
   ],
   "source": [
    "plot_model(catboost, plot='confusion_matrix')"
   ]
  },
  {
   "cell_type": "code",
   "execution_count": 62,
   "id": "b56a9676-e67e-4ec1-9383-ce4539abf22f",
   "metadata": {},
   "outputs": [
    {
     "data": {
      "text/html": [],
      "text/plain": [
       "<IPython.core.display.HTML object>"
      ]
     },
     "metadata": {},
     "output_type": "display_data"
    },
    {
     "data": {
      "image/png": "[encoded data removed]",
      "text/plain": [
       "<Figure size 432x288 with 2 Axes>"
      ]
     },
     "metadata": {
      "needs_background": "light"
     },
     "output_type": "display_data"
    }
   ],
   "source": [
    "plot_model(catboost, plot='class_report')"
   ]
  },
  {
   "cell_type": "code",
   "execution_count": 63,
   "id": "1cd92939-5859-483d-a4d8-e5653303f521",
   "metadata": {},
   "outputs": [],
   "source": [
    "catboost_regular_norm = create_model('catboost', \n",
    "                        fold = 10,\n",
    "                        verbose = False,\n",
    "                        l2_leaf_reg = 3)"
   ]
  },
  {
   "cell_type": "code",
   "execution_count": 64,
   "id": "4870ff5e-5ef8-41e1-833c-b0734cd856ae",
   "metadata": {},
   "outputs": [
    {
     "data": {
      "text/html": [],
      "text/plain": [
       "<IPython.core.display.HTML object>"
      ]
     },
     "metadata": {},
     "output_type": "display_data"
    },
    {
     "data": {
      "image/png": "[encoded data removed]",
      "text/plain": [
       "<Figure size 432x288 with 1 Axes>"
      ]
     },
     "metadata": {
      "needs_background": "light"
     },
     "output_type": "display_data"
    }
   ],
   "source": [
    "plot_model(catboost_regular_norm, plot='learning')"
   ]
  },
  {
   "cell_type": "code",
   "execution_count": 65,
   "id": "2cb651b0-2c26-4651-ad77-418c96cf9f9c",
   "metadata": {},
   "outputs": [
    {
     "data": {
      "text/html": [],
      "text/plain": [
       "<IPython.core.display.HTML object>"
      ]
     },
     "metadata": {},
     "output_type": "display_data"
    },
    {
     "data": {
      "image/png": "[encoded data removed]",
      "text/plain": [
       "<Figure size 432x288 with 1 Axes>"
      ]
     },
     "metadata": {
      "needs_background": "light"
     },
     "output_type": "display_data"
    }
   ],
   "source": [
    "plot_model(catboost_regular_norm, plot='auc')"
   ]
  },
  {
   "cell_type": "code",
   "execution_count": 66,
   "id": "f323f4d8-2ff9-4f87-92e8-27c6057d8baf",
   "metadata": {},
   "outputs": [
    {
     "data": {
      "text/html": [],
      "text/plain": [
       "<IPython.core.display.HTML object>"
      ]
     },
     "metadata": {},
     "output_type": "display_data"
    },
    {
     "data": {
      "image/png": "[encoded data removed]",
      "text/plain": [
       "<Figure size 432x288 with 1 Axes>"
      ]
     },
     "metadata": {
      "needs_background": "light"
     },
     "output_type": "display_data"
    }
   ],
   "source": [
    "plot_model(catboost_regular_norm, plot='confusion_matrix')"
   ]
  },
  {
   "cell_type": "code",
   "execution_count": 67,
   "id": "6a3c12c2-1342-4503-adf7-26f3bc02f6ec",
   "metadata": {},
   "outputs": [
    {
     "data": {
      "text/html": [],
      "text/plain": [
       "<IPython.core.display.HTML object>"
      ]
     },
     "metadata": {},
     "output_type": "display_data"
    },
    {
     "data": {
      "image/png": "[encoded data removed]",
      "text/plain": [
       "<Figure size 432x288 with 2 Axes>"
      ]
     },
     "metadata": {
      "needs_background": "light"
     },
     "output_type": "display_data"
    }
   ],
   "source": [
    "plot_model(catboost_regular_norm, plot='class_report')"
   ]
  },
  {
   "cell_type": "code",
   "execution_count": 68,
   "id": "b564292b-25dc-4f60-98ef-bfc5021e8f45",
   "metadata": {},
   "outputs": [
    {
     "data": {
      "text/html": [],
      "text/plain": [
       "<IPython.core.display.HTML object>"
      ]
     },
     "metadata": {},
     "output_type": "display_data"
    },
    {
     "data": {
      "text/html": [
       "<div>\n",
       "<style scoped>\n",
       "    .dataframe tbody tr th:only-of-type {\n",
       "        vertical-align: middle;\n",
       "    }\n",
       "\n",
       "    .dataframe tbody tr th {\n",
       "        vertical-align: top;\n",
       "    }\n",
       "\n",
       "    .dataframe thead th {\n",
       "        text-align: right;\n",
       "    }\n",
       "</style>\n",
       "<table border=\"1\" class=\"dataframe\">\n",
       "  <thead>\n",
       "    <tr style=\"text-align: right;\">\n",
       "      <th></th>\n",
       "      <th>CryoSleep</th>\n",
       "      <th>Age</th>\n",
       "      <th>VIP</th>\n",
       "      <th>RoomService</th>\n",
       "      <th>FoodCourt</th>\n",
       "      <th>ShoppingMall</th>\n",
       "      <th>Spa</th>\n",
       "      <th>VRDeck</th>\n",
       "      <th>HomePlanet_Earth</th>\n",
       "      <th>HomePlanet_Europa</th>\n",
       "      <th>HomePlanet_Mars</th>\n",
       "      <th>Cabin_deck</th>\n",
       "      <th>Cabin_side</th>\n",
       "      <th>Destination_55 Cancri e</th>\n",
       "      <th>Destination_PSO J318.5-22</th>\n",
       "      <th>Destination_TRAPPIST-1e</th>\n",
       "      <th>Transported</th>\n",
       "      <th>prediction_score</th>\n",
       "    </tr>\n",
       "  </thead>\n",
       "  <tbody>\n",
       "    <tr>\n",
       "      <th>0</th>\n",
       "      <td>1</td>\n",
       "      <td>1.000000</td>\n",
       "      <td>0</td>\n",
       "      <td>0.000000</td>\n",
       "      <td>0.000000</td>\n",
       "      <td>0.000000</td>\n",
       "      <td>0.000000</td>\n",
       "      <td>0.000000</td>\n",
       "      <td>1</td>\n",
       "      <td>0</td>\n",
       "      <td>0</td>\n",
       "      <td>5</td>\n",
       "      <td>1</td>\n",
       "      <td>0</td>\n",
       "      <td>0</td>\n",
       "      <td>1</td>\n",
       "      <td>1</td>\n",
       "      <td>0.6763</td>\n",
       "    </tr>\n",
       "    <tr>\n",
       "      <th>1</th>\n",
       "      <td>0</td>\n",
       "      <td>0.860703</td>\n",
       "      <td>0</td>\n",
       "      <td>0.000000</td>\n",
       "      <td>0.001274</td>\n",
       "      <td>0.000000</td>\n",
       "      <td>0.509106</td>\n",
       "      <td>0.000000</td>\n",
       "      <td>1</td>\n",
       "      <td>0</td>\n",
       "      <td>0</td>\n",
       "      <td>4</td>\n",
       "      <td>1</td>\n",
       "      <td>0</td>\n",
       "      <td>0</td>\n",
       "      <td>1</td>\n",
       "      <td>0</td>\n",
       "      <td>0.9794</td>\n",
       "    </tr>\n",
       "    <tr>\n",
       "      <th>2</th>\n",
       "      <td>1</td>\n",
       "      <td>1.000000</td>\n",
       "      <td>0</td>\n",
       "      <td>0.000000</td>\n",
       "      <td>0.000000</td>\n",
       "      <td>0.000000</td>\n",
       "      <td>0.000000</td>\n",
       "      <td>0.000000</td>\n",
       "      <td>0</td>\n",
       "      <td>1</td>\n",
       "      <td>0</td>\n",
       "      <td>2</td>\n",
       "      <td>1</td>\n",
       "      <td>1</td>\n",
       "      <td>0</td>\n",
       "      <td>0</td>\n",
       "      <td>1</td>\n",
       "      <td>0.9982</td>\n",
       "    </tr>\n",
       "    <tr>\n",
       "      <th>3</th>\n",
       "      <td>0</td>\n",
       "      <td>0.876129</td>\n",
       "      <td>0</td>\n",
       "      <td>0.000000</td>\n",
       "      <td>0.479410</td>\n",
       "      <td>0.000000</td>\n",
       "      <td>0.016613</td>\n",
       "      <td>0.047842</td>\n",
       "      <td>0</td>\n",
       "      <td>1</td>\n",
       "      <td>0</td>\n",
       "      <td>2</td>\n",
       "      <td>1</td>\n",
       "      <td>0</td>\n",
       "      <td>0</td>\n",
       "      <td>1</td>\n",
       "      <td>1</td>\n",
       "      <td>0.9797</td>\n",
       "    </tr>\n",
       "    <tr>\n",
       "      <th>4</th>\n",
       "      <td>0</td>\n",
       "      <td>0.957163</td>\n",
       "      <td>0</td>\n",
       "      <td>0.003269</td>\n",
       "      <td>0.000000</td>\n",
       "      <td>0.289532</td>\n",
       "      <td>0.000000</td>\n",
       "      <td>0.000000</td>\n",
       "      <td>1</td>\n",
       "      <td>0</td>\n",
       "      <td>0</td>\n",
       "      <td>4</td>\n",
       "      <td>1</td>\n",
       "      <td>0</td>\n",
       "      <td>0</td>\n",
       "      <td>1</td>\n",
       "      <td>1</td>\n",
       "      <td>0.8873</td>\n",
       "    </tr>\n",
       "    <tr>\n",
       "      <th>...</th>\n",
       "      <td>...</td>\n",
       "      <td>...</td>\n",
       "      <td>...</td>\n",
       "      <td>...</td>\n",
       "      <td>...</td>\n",
       "      <td>...</td>\n",
       "      <td>...</td>\n",
       "      <td>...</td>\n",
       "      <td>...</td>\n",
       "      <td>...</td>\n",
       "      <td>...</td>\n",
       "      <td>...</td>\n",
       "      <td>...</td>\n",
       "      <td>...</td>\n",
       "      <td>...</td>\n",
       "      <td>...</td>\n",
       "      <td>...</td>\n",
       "      <td>...</td>\n",
       "    </tr>\n",
       "    <tr>\n",
       "      <th>4272</th>\n",
       "      <td>1</td>\n",
       "      <td>1.000000</td>\n",
       "      <td>0</td>\n",
       "      <td>0.000000</td>\n",
       "      <td>0.000000</td>\n",
       "      <td>0.000000</td>\n",
       "      <td>0.000000</td>\n",
       "      <td>0.000000</td>\n",
       "      <td>1</td>\n",
       "      <td>0</td>\n",
       "      <td>0</td>\n",
       "      <td>5</td>\n",
       "      <td>1</td>\n",
       "      <td>0</td>\n",
       "      <td>0</td>\n",
       "      <td>1</td>\n",
       "      <td>1</td>\n",
       "      <td>0.6763</td>\n",
       "    </tr>\n",
       "    <tr>\n",
       "      <th>4273</th>\n",
       "      <td>0</td>\n",
       "      <td>0.997938</td>\n",
       "      <td>0</td>\n",
       "      <td>0.000000</td>\n",
       "      <td>0.062908</td>\n",
       "      <td>0.003848</td>\n",
       "      <td>0.000946</td>\n",
       "      <td>0.012136</td>\n",
       "      <td>1</td>\n",
       "      <td>0</td>\n",
       "      <td>0</td>\n",
       "      <td>5</td>\n",
       "      <td>0</td>\n",
       "      <td>0</td>\n",
       "      <td>0</td>\n",
       "      <td>1</td>\n",
       "      <td>0</td>\n",
       "      <td>0.6678</td>\n",
       "    </tr>\n",
       "    <tr>\n",
       "      <th>4274</th>\n",
       "      <td>1</td>\n",
       "      <td>1.000000</td>\n",
       "      <td>0</td>\n",
       "      <td>0.000000</td>\n",
       "      <td>0.000000</td>\n",
       "      <td>0.000000</td>\n",
       "      <td>0.000000</td>\n",
       "      <td>0.000000</td>\n",
       "      <td>0</td>\n",
       "      <td>0</td>\n",
       "      <td>1</td>\n",
       "      <td>2</td>\n",
       "      <td>0</td>\n",
       "      <td>1</td>\n",
       "      <td>0</td>\n",
       "      <td>0</td>\n",
       "      <td>1</td>\n",
       "      <td>0.9632</td>\n",
       "    </tr>\n",
       "    <tr>\n",
       "      <th>4275</th>\n",
       "      <td>0</td>\n",
       "      <td>0.958447</td>\n",
       "      <td>0</td>\n",
       "      <td>0.000000</td>\n",
       "      <td>0.278522</td>\n",
       "      <td>0.000000</td>\n",
       "      <td>0.000000</td>\n",
       "      <td>0.061677</td>\n",
       "      <td>0</td>\n",
       "      <td>1</td>\n",
       "      <td>0</td>\n",
       "      <td>2</td>\n",
       "      <td>0</td>\n",
       "      <td>0</td>\n",
       "      <td>0</td>\n",
       "      <td>1</td>\n",
       "      <td>1</td>\n",
       "      <td>0.8467</td>\n",
       "    </tr>\n",
       "    <tr>\n",
       "      <th>4276</th>\n",
       "      <td>1</td>\n",
       "      <td>1.000000</td>\n",
       "      <td>0</td>\n",
       "      <td>0.000000</td>\n",
       "      <td>0.000000</td>\n",
       "      <td>0.000000</td>\n",
       "      <td>0.000000</td>\n",
       "      <td>0.000000</td>\n",
       "      <td>1</td>\n",
       "      <td>0</td>\n",
       "      <td>0</td>\n",
       "      <td>5</td>\n",
       "      <td>1</td>\n",
       "      <td>0</td>\n",
       "      <td>1</td>\n",
       "      <td>0</td>\n",
       "      <td>1</td>\n",
       "      <td>0.7021</td>\n",
       "    </tr>\n",
       "  </tbody>\n",
       "</table>\n",
       "<p>4277 rows × 18 columns</p>\n",
       "</div>"
      ],
      "text/plain": [
       "      CryoSleep       Age  VIP  RoomService  FoodCourt  ShoppingMall  \\\n",
       "0             1  1.000000    0     0.000000   0.000000      0.000000   \n",
       "1             0  0.860703    0     0.000000   0.001274      0.000000   \n",
       "2             1  1.000000    0     0.000000   0.000000      0.000000   \n",
       "3             0  0.876129    0     0.000000   0.479410      0.000000   \n",
       "4             0  0.957163    0     0.003269   0.000000      0.289532   \n",
       "...         ...       ...  ...          ...        ...           ...   \n",
       "4272          1  1.000000    0     0.000000   0.000000      0.000000   \n",
       "4273          0  0.997938    0     0.000000   0.062908      0.003848   \n",
       "4274          1  1.000000    0     0.000000   0.000000      0.000000   \n",
       "4275          0  0.958447    0     0.000000   0.278522      0.000000   \n",
       "4276          1  1.000000    0     0.000000   0.000000      0.000000   \n",
       "\n",
       "           Spa    VRDeck  HomePlanet_Earth  HomePlanet_Europa  \\\n",
       "0     0.000000  0.000000                 1                  0   \n",
       "1     0.509106  0.000000                 1                  0   \n",
       "2     0.000000  0.000000                 0                  1   \n",
       "3     0.016613  0.047842                 0                  1   \n",
       "4     0.000000  0.000000                 1                  0   \n",
       "...        ...       ...               ...                ...   \n",
       "4272  0.000000  0.000000                 1                  0   \n",
       "4273  0.000946  0.012136                 1                  0   \n",
       "4274  0.000000  0.000000                 0                  0   \n",
       "4275  0.000000  0.061677                 0                  1   \n",
       "4276  0.000000  0.000000                 1                  0   \n",
       "\n",
       "      HomePlanet_Mars  Cabin_deck  Cabin_side  Destination_55 Cancri e  \\\n",
       "0                   0           5           1                        0   \n",
       "1                   0           4           1                        0   \n",
       "2                   0           2           1                        1   \n",
       "3                   0           2           1                        0   \n",
       "4                   0           4           1                        0   \n",
       "...               ...         ...         ...                      ...   \n",
       "4272                0           5           1                        0   \n",
       "4273                0           5           0                        0   \n",
       "4274                1           2           0                        1   \n",
       "4275                0           2           0                        0   \n",
       "4276                0           5           1                        0   \n",
       "\n",
       "      Destination_PSO J318.5-22  Destination_TRAPPIST-1e  Transported  \\\n",
       "0                             0                        1            1   \n",
       "1                             0                        1            0   \n",
       "2                             0                        0            1   \n",
       "3                             0                        1            1   \n",
       "4                             0                        1            1   \n",
       "...                         ...                      ...          ...   \n",
       "4272                          0                        1            1   \n",
       "4273                          0                        1            0   \n",
       "4274                          0                        0            1   \n",
       "4275                          0                        1            1   \n",
       "4276                          1                        0            1   \n",
       "\n",
       "      prediction_score  \n",
       "0               0.6763  \n",
       "1               0.9794  \n",
       "2               0.9982  \n",
       "3               0.9797  \n",
       "4               0.8873  \n",
       "...                ...  \n",
       "4272            0.6763  \n",
       "4273            0.6678  \n",
       "4274            0.9632  \n",
       "4275            0.8467  \n",
       "4276            0.7021  \n",
       "\n",
       "[4277 rows x 18 columns]"
      ]
     },
     "execution_count": 68,
     "metadata": {},
     "output_type": "execute_result"
    }
   ],
   "source": [
    "predicts=predict_model(catboost_regular_norm, data=df_test.drop(columns=['PassengerId','Name']))\n",
    "predicts = predicts.rename(columns={'prediction_label': 'Transported'})\n",
    "predicts"
   ]
  },
  {
   "cell_type": "code",
   "execution_count": 69,
   "id": "add0fe99-fdc7-460e-b3dc-67e1a65327a9",
   "metadata": {},
   "outputs": [],
   "source": [
    "predicts[\"PassengerId\"]=df_test[\"PassengerId\"]\n",
    "submission=predicts[[\"PassengerId\",\"Transported\"]]\n",
    "submission['Transported'] = submission['Transported'].replace({1: 'True', 0: 'False'})\n",
    "df['Transported'] = df['Transported'].astype(str)"
   ]
  },
  {
   "cell_type": "code",
   "execution_count": 70,
   "id": "fe47fd71-0582-4132-82d6-fb05448f16e9",
   "metadata": {},
   "outputs": [],
   "source": [
    "submission.to_csv('submission_pycaretcat_regularnorm3.csv', index=False)"
   ]
  },
  {
   "cell_type": "code",
   "execution_count": 72,
   "id": "1ed24b28-6b2f-421b-8136-61314dfc4efa",
   "metadata": {},
   "outputs": [
    {
     "data": {
      "text/html": [],
      "text/plain": [
       "<IPython.core.display.HTML object>"
      ]
     },
     "metadata": {},
     "output_type": "display_data"
    },
    {
     "data": {
      "text/html": [
       "<style type=\"text/css\">\n",
       "#T_b1153_row10_col0, #T_b1153_row10_col1, #T_b1153_row10_col2, #T_b1153_row10_col3, #T_b1153_row10_col4, #T_b1153_row10_col5, #T_b1153_row10_col6 {\n",
       "  background: yellow;\n",
       "}\n",
       "</style>\n",
       "<table id=\"T_b1153\">\n",
       "  <thead>\n",
       "    <tr>\n",
       "      <th class=\"blank level0\" >&nbsp;</th>\n",
       "      <th id=\"T_b1153_level0_col0\" class=\"col_heading level0 col0\" >Accuracy</th>\n",
       "      <th id=\"T_b1153_level0_col1\" class=\"col_heading level0 col1\" >AUC</th>\n",
       "      <th id=\"T_b1153_level0_col2\" class=\"col_heading level0 col2\" >Recall</th>\n",
       "      <th id=\"T_b1153_level0_col3\" class=\"col_heading level0 col3\" >Prec.</th>\n",
       "      <th id=\"T_b1153_level0_col4\" class=\"col_heading level0 col4\" >F1</th>\n",
       "      <th id=\"T_b1153_level0_col5\" class=\"col_heading level0 col5\" >Kappa</th>\n",
       "      <th id=\"T_b1153_level0_col6\" class=\"col_heading level0 col6\" >MCC</th>\n",
       "    </tr>\n",
       "    <tr>\n",
       "      <th class=\"index_name level0\" >Fold</th>\n",
       "      <th class=\"blank col0\" >&nbsp;</th>\n",
       "      <th class=\"blank col1\" >&nbsp;</th>\n",
       "      <th class=\"blank col2\" >&nbsp;</th>\n",
       "      <th class=\"blank col3\" >&nbsp;</th>\n",
       "      <th class=\"blank col4\" >&nbsp;</th>\n",
       "      <th class=\"blank col5\" >&nbsp;</th>\n",
       "      <th class=\"blank col6\" >&nbsp;</th>\n",
       "    </tr>\n",
       "  </thead>\n",
       "  <tbody>\n",
       "    <tr>\n",
       "      <th id=\"T_b1153_level0_row0\" class=\"row_heading level0 row0\" >0</th>\n",
       "      <td id=\"T_b1153_row0_col0\" class=\"data row0 col0\" >0.7865</td>\n",
       "      <td id=\"T_b1153_row0_col1\" class=\"data row0 col1\" >0.8497</td>\n",
       "      <td id=\"T_b1153_row0_col2\" class=\"data row0 col2\" >0.7980</td>\n",
       "      <td id=\"T_b1153_row0_col3\" class=\"data row0 col3\" >0.7827</td>\n",
       "      <td id=\"T_b1153_row0_col4\" class=\"data row0 col4\" >0.7903</td>\n",
       "      <td id=\"T_b1153_row0_col5\" class=\"data row0 col5\" >0.5730</td>\n",
       "      <td id=\"T_b1153_row0_col6\" class=\"data row0 col6\" >0.5731</td>\n",
       "    </tr>\n",
       "    <tr>\n",
       "      <th id=\"T_b1153_level0_row1\" class=\"row_heading level0 row1\" >1</th>\n",
       "      <td id=\"T_b1153_row1_col0\" class=\"data row1 col0\" >0.7816</td>\n",
       "      <td id=\"T_b1153_row1_col1\" class=\"data row1 col1\" >0.8687</td>\n",
       "      <td id=\"T_b1153_row1_col2\" class=\"data row1 col2\" >0.8046</td>\n",
       "      <td id=\"T_b1153_row1_col3\" class=\"data row1 col3\" >0.7719</td>\n",
       "      <td id=\"T_b1153_row1_col4\" class=\"data row1 col4\" >0.7879</td>\n",
       "      <td id=\"T_b1153_row1_col5\" class=\"data row1 col5\" >0.5630</td>\n",
       "      <td id=\"T_b1153_row1_col6\" class=\"data row1 col6\" >0.5636</td>\n",
       "    </tr>\n",
       "    <tr>\n",
       "      <th id=\"T_b1153_level0_row2\" class=\"row_heading level0 row2\" >2</th>\n",
       "      <td id=\"T_b1153_row2_col0\" class=\"data row2 col0\" >0.8194</td>\n",
       "      <td id=\"T_b1153_row2_col1\" class=\"data row2 col1\" >0.8922</td>\n",
       "      <td id=\"T_b1153_row2_col2\" class=\"data row2 col2\" >0.7850</td>\n",
       "      <td id=\"T_b1153_row2_col3\" class=\"data row2 col3\" >0.8456</td>\n",
       "      <td id=\"T_b1153_row2_col4\" class=\"data row2 col4\" >0.8142</td>\n",
       "      <td id=\"T_b1153_row2_col5\" class=\"data row2 col5\" >0.6389</td>\n",
       "      <td id=\"T_b1153_row2_col6\" class=\"data row2 col6\" >0.6406</td>\n",
       "    </tr>\n",
       "    <tr>\n",
       "      <th id=\"T_b1153_level0_row3\" class=\"row_heading level0 row3\" >3</th>\n",
       "      <td id=\"T_b1153_row3_col0\" class=\"data row3 col0\" >0.7849</td>\n",
       "      <td id=\"T_b1153_row3_col1\" class=\"data row3 col1\" >0.8771</td>\n",
       "      <td id=\"T_b1153_row3_col2\" class=\"data row3 col2\" >0.7948</td>\n",
       "      <td id=\"T_b1153_row3_col3\" class=\"data row3 col3\" >0.7821</td>\n",
       "      <td id=\"T_b1153_row3_col4\" class=\"data row3 col4\" >0.7884</td>\n",
       "      <td id=\"T_b1153_row3_col5\" class=\"data row3 col5\" >0.5697</td>\n",
       "      <td id=\"T_b1153_row3_col6\" class=\"data row3 col6\" >0.5698</td>\n",
       "    </tr>\n",
       "    <tr>\n",
       "      <th id=\"T_b1153_level0_row4\" class=\"row_heading level0 row4\" >4</th>\n",
       "      <td id=\"T_b1153_row4_col0\" class=\"data row4 col0\" >0.7734</td>\n",
       "      <td id=\"T_b1153_row4_col1\" class=\"data row4 col1\" >0.8505</td>\n",
       "      <td id=\"T_b1153_row4_col2\" class=\"data row4 col2\" >0.8013</td>\n",
       "      <td id=\"T_b1153_row4_col3\" class=\"data row4 col3\" >0.7616</td>\n",
       "      <td id=\"T_b1153_row4_col4\" class=\"data row4 col4\" >0.7810</td>\n",
       "      <td id=\"T_b1153_row4_col5\" class=\"data row4 col5\" >0.5466</td>\n",
       "      <td id=\"T_b1153_row4_col6\" class=\"data row4 col6\" >0.5473</td>\n",
       "    </tr>\n",
       "    <tr>\n",
       "      <th id=\"T_b1153_level0_row5\" class=\"row_heading level0 row5\" >5</th>\n",
       "      <td id=\"T_b1153_row5_col0\" class=\"data row5 col0\" >0.8076</td>\n",
       "      <td id=\"T_b1153_row5_col1\" class=\"data row5 col1\" >0.8803</td>\n",
       "      <td id=\"T_b1153_row5_col2\" class=\"data row5 col2\" >0.8105</td>\n",
       "      <td id=\"T_b1153_row5_col3\" class=\"data row5 col3\" >0.8078</td>\n",
       "      <td id=\"T_b1153_row5_col4\" class=\"data row5 col4\" >0.8091</td>\n",
       "      <td id=\"T_b1153_row5_col5\" class=\"data row5 col5\" >0.6151</td>\n",
       "      <td id=\"T_b1153_row5_col6\" class=\"data row5 col6\" >0.6151</td>\n",
       "    </tr>\n",
       "    <tr>\n",
       "      <th id=\"T_b1153_level0_row6\" class=\"row_heading level0 row6\" >6</th>\n",
       "      <td id=\"T_b1153_row6_col0\" class=\"data row6 col0\" >0.8174</td>\n",
       "      <td id=\"T_b1153_row6_col1\" class=\"data row6 col1\" >0.8941</td>\n",
       "      <td id=\"T_b1153_row6_col2\" class=\"data row6 col2\" >0.8529</td>\n",
       "      <td id=\"T_b1153_row6_col3\" class=\"data row6 col3\" >0.7982</td>\n",
       "      <td id=\"T_b1153_row6_col4\" class=\"data row6 col4\" >0.8246</td>\n",
       "      <td id=\"T_b1153_row6_col5\" class=\"data row6 col5\" >0.6347</td>\n",
       "      <td id=\"T_b1153_row6_col6\" class=\"data row6 col6\" >0.6362</td>\n",
       "    </tr>\n",
       "    <tr>\n",
       "      <th id=\"T_b1153_level0_row7\" class=\"row_heading level0 row7\" >7</th>\n",
       "      <td id=\"T_b1153_row7_col0\" class=\"data row7 col0\" >0.8076</td>\n",
       "      <td id=\"T_b1153_row7_col1\" class=\"data row7 col1\" >0.8961</td>\n",
       "      <td id=\"T_b1153_row7_col2\" class=\"data row7 col2\" >0.8529</td>\n",
       "      <td id=\"T_b1153_row7_col3\" class=\"data row7 col3\" >0.7838</td>\n",
       "      <td id=\"T_b1153_row7_col4\" class=\"data row7 col4\" >0.8169</td>\n",
       "      <td id=\"T_b1153_row7_col5\" class=\"data row7 col5\" >0.6149</td>\n",
       "      <td id=\"T_b1153_row7_col6\" class=\"data row7 col6\" >0.6173</td>\n",
       "    </tr>\n",
       "    <tr>\n",
       "      <th id=\"T_b1153_level0_row8\" class=\"row_heading level0 row8\" >8</th>\n",
       "      <td id=\"T_b1153_row8_col0\" class=\"data row8 col0\" >0.7878</td>\n",
       "      <td id=\"T_b1153_row8_col1\" class=\"data row8 col1\" >0.8684</td>\n",
       "      <td id=\"T_b1153_row8_col2\" class=\"data row8 col2\" >0.8105</td>\n",
       "      <td id=\"T_b1153_row8_col3\" class=\"data row8 col3\" >0.7774</td>\n",
       "      <td id=\"T_b1153_row8_col4\" class=\"data row8 col4\" >0.7936</td>\n",
       "      <td id=\"T_b1153_row8_col5\" class=\"data row8 col5\" >0.5755</td>\n",
       "      <td id=\"T_b1153_row8_col6\" class=\"data row8 col6\" >0.5760</td>\n",
       "    </tr>\n",
       "    <tr>\n",
       "      <th id=\"T_b1153_level0_row9\" class=\"row_heading level0 row9\" >9</th>\n",
       "      <td id=\"T_b1153_row9_col0\" class=\"data row9 col0\" >0.8109</td>\n",
       "      <td id=\"T_b1153_row9_col1\" class=\"data row9 col1\" >0.8903</td>\n",
       "      <td id=\"T_b1153_row9_col2\" class=\"data row9 col2\" >0.8203</td>\n",
       "      <td id=\"T_b1153_row9_col3\" class=\"data row9 col3\" >0.8071</td>\n",
       "      <td id=\"T_b1153_row9_col4\" class=\"data row9 col4\" >0.8136</td>\n",
       "      <td id=\"T_b1153_row9_col5\" class=\"data row9 col5\" >0.6217</td>\n",
       "      <td id=\"T_b1153_row9_col6\" class=\"data row9 col6\" >0.6217</td>\n",
       "    </tr>\n",
       "    <tr>\n",
       "      <th id=\"T_b1153_level0_row10\" class=\"row_heading level0 row10\" >Mean</th>\n",
       "      <td id=\"T_b1153_row10_col0\" class=\"data row10 col0\" >0.7977</td>\n",
       "      <td id=\"T_b1153_row10_col1\" class=\"data row10 col1\" >0.8767</td>\n",
       "      <td id=\"T_b1153_row10_col2\" class=\"data row10 col2\" >0.8131</td>\n",
       "      <td id=\"T_b1153_row10_col3\" class=\"data row10 col3\" >0.7918</td>\n",
       "      <td id=\"T_b1153_row10_col4\" class=\"data row10 col4\" >0.8020</td>\n",
       "      <td id=\"T_b1153_row10_col5\" class=\"data row10 col5\" >0.5953</td>\n",
       "      <td id=\"T_b1153_row10_col6\" class=\"data row10 col6\" >0.5961</td>\n",
       "    </tr>\n",
       "    <tr>\n",
       "      <th id=\"T_b1153_level0_row11\" class=\"row_heading level0 row11\" >Std</th>\n",
       "      <td id=\"T_b1153_row11_col0\" class=\"data row11 col0\" >0.0157</td>\n",
       "      <td id=\"T_b1153_row11_col1\" class=\"data row11 col1\" >0.0163</td>\n",
       "      <td id=\"T_b1153_row11_col2\" class=\"data row11 col2\" >0.0219</td>\n",
       "      <td id=\"T_b1153_row11_col3\" class=\"data row11 col3\" >0.0228</td>\n",
       "      <td id=\"T_b1153_row11_col4\" class=\"data row11 col4\" >0.0145</td>\n",
       "      <td id=\"T_b1153_row11_col5\" class=\"data row11 col5\" >0.0314</td>\n",
       "      <td id=\"T_b1153_row11_col6\" class=\"data row11 col6\" >0.0318</td>\n",
       "    </tr>\n",
       "  </tbody>\n",
       "</table>\n"
      ],
      "text/plain": [
       "<pandas.io.formats.style.Styler at 0x21e94e2ed60>"
      ]
     },
     "metadata": {},
     "output_type": "display_data"
    },
    {
     "data": {
      "application/vnd.jupyter.widget-view+json": {
       "model_id": "",
       "version_major": 2,
       "version_minor": 0
      },
      "text/plain": [
       "Processing:   0%|          | 0/7 [00:00<?, ?it/s]"
      ]
     },
     "metadata": {},
     "output_type": "display_data"
    },
    {
     "name": "stdout",
     "output_type": "stream",
     "text": [
      "Fitting 10 folds for each of 10 candidates, totalling 100 fits\n",
      "Original model was better than the tuned model, hence it will be returned. NOTE: The display metrics are for the tuned model (not the original one).\n"
     ]
    }
   ],
   "source": [
    "catboost_regular_tuned = tune_model(catboost_regular_norm)"
   ]
  },
  {
   "cell_type": "code",
   "execution_count": 73,
   "id": "a7e7f9bc-1b33-4d7c-8241-52458a9e62fd",
   "metadata": {},
   "outputs": [
    {
     "data": {
      "text/html": [],
      "text/plain": [
       "<IPython.core.display.HTML object>"
      ]
     },
     "metadata": {},
     "output_type": "display_data"
    },
    {
     "data": {
      "image/png": "[encoded data removed]",
      "text/plain": [
       "<Figure size 432x288 with 1 Axes>"
      ]
     },
     "metadata": {
      "needs_background": "light"
     },
     "output_type": "display_data"
    }
   ],
   "source": [
    "plot_model(catboost_regular_tuned, plot='learning')"
   ]
  },
  {
   "cell_type": "code",
   "execution_count": 74,
   "id": "24263189-992c-4f27-95e5-0e552d4353e6",
   "metadata": {},
   "outputs": [
    {
     "data": {
      "text/html": [],
      "text/plain": [
       "<IPython.core.display.HTML object>"
      ]
     },
     "metadata": {},
     "output_type": "display_data"
    },
    {
     "data": {
      "image/png": "[encoded data removed]",
      "text/plain": [
       "<Figure size 432x288 with 1 Axes>"
      ]
     },
     "metadata": {
      "needs_background": "light"
     },
     "output_type": "display_data"
    }
   ],
   "source": [
    "plot_model(catboost_regular_tuned, plot='auc')"
   ]
  },
  {
   "cell_type": "code",
   "execution_count": 75,
   "id": "e06bba49-2469-4275-84c9-eed039cde8da",
   "metadata": {},
   "outputs": [
    {
     "data": {
      "text/html": [],
      "text/plain": [
       "<IPython.core.display.HTML object>"
      ]
     },
     "metadata": {},
     "output_type": "display_data"
    },
    {
     "data": {
      "image/png": "[encoded data removed]",
      "text/plain": [
       "<Figure size 432x288 with 1 Axes>"
      ]
     },
     "metadata": {
      "needs_background": "light"
     },
     "output_type": "display_data"
    }
   ],
   "source": [
    "plot_model(catboost_regular_tuned, plot='confusion_matrix')"
   ]
  },
  {
   "cell_type": "code",
   "execution_count": 76,
   "id": "6a51a17c-a30c-443f-b668-c8d4aceddc44",
   "metadata": {},
   "outputs": [
    {
     "data": {
      "text/html": [],
      "text/plain": [
       "<IPython.core.display.HTML object>"
      ]
     },
     "metadata": {},
     "output_type": "display_data"
    },
    {
     "data": {
      "image/png": "[encoded data removed]",
      "text/plain": [
       "<Figure size 432x288 with 2 Axes>"
      ]
     },
     "metadata": {
      "needs_background": "light"
     },
     "output_type": "display_data"
    }
   ],
   "source": [
    "plot_model(catboost_regular_tuned, plot='class_report')"
   ]
  },
  {
   "cell_type": "code",
   "execution_count": 78,
   "id": "f2c3eadd-c3b8-4f4f-ab45-0c874a3584d9",
   "metadata": {},
   "outputs": [
    {
     "data": {
      "text/html": [],
      "text/plain": [
       "<IPython.core.display.HTML object>"
      ]
     },
     "metadata": {},
     "output_type": "display_data"
    },
    {
     "data": {
      "text/html": [
       "<div>\n",
       "<style scoped>\n",
       "    .dataframe tbody tr th:only-of-type {\n",
       "        vertical-align: middle;\n",
       "    }\n",
       "\n",
       "    .dataframe tbody tr th {\n",
       "        vertical-align: top;\n",
       "    }\n",
       "\n",
       "    .dataframe thead th {\n",
       "        text-align: right;\n",
       "    }\n",
       "</style>\n",
       "<table border=\"1\" class=\"dataframe\">\n",
       "  <thead>\n",
       "    <tr style=\"text-align: right;\">\n",
       "      <th></th>\n",
       "      <th>CryoSleep</th>\n",
       "      <th>Age</th>\n",
       "      <th>VIP</th>\n",
       "      <th>RoomService</th>\n",
       "      <th>FoodCourt</th>\n",
       "      <th>ShoppingMall</th>\n",
       "      <th>Spa</th>\n",
       "      <th>VRDeck</th>\n",
       "      <th>HomePlanet_Earth</th>\n",
       "      <th>HomePlanet_Europa</th>\n",
       "      <th>HomePlanet_Mars</th>\n",
       "      <th>Cabin_deck</th>\n",
       "      <th>Cabin_side</th>\n",
       "      <th>Destination_55 Cancri e</th>\n",
       "      <th>Destination_PSO J318.5-22</th>\n",
       "      <th>Destination_TRAPPIST-1e</th>\n",
       "      <th>Transported</th>\n",
       "      <th>prediction_score</th>\n",
       "    </tr>\n",
       "  </thead>\n",
       "  <tbody>\n",
       "    <tr>\n",
       "      <th>0</th>\n",
       "      <td>1</td>\n",
       "      <td>1.000000</td>\n",
       "      <td>0</td>\n",
       "      <td>0.000000</td>\n",
       "      <td>0.000000</td>\n",
       "      <td>0.000000</td>\n",
       "      <td>0.000000</td>\n",
       "      <td>0.000000</td>\n",
       "      <td>1</td>\n",
       "      <td>0</td>\n",
       "      <td>0</td>\n",
       "      <td>5</td>\n",
       "      <td>1</td>\n",
       "      <td>0</td>\n",
       "      <td>0</td>\n",
       "      <td>1</td>\n",
       "      <td>1</td>\n",
       "      <td>0.6763</td>\n",
       "    </tr>\n",
       "    <tr>\n",
       "      <th>1</th>\n",
       "      <td>0</td>\n",
       "      <td>0.860703</td>\n",
       "      <td>0</td>\n",
       "      <td>0.000000</td>\n",
       "      <td>0.001274</td>\n",
       "      <td>0.000000</td>\n",
       "      <td>0.509106</td>\n",
       "      <td>0.000000</td>\n",
       "      <td>1</td>\n",
       "      <td>0</td>\n",
       "      <td>0</td>\n",
       "      <td>4</td>\n",
       "      <td>1</td>\n",
       "      <td>0</td>\n",
       "      <td>0</td>\n",
       "      <td>1</td>\n",
       "      <td>0</td>\n",
       "      <td>0.9794</td>\n",
       "    </tr>\n",
       "    <tr>\n",
       "      <th>2</th>\n",
       "      <td>1</td>\n",
       "      <td>1.000000</td>\n",
       "      <td>0</td>\n",
       "      <td>0.000000</td>\n",
       "      <td>0.000000</td>\n",
       "      <td>0.000000</td>\n",
       "      <td>0.000000</td>\n",
       "      <td>0.000000</td>\n",
       "      <td>0</td>\n",
       "      <td>1</td>\n",
       "      <td>0</td>\n",
       "      <td>2</td>\n",
       "      <td>1</td>\n",
       "      <td>1</td>\n",
       "      <td>0</td>\n",
       "      <td>0</td>\n",
       "      <td>1</td>\n",
       "      <td>0.9982</td>\n",
       "    </tr>\n",
       "    <tr>\n",
       "      <th>3</th>\n",
       "      <td>0</td>\n",
       "      <td>0.876129</td>\n",
       "      <td>0</td>\n",
       "      <td>0.000000</td>\n",
       "      <td>0.479410</td>\n",
       "      <td>0.000000</td>\n",
       "      <td>0.016613</td>\n",
       "      <td>0.047842</td>\n",
       "      <td>0</td>\n",
       "      <td>1</td>\n",
       "      <td>0</td>\n",
       "      <td>2</td>\n",
       "      <td>1</td>\n",
       "      <td>0</td>\n",
       "      <td>0</td>\n",
       "      <td>1</td>\n",
       "      <td>1</td>\n",
       "      <td>0.9797</td>\n",
       "    </tr>\n",
       "    <tr>\n",
       "      <th>4</th>\n",
       "      <td>0</td>\n",
       "      <td>0.957163</td>\n",
       "      <td>0</td>\n",
       "      <td>0.003269</td>\n",
       "      <td>0.000000</td>\n",
       "      <td>0.289532</td>\n",
       "      <td>0.000000</td>\n",
       "      <td>0.000000</td>\n",
       "      <td>1</td>\n",
       "      <td>0</td>\n",
       "      <td>0</td>\n",
       "      <td>4</td>\n",
       "      <td>1</td>\n",
       "      <td>0</td>\n",
       "      <td>0</td>\n",
       "      <td>1</td>\n",
       "      <td>1</td>\n",
       "      <td>0.8873</td>\n",
       "    </tr>\n",
       "    <tr>\n",
       "      <th>...</th>\n",
       "      <td>...</td>\n",
       "      <td>...</td>\n",
       "      <td>...</td>\n",
       "      <td>...</td>\n",
       "      <td>...</td>\n",
       "      <td>...</td>\n",
       "      <td>...</td>\n",
       "      <td>...</td>\n",
       "      <td>...</td>\n",
       "      <td>...</td>\n",
       "      <td>...</td>\n",
       "      <td>...</td>\n",
       "      <td>...</td>\n",
       "      <td>...</td>\n",
       "      <td>...</td>\n",
       "      <td>...</td>\n",
       "      <td>...</td>\n",
       "      <td>...</td>\n",
       "    </tr>\n",
       "    <tr>\n",
       "      <th>4272</th>\n",
       "      <td>1</td>\n",
       "      <td>1.000000</td>\n",
       "      <td>0</td>\n",
       "      <td>0.000000</td>\n",
       "      <td>0.000000</td>\n",
       "      <td>0.000000</td>\n",
       "      <td>0.000000</td>\n",
       "      <td>0.000000</td>\n",
       "      <td>1</td>\n",
       "      <td>0</td>\n",
       "      <td>0</td>\n",
       "      <td>5</td>\n",
       "      <td>1</td>\n",
       "      <td>0</td>\n",
       "      <td>0</td>\n",
       "      <td>1</td>\n",
       "      <td>1</td>\n",
       "      <td>0.6763</td>\n",
       "    </tr>\n",
       "    <tr>\n",
       "      <th>4273</th>\n",
       "      <td>0</td>\n",
       "      <td>0.997938</td>\n",
       "      <td>0</td>\n",
       "      <td>0.000000</td>\n",
       "      <td>0.062908</td>\n",
       "      <td>0.003848</td>\n",
       "      <td>0.000946</td>\n",
       "      <td>0.012136</td>\n",
       "      <td>1</td>\n",
       "      <td>0</td>\n",
       "      <td>0</td>\n",
       "      <td>5</td>\n",
       "      <td>0</td>\n",
       "      <td>0</td>\n",
       "      <td>0</td>\n",
       "      <td>1</td>\n",
       "      <td>0</td>\n",
       "      <td>0.6678</td>\n",
       "    </tr>\n",
       "    <tr>\n",
       "      <th>4274</th>\n",
       "      <td>1</td>\n",
       "      <td>1.000000</td>\n",
       "      <td>0</td>\n",
       "      <td>0.000000</td>\n",
       "      <td>0.000000</td>\n",
       "      <td>0.000000</td>\n",
       "      <td>0.000000</td>\n",
       "      <td>0.000000</td>\n",
       "      <td>0</td>\n",
       "      <td>0</td>\n",
       "      <td>1</td>\n",
       "      <td>2</td>\n",
       "      <td>0</td>\n",
       "      <td>1</td>\n",
       "      <td>0</td>\n",
       "      <td>0</td>\n",
       "      <td>1</td>\n",
       "      <td>0.9632</td>\n",
       "    </tr>\n",
       "    <tr>\n",
       "      <th>4275</th>\n",
       "      <td>0</td>\n",
       "      <td>0.958447</td>\n",
       "      <td>0</td>\n",
       "      <td>0.000000</td>\n",
       "      <td>0.278522</td>\n",
       "      <td>0.000000</td>\n",
       "      <td>0.000000</td>\n",
       "      <td>0.061677</td>\n",
       "      <td>0</td>\n",
       "      <td>1</td>\n",
       "      <td>0</td>\n",
       "      <td>2</td>\n",
       "      <td>0</td>\n",
       "      <td>0</td>\n",
       "      <td>0</td>\n",
       "      <td>1</td>\n",
       "      <td>1</td>\n",
       "      <td>0.8467</td>\n",
       "    </tr>\n",
       "    <tr>\n",
       "      <th>4276</th>\n",
       "      <td>1</td>\n",
       "      <td>1.000000</td>\n",
       "      <td>0</td>\n",
       "      <td>0.000000</td>\n",
       "      <td>0.000000</td>\n",
       "      <td>0.000000</td>\n",
       "      <td>0.000000</td>\n",
       "      <td>0.000000</td>\n",
       "      <td>1</td>\n",
       "      <td>0</td>\n",
       "      <td>0</td>\n",
       "      <td>5</td>\n",
       "      <td>1</td>\n",
       "      <td>0</td>\n",
       "      <td>1</td>\n",
       "      <td>0</td>\n",
       "      <td>1</td>\n",
       "      <td>0.7021</td>\n",
       "    </tr>\n",
       "  </tbody>\n",
       "</table>\n",
       "<p>4277 rows × 18 columns</p>\n",
       "</div>"
      ],
      "text/plain": [
       "      CryoSleep       Age  VIP  RoomService  FoodCourt  ShoppingMall  \\\n",
       "0             1  1.000000    0     0.000000   0.000000      0.000000   \n",
       "1             0  0.860703    0     0.000000   0.001274      0.000000   \n",
       "2             1  1.000000    0     0.000000   0.000000      0.000000   \n",
       "3             0  0.876129    0     0.000000   0.479410      0.000000   \n",
       "4             0  0.957163    0     0.003269   0.000000      0.289532   \n",
       "...         ...       ...  ...          ...        ...           ...   \n",
       "4272          1  1.000000    0     0.000000   0.000000      0.000000   \n",
       "4273          0  0.997938    0     0.000000   0.062908      0.003848   \n",
       "4274          1  1.000000    0     0.000000   0.000000      0.000000   \n",
       "4275          0  0.958447    0     0.000000   0.278522      0.000000   \n",
       "4276          1  1.000000    0     0.000000   0.000000      0.000000   \n",
       "\n",
       "           Spa    VRDeck  HomePlanet_Earth  HomePlanet_Europa  \\\n",
       "0     0.000000  0.000000                 1                  0   \n",
       "1     0.509106  0.000000                 1                  0   \n",
       "2     0.000000  0.000000                 0                  1   \n",
       "3     0.016613  0.047842                 0                  1   \n",
       "4     0.000000  0.000000                 1                  0   \n",
       "...        ...       ...               ...                ...   \n",
       "4272  0.000000  0.000000                 1                  0   \n",
       "4273  0.000946  0.012136                 1                  0   \n",
       "4274  0.000000  0.000000                 0                  0   \n",
       "4275  0.000000  0.061677                 0                  1   \n",
       "4276  0.000000  0.000000                 1                  0   \n",
       "\n",
       "      HomePlanet_Mars  Cabin_deck  Cabin_side  Destination_55 Cancri e  \\\n",
       "0                   0           5           1                        0   \n",
       "1                   0           4           1                        0   \n",
       "2                   0           2           1                        1   \n",
       "3                   0           2           1                        0   \n",
       "4                   0           4           1                        0   \n",
       "...               ...         ...         ...                      ...   \n",
       "4272                0           5           1                        0   \n",
       "4273                0           5           0                        0   \n",
       "4274                1           2           0                        1   \n",
       "4275                0           2           0                        0   \n",
       "4276                0           5           1                        0   \n",
       "\n",
       "      Destination_PSO J318.5-22  Destination_TRAPPIST-1e  Transported  \\\n",
       "0                             0                        1            1   \n",
       "1                             0                        1            0   \n",
       "2                             0                        0            1   \n",
       "3                             0                        1            1   \n",
       "4                             0                        1            1   \n",
       "...                         ...                      ...          ...   \n",
       "4272                          0                        1            1   \n",
       "4273                          0                        1            0   \n",
       "4274                          0                        0            1   \n",
       "4275                          0                        1            1   \n",
       "4276                          1                        0            1   \n",
       "\n",
       "      prediction_score  \n",
       "0               0.6763  \n",
       "1               0.9794  \n",
       "2               0.9982  \n",
       "3               0.9797  \n",
       "4               0.8873  \n",
       "...                ...  \n",
       "4272            0.6763  \n",
       "4273            0.6678  \n",
       "4274            0.9632  \n",
       "4275            0.8467  \n",
       "4276            0.7021  \n",
       "\n",
       "[4277 rows x 18 columns]"
      ]
     },
     "execution_count": 78,
     "metadata": {},
     "output_type": "execute_result"
    }
   ],
   "source": [
    "predicts=predict_model(catboost_regular_tuned, data=df_test.drop(columns=['PassengerId','Name']))\n",
    "predicts = predicts.rename(columns={'prediction_label': 'Transported'})\n",
    "predicts"
   ]
  },
  {
   "cell_type": "code",
   "execution_count": 79,
   "id": "3bd86af0-1931-45e5-876c-c3f53ffbf0da",
   "metadata": {},
   "outputs": [],
   "source": [
    "submission.to_csv('submission_pycaretcat_tuned_regular_norm3.csv', index=False)"
   ]
  },
  {
   "cell_type": "code",
   "execution_count": null,
   "id": "25fde7c1-b317-47fe-886a-37631a601bb3",
   "metadata": {},
   "outputs": [],
   "source": []
  }
 ],
 "metadata": {
  "kernelspec": {
   "display_name": "Python 3 (ipykernel)",
   "language": "python",
   "name": "python3"
  },
  "language_info": {
   "codemirror_mode": {
    "name": "ipython",
    "version": 3
   },
   "file_extension": ".py",
   "mimetype": "text/x-python",
   "name": "python",
   "nbconvert_exporter": "python",
   "pygments_lexer": "ipython3",
   "version": "3.9.12"
  }
 },
 "nbformat": 4,
 "nbformat_minor": 5
}
